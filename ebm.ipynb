{
 "cells": [
  {
   "cell_type": "markdown",
   "metadata": {
    "cell_id": "bc571cd23b044049bcb18987aea0f6cc",
    "deepnote_cell_type": "markdown"
   },
   "source": [
    "# ⚡️ Energy-Based Models"
   ]
  },
  {
   "cell_type": "markdown",
   "metadata": {
    "cell_id": "25ed8433d18c4c028e6ed5dd5d98fba6",
    "deepnote_cell_type": "markdown"
   },
   "source": [
    "In this notebook, we'll walk through the steps required to train your own Energy Based Model to predict the distribution of a demo dataset"
   ]
  },
  {
   "cell_type": "markdown",
   "metadata": {
    "cell_id": "bd98a92cc7564eb2ae75439b30ae9ec3",
    "deepnote_cell_type": "markdown"
   },
   "source": [
    "The code is adapted from the excellent ['Deep Energy-Based Generative Models' tutorial](https://uvadlc-notebooks.readthedocs.io/en/latest/tutorial_notebooks/tutorial8/Deep_Energy_Models.html) created by Phillip Lippe."
   ]
  },
  {
   "cell_type": "code",
   "execution_count": null,
   "metadata": {
    "cell_id": "becee6fb837c4f388e6ce008ed487b47",
    "deepnote_cell_type": "code",
    "execution_context_id": "9c5b0c9a-9af4-49ff-9595-3d6b664bfa11",
    "execution_millis": 2734,
    "execution_start": 1727962047411,
    "source_hash": "35891e32"
   },
   "outputs": [],
   "source": [
    "import numpy as np\n",
    "\n",
    "import tensorflow as tf\n",
    "from tensorflow.keras import (\n",
    "    datasets,\n",
    "    layers,\n",
    "    models,\n",
    "    optimizers,\n",
    "    activations,\n",
    "    metrics,\n",
    "    callbacks,\n",
    ")\n",
    "\n",
    "from utils import display, sample_batch\n",
    "import random"
   ]
  },
  {
   "cell_type": "markdown",
   "metadata": {
    "cell_id": "a6ee5ae165cb478caad2e45687c9890b",
    "deepnote_cell_type": "markdown"
   },
   "source": [
    "## 0. Parameters <a name=\"parameters\"></a>"
   ]
  },
  {
   "cell_type": "code",
   "execution_count": null,
   "metadata": {
    "cell_id": "0885dfee209e4f42b862a688d0fa601d",
    "deepnote_cell_type": "code",
    "execution_context_id": "9c5b0c9a-9af4-49ff-9595-3d6b664bfa11",
    "execution_millis": 0,
    "execution_start": 1727962053575,
    "source_hash": "a4f12ca7"
   },
   "outputs": [],
   "source": [
    "IMAGE_SIZE = 32\n",
    "CHANNELS = 1\n",
    "STEP_SIZE = 10\n",
    "STEPS = 60\n",
    "NOISE = 0.005\n",
    "ALPHA = 0.1\n",
    "GRADIENT_CLIP = 0.03\n",
    "BATCH_SIZE = 128\n",
    "BUFFER_SIZE = 8192\n",
    "LEARNING_RATE = 0.0001\n",
    "EPOCHS = 60\n",
    "LOAD_MODEL = False"
   ]
  },
  {
   "cell_type": "code",
   "execution_count": null,
   "metadata": {
    "cell_id": "18dcebe8326c44d6bab062017e8ae90a",
    "deepnote_cell_type": "code",
    "execution_context_id": "9c5b0c9a-9af4-49ff-9595-3d6b664bfa11",
    "execution_millis": 292,
    "execution_start": 1727962057622,
    "source_hash": "609fabc"
   },
   "outputs": [],
   "source": [
    "# Load the data\n",
    "(x_train, _), (x_test, _) = datasets.mnist.load_data()"
   ]
  },
  {
   "cell_type": "code",
   "execution_count": null,
   "metadata": {
    "cell_id": "06b1ea476d0e4e26832ce3059388ca83",
    "deepnote_cell_type": "code",
    "execution_context_id": "9c5b0c9a-9af4-49ff-9595-3d6b664bfa11",
    "execution_millis": 162,
    "execution_start": 1727962060797,
    "source_hash": "a966c32c"
   },
   "outputs": [],
   "source": [
    "# Preprocess the data\n",
    "def preprocess(imgs):\n",
    "    \"\"\"\n",
    "    Normalize and reshape the images\n",
    "    \"\"\"\n",
    "    imgs = (imgs.astype(\"float32\") - 127.5) / 127.5\n",
    "    imgs = np.pad(imgs, ((0, 0), (2, 2), (2, 2)), constant_values=-1.0)\n",
    "    imgs = np.expand_dims(imgs, -1)\n",
    "    return imgs\n",
    "\n",
    "\n",
    "x_train = preprocess(x_train)\n",
    "x_test = preprocess(x_test)"
   ]
  },
  {
   "cell_type": "code",
   "execution_count": null,
   "metadata": {
    "cell_id": "78348ccf8366448f807dffbe5d368d05",
    "deepnote_cell_type": "code",
    "execution_context_id": "9c5b0c9a-9af4-49ff-9595-3d6b664bfa11",
    "execution_millis": 28,
    "execution_start": 1727962064513,
    "source_hash": "57d1a709"
   },
   "outputs": [],
   "source": [
    "x_train = tf.data.Dataset.from_tensor_slices(x_train).batch(BATCH_SIZE)\n",
    "x_test = tf.data.Dataset.from_tensor_slices(x_test).batch(BATCH_SIZE)"
   ]
  },
  {
   "cell_type": "code",
   "execution_count": 27,
   "metadata": {
    "cell_id": "8cf009256d264ae7ae2129e4dcec5674",
    "deepnote_cell_type": "code",
    "execution_context_id": "9c5b0c9a-9af4-49ff-9595-3d6b664bfa11",
    "execution_millis": 340,
    "execution_start": 1727962067556,
    "source_hash": "35020962"
   },
   "outputs": [
    {
     "data": {
      "image/png": "[encoded data removed]",
      "text/plain": [
       "<Figure size 2000x300 with 10 Axes>"
      ]
     },
     "metadata": {},
     "output_type": "display_data"
    }
   ],
   "source": [
    "# Show some\n",
    "train_sample = sample_batch(x_train)\n",
    "display(train_sample)"
   ]
  },
  {
   "cell_type": "markdown",
   "metadata": {
    "cell_id": "46c725ba40ac4bc6bf7639abbfad6e95",
    "deepnote_cell_type": "markdown"
   },
   "source": [
    "## 2. Build the EBM network <a name=\"train\"></a>"
   ]
  },
  {
   "cell_type": "code",
   "execution_count": null,
   "metadata": {
    "cell_id": "94686117d414488fa080b42b288414b3",
    "deepnote_cell_type": "code",
    "execution_context_id": "9c5b0c9a-9af4-49ff-9595-3d6b664bfa11",
    "execution_millis": 153,
    "execution_start": 1727962071475,
    "source_hash": "b1264baf"
   },
   "outputs": [],
   "source": [
    "#функция энергии - нейронная сеть, которая трансформирует входное изображение в скалярное значение\n",
    "ebm_input = layers.Input(shape=(IMAGE_SIZE, IMAGE_SIZE, CHANNELS))\n",
    "x = layers.Conv2D(\n",
    "    16, kernel_size=5, strides=2, padding=\"same\", activation=activations.swish\n",
    ")(ebm_input) #функция энергии стопка слоев свертки с функцией активации swish(она гладкая,решает проблему затухания градиента)\n",
    "x = layers.Conv2D(\n",
    "    32, kernel_size=3, strides=2, padding=\"same\", activation=activations.swish\n",
    ")(x)\n",
    "x = layers.Conv2D(\n",
    "    64, kernel_size=3, strides=2, padding=\"same\", activation=activations.swish\n",
    ")(x)\n",
    "x = layers.Conv2D(\n",
    "    64, kernel_size=3, strides=2, padding=\"same\", activation=activations.swish\n",
    ")(x)\n",
    "x = layers.Flatten()(x)\n",
    "x = layers.Dense(64, activation=activations.swish)(x)\n",
    "ebm_output = layers.Dense(1)(x) #последний слой с линейной активацией\n",
    "model = models.Model(ebm_input, ebm_output) #на входе изображение, на выходе скалярное значение\n",
    "model.summary()"
   ]
  },
  {
   "cell_type": "code",
   "execution_count": null,
   "metadata": {
    "cell_id": "7b4ab7df98f341f2820bc99f5e869eeb",
    "deepnote_cell_type": "code",
    "tags": []
   },
   "outputs": [],
   "source": [
    "if LOAD_MODEL:\n",
    "    model.load_weights(\"./models/model.h5\")"
   ]
  },
  {
   "cell_type": "markdown",
   "metadata": {
    "cell_id": "c4578d9a25914c6cb16c0892a0586a63",
    "deepnote_cell_type": "markdown"
   },
   "source": [
    "## 2. Set up a Langevin sampler function <a name=\"sampler\"></a>"
   ]
  },
  {
   "cell_type": "code",
   "execution_count": null,
   "metadata": {
    "cell_id": "53ef21ca6ad044dba7265bdc3634055a",
    "deepnote_cell_type": "code",
    "execution_context_id": "9c5b0c9a-9af4-49ff-9595-3d6b664bfa11",
    "execution_millis": 3,
    "execution_start": 1727962076203,
    "source_hash": "59126776"
   },
   "outputs": [],
   "source": [
    "#функция выборки Ланжевена\n",
    "def generate_samples(\n",
    "    model, inp_imgs, steps, step_size, noise, return_img_per_step=False\n",
    "):\n",
    "    imgs_per_step = []\n",
    "    for _ in range(steps): #цикл по заданому количеству шагов\n",
    "        inp_imgs += tf.random.normal(inp_imgs.shape, mean=0, stddev=noise) #добавляем шум \n",
    "        inp_imgs = tf.clip_by_value(inp_imgs, -1.0, 1.0)\n",
    "        with tf.GradientTape() as tape:\n",
    "            tape.watch(inp_imgs)\n",
    "            out_score = model(inp_imgs) #вычисляем функцию энергии\n",
    "        grads = tape.gradient(out_score, inp_imgs)\n",
    "        grads = tf.clip_by_value(grads, -GRADIENT_CLIP, GRADIENT_CLIP) #вычисляем градиент выхода по отношение ко входу\n",
    "        inp_imgs += step_size * grads #добавление небольшой доли градиента во входное изображение\n",
    "        inp_imgs = tf.clip_by_value(inp_imgs, -1.0, 1.0)\n",
    "        if return_img_per_step:\n",
    "            imgs_per_step.append(inp_imgs)\n",
    "    if return_img_per_step:\n",
    "        return tf.stack(imgs_per_step, axis=0)\n",
    "    else:\n",
    "        return inp_imgs"
   ]
  },
  {
   "cell_type": "markdown",
   "metadata": {
    "cell_id": "7bd761a47c4842309f05017640b7a7dc",
    "deepnote_cell_type": "markdown"
   },
   "source": [
    "## 3. Set up a buffer to store examples <a name=\"buffer\"></a>"
   ]
  },
  {
   "cell_type": "code",
   "execution_count": null,
   "metadata": {
    "cell_id": "2210f6e5e5b646578a169b27d616c681",
    "deepnote_cell_type": "code",
    "execution_context_id": "9c5b0c9a-9af4-49ff-9595-3d6b664bfa11",
    "execution_millis": 2,
    "execution_start": 1727962078931,
    "source_hash": "7dcedec5"
   },
   "outputs": [],
   "source": [
    "#буфер\n",
    "class Buffer:\n",
    "    def __init__(self, model):\n",
    "        super().__init__()\n",
    "        self.model = model\n",
    "        self.examples = [\n",
    "            tf.random.uniform(shape=(1, IMAGE_SIZE, IMAGE_SIZE, CHANNELS)) * 2\n",
    "            - 1\n",
    "            for _ in range(BATCH_SIZE)\n",
    "        ] #изначально буфер - пакет случайного шума\n",
    "\n",
    "    def sample_new_exmps(self, steps, step_size, noise):\n",
    "        n_new = np.random.binomial(BATCH_SIZE, 0.05) #каждый раз генерируется в среднем 5% наблюдений, т.е. случайный шум\n",
    "        rand_imgs = (\n",
    "            tf.random.uniform((n_new, IMAGE_SIZE, IMAGE_SIZE, CHANNELS)) * 2 - 1\n",
    "        )\n",
    "        old_imgs = tf.concat(\n",
    "            random.choices(self.examples, k=BATCH_SIZE - n_new), axis=0\n",
    "        ) #остальные наблюдения берутся случайно из существующего буфера\n",
    "        inp_imgs = tf.concat([rand_imgs, old_imgs], axis=0)\n",
    "        inp_imgs = generate_samples(\n",
    "            self.model, inp_imgs, steps=steps, step_size=step_size, noise=noise\n",
    "        ) #наблюдения объединяются и пропускаются через семплер Ланжевена\n",
    "        self.examples = tf.split(inp_imgs, BATCH_SIZE, axis=0) + self.examples #полученная выборка добавляется в буфер\n",
    "        self.examples = self.examples[:BUFFER_SIZE] #ограничение буфера 8192 наблюдений\n",
    "        return inp_imgs"
   ]
  },
  {
   "cell_type": "code",
   "execution_count": null,
   "metadata": {
    "cell_id": "e61af7d7d5294f6ba79934ebf75650c1",
    "deepnote_cell_type": "code",
    "execution_context_id": "9c5b0c9a-9af4-49ff-9595-3d6b664bfa11",
    "execution_millis": 0,
    "execution_start": 1727962084091,
    "source_hash": "98e22c34"
   },
   "outputs": [],
   "source": [
    "#обучение методом констрастивной дивергенции \n",
    "class EBM(models.Model):\n",
    "    def __init__(self):\n",
    "        super(EBM, self).__init__()\n",
    "        self.model = model\n",
    "        self.buffer = Buffer(self.model)\n",
    "        self.alpha = ALPHA\n",
    "        self.loss_metric = metrics.Mean(name=\"loss\")\n",
    "        self.reg_loss_metric = metrics.Mean(name=\"reg\")\n",
    "        self.cdiv_loss_metric = metrics.Mean(name=\"cdiv\")\n",
    "        self.real_out_metric = metrics.Mean(name=\"real\")\n",
    "        self.fake_out_metric = metrics.Mean(name=\"fake\")\n",
    "\n",
    "    @property\n",
    "    def metrics(self):\n",
    "        return [\n",
    "            self.loss_metric,\n",
    "            self.reg_loss_metric,\n",
    "            self.cdiv_loss_metric,\n",
    "            self.real_out_metric,\n",
    "            self.fake_out_metric,\n",
    "        ]\n",
    "\n",
    "    def train_step(self, real_imgs):\n",
    "        real_imgs += tf.random.normal(\n",
    "            shape=tf.shape(real_imgs), mean=0, stddev=NOISE\n",
    "        ) #в реальные изображения добавляем шум\n",
    "        real_imgs = tf.clip_by_value(real_imgs, -1.0, 1.0)\n",
    "        fake_imgs = self.buffer.sample_new_exmps(\n",
    "            steps=STEPS, step_size=STEP_SIZE, noise=NOISE\n",
    "        ) #из буфера берем сгенерированные изображения\n",
    "        inp_imgs = tf.concat([real_imgs, fake_imgs], axis=0)\n",
    "        with tf.GradientTape() as training_tape:\n",
    "            real_out, fake_out = tf.split(self.model(inp_imgs), 2, axis=0) #получаем оценки для изображений\n",
    "            cdiv_loss = tf.reduce_mean(fake_out, axis=0) - tf.reduce_mean(\n",
    "                real_out, axis=0\n",
    "            ) #потери - разность между оценками реальных и сгенерированных наблюдений\n",
    "            reg_loss = self.alpha * tf.reduce_mean(\n",
    "                real_out**2 + fake_out**2, axis=0\n",
    "            ) #для избежания слишком больших оценок, добавляем регуляризацию потерь\n",
    "            loss = cdiv_loss + reg_loss\n",
    "        grads = training_tape.gradient(loss, self.model.trainable_variables) #вычисляем градиенты функции потерь относительно весов сети\n",
    "        self.optimizer.apply_gradients(\n",
    "            zip(grads, self.model.trainable_variables)\n",
    "        )\n",
    "        self.loss_metric.update_state(loss)\n",
    "        self.reg_loss_metric.update_state(reg_loss)\n",
    "        self.cdiv_loss_metric.update_state(cdiv_loss)\n",
    "        self.real_out_metric.update_state(tf.reduce_mean(real_out, axis=0))\n",
    "        self.fake_out_metric.update_state(tf.reduce_mean(fake_out, axis=0))\n",
    "        return {m.name: m.result() for m in self.metrics}\n",
    "\n",
    "    def test_step(self, real_imgs): #тетс, для меры обучения\n",
    "        batch_size = real_imgs.shape[0]\n",
    "        fake_imgs = (\n",
    "            tf.random.uniform((batch_size, IMAGE_SIZE, IMAGE_SIZE, CHANNELS))\n",
    "            * 2\n",
    "            - 1\n",
    "        )\n",
    "        inp_imgs = tf.concat([real_imgs, fake_imgs], axis=0)\n",
    "        real_out, fake_out = tf.split(self.model(inp_imgs), 2, axis=0)\n",
    "        cdiv = tf.reduce_mean(fake_out, axis=0) - tf.reduce_mean(\n",
    "            real_out, axis=0\n",
    "        )\n",
    "        self.cdiv_loss_metric.update_state(cdiv)\n",
    "        self.real_out_metric.update_state(tf.reduce_mean(real_out, axis=0))\n",
    "        self.fake_out_metric.update_state(tf.reduce_mean(fake_out, axis=0))\n",
    "        return {m.name: m.result() for m in self.metrics[2:]}"
   ]
  },
  {
   "cell_type": "code",
   "execution_count": null,
   "metadata": {
    "cell_id": "a4365307099f4595902544f6321a109b",
    "deepnote_cell_type": "code",
    "execution_context_id": "9c5b0c9a-9af4-49ff-9595-3d6b664bfa11",
    "execution_millis": 53,
    "execution_start": 1727962087958,
    "source_hash": "901ab2fc"
   },
   "outputs": [],
   "source": [
    "ebm = EBM()"
   ]
  },
  {
   "cell_type": "markdown",
   "metadata": {
    "cell_id": "cf158937fb6044a6bea06005bb1e7df9",
    "deepnote_cell_type": "markdown"
   },
   "source": [
    "## 3. Train the EBM network <a name=\"train\"></a>"
   ]
  },
  {
   "cell_type": "code",
   "execution_count": null,
   "metadata": {
    "cell_id": "0a6c221dbc074aa9bad0c73fc89895a9",
    "deepnote_cell_type": "code",
    "execution_context_id": "9c5b0c9a-9af4-49ff-9595-3d6b664bfa11",
    "execution_millis": 7,
    "execution_start": 1727962090426,
    "source_hash": "c612662d"
   },
   "outputs": [],
   "source": [
    "# Compile and train the model\n",
    "ebm.compile(\n",
    "    optimizer=optimizers.Adam(learning_rate=LEARNING_RATE), run_eagerly=True\n",
    ")"
   ]
  },
  {
   "cell_type": "code",
   "execution_count": null,
   "metadata": {
    "cell_id": "1424b80899b24bbdaa7279eb2a7adbdd",
    "deepnote_cell_type": "code",
    "execution_context_id": "76d504e8-9764-4f31-8e8e-e176d489b863",
    "execution_millis": 3,
    "execution_start": 1727879072708,
    "source_hash": "3bd32940"
   },
   "outputs": [],
   "source": [
    "tensorboard_callback = callbacks.TensorBoard(log_dir=\"./logs\")\n",
    "\n",
    "\n",
    "class ImageGenerator(callbacks.Callback):\n",
    "    def __init__(self, num_img):\n",
    "        self.num_img = num_img\n",
    "\n",
    "    def on_epoch_end(self, epoch, logs=None):\n",
    "        start_imgs = (\n",
    "            np.random.uniform(\n",
    "                size=(self.num_img, IMAGE_SIZE, IMAGE_SIZE, CHANNELS)\n",
    "            )\n",
    "            * 2\n",
    "            - 1\n",
    "        )\n",
    "        generated_images = generate_samples(\n",
    "            ebm.model,\n",
    "            start_imgs,\n",
    "            steps=1000,\n",
    "            step_size=STEP_SIZE,\n",
    "            noise=NOISE,\n",
    "            return_img_per_step=False,\n",
    "        )\n",
    "        generated_images = generated_images.numpy()\n",
    "        display(\n",
    "            generated_images,\n",
    "            save_to=\"./output/generated_img_%03d.png\" % (epoch),\n",
    "        )\n",
    "\n",
    "        example_images = tf.concat(\n",
    "            random.choices(ebm.buffer.examples, k=10), axis=0\n",
    "        )\n",
    "        example_images = example_images.numpy()\n",
    "        display(\n",
    "            example_images, save_to=\"./output/example_img_%03d.png\" % (epoch)\n",
    "        )\n",
    "\n",
    "\n",
    "image_generator_callback = ImageGenerator(num_img=10)"
   ]
  },
  {
   "cell_type": "code",
   "execution_count": null,
   "metadata": {
    "cell_id": "58a09987fa37460abad2305ee8e4d72e",
    "deepnote_cell_type": "code"
   },
   "outputs": [],
   "source": [
    "class SaveModel(callbacks.Callback):\n",
    "    def on_epoch_end(self, epoch, logs=None):\n",
    "        model.save_weights(\"./models/model.h5\")\n",
    "\n",
    "\n",
    "save_model_callback = SaveModel()"
   ]
  },
  {
   "cell_type": "code",
   "execution_count": 21,
   "metadata": {
    "cell_id": "84b9146463054dae9ad3fa3c9532c042",
    "deepnote_cell_type": "code",
    "execution_context_id": "9c5b0c9a-9af4-49ff-9595-3d6b664bfa11",
    "execution_millis": 1169671,
    "execution_start": 1727962097457,
    "scrolled": true,
    "source_hash": "35fcf209",
    "tags": []
   },
   "outputs": [
    {
     "name": "stdout",
     "output_type": "stream",
     "text": [
      "Epoch 1/5\n",
      "469/469 [==============================] - 1046s 2s/step - loss: -0.0013 - reg: 0.0012 - cdiv: -0.0025 - real: 0.0033 - fake: 8.1853e-04 - val_cdiv: -1.8649 - val_real: -0.0835 - val_fake: -1.9484\n",
      "Epoch 2/5\n",
      "469/469 [==============================] - 1035s 2s/step - loss: -4.4595e-04 - reg: 8.9171e-04 - cdiv: -0.0013 - real: 0.0023 - fake: 0.0010 - val_cdiv: -2.0836 - val_real: -0.0433 - val_fake: -2.1269\n",
      "Epoch 3/5\n",
      "469/469 [==============================] - 1042s 2s/step - loss: 3.9202e-04 - reg: 6.0061e-04 - cdiv: -2.0859e-04 - real: 0.0015 - fake: 0.0013 - val_cdiv: -2.2092 - val_real: -0.0463 - val_fake: -2.2556\n",
      "Epoch 4/5\n",
      "469/469 [==============================] - 1042s 2s/step - loss: 3.9513e-04 - reg: 4.4527e-04 - cdiv: -5.0143e-05 - real: 0.0018 - fake: 0.0018 - val_cdiv: -2.4218 - val_real: -0.0329 - val_fake: -2.4547\n",
      "Epoch 5/5\n",
      "469/469 [==============================] - 1043s 2s/step - loss: 3.1491e-04 - reg: 3.1220e-04 - cdiv: 2.7121e-06 - real: 0.0018 - fake: 0.0018 - val_cdiv: -2.6553 - val_real: -0.0291 - val_fake: -2.6844\n"
     ]
    },
    {
     "data": {
      "text/plain": [
       "<keras.callbacks.History at 0x1e193c4a0d0>"
      ]
     },
     "execution_count": 21,
     "metadata": {},
     "output_type": "execute_result"
    }
   ],
   "source": [
    "ebm.fit(\n",
    "    x_train,\n",
    "    shuffle=True,\n",
    "    epochs=5,\n",
    "    validation_data=x_test)\n",
    "#     callbacks=[\n",
    "#         save_model_callback,\n",
    "#         tensorboard_callback,\n",
    "#         image_generator_callback,\n",
    "#     ],\n",
    "# )"
   ]
  },
  {
   "cell_type": "markdown",
   "metadata": {
    "cell_id": "dd7027d430c44ef39d57afb2c6bfea9c",
    "deepnote_cell_type": "markdown"
   },
   "source": [
    "## 4. Generate images <a name=\"generate\"></a>"
   ]
  },
  {
   "cell_type": "code",
   "execution_count": 22,
   "metadata": {
    "cell_id": "ac7e4590ec9a4bb18072bc6ff91decce",
    "deepnote_cell_type": "code",
    "execution_context_id": "f579c274-d6a4-41be-bd6a-aec64c5d2337",
    "execution_millis": 613,
    "execution_start": 1727957996023,
    "source_hash": "b50aebdf"
   },
   "outputs": [],
   "source": [
    "start_imgs = (\n",
    "    np.random.uniform(size=(10, IMAGE_SIZE, IMAGE_SIZE, CHANNELS)) * 2 - 1\n",
    ")"
   ]
  },
  {
   "cell_type": "code",
   "execution_count": 23,
   "metadata": {
    "cell_id": "785d19dbb5de41d7bbe1b36b69f65546",
    "deepnote_cell_type": "code"
   },
   "outputs": [
    {
     "data": {
      "image/png": "[encoded data removed]",
      "text/plain": [
       "<Figure size 2000x300 with 10 Axes>"
      ]
     },
     "metadata": {},
     "output_type": "display_data"
    }
   ],
   "source": [
    "display(start_imgs)"
   ]
  },
  {
   "cell_type": "code",
   "execution_count": 24,
   "metadata": {
    "cell_id": "acf1a347c0184ae6b707732be7e81fa1",
    "deepnote_cell_type": "code",
    "scrolled": true,
    "tags": []
   },
   "outputs": [],
   "source": [
    "#генерация - это запуск семплера Ланжевена для большого количества шагов с нуля\n",
    "gen_img = generate_samples(\n",
    "    ebm.model,\n",
    "    start_imgs,\n",
    "    steps=1000,\n",
    "    step_size=STEP_SIZE,\n",
    "    noise=NOISE,\n",
    "    return_img_per_step=True,\n",
    ")"
   ]
  },
  {
   "cell_type": "code",
   "execution_count": 25,
   "metadata": {
    "cell_id": "1e556e7037054d82ac2125693d2a9331",
    "deepnote_cell_type": "code",
    "tags": []
   },
   "outputs": [
    {
     "data": {
      "image/png": "[encoded data removed]",
      "text/plain": [
       "<Figure size 2000x300 with 10 Axes>"
      ]
     },
     "metadata": {},
     "output_type": "display_data"
    }
   ],
   "source": [
    "display(gen_img[-1].numpy())"
   ]
  },
  {
   "cell_type": "code",
   "execution_count": 26,
   "metadata": {
    "cell_id": "e23bd1a1f8634d4584475f9170ca8939",
    "deepnote_cell_type": "code"
   },
   "outputs": [
    {
     "data": {
      "image/png": "[encoded data removed]",
      "text/plain": [
       "<Figure size 2000x300 with 10 Axes>"
      ]
     },
     "metadata": {},
     "output_type": "display_data"
    }
   ],
   "source": [
    "#процесс превращения шума в изображения\n",
    "imgs = []\n",
    "for i in [0, 1, 3, 5, 10, 30, 50, 100, 300, 999]:\n",
    "    imgs.append(gen_img[i].numpy()[6])\n",
    "\n",
    "display(np.array(imgs))"
   ]
  },
  {
   "cell_type": "markdown",
   "metadata": {
    "created_in_deepnote_cell": true,
    "deepnote_cell_type": "markdown"
   },
   "source": [
    "<a style='text-decoration:none;line-height:16px;display:flex;color:#5B5B62;padding:10px;justify-content:end;' href='https://deepnote.com?utm_source=created-in-deepnote-cell&projectId=91321aab-aa91-4889-8ef1-9edef354e364' target=\"_blank\">\n",
    "<img alt='Created in deepnote.com' style='display:inline;max-height:16px;margin:0px;margin-right:7.5px;' src='data:image/svg+xml;base64,PD94bWwgdmVyc2lvbj0iMS4wIiBlbmNvZGluZz0iVVRGLTgiPz4KPHN2ZyB3aWR0aD0iODBweCIgaGVpZ2h0PSI4MHB4IiB2aWV3Qm94PSIwIDAgODAgODAiIHZlcnNpb249IjEuMSIgeG1sbnM9Imh0dHA6Ly93d3cudzMub3JnLzIwMDAvc3ZnIiB4bWxuczp4bGluaz0iaHR0cDovL3d3dy53My5vcmcvMTk5OS94bGluayI+CiAgICA8IS0tIEdlbmVyYXRvcjogU2tldGNoIDU0LjEgKDc2NDkwKSAtIGh0dHBzOi8vc2tldGNoYXBwLmNvbSAtLT4KICAgIDx0aXRsZT5Hcm91cCAzPC90aXRsZT4KICAgIDxkZXNjPkNyZWF0ZWQgd2l0aCBTa2V0Y2guPC9kZXNjPgogICAgPGcgaWQ9IkxhbmRpbmciIHN0cm9rZT0ibm9uZSIgc3Ryb2tlLXdpZHRoPSIxIiBmaWxsPSJub25lIiBmaWxsLXJ1bGU9ImV2ZW5vZGQiPgogICAgICAgIDxnIGlkPSJBcnRib2FyZCIgdHJhbnNmb3JtPSJ0cmFuc2xhdGUoLTEyMzUuMDAwMDAwLCAtNzkuMDAwMDAwKSI+CiAgICAgICAgICAgIDxnIGlkPSJHcm91cC0zIiB0cmFuc2Zvcm09InRyYW5zbGF0ZSgxMjM1LjAwMDAwMCwgNzkuMDAwMDAwKSI+CiAgICAgICAgICAgICAgICA8cG9seWdvbiBpZD0iUGF0aC0yMCIgZmlsbD0iIzAyNjVCNCIgcG9pbnRzPSIyLjM3NjIzNzYyIDgwIDM4LjA0NzY2NjcgODAgNTcuODIxNzgyMiA3My44MDU3NTkyIDU3LjgyMTc4MjIgMzIuNzU5MjczOSAzOS4xNDAyMjc4IDMxLjY4MzE2ODMiPjwvcG9seWdvbj4KICAgICAgICAgICAgICAgIDxwYXRoIGQ9Ik0zNS4wMDc3MTgsODAgQzQyLjkwNjIwMDcsNzYuNDU0OTM1OCA0Ny41NjQ5MTY3LDcxLjU0MjI2NzEgNDguOTgzODY2LDY1LjI2MTk5MzkgQzUxLjExMjI4OTksNTUuODQxNTg0MiA0MS42NzcxNzk1LDQ5LjIxMjIyODQgMjUuNjIzOTg0Niw0OS4yMTIyMjg0IEMyNS40ODQ5Mjg5LDQ5LjEyNjg0NDggMjkuODI2MTI5Niw0My4yODM4MjQ4IDM4LjY0NzU4NjksMzEuNjgzMTY4MyBMNzIuODcxMjg3MSwzMi41NTQ0MjUgTDY1LjI4MDk3Myw2Ny42NzYzNDIxIEw1MS4xMTIyODk5LDc3LjM3NjE0NCBMMzUuMDA3NzE4LDgwIFoiIGlkPSJQYXRoLTIyIiBmaWxsPSIjMDAyODY4Ij48L3BhdGg+CiAgICAgICAgICAgICAgICA8cGF0aCBkPSJNMCwzNy43MzA0NDA1IEwyNy4xMTQ1MzcsMC4yNTcxMTE0MzYgQzYyLjM3MTUxMjMsLTEuOTkwNzE3MDEgODAsMTAuNTAwMzkyNyA4MCwzNy43MzA0NDA1IEM4MCw2NC45NjA0ODgyIDY0Ljc3NjUwMzgsNzkuMDUwMzQxNCAzNC4zMjk1MTEzLDgwIEM0Ny4wNTUzNDg5LDc3LjU2NzA4MDggNTMuNDE4MjY3Nyw3MC4zMTM2MTAzIDUzLjQxODI2NzcsNTguMjM5NTg4NSBDNTMuNDE4MjY3Nyw0MC4xMjg1NTU3IDM2LjMwMzk1NDQsMzcuNzMwNDQwNSAyNS4yMjc0MTcsMzcuNzMwNDQwNSBDMTcuODQzMDU4NiwzNy43MzA0NDA1IDkuNDMzOTE5NjYsMzcuNzMwNDQwNSAwLDM3LjczMDQ0MDUgWiIgaWQ9IlBhdGgtMTkiIGZpbGw9IiMzNzkzRUYiPjwvcGF0aD4KICAgICAgICAgICAgPC9nPgogICAgICAgIDwvZz4KICAgIDwvZz4KPC9zdmc+' > </img>\n",
    "Created in <span style='font-weight:600;margin-left:4px;'>Deepnote</span></a>"
   ]
  }
 ],
 "metadata": {
  "deepnote_execution_queue": [],
  "deepnote_notebook_id": "7956c2ea8bdb46efa13c721c456de774",
  "kernelspec": {
   "display_name": "Python 3 (ipykernel)",
   "language": "python",
   "name": "python3"
  },
  "language_info": {
   "codemirror_mode": {
    "name": "ipython",
    "version": 3
   },
   "file_extension": ".py",
   "mimetype": "text/x-python",
   "name": "python",
   "nbconvert_exporter": "python",
   "pygments_lexer": "ipython3",
   "version": "3.9.20"
  }
 },
 "nbformat": 4,
 "nbformat_minor": 1
}
