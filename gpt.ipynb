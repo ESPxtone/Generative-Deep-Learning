{
 "cells": [
  {
   "cell_type": "markdown",
   "id": "b076bd1a-b236-4fbc-953d-8295b25122ae",
   "metadata": {},
   "source": [
    "# 🚀 GPT"
   ]
  },
  {
   "cell_type": "markdown",
   "id": "4dca6836-0007-43f3-af65-d12ae1922c02",
   "metadata": {
    "tags": []
   },
   "source": [
    "In this notebook, we'll walk through the steps required to train your own GPT model on the wine review dataset"
   ]
  },
  {
   "cell_type": "markdown",
   "id": "3e6cb7c7-d3d5-4b12-b357-1f6118edffe0",
   "metadata": {},
   "source": [
    "The code is adapted from the excellent [GPT tutorial](https://keras.io/examples/generative/text_generation_with_miniature_gpt/) created by Apoorv Nandan available on the Keras website."
   ]
  },
  {
   "cell_type": "code",
   "execution_count": 1,
   "id": "73350761-bef2-4e96-b3ac-a158eabd2b65",
   "metadata": {
    "tags": []
   },
   "outputs": [],
   "source": [
    "%load_ext autoreload\n",
    "%autoreload 2\n",
    "import numpy as np\n",
    "import json\n",
    "import re\n",
    "import string\n",
    "from IPython.display import display, HTML\n",
    "\n",
    "import tensorflow as tf\n",
    "from tensorflow.keras import layers, models, losses, callbacks"
   ]
  },
  {
   "cell_type": "markdown",
   "id": "339e6268-ebd7-4feb-86db-1fe7abccdbe5",
   "metadata": {},
   "source": [
    "## 0. Parameters <a name=\"parameters\"></a>"
   ]
  },
  {
   "cell_type": "code",
   "execution_count": 3,
   "id": "2d8352af-343e-4c2e-8c91-95f8bac1c8a1",
   "metadata": {},
   "outputs": [],
   "source": [
    "VOCAB_SIZE = 10000\n",
    "MAX_LEN = 80\n",
    "EMBEDDING_DIM = 256\n",
    "KEY_DIM = 256\n",
    "N_HEADS = 2\n",
    "FEED_FORWARD_DIM = 256\n",
    "VALIDATION_SPLIT = 0.2\n",
    "SEED = 42\n",
    "LOAD_MODEL = False\n",
    "BATCH_SIZE = 32\n",
    "EPOCHS = 5"
   ]
  },
  {
   "cell_type": "markdown",
   "id": "b7716fac-0010-49b0-b98e-53be2259edde",
   "metadata": {},
   "source": [
    "## 1. Load the data <a name=\"load\"></a>"
   ]
  },
  {
   "cell_type": "code",
   "execution_count": 4,
   "id": "93cf6b0f-9667-4146-8911-763a8a2925d3",
   "metadata": {
    "tags": []
   },
   "outputs": [],
   "source": [
    "# Load the full dataset\n",
    "with open(\"data/wine-reviews/winemag-data-130k-v2.json\", encoding='utf-8') as json_data:\n",
    "    wine_data = json.load(json_data)"
   ]
  },
  {
   "cell_type": "code",
   "execution_count": 5,
   "id": "2db5c0fc-0d5f-42ab-ade1-57e594c416ec",
   "metadata": {
    "tags": []
   },
   "outputs": [
    {
     "data": {
      "text/plain": [
       "{'points': '87',\n",
       " 'title': 'Castello di Amorosa 2011 King Ridge Vineyard Pinot Noir (Sonoma Coast)',\n",
       " 'description': 'Oak and earth intermingle around robust aromas of wet forest floor in this vineyard-designated Pinot that hails from a high-elevation site. Small in production, it offers intense, full-bodied raspberry and blackberry steeped in smoky spice and smooth texture.',\n",
       " 'taster_name': 'Virginie Boone',\n",
       " 'taster_twitter_handle': '@vboone',\n",
       " 'price': 69,\n",
       " 'designation': 'King Ridge Vineyard',\n",
       " 'variety': 'Pinot Noir',\n",
       " 'region_1': 'Sonoma Coast',\n",
       " 'region_2': 'Sonoma',\n",
       " 'province': 'California',\n",
       " 'country': 'US',\n",
       " 'winery': 'Castello di Amorosa'}"
      ]
     },
     "execution_count": 5,
     "metadata": {},
     "output_type": "execute_result"
    }
   ],
   "source": [
    "wine_data[25]"
   ]
  },
  {
   "cell_type": "code",
   "execution_count": 6,
   "id": "23a74eca-f1b7-4a46-9a1f-b5806a4ed361",
   "metadata": {
    "tags": []
   },
   "outputs": [],
   "source": [
    "# Filter the dataset\n",
    "filtered_data = [\n",
    "    \"wine review : \"\n",
    "    + x[\"country\"]\n",
    "    + \" : \"\n",
    "    + x[\"province\"]\n",
    "    + \" : \"\n",
    "    + x[\"variety\"]\n",
    "    + \" : \"\n",
    "    + x[\"description\"]\n",
    "    for x in wine_data\n",
    "    if x[\"country\"] is not None\n",
    "    and x[\"province\"] is not None\n",
    "    and x[\"variety\"] is not None\n",
    "    and x[\"description\"] is not None\n",
    "]"
   ]
  },
  {
   "cell_type": "code",
   "execution_count": 7,
   "id": "389c20de-0422-4c48-a7b4-6ee12a7bf0e2",
   "metadata": {
    "tags": []
   },
   "outputs": [
    {
     "name": "stdout",
     "output_type": "stream",
     "text": [
      "129907 recipes loaded\n"
     ]
    }
   ],
   "source": [
    "# Count the recipes\n",
    "n_wines = len(filtered_data)\n",
    "print(f\"{n_wines} recipes loaded\")"
   ]
  },
  {
   "cell_type": "code",
   "execution_count": 8,
   "id": "1b2e3cf7-e416-460e-874a-0dd9637bca36",
   "metadata": {},
   "outputs": [
    {
     "name": "stdout",
     "output_type": "stream",
     "text": [
      "wine review : US : California : Pinot Noir : Oak and earth intermingle around robust aromas of wet forest floor in this vineyard-designated Pinot that hails from a high-elevation site. Small in production, it offers intense, full-bodied raspberry and blackberry steeped in smoky spice and smooth texture.\n"
     ]
    }
   ],
   "source": [
    "example = filtered_data[25]\n",
    "print(example)"
   ]
  },
  {
   "cell_type": "markdown",
   "id": "3f871aaf-d873-41c7-8946-e4eef7ac17c1",
   "metadata": {},
   "source": [
    "## 2. Tokenize the data <a name=\"tokenize\"></a>"
   ]
  },
  {
   "cell_type": "code",
   "execution_count": 9,
   "id": "5b2064fb-5dcc-4657-b470-0928d10e2ddc",
   "metadata": {
    "tags": []
   },
   "outputs": [],
   "source": [
    "# Pad the punctuation, to treat them as separate 'words'\n",
    "def pad_punctuation(s):\n",
    "    s = re.sub(f\"([{string.punctuation}, '\\n'])\", r\" \\1 \", s)\n",
    "    s = re.sub(\" +\", \" \", s)\n",
    "    return s\n",
    "\n",
    "\n",
    "text_data = [pad_punctuation(x) for x in filtered_data]"
   ]
  },
  {
   "cell_type": "code",
   "execution_count": 10,
   "id": "b87d7c65-9a46-492a-a5c0-a043b0d252f3",
   "metadata": {},
   "outputs": [
    {
     "data": {
      "text/plain": [
       "'wine review : US : California : Pinot Noir : Oak and earth intermingle around robust aromas of wet forest floor in this vineyard - designated Pinot that hails from a high - elevation site . Small in production , it offers intense , full - bodied raspberry and blackberry steeped in smoky spice and smooth texture . '"
      ]
     },
     "execution_count": 10,
     "metadata": {},
     "output_type": "execute_result"
    }
   ],
   "source": [
    "# Display an example\n",
    "example_data = text_data[25]\n",
    "example_data"
   ]
  },
  {
   "cell_type": "code",
   "execution_count": 11,
   "id": "9834f916-b21a-4104-acc9-f28d3bd7a8c1",
   "metadata": {
    "tags": []
   },
   "outputs": [],
   "source": [
    "# Convert to a Tensorflow Dataset\n",
    "text_ds = (\n",
    "    tf.data.Dataset.from_tensor_slices(text_data)\n",
    "    .batch(BATCH_SIZE)\n",
    "    .shuffle(1000)\n",
    ")"
   ]
  },
  {
   "cell_type": "code",
   "execution_count": 12,
   "id": "884c0bcb-0807-45a1-8f7e-a32f2c6fa4de",
   "metadata": {},
   "outputs": [],
   "source": [
    "# Create a vectorisation layer\n",
    "vectorize_layer = layers.TextVectorization(\n",
    "    standardize=\"lower\",\n",
    "    max_tokens=VOCAB_SIZE,\n",
    "    output_mode=\"int\",\n",
    "    output_sequence_length=MAX_LEN + 1,\n",
    ")"
   ]
  },
  {
   "cell_type": "code",
   "execution_count": 13,
   "id": "4d6dd34a-d905-497b-926a-405380ebcf98",
   "metadata": {},
   "outputs": [],
   "source": [
    "# Adapt the layer to the training set\n",
    "vectorize_layer.adapt(text_ds)\n",
    "vocab = vectorize_layer.get_vocabulary()"
   ]
  },
  {
   "cell_type": "code",
   "execution_count": 14,
   "id": "f6c1c7ce-3cf0-40d4-a3dc-ab7090f69f2f",
   "metadata": {},
   "outputs": [
    {
     "name": "stdout",
     "output_type": "stream",
     "text": [
      "0: \n",
      "1: [UNK]\n",
      "2: :\n",
      "3: ,\n",
      "4: .\n",
      "5: and\n",
      "6: the\n",
      "7: wine\n",
      "8: a\n",
      "9: of\n"
     ]
    }
   ],
   "source": [
    "# Display some token:word mappings\n",
    "for i, word in enumerate(vocab[:10]):\n",
    "    print(f\"{i}: {word}\")"
   ]
  },
  {
   "cell_type": "code",
   "execution_count": 15,
   "id": "1cc30186-7ec6-4eb6-b29a-65df6714d321",
   "metadata": {},
   "outputs": [
    {
     "name": "stdout",
     "output_type": "stream",
     "text": [
      "[   7   10    2   20    2   29    2   43   62    2   55    5  243 4145\n",
      "  453  634   26    9  497  499  667   17   12  142   14 2214   43   25\n",
      " 2484   32    8  223   14 2213  948    4  594   17  987    3   15   75\n",
      "  237    3   64   14   82   97    5   74 2633   17  198   49    5  125\n",
      "   77    4    0    0    0    0    0    0    0    0    0    0    0    0\n",
      "    0    0    0    0    0    0    0    0    0    0    0]\n"
     ]
    }
   ],
   "source": [
    "# Display the same example converted to ints\n",
    "example_tokenised = vectorize_layer(example_data)\n",
    "print(example_tokenised.numpy())"
   ]
  },
  {
   "cell_type": "markdown",
   "id": "8c195efb-84c6-4be0-a989-a7542188ad35",
   "metadata": {},
   "source": [
    "## 3. Create the Training Set <a name=\"create\"></a>"
   ]
  },
  {
   "cell_type": "code",
   "execution_count": 16,
   "id": "740294a1-1a6b-4c89-92f2-036d7d1b788b",
   "metadata": {},
   "outputs": [],
   "source": [
    "# Create the training set of recipes and the same text shifted by one word\n",
    "def prepare_inputs(text):\n",
    "    text = tf.expand_dims(text, -1)\n",
    "    tokenized_sentences = vectorize_layer(text)\n",
    "    x = tokenized_sentences[:, :-1]\n",
    "    y = tokenized_sentences[:, 1:]\n",
    "    return x, y\n",
    "\n",
    "\n",
    "train_ds = text_ds.map(prepare_inputs)"
   ]
  },
  {
   "cell_type": "code",
   "execution_count": 17,
   "id": "cad80ffb-4298-4249-86b4-9918d62534c5",
   "metadata": {},
   "outputs": [],
   "source": [
    "example_input_output = train_ds.take(1).get_single_element()"
   ]
  },
  {
   "cell_type": "code",
   "execution_count": 18,
   "id": "67ff7263-f62d-44c1-997b-1aa99a393521",
   "metadata": {},
   "outputs": [
    {
     "data": {
      "text/plain": [
       "<tf.Tensor: shape=(80,), dtype=int64, numpy=\n",
       "array([   7,   10,    2,   20,    2,   29,    2,  271,    2,  128,   32,\n",
       "          6, 1448,  331,  271,    3,   12,   13,   76, 1277,   17,  216,\n",
       "          3,  653,   17,   63,    5,  131,  181,   72,    4,   22,  831,\n",
       "        877,  241,  116,   23,    6,   28,    5,   31,    3,  928,  889,\n",
       "          4,    0,    0,    0,    0,    0,    0,    0,    0,    0,    0,\n",
       "          0,    0,    0,    0,    0,    0,    0,    0,    0,    0,    0,\n",
       "          0,    0,    0,    0,    0,    0,    0,    0,    0,    0,    0,\n",
       "          0,    0,    0], dtype=int64)>"
      ]
     },
     "execution_count": 18,
     "metadata": {},
     "output_type": "execute_result"
    }
   ],
   "source": [
    "# Example Input\n",
    "example_input_output[0][0]"
   ]
  },
  {
   "cell_type": "code",
   "execution_count": 19,
   "id": "ef2e2cad-414c-4e6d-a2ac-6b9598f9dd01",
   "metadata": {},
   "outputs": [
    {
     "data": {
      "text/plain": [
       "<tf.Tensor: shape=(80,), dtype=int64, numpy=\n",
       "array([  10,    2,   20,    2,   29,    2,  271,    2,  128,   32,    6,\n",
       "       1448,  331,  271,    3,   12,   13,   76, 1277,   17,  216,    3,\n",
       "        653,   17,   63,    5,  131,  181,   72,    4,   22,  831,  877,\n",
       "        241,  116,   23,    6,   28,    5,   31,    3,  928,  889,    4,\n",
       "          0,    0,    0,    0,    0,    0,    0,    0,    0,    0,    0,\n",
       "          0,    0,    0,    0,    0,    0,    0,    0,    0,    0,    0,\n",
       "          0,    0,    0,    0,    0,    0,    0,    0,    0,    0,    0,\n",
       "          0,    0,    0], dtype=int64)>"
      ]
     },
     "execution_count": 19,
     "metadata": {},
     "output_type": "execute_result"
    }
   ],
   "source": [
    "# Example Output (shifted by one token)\n",
    "example_input_output[1][0]"
   ]
  },
  {
   "cell_type": "markdown",
   "id": "aff50401-3abe-4c10-bba8-b35bc13ad7d5",
   "metadata": {
    "tags": []
   },
   "source": [
    "## 5. Create the causal attention mask function <a name=\"causal\"></a>"
   ]
  },
  {
   "cell_type": "code",
   "execution_count": 20,
   "id": "554a4184-61c2-4eb7-a063-d965586a8188",
   "metadata": {},
   "outputs": [
    {
     "data": {
      "text/plain": [
       "array([[1, 1, 1, 1, 1, 1, 1, 1, 1, 1],\n",
       "       [0, 1, 1, 1, 1, 1, 1, 1, 1, 1],\n",
       "       [0, 0, 1, 1, 1, 1, 1, 1, 1, 1],\n",
       "       [0, 0, 0, 1, 1, 1, 1, 1, 1, 1],\n",
       "       [0, 0, 0, 0, 1, 1, 1, 1, 1, 1],\n",
       "       [0, 0, 0, 0, 0, 1, 1, 1, 1, 1],\n",
       "       [0, 0, 0, 0, 0, 0, 1, 1, 1, 1],\n",
       "       [0, 0, 0, 0, 0, 0, 0, 1, 1, 1],\n",
       "       [0, 0, 0, 0, 0, 0, 0, 0, 1, 1],\n",
       "       [0, 0, 0, 0, 0, 0, 0, 0, 0, 1]])"
      ]
     },
     "execution_count": 20,
     "metadata": {},
     "output_type": "execute_result"
    }
   ],
   "source": [
    "#причинно-следственная маска, позволяет избежать утечки данных, чтобы модель не использовала в качестве признака ключ самого слова\n",
    "def causal_attention_mask(batch_size, n_dest, n_src, dtype):\n",
    "    i = tf.range(n_dest)[:, None]\n",
    "    j = tf.range(n_src)\n",
    "    m = i >= j - n_src + n_dest\n",
    "    mask = tf.cast(m, dtype)\n",
    "    mask = tf.reshape(mask, [1, n_dest, n_src])\n",
    "    mult = tf.concat(\n",
    "        [tf.expand_dims(batch_size, -1), tf.constant([1, 1], dtype=tf.int32)], 0\n",
    "    )\n",
    "    return tf.tile(mask, mult)\n",
    "\n",
    "\n",
    "np.transpose(causal_attention_mask(1, 10, 10, dtype=tf.int32)[0])"
   ]
  },
  {
   "cell_type": "markdown",
   "id": "3501dbad-0860-40ad-b7d6-47950e37858f",
   "metadata": {},
   "source": [
    "## 6. Create a Transformer Block layer <a name=\"transformer\"></a>"
   ]
  },
  {
   "cell_type": "code",
   "execution_count": 21,
   "id": "5285a1cb-fce1-46b1-b088-b596002fa9ae",
   "metadata": {},
   "outputs": [],
   "source": [
    "class TransformerBlock(layers.Layer):\n",
    "    def __init__(self, num_heads, key_dim, embed_dim, ff_dim, dropout_rate=0.1): #подслои слоя TransformerBlock, определяются в функции инициализации\n",
    "        super(TransformerBlock, self).__init__()\n",
    "        self.num_heads = num_heads\n",
    "        self.key_dim = key_dim\n",
    "        self.embed_dim = embed_dim\n",
    "        self.ff_dim = ff_dim\n",
    "        self.dropout_rate = dropout_rate\n",
    "        self.attn = layers.MultiHeadAttention(\n",
    "            num_heads, key_dim, output_shape=embed_dim\n",
    "        ) #слой многоголовного внимания, задаем кол-во модулей, длину ключа(и запроса), размер выходного вектора\n",
    "        self.dropout_1 = layers.Dropout(self.dropout_rate)\n",
    "        self.ln_1 = layers.LayerNormalization(epsilon=1e-6)\n",
    "        self.ffn_1 = layers.Dense(self.ff_dim, activation=\"relu\")\n",
    "        self.ffn_2 = layers.Dense(self.embed_dim)\n",
    "        self.dropout_2 = layers.Dropout(self.dropout_rate)\n",
    "        self.ln_2 = layers.LayerNormalization(epsilon=1e-6)\n",
    "\n",
    "    def call(self, inputs):\n",
    "        input_shape = tf.shape(inputs)\n",
    "        batch_size = input_shape[0]\n",
    "        seq_len = input_shape[1]\n",
    "        causal_mask = causal_attention_mask(\n",
    "            batch_size, seq_len, seq_len, tf.bool\n",
    "        ) #создается причинно-следственная маска, чтобы скрыть будущие ключи от запроса\n",
    "        attention_output, attention_scores = self.attn(\n",
    "            inputs,\n",
    "            inputs,\n",
    "            attention_mask=causal_mask,\n",
    "            return_attention_scores=True,\n",
    "        ) #создается многоголовыый слой внимания\n",
    "        attention_output = self.dropout_1(attention_output)\n",
    "        out1 = self.ln_1(inputs + attention_output) #первый слой сложения и нормализации\n",
    "        ffn_1 = self.ffn_1(out1) #слои прямого распространения\n",
    "        ffn_2 = self.ffn_2(ffn_1)\n",
    "        ffn_output = self.dropout_2(ffn_2)\n",
    "        return (self.ln_2(out1 + ffn_output), attention_scores) #второй слой сложения и нормализации\n",
    "\n",
    "    def get_config(self):\n",
    "        config = super().get_config()\n",
    "        config.update(\n",
    "            {\n",
    "                \"key_dim\": self.key_dim,\n",
    "                \"embed_dim\": self.embed_dim,\n",
    "                \"num_heads\": self.num_heads,\n",
    "                \"ff_dim\": self.ff_dim,\n",
    "                \"dropout_rate\": self.dropout_rate,\n",
    "            }\n",
    "        )\n",
    "        return config"
   ]
  },
  {
   "cell_type": "markdown",
   "id": "076a6be0-9796-4974-9bcd-6ebbcfe7514e",
   "metadata": {
    "tags": []
   },
   "source": [
    "## 7. Create the Token and Position Embedding <a name=\"embedder\"></a>"
   ]
  },
  {
   "cell_type": "code",
   "execution_count": 22,
   "id": "fdf5cb25-88ae-4026-9e21-c1e6b5094a2c",
   "metadata": {},
   "outputs": [],
   "source": [
    "#слой позиционного представления, кодирует позицию лексемы, потом значение и положение каждого слова фиксируются в одном векторе \n",
    "class TokenAndPositionEmbedding(layers.Layer):\n",
    "    def __init__(self, max_len, vocab_size, embed_dim):\n",
    "        super(TokenAndPositionEmbedding, self).__init__()\n",
    "        self.max_len = max_len\n",
    "        self.vocab_size = vocab_size\n",
    "        self.embed_dim = embed_dim\n",
    "        self.token_emb = layers.Embedding(\n",
    "            input_dim=vocab_size, output_dim=embed_dim\n",
    "        ) #с помощью слоя Embedding создаются векторные представления лексем\n",
    "        self.pos_emb = layers.Embedding(input_dim=max_len, output_dim=embed_dim) #с помощью слоя Embedding создаются представления позиций лексем\n",
    "\n",
    "    def call(self, x):\n",
    "        maxlen = tf.shape(x)[-1]\n",
    "        positions = tf.range(start=0, limit=maxlen, delta=1)\n",
    "        positions = self.pos_emb(positions)\n",
    "        x = self.token_emb(x)\n",
    "        return x + positions #выходные данные слоя объединяются для получения общего представления лексем и из позиций\n",
    "\n",
    "    def get_config(self):\n",
    "        config = super().get_config()\n",
    "        config.update(\n",
    "            {\n",
    "                \"max_len\": self.max_len,\n",
    "                \"vocab_size\": self.vocab_size,\n",
    "                \"embed_dim\": self.embed_dim,\n",
    "            }\n",
    "        )\n",
    "        return config"
   ]
  },
  {
   "cell_type": "markdown",
   "id": "aac2e2d4-5980-47e3-b5b0-6c41c0c2d152",
   "metadata": {},
   "source": [
    "## 8. Build the Transformer model <a name=\"transformer_decoder\"></a>"
   ]
  },
  {
   "cell_type": "code",
   "execution_count": 23,
   "id": "8c57596e-e17d-4959-b6e8-7581b0bace3a",
   "metadata": {},
   "outputs": [
    {
     "name": "stdout",
     "output_type": "stream",
     "text": [
      "WARNING:tensorflow:From C:\\Users\\d.sergeev\\AppData\\Roaming\\Python\\Python311\\site-packages\\keras\\src\\backend\\tensorflow\\core.py:204: The name tf.placeholder is deprecated. Please use tf.compat.v1.placeholder instead.\n",
      "\n"
     ]
    }
   ],
   "source": [
    "inputs = layers.Input(shape=(None,), dtype=tf.int32) #дополняет входные данные нулями\n",
    "x = TokenAndPositionEmbedding(MAX_LEN, VOCAB_SIZE, EMBEDDING_DIM)(inputs) #создается векторное представление текста \n",
    "x, attention_scores = TransformerBlock(\n",
    "    N_HEADS, KEY_DIM, EMBEDDING_DIM, FEED_FORWARD_DIM\n",
    ")(x) #передаем векторное представление в TransformerBlock\n",
    "outputs = layers.Dense(VOCAB_SIZE, activation=\"softmax\")(x) #результат преобразования передается через полносвязный слой с softmax для прогнозирования следующего слова\n",
    "\n",
    "gpt = models.Model(inputs=inputs, outputs=[outputs, attention_scores]) #модель принимает последовательность лексем и выводит прогнозируемое распределение следующего слова и данные блока трансформера\n",
    "gpt.compile(\"adam\", loss=[losses.SparseCategoricalCrossentropy(), None])"
   ]
  },
  {
   "cell_type": "code",
   "execution_count": 24,
   "id": "1a1c3b0f-3382-444d-bb04-bae143ae5d61",
   "metadata": {},
   "outputs": [
    {
     "data": {
      "text/html": [
       "<pre style=\"white-space:pre;overflow-x:auto;line-height:normal;font-family:Menlo,'DejaVu Sans Mono',consolas,'Courier New',monospace\"><span style=\"font-weight: bold\">Model: \"functional\"</span>\n",
       "</pre>\n"
      ],
      "text/plain": [
       "\u001b[1mModel: \"functional\"\u001b[0m\n"
      ]
     },
     "metadata": {},
     "output_type": "display_data"
    },
    {
     "data": {
      "text/html": [
       "<pre style=\"white-space:pre;overflow-x:auto;line-height:normal;font-family:Menlo,'DejaVu Sans Mono',consolas,'Courier New',monospace\">┏━━━━━━━━━━━━━━━━━━━━━━━━━━━━━━━━━┳━━━━━━━━━━━━━━━━━━━━━━━━┳━━━━━━━━━━━━━━━┓\n",
       "┃<span style=\"font-weight: bold\"> Layer (type)                    </span>┃<span style=\"font-weight: bold\"> Output Shape           </span>┃<span style=\"font-weight: bold\">       Param # </span>┃\n",
       "┡━━━━━━━━━━━━━━━━━━━━━━━━━━━━━━━━━╇━━━━━━━━━━━━━━━━━━━━━━━━╇━━━━━━━━━━━━━━━┩\n",
       "│ input_layer (<span style=\"color: #0087ff; text-decoration-color: #0087ff\">InputLayer</span>)        │ (<span style=\"color: #00d7ff; text-decoration-color: #00d7ff\">None</span>, <span style=\"color: #00d7ff; text-decoration-color: #00d7ff\">None</span>)           │             <span style=\"color: #00af00; text-decoration-color: #00af00\">0</span> │\n",
       "├─────────────────────────────────┼────────────────────────┼───────────────┤\n",
       "│ token_and_position_embedding    │ (<span style=\"color: #00d7ff; text-decoration-color: #00d7ff\">None</span>, <span style=\"color: #00d7ff; text-decoration-color: #00d7ff\">None</span>, <span style=\"color: #00af00; text-decoration-color: #00af00\">256</span>)      │     <span style=\"color: #00af00; text-decoration-color: #00af00\">2,580,480</span> │\n",
       "│ (<span style=\"color: #0087ff; text-decoration-color: #0087ff\">TokenAndPositionEmbedding</span>)     │                        │               │\n",
       "├─────────────────────────────────┼────────────────────────┼───────────────┤\n",
       "│ transformer_block               │ [(<span style=\"color: #00d7ff; text-decoration-color: #00d7ff\">None</span>, <span style=\"color: #00d7ff; text-decoration-color: #00d7ff\">None</span>, <span style=\"color: #00af00; text-decoration-color: #00af00\">256</span>),    │       <span style=\"color: #00af00; text-decoration-color: #00af00\">658,688</span> │\n",
       "│ (<span style=\"color: #0087ff; text-decoration-color: #0087ff\">TransformerBlock</span>)              │ (<span style=\"color: #00d7ff; text-decoration-color: #00d7ff\">None</span>, <span style=\"color: #00af00; text-decoration-color: #00af00\">2</span>, <span style=\"color: #00d7ff; text-decoration-color: #00d7ff\">None</span>, <span style=\"color: #00d7ff; text-decoration-color: #00d7ff\">None</span>)] │               │\n",
       "├─────────────────────────────────┼────────────────────────┼───────────────┤\n",
       "│ dense_2 (<span style=\"color: #0087ff; text-decoration-color: #0087ff\">Dense</span>)                 │ (<span style=\"color: #00d7ff; text-decoration-color: #00d7ff\">None</span>, <span style=\"color: #00d7ff; text-decoration-color: #00d7ff\">None</span>, <span style=\"color: #00af00; text-decoration-color: #00af00\">10000</span>)    │     <span style=\"color: #00af00; text-decoration-color: #00af00\">2,570,000</span> │\n",
       "└─────────────────────────────────┴────────────────────────┴───────────────┘\n",
       "</pre>\n"
      ],
      "text/plain": [
       "┏━━━━━━━━━━━━━━━━━━━━━━━━━━━━━━━━━┳━━━━━━━━━━━━━━━━━━━━━━━━┳━━━━━━━━━━━━━━━┓\n",
       "┃\u001b[1m \u001b[0m\u001b[1mLayer (type)                   \u001b[0m\u001b[1m \u001b[0m┃\u001b[1m \u001b[0m\u001b[1mOutput Shape          \u001b[0m\u001b[1m \u001b[0m┃\u001b[1m \u001b[0m\u001b[1m      Param #\u001b[0m\u001b[1m \u001b[0m┃\n",
       "┡━━━━━━━━━━━━━━━━━━━━━━━━━━━━━━━━━╇━━━━━━━━━━━━━━━━━━━━━━━━╇━━━━━━━━━━━━━━━┩\n",
       "│ input_layer (\u001b[38;5;33mInputLayer\u001b[0m)        │ (\u001b[38;5;45mNone\u001b[0m, \u001b[38;5;45mNone\u001b[0m)           │             \u001b[38;5;34m0\u001b[0m │\n",
       "├─────────────────────────────────┼────────────────────────┼───────────────┤\n",
       "│ token_and_position_embedding    │ (\u001b[38;5;45mNone\u001b[0m, \u001b[38;5;45mNone\u001b[0m, \u001b[38;5;34m256\u001b[0m)      │     \u001b[38;5;34m2,580,480\u001b[0m │\n",
       "│ (\u001b[38;5;33mTokenAndPositionEmbedding\u001b[0m)     │                        │               │\n",
       "├─────────────────────────────────┼────────────────────────┼───────────────┤\n",
       "│ transformer_block               │ [(\u001b[38;5;45mNone\u001b[0m, \u001b[38;5;45mNone\u001b[0m, \u001b[38;5;34m256\u001b[0m),    │       \u001b[38;5;34m658,688\u001b[0m │\n",
       "│ (\u001b[38;5;33mTransformerBlock\u001b[0m)              │ (\u001b[38;5;45mNone\u001b[0m, \u001b[38;5;34m2\u001b[0m, \u001b[38;5;45mNone\u001b[0m, \u001b[38;5;45mNone\u001b[0m)] │               │\n",
       "├─────────────────────────────────┼────────────────────────┼───────────────┤\n",
       "│ dense_2 (\u001b[38;5;33mDense\u001b[0m)                 │ (\u001b[38;5;45mNone\u001b[0m, \u001b[38;5;45mNone\u001b[0m, \u001b[38;5;34m10000\u001b[0m)    │     \u001b[38;5;34m2,570,000\u001b[0m │\n",
       "└─────────────────────────────────┴────────────────────────┴───────────────┘\n"
      ]
     },
     "metadata": {},
     "output_type": "display_data"
    },
    {
     "data": {
      "text/html": [
       "<pre style=\"white-space:pre;overflow-x:auto;line-height:normal;font-family:Menlo,'DejaVu Sans Mono',consolas,'Courier New',monospace\"><span style=\"font-weight: bold\"> Total params: </span><span style=\"color: #00af00; text-decoration-color: #00af00\">5,809,168</span> (22.16 MB)\n",
       "</pre>\n"
      ],
      "text/plain": [
       "\u001b[1m Total params: \u001b[0m\u001b[38;5;34m5,809,168\u001b[0m (22.16 MB)\n"
      ]
     },
     "metadata": {},
     "output_type": "display_data"
    },
    {
     "data": {
      "text/html": [
       "<pre style=\"white-space:pre;overflow-x:auto;line-height:normal;font-family:Menlo,'DejaVu Sans Mono',consolas,'Courier New',monospace\"><span style=\"font-weight: bold\"> Trainable params: </span><span style=\"color: #00af00; text-decoration-color: #00af00\">5,809,168</span> (22.16 MB)\n",
       "</pre>\n"
      ],
      "text/plain": [
       "\u001b[1m Trainable params: \u001b[0m\u001b[38;5;34m5,809,168\u001b[0m (22.16 MB)\n"
      ]
     },
     "metadata": {},
     "output_type": "display_data"
    },
    {
     "data": {
      "text/html": [
       "<pre style=\"white-space:pre;overflow-x:auto;line-height:normal;font-family:Menlo,'DejaVu Sans Mono',consolas,'Courier New',monospace\"><span style=\"font-weight: bold\"> Non-trainable params: </span><span style=\"color: #00af00; text-decoration-color: #00af00\">0</span> (0.00 B)\n",
       "</pre>\n"
      ],
      "text/plain": [
       "\u001b[1m Non-trainable params: \u001b[0m\u001b[38;5;34m0\u001b[0m (0.00 B)\n"
      ]
     },
     "metadata": {},
     "output_type": "display_data"
    }
   ],
   "source": [
    "gpt.summary()"
   ]
  },
  {
   "cell_type": "code",
   "execution_count": null,
   "id": "800a3c6e-fb11-4792-b6bc-9a43a7c977ad",
   "metadata": {
    "tags": []
   },
   "outputs": [],
   "source": [
    "if LOAD_MODEL:\n",
    "    # model.load_weights('./models/model')\n",
    "    gpt = models.load_model(\"./models/gpt\", compile=True)"
   ]
  },
  {
   "cell_type": "markdown",
   "id": "35b14665-4359-447b-be58-3fd58ba69084",
   "metadata": {},
   "source": [
    "## 9. Train the Transformer <a name=\"train\"></a>"
   ]
  },
  {
   "cell_type": "code",
   "execution_count": 25,
   "id": "3ddcff5f-829d-4449-99d2-9a3cb68f7d72",
   "metadata": {},
   "outputs": [],
   "source": [
    "# Create a TextGenerator checkpoint\n",
    "class TextGenerator(callbacks.Callback):\n",
    "    def __init__(self, index_to_word, top_k=10):\n",
    "        self.index_to_word = index_to_word\n",
    "        self.word_to_index = {\n",
    "            word: index for index, word in enumerate(index_to_word)\n",
    "        }\n",
    "\n",
    "    def sample_from(self, probs, temperature):\n",
    "        probs = probs ** (1 / temperature)\n",
    "        probs = probs / np.sum(probs)\n",
    "        return np.random.choice(len(probs), p=probs), probs\n",
    "\n",
    "    def generate(self, start_prompt, max_tokens, temperature):\n",
    "        start_tokens = [\n",
    "            self.word_to_index.get(x, 1) for x in start_prompt.split()\n",
    "        ]\n",
    "        sample_token = None\n",
    "        info = []\n",
    "        while len(start_tokens) < max_tokens and sample_token != 0:\n",
    "            x = np.array([start_tokens])\n",
    "            y, att = self.model.predict(x, verbose=0)\n",
    "            sample_token, probs = self.sample_from(y[0][-1], temperature)\n",
    "            info.append(\n",
    "                {\n",
    "                    \"prompt\": start_prompt,\n",
    "                    \"word_probs\": probs,\n",
    "                    \"atts\": att[0, :, -1, :],\n",
    "                }\n",
    "            )\n",
    "            start_tokens.append(sample_token)\n",
    "            start_prompt = start_prompt + \" \" + self.index_to_word[sample_token]\n",
    "        print(f\"\\ngenerated text:\\n{start_prompt}\\n\")\n",
    "        return info\n",
    "\n",
    "    def on_epoch_end(self, epoch, logs=None):\n",
    "        self.generate(\"wine review\", max_tokens=80, temperature=1.0)"
   ]
  },
  {
   "cell_type": "code",
   "execution_count": 27,
   "id": "349865fe-ffbe-450e-97be-043ae1740e78",
   "metadata": {},
   "outputs": [],
   "source": [
    "# Create a model save checkpoint\n",
    "model_checkpoint_callback = callbacks.ModelCheckpoint(\n",
    "    filepath=\"./checkpoint/checkpoint.weights.h5\",\n",
    "    save_weights_only=True,\n",
    "    save_freq=\"epoch\",\n",
    "    verbose=0,\n",
    ")\n",
    "\n",
    "tensorboard_callback = callbacks.TensorBoard(log_dir=\"./logs\")\n",
    "\n",
    "# Tokenize starting prompt\n",
    "text_generator = TextGenerator(vocab)"
   ]
  },
  {
   "cell_type": "code",
   "execution_count": 28,
   "id": "461c2b3e-b5ae-4def-8bd9-e7bab8c63d8e",
   "metadata": {
    "tags": []
   },
   "outputs": [
    {
     "name": "stdout",
     "output_type": "stream",
     "text": [
      "Epoch 1/5\n",
      "\u001b[1m4060/4060\u001b[0m \u001b[32m━━━━━━━━━━━━━━━━━━━━\u001b[0m\u001b[37m\u001b[0m \u001b[1m0s\u001b[0m 298ms/step - loss: 2.5900\n",
      "generated text:\n",
      "wine review : us : california : cabernet sauvignon : [UNK] in [UNK] with new oak barrels with that lie to the blackberry and granite soil [UNK] . smoky blackberry and spice flavors , it ' s a tannic wine that leads the exotic character , while the fruit impresses on the authoritative side . it ' s enormous in richness and this wine for six . 7 % petite sirah is also just enough to match the beef jerky\n",
      "\n",
      "\u001b[1m4060/4060\u001b[0m \u001b[32m━━━━━━━━━━━━━━━━━━━━\u001b[0m\u001b[37m\u001b[0m \u001b[1m1217s\u001b[0m 299ms/step - loss: 2.5899\n",
      "Epoch 2/5\n",
      "\u001b[1m4060/4060\u001b[0m \u001b[32m━━━━━━━━━━━━━━━━━━━━\u001b[0m\u001b[37m\u001b[0m \u001b[1m0s\u001b[0m 300ms/step - loss: 1.9782\n",
      "generated text:\n",
      "wine review : us : new york : riesling : this is a richly grapefruit - flavored chardonnay , rich but offers lemony freshness so many of riesling vintages , northeastern it should be the brisk and succulent on this finger lakes [UNK] . but the finish is long , raspberry and lime blossoms . \n",
      "\n",
      "\u001b[1m4060/4060\u001b[0m \u001b[32m━━━━━━━━━━━━━━━━━━━━\u001b[0m\u001b[37m\u001b[0m \u001b[1m1222s\u001b[0m 301ms/step - loss: 1.9781\n",
      "Epoch 3/5\n",
      "\u001b[1m4060/4060\u001b[0m \u001b[32m━━━━━━━━━━━━━━━━━━━━\u001b[0m\u001b[37m\u001b[0m \u001b[1m0s\u001b[0m 301ms/step - loss: 1.8951\n",
      "generated text:\n",
      "wine review : france : bordeaux : bordeaux - style red blend : a rich wine with its deep , dense tannins and rich black currant fruits , the botrytis texture . it is juicy , dry and fragrant in flavor , the wine will probably best after 2015 . \n",
      "\n",
      "\u001b[1m4060/4060\u001b[0m \u001b[32m━━━━━━━━━━━━━━━━━━━━\u001b[0m\u001b[37m\u001b[0m \u001b[1m1224s\u001b[0m 301ms/step - loss: 1.8951\n",
      "Epoch 4/5\n",
      "\u001b[1m4060/4060\u001b[0m \u001b[32m━━━━━━━━━━━━━━━━━━━━\u001b[0m\u001b[37m\u001b[0m \u001b[1m0s\u001b[0m 301ms/step - loss: 1.8448\n",
      "generated text:\n",
      "wine review : bulgaria : thracian valley : traminer : this fresh version smells touch sweet , [UNK] is a fresh wine this viognier , with mild flavors of peach and citrus . in the mouth , it ' s the fruitiness is subdued but the wine should it well nicely with please . drink now . \n",
      "\n",
      "\u001b[1m4060/4060\u001b[0m \u001b[32m━━━━━━━━━━━━━━━━━━━━\u001b[0m\u001b[37m\u001b[0m \u001b[1m1224s\u001b[0m 301ms/step - loss: 1.8448\n",
      "Epoch 5/5\n",
      "\u001b[1m4060/4060\u001b[0m \u001b[32m━━━━━━━━━━━━━━━━━━━━\u001b[0m\u001b[37m\u001b[0m \u001b[1m0s\u001b[0m 300ms/step - loss: 1.8229\n",
      "generated text:\n",
      "wine review : italy : central italy : lambrusco : this sweet , simple wine has delicate aromas of wild berry and raspberry . the bright palate is very crisp , clean and boasts bright acidity . \n",
      "\n",
      "\u001b[1m4060/4060\u001b[0m \u001b[32m━━━━━━━━━━━━━━━━━━━━\u001b[0m\u001b[37m\u001b[0m \u001b[1m1220s\u001b[0m 300ms/step - loss: 1.8229\n"
     ]
    },
    {
     "data": {
      "text/plain": [
       "<keras.src.callbacks.history.History at 0x249a6fa9b50>"
      ]
     },
     "execution_count": 28,
     "metadata": {},
     "output_type": "execute_result"
    }
   ],
   "source": [
    "gpt.fit(\n",
    "    train_ds,\n",
    "    epochs=EPOCHS,\n",
    "    callbacks=[model_checkpoint_callback, tensorboard_callback, text_generator],\n",
    ")"
   ]
  },
  {
   "cell_type": "code",
   "execution_count": null,
   "id": "369bde44-2e39-4bc6-8549-a3a27ecce55c",
   "metadata": {
    "tags": []
   },
   "outputs": [],
   "source": [
    "# Save the final model\n",
    "gpt.save(\"./models/gpt\")"
   ]
  },
  {
   "cell_type": "markdown",
   "id": "d64e02d2-84dc-40c8-8446-40c09adf1e20",
   "metadata": {},
   "source": [
    "# 3. Generate text using the Transformer"
   ]
  },
  {
   "cell_type": "code",
   "execution_count": 29,
   "id": "4ad23adb-3ec9-4e9a-9a59-b9f9bafca649",
   "metadata": {},
   "outputs": [],
   "source": [
    "def print_probs(info, vocab, top_k=5):\n",
    "    for i in info:\n",
    "        highlighted_text = []\n",
    "        for word, att_score in zip(\n",
    "            i[\"prompt\"].split(), np.mean(i[\"atts\"], axis=0)\n",
    "        ):\n",
    "            highlighted_text.append(\n",
    "                '<span style=\"background-color:rgba(135,206,250,'\n",
    "                + str(att_score / max(np.mean(i[\"atts\"], axis=0)))\n",
    "                + ');\">'\n",
    "                + word\n",
    "                + \"</span>\"\n",
    "            )\n",
    "        highlighted_text = \" \".join(highlighted_text)\n",
    "        display(HTML(highlighted_text))\n",
    "\n",
    "        word_probs = i[\"word_probs\"]\n",
    "        p_sorted = np.sort(word_probs)[::-1][:top_k]\n",
    "        i_sorted = np.argsort(word_probs)[::-1][:top_k]\n",
    "        for p, i in zip(p_sorted, i_sorted):\n",
    "            print(f\"{vocab[i]}:   \\t{np.round(100*p,2)}%\")\n",
    "        print(\"--------\\n\")"
   ]
  },
  {
   "cell_type": "code",
   "execution_count": 30,
   "id": "3cf25578-d47c-4b26-8252-fcdf2316a4ac",
   "metadata": {},
   "outputs": [
    {
     "name": "stdout",
     "output_type": "stream",
     "text": [
      "\n",
      "generated text:\n",
      "wine review : us : oregon : white blend : this pale pink sparkler has the integrated touches of spice and butter as well as a mixer of water . comes through the palate , which adds interest , and is a bit disjointed , with this penetrating bottle age over raw oysters . crab and bread crust make good for choice . \n",
      "\n"
     ]
    }
   ],
   "source": [
    "info = text_generator.generate(\n",
    "    \"wine review : us\", max_tokens=80, temperature=1.0\n",
    ")"
   ]
  },
  {
   "cell_type": "code",
   "execution_count": 31,
   "id": "4ae2da8e-9b7c-4b71-b37b-021115b3d7ea",
   "metadata": {},
   "outputs": [
    {
     "name": "stdout",
     "output_type": "stream",
     "text": [
      "\n",
      "generated text:\n",
      "wine review : italy : tuscany : sangiovese : there ' s a touch of band - aid on this wine , with a touch of cinnamon or cedar . the mouthfeel is quite nice . \n",
      "\n"
     ]
    }
   ],
   "source": [
    "info = text_generator.generate(\n",
    "    \"wine review : italy\", max_tokens=80, temperature=0.5\n",
    ")"
   ]
  },
  {
   "cell_type": "code",
   "execution_count": 32,
   "id": "5cae6d5d-263d-4455-b96c-f315cbe284ee",
   "metadata": {},
   "outputs": [
    {
     "name": "stdout",
     "output_type": "stream",
     "text": [
      "\n",
      "generated text:\n",
      "wine review : germany : mosel : riesling : [UNK] ' s [UNK] ' s [UNK] estate ' s [UNK] [UNK] ' s lineup of german riesling . this one is a showcase of honey and spice , with a touch of honey and saffron . it ' s lusciously sweet on the palate , but it ' s also elegantly structured , with gorgeous floral notes of honeysuckle and honey , but it ' s balanced by a lingering\n",
      "\n"
     ]
    },
    {
     "data": {
      "text/html": [
       "<span style=\"background-color:rgba(135,206,250,1.0);\">wine</span> <span style=\"background-color:rgba(135,206,250,0.85575926);\">review</span> <span style=\"background-color:rgba(135,206,250,0.22741632);\">:</span> <span style=\"background-color:rgba(135,206,250,0.13286245);\">germany</span>"
      ],
      "text/plain": [
       "<IPython.core.display.HTML object>"
      ]
     },
     "metadata": {},
     "output_type": "display_data"
    },
    {
     "name": "stdout",
     "output_type": "stream",
     "text": [
      "::   \t100.0%\n",
      "grosso:   \t0.0%\n",
      "-:   \t0.0%\n",
      "[UNK]:   \t0.0%\n",
      "zealand:   \t0.0%\n",
      "--------\n",
      "\n"
     ]
    },
    {
     "data": {
      "text/html": [
       "<span style=\"background-color:rgba(135,206,250,0.41354015);\">wine</span> <span style=\"background-color:rgba(135,206,250,0.33914128);\">review</span> <span style=\"background-color:rgba(135,206,250,0.26765063);\">:</span> <span style=\"background-color:rgba(135,206,250,1.0);\">germany</span> <span style=\"background-color:rgba(135,206,250,0.17159638);\">:</span>"
      ],
      "text/plain": [
       "<IPython.core.display.HTML object>"
      ]
     },
     "metadata": {},
     "output_type": "display_data"
    },
    {
     "name": "stdout",
     "output_type": "stream",
     "text": [
      "mosel:   \t88.75%\n",
      "rheingau:   \t4.79%\n",
      "rheinhessen:   \t3.78%\n",
      "nahe:   \t1.83%\n",
      "pfalz:   \t0.67%\n",
      "--------\n",
      "\n"
     ]
    },
    {
     "data": {
      "text/html": [
       "<span style=\"background-color:rgba(135,206,250,1.0);\">wine</span> <span style=\"background-color:rgba(135,206,250,0.7506202);\">review</span> <span style=\"background-color:rgba(135,206,250,0.44778323);\">:</span> <span style=\"background-color:rgba(135,206,250,0.350249);\">germany</span> <span style=\"background-color:rgba(135,206,250,0.39468175);\">:</span> <span style=\"background-color:rgba(135,206,250,0.2654246);\">mosel</span>"
      ],
      "text/plain": [
       "<IPython.core.display.HTML object>"
      ]
     },
     "metadata": {},
     "output_type": "display_data"
    },
    {
     "name": "stdout",
     "output_type": "stream",
     "text": [
      "::   \t99.78%\n",
      "-:   \t0.22%\n",
      "[UNK]:   \t0.0%\n",
      "grosso:   \t0.0%\n",
      "blanc:   \t0.0%\n",
      "--------\n",
      "\n"
     ]
    },
    {
     "data": {
      "text/html": [
       "<span style=\"background-color:rgba(135,206,250,0.48161748);\">wine</span> <span style=\"background-color:rgba(135,206,250,0.46836618);\">review</span> <span style=\"background-color:rgba(135,206,250,0.18332343);\">:</span> <span style=\"background-color:rgba(135,206,250,0.9035318);\">germany</span> <span style=\"background-color:rgba(135,206,250,0.13607644);\">:</span> <span style=\"background-color:rgba(135,206,250,1.0);\">mosel</span> <span style=\"background-color:rgba(135,206,250,0.18855955);\">:</span>"
      ],
      "text/plain": [
       "<IPython.core.display.HTML object>"
      ]
     },
     "metadata": {},
     "output_type": "display_data"
    },
    {
     "name": "stdout",
     "output_type": "stream",
     "text": [
      "riesling:   \t100.0%\n",
      "sparkling:   \t0.0%\n",
      "pinot:   \t0.0%\n",
      "gewürztraminer:   \t0.0%\n",
      "grüner:   \t0.0%\n",
      "--------\n",
      "\n"
     ]
    },
    {
     "data": {
      "text/html": [
       "<span style=\"background-color:rgba(135,206,250,0.9261304);\">wine</span> <span style=\"background-color:rgba(135,206,250,1.0);\">review</span> <span style=\"background-color:rgba(135,206,250,0.17624646);\">:</span> <span style=\"background-color:rgba(135,206,250,0.24403493);\">germany</span> <span style=\"background-color:rgba(135,206,250,0.22413403);\">:</span> <span style=\"background-color:rgba(135,206,250,0.19067673);\">mosel</span> <span style=\"background-color:rgba(135,206,250,0.3001998);\">:</span> <span style=\"background-color:rgba(135,206,250,0.11182802);\">riesling</span>"
      ],
      "text/plain": [
       "<IPython.core.display.HTML object>"
      ]
     },
     "metadata": {},
     "output_type": "display_data"
    },
    {
     "name": "stdout",
     "output_type": "stream",
     "text": [
      "::   \t100.0%\n",
      "-:   \t0.0%\n",
      ",:   \t0.0%\n",
      "blanc:   \t0.0%\n",
      "grosso:   \t0.0%\n",
      "--------\n",
      "\n"
     ]
    },
    {
     "data": {
      "text/html": [
       "<span style=\"background-color:rgba(135,206,250,0.7384356);\">wine</span> <span style=\"background-color:rgba(135,206,250,0.6241483);\">review</span> <span style=\"background-color:rgba(135,206,250,0.20918952);\">:</span> <span style=\"background-color:rgba(135,206,250,1.0);\">germany</span> <span style=\"background-color:rgba(135,206,250,0.17591943);\">:</span> <span style=\"background-color:rgba(135,206,250,0.62926877);\">mosel</span> <span style=\"background-color:rgba(135,206,250,0.34559438);\">:</span> <span style=\"background-color:rgba(135,206,250,0.5529291);\">riesling</span> <span style=\"background-color:rgba(135,206,250,0.41991538);\">:</span>"
      ],
      "text/plain": [
       "<IPython.core.display.HTML object>"
      ]
     },
     "metadata": {},
     "output_type": "display_data"
    },
    {
     "name": "stdout",
     "output_type": "stream",
     "text": [
      "while:   \t23.41%\n",
      "this:   \t21.48%\n",
      "whiffs:   \t14.66%\n",
      "a:   \t8.96%\n",
      "hints:   \t7.23%\n",
      "--------\n",
      "\n"
     ]
    },
    {
     "data": {
      "text/html": [
       "<span style=\"background-color:rgba(135,206,250,0.91769564);\">wine</span> <span style=\"background-color:rgba(135,206,250,1.0);\">review</span> <span style=\"background-color:rgba(135,206,250,0.13333882);\">:</span> <span style=\"background-color:rgba(135,206,250,0.26211697);\">germany</span> <span style=\"background-color:rgba(135,206,250,0.18765193);\">:</span> <span style=\"background-color:rgba(135,206,250,0.17504369);\">mosel</span> <span style=\"background-color:rgba(135,206,250,0.23422067);\">:</span> <span style=\"background-color:rgba(135,206,250,0.29243726);\">riesling</span> <span style=\"background-color:rgba(135,206,250,0.29796705);\">:</span> <span style=\"background-color:rgba(135,206,250,0.28956738);\">[UNK]</span>"
      ],
      "text/plain": [
       "<IPython.core.display.HTML object>"
      ]
     },
     "metadata": {},
     "output_type": "display_data"
    },
    {
     "name": "stdout",
     "output_type": "stream",
     "text": [
      "':   \t79.62%\n",
      "[UNK]:   \t13.23%\n",
      "is:   \t3.52%\n",
      "and:   \t1.57%\n",
      ",:   \t0.9%\n",
      "--------\n",
      "\n"
     ]
    },
    {
     "data": {
      "text/html": [
       "<span style=\"background-color:rgba(135,206,250,0.6269835);\">wine</span> <span style=\"background-color:rgba(135,206,250,0.55085295);\">review</span> <span style=\"background-color:rgba(135,206,250,0.19526587);\">:</span> <span style=\"background-color:rgba(135,206,250,0.16731578);\">germany</span> <span style=\"background-color:rgba(135,206,250,0.18077439);\">:</span> <span style=\"background-color:rgba(135,206,250,0.1987235);\">mosel</span> <span style=\"background-color:rgba(135,206,250,0.17349675);\">:</span> <span style=\"background-color:rgba(135,206,250,0.23215769);\">riesling</span> <span style=\"background-color:rgba(135,206,250,0.24220234);\">:</span> <span style=\"background-color:rgba(135,206,250,1.0);\">[UNK]</span> <span style=\"background-color:rgba(135,206,250,0.23967461);\">'</span>"
      ],
      "text/plain": [
       "<IPython.core.display.HTML object>"
      ]
     },
     "metadata": {},
     "output_type": "display_data"
    },
    {
     "name": "stdout",
     "output_type": "stream",
     "text": [
      "s:   \t100.0%\n",
      "[UNK]:   \t0.0%\n",
      "entry:   \t0.0%\n",
      "t:   \t0.0%\n",
      "06:   \t0.0%\n",
      "--------\n",
      "\n"
     ]
    },
    {
     "data": {
      "text/html": [
       "<span style=\"background-color:rgba(135,206,250,0.73382825);\">wine</span> <span style=\"background-color:rgba(135,206,250,0.7280784);\">review</span> <span style=\"background-color:rgba(135,206,250,0.18983997);\">:</span> <span style=\"background-color:rgba(135,206,250,0.36722642);\">germany</span> <span style=\"background-color:rgba(135,206,250,0.14823633);\">:</span> <span style=\"background-color:rgba(135,206,250,0.45168024);\">mosel</span> <span style=\"background-color:rgba(135,206,250,0.17475547);\">:</span> <span style=\"background-color:rgba(135,206,250,0.28577155);\">riesling</span> <span style=\"background-color:rgba(135,206,250,0.32700506);\">:</span> <span style=\"background-color:rgba(135,206,250,1.0);\">[UNK]</span> <span style=\"background-color:rgba(135,206,250,0.42293963);\">'</span> <span style=\"background-color:rgba(135,206,250,0.23633423);\">s</span>"
      ],
      "text/plain": [
       "<IPython.core.display.HTML object>"
      ]
     },
     "metadata": {},
     "output_type": "display_data"
    },
    {
     "name": "stdout",
     "output_type": "stream",
     "text": [
      "[UNK]:   \t69.64%\n",
      "entry:   \t15.03%\n",
      "riesling:   \t3.13%\n",
      "lineup:   \t1.67%\n",
      "standard:   \t1.05%\n",
      "--------\n",
      "\n"
     ]
    },
    {
     "data": {
      "text/html": [
       "<span style=\"background-color:rgba(135,206,250,0.75175726);\">wine</span> <span style=\"background-color:rgba(135,206,250,1.0);\">review</span> <span style=\"background-color:rgba(135,206,250,0.12756296);\">:</span> <span style=\"background-color:rgba(135,206,250,0.24696274);\">germany</span> <span style=\"background-color:rgba(135,206,250,0.17626888);\">:</span> <span style=\"background-color:rgba(135,206,250,0.2044968);\">mosel</span> <span style=\"background-color:rgba(135,206,250,0.17424266);\">:</span> <span style=\"background-color:rgba(135,206,250,0.27602914);\">riesling</span> <span style=\"background-color:rgba(135,206,250,0.23357983);\">:</span> <span style=\"background-color:rgba(135,206,250,0.21418352);\">[UNK]</span> <span style=\"background-color:rgba(135,206,250,0.31037095);\">'</span> <span style=\"background-color:rgba(135,206,250,0.38761136);\">s</span> <span style=\"background-color:rgba(135,206,250,0.36233783);\">[UNK]</span>"
      ],
      "text/plain": [
       "<IPython.core.display.HTML object>"
      ]
     },
     "metadata": {},
     "output_type": "display_data"
    },
    {
     "name": "stdout",
     "output_type": "stream",
     "text": [
      "':   \t67.3%\n",
      "is:   \t21.11%\n",
      "[UNK]:   \t9.2%\n",
      ",:   \t1.05%\n",
      "-:   \t0.34%\n",
      "--------\n",
      "\n"
     ]
    },
    {
     "data": {
      "text/html": [
       "<span style=\"background-color:rgba(135,206,250,0.44518355);\">wine</span> <span style=\"background-color:rgba(135,206,250,0.44405743);\">review</span> <span style=\"background-color:rgba(135,206,250,0.13191925);\">:</span> <span style=\"background-color:rgba(135,206,250,0.1491);\">germany</span> <span style=\"background-color:rgba(135,206,250,0.13843885);\">:</span> <span style=\"background-color:rgba(135,206,250,0.19842167);\">mosel</span> <span style=\"background-color:rgba(135,206,250,0.1306395);\">:</span> <span style=\"background-color:rgba(135,206,250,0.19383946);\">riesling</span> <span style=\"background-color:rgba(135,206,250,0.17635377);\">:</span> <span style=\"background-color:rgba(135,206,250,0.3801015);\">[UNK]</span> <span style=\"background-color:rgba(135,206,250,0.13509616);\">'</span> <span style=\"background-color:rgba(135,206,250,0.38166922);\">s</span> <span style=\"background-color:rgba(135,206,250,1.0);\">[UNK]</span> <span style=\"background-color:rgba(135,206,250,0.22334005);\">'</span>"
      ],
      "text/plain": [
       "<IPython.core.display.HTML object>"
      ]
     },
     "metadata": {},
     "output_type": "display_data"
    },
    {
     "name": "stdout",
     "output_type": "stream",
     "text": [
      "s:   \t99.25%\n",
      "[UNK]:   \t0.66%\n",
      "06:   \t0.04%\n",
      "entry:   \t0.02%\n",
      "label:   \t0.01%\n",
      "--------\n",
      "\n"
     ]
    },
    {
     "data": {
      "text/html": [
       "<span style=\"background-color:rgba(135,206,250,0.46749157);\">wine</span> <span style=\"background-color:rgba(135,206,250,0.5810511);\">review</span> <span style=\"background-color:rgba(135,206,250,0.15843612);\">:</span> <span style=\"background-color:rgba(135,206,250,0.3417627);\">germany</span> <span style=\"background-color:rgba(135,206,250,0.12588051);\">:</span> <span style=\"background-color:rgba(135,206,250,0.4026865);\">mosel</span> <span style=\"background-color:rgba(135,206,250,0.13352638);\">:</span> <span style=\"background-color:rgba(135,206,250,0.2851265);\">riesling</span> <span style=\"background-color:rgba(135,206,250,0.22306745);\">:</span> <span style=\"background-color:rgba(135,206,250,0.4617048);\">[UNK]</span> <span style=\"background-color:rgba(135,206,250,0.1844764);\">'</span> <span style=\"background-color:rgba(135,206,250,0.1316141);\">s</span> <span style=\"background-color:rgba(135,206,250,1.0);\">[UNK]</span> <span style=\"background-color:rgba(135,206,250,0.30574858);\">'</span> <span style=\"background-color:rgba(135,206,250,0.2278973);\">s</span>"
      ],
      "text/plain": [
       "<IPython.core.display.HTML object>"
      ]
     },
     "metadata": {},
     "output_type": "display_data"
    },
    {
     "name": "stdout",
     "output_type": "stream",
     "text": [
      "[UNK]:   \t52.1%\n",
      "lineup:   \t17.88%\n",
      "gg:   \t5.53%\n",
      "riesling:   \t4.14%\n",
      "entry:   \t3.84%\n",
      "--------\n",
      "\n"
     ]
    },
    {
     "data": {
      "text/html": [
       "<span style=\"background-color:rgba(135,206,250,0.60393983);\">wine</span> <span style=\"background-color:rgba(135,206,250,1.0);\">review</span> <span style=\"background-color:rgba(135,206,250,0.12703891);\">:</span> <span style=\"background-color:rgba(135,206,250,0.2800756);\">germany</span> <span style=\"background-color:rgba(135,206,250,0.17988989);\">:</span> <span style=\"background-color:rgba(135,206,250,0.22918808);\">mosel</span> <span style=\"background-color:rgba(135,206,250,0.16098438);\">:</span> <span style=\"background-color:rgba(135,206,250,0.34531984);\">riesling</span> <span style=\"background-color:rgba(135,206,250,0.20761323);\">:</span> <span style=\"background-color:rgba(135,206,250,0.17017922);\">[UNK]</span> <span style=\"background-color:rgba(135,206,250,0.18774804);\">'</span> <span style=\"background-color:rgba(135,206,250,0.2558545);\">s</span> <span style=\"background-color:rgba(135,206,250,0.22024381);\">[UNK]</span> <span style=\"background-color:rgba(135,206,250,0.34648508);\">'</span> <span style=\"background-color:rgba(135,206,250,0.5595958);\">s</span> <span style=\"background-color:rgba(135,206,250,0.41871977);\">[UNK]</span>"
      ],
      "text/plain": [
       "<IPython.core.display.HTML object>"
      ]
     },
     "metadata": {},
     "output_type": "display_data"
    },
    {
     "name": "stdout",
     "output_type": "stream",
     "text": [
      "':   \t46.29%\n",
      "is:   \t21.7%\n",
      "[UNK]:   \t15.14%\n",
      "bottling:   \t2.73%\n",
      ",:   \t2.53%\n",
      "--------\n",
      "\n"
     ]
    },
    {
     "data": {
      "text/html": [
       "<span style=\"background-color:rgba(135,206,250,0.42334044);\">wine</span> <span style=\"background-color:rgba(135,206,250,1.0);\">review</span> <span style=\"background-color:rgba(135,206,250,0.09100884);\">:</span> <span style=\"background-color:rgba(135,206,250,0.15805648);\">germany</span> <span style=\"background-color:rgba(135,206,250,0.12524198);\">:</span> <span style=\"background-color:rgba(135,206,250,0.1555854);\">mosel</span> <span style=\"background-color:rgba(135,206,250,0.11275529);\">:</span> <span style=\"background-color:rgba(135,206,250,0.20769598);\">riesling</span> <span style=\"background-color:rgba(135,206,250,0.16679952);\">:</span> <span style=\"background-color:rgba(135,206,250,0.13162085);\">[UNK]</span> <span style=\"background-color:rgba(135,206,250,0.12626755);\">'</span> <span style=\"background-color:rgba(135,206,250,0.120471165);\">s</span> <span style=\"background-color:rgba(135,206,250,0.19761558);\">[UNK]</span> <span style=\"background-color:rgba(135,206,250,0.20043641);\">'</span> <span style=\"background-color:rgba(135,206,250,0.1687289);\">s</span> <span style=\"background-color:rgba(135,206,250,0.46039385);\">[UNK]</span> <span style=\"background-color:rgba(135,206,250,0.2610216);\">estate</span>"
      ],
      "text/plain": [
       "<IPython.core.display.HTML object>"
      ]
     },
     "metadata": {},
     "output_type": "display_data"
    },
    {
     "name": "stdout",
     "output_type": "stream",
     "text": [
      "':   \t50.94%\n",
      ",:   \t15.0%\n",
      "is:   \t10.92%\n",
      "wine:   \t5.32%\n",
      "bottling:   \t4.95%\n",
      "--------\n",
      "\n"
     ]
    },
    {
     "data": {
      "text/html": [
       "<span style=\"background-color:rgba(135,206,250,0.25574282);\">wine</span> <span style=\"background-color:rgba(135,206,250,0.32639515);\">review</span> <span style=\"background-color:rgba(135,206,250,0.08761961);\">:</span> <span style=\"background-color:rgba(135,206,250,0.12243724);\">germany</span> <span style=\"background-color:rgba(135,206,250,0.090437055);\">:</span> <span style=\"background-color:rgba(135,206,250,0.14792855);\">mosel</span> <span style=\"background-color:rgba(135,206,250,0.08565035);\">:</span> <span style=\"background-color:rgba(135,206,250,0.15641733);\">riesling</span> <span style=\"background-color:rgba(135,206,250,0.11445747);\">:</span> <span style=\"background-color:rgba(135,206,250,0.1514528);\">[UNK]</span> <span style=\"background-color:rgba(135,206,250,0.0730508);\">'</span> <span style=\"background-color:rgba(135,206,250,0.08789957);\">s</span> <span style=\"background-color:rgba(135,206,250,0.18479106);\">[UNK]</span> <span style=\"background-color:rgba(135,206,250,0.06374081);\">'</span> <span style=\"background-color:rgba(135,206,250,0.164685);\">s</span> <span style=\"background-color:rgba(135,206,250,0.4502807);\">[UNK]</span> <span style=\"background-color:rgba(135,206,250,1.0);\">estate</span> <span style=\"background-color:rgba(135,206,250,0.12378081);\">'</span>"
      ],
      "text/plain": [
       "<IPython.core.display.HTML object>"
      ]
     },
     "metadata": {},
     "output_type": "display_data"
    },
    {
     "name": "stdout",
     "output_type": "stream",
     "text": [
      "s:   \t100.0%\n",
      "wildcat:   \t0.0%\n",
      "[UNK]:   \t0.0%\n",
      "shaw:   \t0.0%\n",
      "d:   \t0.0%\n",
      "--------\n",
      "\n"
     ]
    },
    {
     "data": {
      "text/html": [
       "<span style=\"background-color:rgba(135,206,250,0.39680952);\">wine</span> <span style=\"background-color:rgba(135,206,250,0.6724415);\">review</span> <span style=\"background-color:rgba(135,206,250,0.17852812);\">:</span> <span style=\"background-color:rgba(135,206,250,0.4183672);\">germany</span> <span style=\"background-color:rgba(135,206,250,0.14474921);\">:</span> <span style=\"background-color:rgba(135,206,250,0.46669838);\">mosel</span> <span style=\"background-color:rgba(135,206,250,0.13672529);\">:</span> <span style=\"background-color:rgba(135,206,250,0.36835605);\">riesling</span> <span style=\"background-color:rgba(135,206,250,0.21948867);\">:</span> <span style=\"background-color:rgba(135,206,250,0.31076473);\">[UNK]</span> <span style=\"background-color:rgba(135,206,250,0.13328943);\">'</span> <span style=\"background-color:rgba(135,206,250,0.10350152);\">s</span> <span style=\"background-color:rgba(135,206,250,0.42752817);\">[UNK]</span> <span style=\"background-color:rgba(135,206,250,0.14948934);\">'</span> <span style=\"background-color:rgba(135,206,250,0.12179468);\">s</span> <span style=\"background-color:rgba(135,206,250,0.84063625);\">[UNK]</span> <span style=\"background-color:rgba(135,206,250,1.0);\">estate</span> <span style=\"background-color:rgba(135,206,250,0.34679854);\">'</span> <span style=\"background-color:rgba(135,206,250,0.28443152);\">s</span>"
      ],
      "text/plain": [
       "<IPython.core.display.HTML object>"
      ]
     },
     "metadata": {},
     "output_type": "display_data"
    },
    {
     "name": "stdout",
     "output_type": "stream",
     "text": [
      "[UNK]:   \t51.02%\n",
      "gg:   \t19.8%\n",
      "lineup:   \t7.37%\n",
      "riesling:   \t3.7%\n",
      "consistently:   \t2.25%\n",
      "--------\n",
      "\n"
     ]
    },
    {
     "data": {
      "text/html": [
       "<span style=\"background-color:rgba(135,206,250,0.42052382);\">wine</span> <span style=\"background-color:rgba(135,206,250,1.0);\">review</span> <span style=\"background-color:rgba(135,206,250,0.148861);\">:</span> <span style=\"background-color:rgba(135,206,250,0.29867053);\">germany</span> <span style=\"background-color:rgba(135,206,250,0.2076476);\">:</span> <span style=\"background-color:rgba(135,206,250,0.22753197);\">mosel</span> <span style=\"background-color:rgba(135,206,250,0.1429866);\">:</span> <span style=\"background-color:rgba(135,206,250,0.34732333);\">riesling</span> <span style=\"background-color:rgba(135,206,250,0.18362525);\">:</span> <span style=\"background-color:rgba(135,206,250,0.13264304);\">[UNK]</span> <span style=\"background-color:rgba(135,206,250,0.10294878);\">'</span> <span style=\"background-color:rgba(135,206,250,0.16371892);\">s</span> <span style=\"background-color:rgba(135,206,250,0.13391286);\">[UNK]</span> <span style=\"background-color:rgba(135,206,250,0.12753227);\">'</span> <span style=\"background-color:rgba(135,206,250,0.24077186);\">s</span> <span style=\"background-color:rgba(135,206,250,0.19862098);\">[UNK]</span> <span style=\"background-color:rgba(135,206,250,0.53720915);\">estate</span> <span style=\"background-color:rgba(135,206,250,0.3264914);\">'</span> <span style=\"background-color:rgba(135,206,250,0.7216874);\">s</span> <span style=\"background-color:rgba(135,206,250,0.5183826);\">[UNK]</span>"
      ],
      "text/plain": [
       "<IPython.core.display.HTML object>"
      ]
     },
     "metadata": {},
     "output_type": "display_data"
    },
    {
     "name": "stdout",
     "output_type": "stream",
     "text": [
      "':   \t55.97%\n",
      "[UNK]:   \t16.23%\n",
      "is:   \t9.27%\n",
      ",:   \t6.82%\n",
      "bottling:   \t1.86%\n",
      "--------\n",
      "\n"
     ]
    },
    {
     "data": {
      "text/html": [
       "<span style=\"background-color:rgba(135,206,250,0.3696496);\">wine</span> <span style=\"background-color:rgba(135,206,250,1.0);\">review</span> <span style=\"background-color:rgba(135,206,250,0.14659265);\">:</span> <span style=\"background-color:rgba(135,206,250,0.28302476);\">germany</span> <span style=\"background-color:rgba(135,206,250,0.21299057);\">:</span> <span style=\"background-color:rgba(135,206,250,0.21529959);\">mosel</span> <span style=\"background-color:rgba(135,206,250,0.13280271);\">:</span> <span style=\"background-color:rgba(135,206,250,0.32971427);\">riesling</span> <span style=\"background-color:rgba(135,206,250,0.17001459);\">:</span> <span style=\"background-color:rgba(135,206,250,0.11665796);\">[UNK]</span> <span style=\"background-color:rgba(135,206,250,0.09017789);\">'</span> <span style=\"background-color:rgba(135,206,250,0.1533837);\">s</span> <span style=\"background-color:rgba(135,206,250,0.11453881);\">[UNK]</span> <span style=\"background-color:rgba(135,206,250,0.108360924);\">'</span> <span style=\"background-color:rgba(135,206,250,0.20761585);\">s</span> <span style=\"background-color:rgba(135,206,250,0.16056854);\">[UNK]</span> <span style=\"background-color:rgba(135,206,250,0.39846978);\">estate</span> <span style=\"background-color:rgba(135,206,250,0.2547338);\">'</span> <span style=\"background-color:rgba(135,206,250,0.5680389);\">s</span> <span style=\"background-color:rgba(135,206,250,0.39115644);\">[UNK]</span> <span style=\"background-color:rgba(135,206,250,0.54594946);\">[UNK]</span>"
      ],
      "text/plain": [
       "<IPython.core.display.HTML object>"
      ]
     },
     "metadata": {},
     "output_type": "display_data"
    },
    {
     "name": "stdout",
     "output_type": "stream",
     "text": [
      "':   \t56.06%\n",
      ",:   \t14.66%\n",
      "[UNK]:   \t12.01%\n",
      "is:   \t8.76%\n",
      ".:   \t2.31%\n",
      "--------\n",
      "\n"
     ]
    },
    {
     "data": {
      "text/html": [
       "<span style=\"background-color:rgba(135,206,250,0.23618822);\">wine</span> <span style=\"background-color:rgba(135,206,250,0.33239278);\">review</span> <span style=\"background-color:rgba(135,206,250,0.10014859);\">:</span> <span style=\"background-color:rgba(135,206,250,0.1447072);\">germany</span> <span style=\"background-color:rgba(135,206,250,0.09698271);\">:</span> <span style=\"background-color:rgba(135,206,250,0.16444226);\">mosel</span> <span style=\"background-color:rgba(135,206,250,0.08804929);\">:</span> <span style=\"background-color:rgba(135,206,250,0.18229483);\">riesling</span> <span style=\"background-color:rgba(135,206,250,0.11863078);\">:</span> <span style=\"background-color:rgba(135,206,250,0.1261518);\">[UNK]</span> <span style=\"background-color:rgba(135,206,250,0.06158991);\">'</span> <span style=\"background-color:rgba(135,206,250,0.06282219);\">s</span> <span style=\"background-color:rgba(135,206,250,0.1046029);\">[UNK]</span> <span style=\"background-color:rgba(135,206,250,0.04727226);\">'</span> <span style=\"background-color:rgba(135,206,250,0.07690624);\">s</span> <span style=\"background-color:rgba(135,206,250,0.16997549);\">[UNK]</span> <span style=\"background-color:rgba(135,206,250,0.2589036);\">estate</span> <span style=\"background-color:rgba(135,206,250,0.060596205);\">'</span> <span style=\"background-color:rgba(135,206,250,0.25628018);\">s</span> <span style=\"background-color:rgba(135,206,250,0.5985101);\">[UNK]</span> <span style=\"background-color:rgba(135,206,250,1.0);\">[UNK]</span> <span style=\"background-color:rgba(135,206,250,0.13523796);\">'</span>"
      ],
      "text/plain": [
       "<IPython.core.display.HTML object>"
      ]
     },
     "metadata": {},
     "output_type": "display_data"
    },
    {
     "name": "stdout",
     "output_type": "stream",
     "text": [
      "s:   \t99.52%\n",
      "[UNK]:   \t0.47%\n",
      "label:   \t0.0%\n",
      "lineup:   \t0.0%\n",
      "gg:   \t0.0%\n",
      "--------\n",
      "\n"
     ]
    },
    {
     "data": {
      "text/html": [
       "<span style=\"background-color:rgba(135,206,250,0.21303417);\">wine</span> <span style=\"background-color:rgba(135,206,250,0.41623682);\">review</span> <span style=\"background-color:rgba(135,206,250,0.17877907);\">:</span> <span style=\"background-color:rgba(135,206,250,0.3318405);\">germany</span> <span style=\"background-color:rgba(135,206,250,0.12438561);\">:</span> <span style=\"background-color:rgba(135,206,250,0.34160176);\">mosel</span> <span style=\"background-color:rgba(135,206,250,0.09051148);\">:</span> <span style=\"background-color:rgba(135,206,250,0.29732412);\">riesling</span> <span style=\"background-color:rgba(135,206,250,0.14124778);\">:</span> <span style=\"background-color:rgba(135,206,250,0.1619014);\">[UNK]</span> <span style=\"background-color:rgba(135,206,250,0.06640348);\">'</span> <span style=\"background-color:rgba(135,206,250,0.06716011);\">s</span> <span style=\"background-color:rgba(135,206,250,0.1617687);\">[UNK]</span> <span style=\"background-color:rgba(135,206,250,0.060298145);\">'</span> <span style=\"background-color:rgba(135,206,250,0.06456945);\">s</span> <span style=\"background-color:rgba(135,206,250,0.2450118);\">[UNK]</span> <span style=\"background-color:rgba(135,206,250,0.23966952);\">estate</span> <span style=\"background-color:rgba(135,206,250,0.08383245);\">'</span> <span style=\"background-color:rgba(135,206,250,0.099957496);\">s</span> <span style=\"background-color:rgba(135,206,250,0.6657913);\">[UNK]</span> <span style=\"background-color:rgba(135,206,250,1.0);\">[UNK]</span> <span style=\"background-color:rgba(135,206,250,0.20926484);\">'</span> <span style=\"background-color:rgba(135,206,250,0.25524583);\">s</span>"
      ],
      "text/plain": [
       "<IPython.core.display.HTML object>"
      ]
     },
     "metadata": {},
     "output_type": "display_data"
    },
    {
     "name": "stdout",
     "output_type": "stream",
     "text": [
      "[UNK]:   \t77.94%\n",
      "lineup:   \t5.49%\n",
      "gg:   \t1.97%\n",
      "riesling:   \t1.76%\n",
      "label:   \t1.52%\n",
      "--------\n",
      "\n"
     ]
    },
    {
     "data": {
      "text/html": [
       "<span style=\"background-color:rgba(135,206,250,0.36954954);\">wine</span> <span style=\"background-color:rgba(135,206,250,1.0);\">review</span> <span style=\"background-color:rgba(135,206,250,0.162641);\">:</span> <span style=\"background-color:rgba(135,206,250,0.09934346);\">germany</span> <span style=\"background-color:rgba(135,206,250,0.25647947);\">:</span> <span style=\"background-color:rgba(135,206,250,0.11542218);\">mosel</span> <span style=\"background-color:rgba(135,206,250,0.11662391);\">:</span> <span style=\"background-color:rgba(135,206,250,0.14677075);\">riesling</span> <span style=\"background-color:rgba(135,206,250,0.16742365);\">:</span> <span style=\"background-color:rgba(135,206,250,0.09944087);\">[UNK]</span> <span style=\"background-color:rgba(135,206,250,0.08384356);\">'</span> <span style=\"background-color:rgba(135,206,250,0.09100818);\">s</span> <span style=\"background-color:rgba(135,206,250,0.090420835);\">[UNK]</span> <span style=\"background-color:rgba(135,206,250,0.091449246);\">'</span> <span style=\"background-color:rgba(135,206,250,0.10702586);\">s</span> <span style=\"background-color:rgba(135,206,250,0.12545414);\">[UNK]</span> <span style=\"background-color:rgba(135,206,250,0.08645775);\">estate</span> <span style=\"background-color:rgba(135,206,250,0.15489972);\">'</span> <span style=\"background-color:rgba(135,206,250,0.20585908);\">s</span> <span style=\"background-color:rgba(135,206,250,0.2406233);\">[UNK]</span> <span style=\"background-color:rgba(135,206,250,0.31074226);\">[UNK]</span> <span style=\"background-color:rgba(135,206,250,0.43201107);\">'</span> <span style=\"background-color:rgba(135,206,250,0.59529567);\">s</span> <span style=\"background-color:rgba(135,206,250,0.23443085);\">lineup</span>"
      ],
      "text/plain": [
       "<IPython.core.display.HTML object>"
      ]
     },
     "metadata": {},
     "output_type": "display_data"
    },
    {
     "name": "stdout",
     "output_type": "stream",
     "text": [
      "of:   \t90.83%\n",
      ",:   \t6.82%\n",
      ".:   \t1.96%\n",
      "is:   \t0.26%\n",
      "from:   \t0.04%\n",
      "--------\n",
      "\n"
     ]
    },
    {
     "data": {
      "text/html": [
       "<span style=\"background-color:rgba(135,206,250,0.13748479);\">wine</span> <span style=\"background-color:rgba(135,206,250,0.2310643);\">review</span> <span style=\"background-color:rgba(135,206,250,0.11659286);\">:</span> <span style=\"background-color:rgba(135,206,250,0.22457738);\">germany</span> <span style=\"background-color:rgba(135,206,250,0.084555544);\">:</span> <span style=\"background-color:rgba(135,206,250,0.24872081);\">mosel</span> <span style=\"background-color:rgba(135,206,250,0.05636196);\">:</span> <span style=\"background-color:rgba(135,206,250,0.3280228);\">riesling</span> <span style=\"background-color:rgba(135,206,250,0.075128496);\">:</span> <span style=\"background-color:rgba(135,206,250,0.078149386);\">[UNK]</span> <span style=\"background-color:rgba(135,206,250,0.0349515);\">'</span> <span style=\"background-color:rgba(135,206,250,0.049522243);\">s</span> <span style=\"background-color:rgba(135,206,250,0.060517665);\">[UNK]</span> <span style=\"background-color:rgba(135,206,250,0.028890368);\">'</span> <span style=\"background-color:rgba(135,206,250,0.050039727);\">s</span> <span style=\"background-color:rgba(135,206,250,0.07215273);\">[UNK]</span> <span style=\"background-color:rgba(135,206,250,0.09998);\">estate</span> <span style=\"background-color:rgba(135,206,250,0.034046523);\">'</span> <span style=\"background-color:rgba(135,206,250,0.095757775);\">s</span> <span style=\"background-color:rgba(135,206,250,0.15295513);\">[UNK]</span> <span style=\"background-color:rgba(135,206,250,0.21615295);\">[UNK]</span> <span style=\"background-color:rgba(135,206,250,0.066431224);\">'</span> <span style=\"background-color:rgba(135,206,250,0.29948652);\">s</span> <span style=\"background-color:rgba(135,206,250,1.0);\">lineup</span> <span style=\"background-color:rgba(135,206,250,0.1971914);\">of</span>"
      ],
      "text/plain": [
       "<IPython.core.display.HTML object>"
      ]
     },
     "metadata": {},
     "output_type": "display_data"
    },
    {
     "name": "stdout",
     "output_type": "stream",
     "text": [
      "[UNK]:   \t57.3%\n",
      "riesling:   \t13.47%\n",
      "wines:   \t7.69%\n",
      "gg:   \t7.06%\n",
      "2014:   \t3.79%\n",
      "--------\n",
      "\n"
     ]
    },
    {
     "data": {
      "text/html": [
       "<span style=\"background-color:rgba(135,206,250,0.30250168);\">wine</span> <span style=\"background-color:rgba(135,206,250,0.52865374);\">review</span> <span style=\"background-color:rgba(135,206,250,0.119177565);\">:</span> <span style=\"background-color:rgba(135,206,250,0.15450922);\">germany</span> <span style=\"background-color:rgba(135,206,250,0.12400659);\">:</span> <span style=\"background-color:rgba(135,206,250,0.295668);\">mosel</span> <span style=\"background-color:rgba(135,206,250,0.091551065);\">:</span> <span style=\"background-color:rgba(135,206,250,0.50592774);\">riesling</span> <span style=\"background-color:rgba(135,206,250,0.15187348);\">:</span> <span style=\"background-color:rgba(135,206,250,0.12222085);\">[UNK]</span> <span style=\"background-color:rgba(135,206,250,0.061539542);\">'</span> <span style=\"background-color:rgba(135,206,250,0.048266426);\">s</span> <span style=\"background-color:rgba(135,206,250,0.057958327);\">[UNK]</span> <span style=\"background-color:rgba(135,206,250,0.04229434);\">'</span> <span style=\"background-color:rgba(135,206,250,0.050925);\">s</span> <span style=\"background-color:rgba(135,206,250,0.07347883);\">[UNK]</span> <span style=\"background-color:rgba(135,206,250,0.08118368);\">estate</span> <span style=\"background-color:rgba(135,206,250,0.06345514);\">'</span> <span style=\"background-color:rgba(135,206,250,0.101724856);\">s</span> <span style=\"background-color:rgba(135,206,250,0.15204997);\">[UNK]</span> <span style=\"background-color:rgba(135,206,250,0.20574364);\">[UNK]</span> <span style=\"background-color:rgba(135,206,250,0.13934341);\">'</span> <span style=\"background-color:rgba(135,206,250,0.28350228);\">s</span> <span style=\"background-color:rgba(135,206,250,1.0);\">lineup</span> <span style=\"background-color:rgba(135,206,250,0.65819484);\">of</span> <span style=\"background-color:rgba(135,206,250,0.3697008);\">german</span>"
      ],
      "text/plain": [
       "<IPython.core.display.HTML object>"
      ]
     },
     "metadata": {},
     "output_type": "display_data"
    },
    {
     "name": "stdout",
     "output_type": "stream",
     "text": [
      "riesling:   \t99.26%\n",
      "wines:   \t0.56%\n",
      "[UNK]:   \t0.04%\n",
      "kabinett:   \t0.04%\n",
      "rieslings:   \t0.02%\n",
      "--------\n",
      "\n"
     ]
    },
    {
     "data": {
      "text/html": [
       "<span style=\"background-color:rgba(135,206,250,0.3261324);\">wine</span> <span style=\"background-color:rgba(135,206,250,1.0);\">review</span> <span style=\"background-color:rgba(135,206,250,0.2363681);\">:</span> <span style=\"background-color:rgba(135,206,250,0.32640362);\">germany</span> <span style=\"background-color:rgba(135,206,250,0.261205);\">:</span> <span style=\"background-color:rgba(135,206,250,0.21813586);\">mosel</span> <span style=\"background-color:rgba(135,206,250,0.16395153);\">:</span> <span style=\"background-color:rgba(135,206,250,0.19830327);\">riesling</span> <span style=\"background-color:rgba(135,206,250,0.19942084);\">:</span> <span style=\"background-color:rgba(135,206,250,0.16583657);\">[UNK]</span> <span style=\"background-color:rgba(135,206,250,0.09307521);\">'</span> <span style=\"background-color:rgba(135,206,250,0.1377796);\">s</span> <span style=\"background-color:rgba(135,206,250,0.14490463);\">[UNK]</span> <span style=\"background-color:rgba(135,206,250,0.088116355);\">'</span> <span style=\"background-color:rgba(135,206,250,0.14229631);\">s</span> <span style=\"background-color:rgba(135,206,250,0.16781902);\">[UNK]</span> <span style=\"background-color:rgba(135,206,250,0.1450762);\">estate</span> <span style=\"background-color:rgba(135,206,250,0.12366793);\">'</span> <span style=\"background-color:rgba(135,206,250,0.20371775);\">s</span> <span style=\"background-color:rgba(135,206,250,0.25615442);\">[UNK]</span> <span style=\"background-color:rgba(135,206,250,0.3025097);\">[UNK]</span> <span style=\"background-color:rgba(135,206,250,0.24010752);\">'</span> <span style=\"background-color:rgba(135,206,250,0.43758017);\">s</span> <span style=\"background-color:rgba(135,206,250,0.778788);\">lineup</span> <span style=\"background-color:rgba(135,206,250,0.8329118);\">of</span> <span style=\"background-color:rgba(135,206,250,0.68148345);\">german</span> <span style=\"background-color:rgba(135,206,250,0.35409918);\">riesling</span>"
      ],
      "text/plain": [
       "<IPython.core.display.HTML object>"
      ]
     },
     "metadata": {},
     "output_type": "display_data"
    },
    {
     "name": "stdout",
     "output_type": "stream",
     "text": [
      ",:   \t55.82%\n",
      ".:   \t34.57%\n",
      "producers:   \t4.37%\n",
      "and:   \t1.8%\n",
      "lineup:   \t1.53%\n",
      "--------\n",
      "\n"
     ]
    },
    {
     "data": {
      "text/html": [
       "<span style=\"background-color:rgba(135,206,250,0.32670683);\">wine</span> <span style=\"background-color:rgba(135,206,250,1.0);\">review</span> <span style=\"background-color:rgba(135,206,250,0.3847956);\">:</span> <span style=\"background-color:rgba(135,206,250,0.7202019);\">germany</span> <span style=\"background-color:rgba(135,206,250,0.46520448);\">:</span> <span style=\"background-color:rgba(135,206,250,0.9049052);\">mosel</span> <span style=\"background-color:rgba(135,206,250,0.3739946);\">:</span> <span style=\"background-color:rgba(135,206,250,0.60500795);\">riesling</span> <span style=\"background-color:rgba(135,206,250,0.3090097);\">:</span> <span style=\"background-color:rgba(135,206,250,0.22801319);\">[UNK]</span> <span style=\"background-color:rgba(135,206,250,0.06340089);\">'</span> <span style=\"background-color:rgba(135,206,250,0.15210378);\">s</span> <span style=\"background-color:rgba(135,206,250,0.20312063);\">[UNK]</span> <span style=\"background-color:rgba(135,206,250,0.05499744);\">'</span> <span style=\"background-color:rgba(135,206,250,0.1334609);\">s</span> <span style=\"background-color:rgba(135,206,250,0.19538009);\">[UNK]</span> <span style=\"background-color:rgba(135,206,250,0.22572756);\">estate</span> <span style=\"background-color:rgba(135,206,250,0.05914616);\">'</span> <span style=\"background-color:rgba(135,206,250,0.15382546);\">s</span> <span style=\"background-color:rgba(135,206,250,0.2262757);\">[UNK]</span> <span style=\"background-color:rgba(135,206,250,0.26071456);\">[UNK]</span> <span style=\"background-color:rgba(135,206,250,0.07659996);\">'</span> <span style=\"background-color:rgba(135,206,250,0.21612917);\">s</span> <span style=\"background-color:rgba(135,206,250,0.6063089);\">lineup</span> <span style=\"background-color:rgba(135,206,250,0.2592316);\">of</span> <span style=\"background-color:rgba(135,206,250,0.34480855);\">german</span> <span style=\"background-color:rgba(135,206,250,0.6142026);\">riesling</span> <span style=\"background-color:rgba(135,206,250,0.8178978);\">.</span>"
      ],
      "text/plain": [
       "<IPython.core.display.HTML object>"
      ]
     },
     "metadata": {},
     "output_type": "display_data"
    },
    {
     "name": "stdout",
     "output_type": "stream",
     "text": [
      "it:   \t68.19%\n",
      "this:   \t22.65%\n",
      "the:   \t5.32%\n",
      "dry:   \t0.58%\n",
      "a:   \t0.42%\n",
      "--------\n",
      "\n"
     ]
    },
    {
     "data": {
      "text/html": [
       "<span style=\"background-color:rgba(135,206,250,0.080697045);\">wine</span> <span style=\"background-color:rgba(135,206,250,0.14876159);\">review</span> <span style=\"background-color:rgba(135,206,250,0.2242588);\">:</span> <span style=\"background-color:rgba(135,206,250,0.24175055);\">germany</span> <span style=\"background-color:rgba(135,206,250,0.11388664);\">:</span> <span style=\"background-color:rgba(135,206,250,0.26918367);\">mosel</span> <span style=\"background-color:rgba(135,206,250,0.04238262);\">:</span> <span style=\"background-color:rgba(135,206,250,0.2458232);\">riesling</span> <span style=\"background-color:rgba(135,206,250,0.0642535);\">:</span> <span style=\"background-color:rgba(135,206,250,0.0725388);\">[UNK]</span> <span style=\"background-color:rgba(135,206,250,0.02464158);\">'</span> <span style=\"background-color:rgba(135,206,250,0.041175466);\">s</span> <span style=\"background-color:rgba(135,206,250,0.042985886);\">[UNK]</span> <span style=\"background-color:rgba(135,206,250,0.017768748);\">'</span> <span style=\"background-color:rgba(135,206,250,0.03466097);\">s</span> <span style=\"background-color:rgba(135,206,250,0.042892803);\">[UNK]</span> <span style=\"background-color:rgba(135,206,250,0.045356803);\">estate</span> <span style=\"background-color:rgba(135,206,250,0.017882768);\">'</span> <span style=\"background-color:rgba(135,206,250,0.040397044);\">s</span> <span style=\"background-color:rgba(135,206,250,0.054935686);\">[UNK]</span> <span style=\"background-color:rgba(135,206,250,0.061579242);\">[UNK]</span> <span style=\"background-color:rgba(135,206,250,0.023150353);\">'</span> <span style=\"background-color:rgba(135,206,250,0.064986296);\">s</span> <span style=\"background-color:rgba(135,206,250,0.15048365);\">lineup</span> <span style=\"background-color:rgba(135,206,250,0.09525951);\">of</span> <span style=\"background-color:rgba(135,206,250,0.27846187);\">german</span> <span style=\"background-color:rgba(135,206,250,0.22725604);\">riesling</span> <span style=\"background-color:rgba(135,206,250,1.0);\">.</span> <span style=\"background-color:rgba(135,206,250,0.23364687);\">this</span>"
      ],
      "text/plain": [
       "<IPython.core.display.HTML object>"
      ]
     },
     "metadata": {},
     "output_type": "display_data"
    },
    {
     "name": "stdout",
     "output_type": "stream",
     "text": [
      "is:   \t71.2%\n",
      "one:   \t8.99%\n",
      "wine:   \t7.99%\n",
      "dry:   \t2.88%\n",
      "late:   \t0.91%\n",
      "--------\n",
      "\n"
     ]
    },
    {
     "data": {
      "text/html": [
       "<span style=\"background-color:rgba(135,206,250,0.16325627);\">wine</span> <span style=\"background-color:rgba(135,206,250,0.38651156);\">review</span> <span style=\"background-color:rgba(135,206,250,0.18724947);\">:</span> <span style=\"background-color:rgba(135,206,250,0.11035334);\">germany</span> <span style=\"background-color:rgba(135,206,250,0.1472766);\">:</span> <span style=\"background-color:rgba(135,206,250,0.12040654);\">mosel</span> <span style=\"background-color:rgba(135,206,250,0.05331471);\">:</span> <span style=\"background-color:rgba(135,206,250,0.07924442);\">riesling</span> <span style=\"background-color:rgba(135,206,250,0.06482101);\">:</span> <span style=\"background-color:rgba(135,206,250,0.04521997);\">[UNK]</span> <span style=\"background-color:rgba(135,206,250,0.029641544);\">'</span> <span style=\"background-color:rgba(135,206,250,0.043804154);\">s</span> <span style=\"background-color:rgba(135,206,250,0.03927629);\">[UNK]</span> <span style=\"background-color:rgba(135,206,250,0.027690502);\">'</span> <span style=\"background-color:rgba(135,206,250,0.048143398);\">s</span> <span style=\"background-color:rgba(135,206,250,0.046796504);\">[UNK]</span> <span style=\"background-color:rgba(135,206,250,0.038625017);\">estate</span> <span style=\"background-color:rgba(135,206,250,0.029419249);\">'</span> <span style=\"background-color:rgba(135,206,250,0.05851303);\">s</span> <span style=\"background-color:rgba(135,206,250,0.053477854);\">[UNK]</span> <span style=\"background-color:rgba(135,206,250,0.062787645);\">[UNK]</span> <span style=\"background-color:rgba(135,206,250,0.03827913);\">'</span> <span style=\"background-color:rgba(135,206,250,0.09572225);\">s</span> <span style=\"background-color:rgba(135,206,250,0.12669109);\">lineup</span> <span style=\"background-color:rgba(135,206,250,0.12910873);\">of</span> <span style=\"background-color:rgba(135,206,250,0.16876958);\">german</span> <span style=\"background-color:rgba(135,206,250,0.18786328);\">riesling</span> <span style=\"background-color:rgba(135,206,250,1.0);\">.</span> <span style=\"background-color:rgba(135,206,250,0.7297703);\">this</span> <span style=\"background-color:rgba(135,206,250,0.15828368);\">one</span>"
      ],
      "text/plain": [
       "<IPython.core.display.HTML object>"
      ]
     },
     "metadata": {},
     "output_type": "display_data"
    },
    {
     "name": "stdout",
     "output_type": "stream",
     "text": [
      "':   \t53.74%\n",
      "is:   \t38.45%\n",
      "-:   \t2.28%\n",
      "has:   \t1.87%\n",
      "offers:   \t1.27%\n",
      "--------\n",
      "\n"
     ]
    },
    {
     "data": {
      "text/html": [
       "<span style=\"background-color:rgba(135,206,250,0.15053982);\">wine</span> <span style=\"background-color:rgba(135,206,250,0.29778966);\">review</span> <span style=\"background-color:rgba(135,206,250,0.5024044);\">:</span> <span style=\"background-color:rgba(135,206,250,0.4321672);\">germany</span> <span style=\"background-color:rgba(135,206,250,0.23806164);\">:</span> <span style=\"background-color:rgba(135,206,250,0.4141832);\">mosel</span> <span style=\"background-color:rgba(135,206,250,0.0814738);\">:</span> <span style=\"background-color:rgba(135,206,250,0.2763277);\">riesling</span> <span style=\"background-color:rgba(135,206,250,0.12154919);\">:</span> <span style=\"background-color:rgba(135,206,250,0.0842757);\">[UNK]</span> <span style=\"background-color:rgba(135,206,250,0.04500261);\">'</span> <span style=\"background-color:rgba(135,206,250,0.060955197);\">s</span> <span style=\"background-color:rgba(135,206,250,0.07280416);\">[UNK]</span> <span style=\"background-color:rgba(135,206,250,0.04159633);\">'</span> <span style=\"background-color:rgba(135,206,250,0.055955593);\">s</span> <span style=\"background-color:rgba(135,206,250,0.074301876);\">[UNK]</span> <span style=\"background-color:rgba(135,206,250,0.09375143);\">estate</span> <span style=\"background-color:rgba(135,206,250,0.039338816);\">'</span> <span style=\"background-color:rgba(135,206,250,0.05982269);\">s</span> <span style=\"background-color:rgba(135,206,250,0.081277795);\">[UNK]</span> <span style=\"background-color:rgba(135,206,250,0.09275543);\">[UNK]</span> <span style=\"background-color:rgba(135,206,250,0.043961633);\">'</span> <span style=\"background-color:rgba(135,206,250,0.06955771);\">s</span> <span style=\"background-color:rgba(135,206,250,0.31552452);\">lineup</span> <span style=\"background-color:rgba(135,206,250,0.12281332);\">of</span> <span style=\"background-color:rgba(135,206,250,0.23720333);\">german</span> <span style=\"background-color:rgba(135,206,250,0.3310394);\">riesling</span> <span style=\"background-color:rgba(135,206,250,1.0);\">.</span> <span style=\"background-color:rgba(135,206,250,0.7000486);\">this</span> <span style=\"background-color:rgba(135,206,250,0.93733);\">one</span> <span style=\"background-color:rgba(135,206,250,0.41335186);\">is</span>"
      ],
      "text/plain": [
       "<IPython.core.display.HTML object>"
      ]
     },
     "metadata": {},
     "output_type": "display_data"
    },
    {
     "name": "stdout",
     "output_type": "stream",
     "text": [
      "a:   \t87.37%\n",
      "the:   \t5.29%\n",
      "an:   \t2.62%\n",
      "one:   \t0.84%\n",
      "remarkably:   \t0.66%\n",
      "--------\n",
      "\n"
     ]
    },
    {
     "data": {
      "text/html": [
       "<span style=\"background-color:rgba(135,206,250,0.12643306);\">wine</span> <span style=\"background-color:rgba(135,206,250,0.23802616);\">review</span> <span style=\"background-color:rgba(135,206,250,0.1293124);\">:</span> <span style=\"background-color:rgba(135,206,250,0.44835532);\">germany</span> <span style=\"background-color:rgba(135,206,250,0.0780082);\">:</span> <span style=\"background-color:rgba(135,206,250,0.31822255);\">mosel</span> <span style=\"background-color:rgba(135,206,250,0.05406504);\">:</span> <span style=\"background-color:rgba(135,206,250,0.28238982);\">riesling</span> <span style=\"background-color:rgba(135,206,250,0.077022515);\">:</span> <span style=\"background-color:rgba(135,206,250,0.08015644);\">[UNK]</span> <span style=\"background-color:rgba(135,206,250,0.02847501);\">'</span> <span style=\"background-color:rgba(135,206,250,0.060021993);\">s</span> <span style=\"background-color:rgba(135,206,250,0.066760845);\">[UNK]</span> <span style=\"background-color:rgba(135,206,250,0.025437692);\">'</span> <span style=\"background-color:rgba(135,206,250,0.055397198);\">s</span> <span style=\"background-color:rgba(135,206,250,0.06751428);\">[UNK]</span> <span style=\"background-color:rgba(135,206,250,0.0936939);\">estate</span> <span style=\"background-color:rgba(135,206,250,0.025226323);\">'</span> <span style=\"background-color:rgba(135,206,250,0.0620835);\">s</span> <span style=\"background-color:rgba(135,206,250,0.078282155);\">[UNK]</span> <span style=\"background-color:rgba(135,206,250,0.08811025);\">[UNK]</span> <span style=\"background-color:rgba(135,206,250,0.029989751);\">'</span> <span style=\"background-color:rgba(135,206,250,0.0827248);\">s</span> <span style=\"background-color:rgba(135,206,250,0.23397458);\">lineup</span> <span style=\"background-color:rgba(135,206,250,0.11736867);\">of</span> <span style=\"background-color:rgba(135,206,250,0.26426402);\">german</span> <span style=\"background-color:rgba(135,206,250,0.30443406);\">riesling</span> <span style=\"background-color:rgba(135,206,250,1.0);\">.</span> <span style=\"background-color:rgba(135,206,250,0.5443572);\">this</span> <span style=\"background-color:rgba(135,206,250,0.7055374);\">one</span> <span style=\"background-color:rgba(135,206,250,0.94661766);\">is</span> <span style=\"background-color:rgba(135,206,250,0.2866077);\">a</span>"
      ],
      "text/plain": [
       "<IPython.core.display.HTML object>"
      ]
     },
     "metadata": {},
     "output_type": "display_data"
    },
    {
     "name": "stdout",
     "output_type": "stream",
     "text": [
      "standout:   \t15.44%\n",
      "bit:   \t14.33%\n",
      "showcase:   \t10.2%\n",
      "stunning:   \t5.86%\n",
      "great:   \t4.99%\n",
      "--------\n",
      "\n"
     ]
    },
    {
     "data": {
      "text/html": [
       "<span style=\"background-color:rgba(135,206,250,0.29164514);\">wine</span> <span style=\"background-color:rgba(135,206,250,0.73215926);\">review</span> <span style=\"background-color:rgba(135,206,250,0.39935073);\">:</span> <span style=\"background-color:rgba(135,206,250,0.2858709);\">germany</span> <span style=\"background-color:rgba(135,206,250,0.3543525);\">:</span> <span style=\"background-color:rgba(135,206,250,0.30341583);\">mosel</span> <span style=\"background-color:rgba(135,206,250,0.113772444);\">:</span> <span style=\"background-color:rgba(135,206,250,0.3644723);\">riesling</span> <span style=\"background-color:rgba(135,206,250,0.14749007);\">:</span> <span style=\"background-color:rgba(135,206,250,0.08856509);\">[UNK]</span> <span style=\"background-color:rgba(135,206,250,0.060035907);\">'</span> <span style=\"background-color:rgba(135,206,250,0.08701995);\">s</span> <span style=\"background-color:rgba(135,206,250,0.061050992);\">[UNK]</span> <span style=\"background-color:rgba(135,206,250,0.048959058);\">'</span> <span style=\"background-color:rgba(135,206,250,0.08234801);\">s</span> <span style=\"background-color:rgba(135,206,250,0.06564223);\">[UNK]</span> <span style=\"background-color:rgba(135,206,250,0.05391855);\">estate</span> <span style=\"background-color:rgba(135,206,250,0.052208554);\">'</span> <span style=\"background-color:rgba(135,206,250,0.10173179);\">s</span> <span style=\"background-color:rgba(135,206,250,0.074601635);\">[UNK]</span> <span style=\"background-color:rgba(135,206,250,0.08114617);\">[UNK]</span> <span style=\"background-color:rgba(135,206,250,0.0655262);\">'</span> <span style=\"background-color:rgba(135,206,250,0.13966522);\">s</span> <span style=\"background-color:rgba(135,206,250,0.16779512);\">lineup</span> <span style=\"background-color:rgba(135,206,250,0.17930263);\">of</span> <span style=\"background-color:rgba(135,206,250,0.18127541);\">german</span> <span style=\"background-color:rgba(135,206,250,0.34469396);\">riesling</span> <span style=\"background-color:rgba(135,206,250,0.91820675);\">.</span> <span style=\"background-color:rgba(135,206,250,0.59106237);\">this</span> <span style=\"background-color:rgba(135,206,250,0.4067445);\">one</span> <span style=\"background-color:rgba(135,206,250,0.9490108);\">is</span> <span style=\"background-color:rgba(135,206,250,1.0);\">a</span> <span style=\"background-color:rgba(135,206,250,0.88107914);\">showcase</span>"
      ],
      "text/plain": [
       "<IPython.core.display.HTML object>"
      ]
     },
     "metadata": {},
     "output_type": "display_data"
    },
    {
     "name": "stdout",
     "output_type": "stream",
     "text": [
      "of:   \t98.24%\n",
      "for:   \t1.74%\n",
      "from:   \t0.0%\n",
      "that:   \t0.0%\n",
      "the:   \t0.0%\n",
      "--------\n",
      "\n"
     ]
    },
    {
     "data": {
      "text/html": [
       "<span style=\"background-color:rgba(135,206,250,0.0634014);\">wine</span> <span style=\"background-color:rgba(135,206,250,0.1181771);\">review</span> <span style=\"background-color:rgba(135,206,250,0.068692714);\">:</span> <span style=\"background-color:rgba(135,206,250,0.17271875);\">germany</span> <span style=\"background-color:rgba(135,206,250,0.03673815);\">:</span> <span style=\"background-color:rgba(135,206,250,0.17079128);\">mosel</span> <span style=\"background-color:rgba(135,206,250,0.028351862);\">:</span> <span style=\"background-color:rgba(135,206,250,0.24087937);\">riesling</span> <span style=\"background-color:rgba(135,206,250,0.041563176);\">:</span> <span style=\"background-color:rgba(135,206,250,0.03731016);\">[UNK]</span> <span style=\"background-color:rgba(135,206,250,0.016647166);\">'</span> <span style=\"background-color:rgba(135,206,250,0.027219234);\">s</span> <span style=\"background-color:rgba(135,206,250,0.02345724);\">[UNK]</span> <span style=\"background-color:rgba(135,206,250,0.012902323);\">'</span> <span style=\"background-color:rgba(135,206,250,0.024242098);\">s</span> <span style=\"background-color:rgba(135,206,250,0.023432447);\">[UNK]</span> <span style=\"background-color:rgba(135,206,250,0.026958391);\">estate</span> <span style=\"background-color:rgba(135,206,250,0.012942463);\">'</span> <span style=\"background-color:rgba(135,206,250,0.028576536);\">s</span> <span style=\"background-color:rgba(135,206,250,0.028237158);\">[UNK]</span> <span style=\"background-color:rgba(135,206,250,0.029661046);\">[UNK]</span> <span style=\"background-color:rgba(135,206,250,0.015146972);\">'</span> <span style=\"background-color:rgba(135,206,250,0.03435308);\">s</span> <span style=\"background-color:rgba(135,206,250,0.06491718);\">lineup</span> <span style=\"background-color:rgba(135,206,250,0.025651187);\">of</span> <span style=\"background-color:rgba(135,206,250,0.10674836);\">german</span> <span style=\"background-color:rgba(135,206,250,0.11403103);\">riesling</span> <span style=\"background-color:rgba(135,206,250,0.19423246);\">.</span> <span style=\"background-color:rgba(135,206,250,0.1411941);\">this</span> <span style=\"background-color:rgba(135,206,250,0.14043249);\">one</span> <span style=\"background-color:rgba(135,206,250,0.17553309);\">is</span> <span style=\"background-color:rgba(135,206,250,0.18784429);\">a</span> <span style=\"background-color:rgba(135,206,250,1.0);\">showcase</span> <span style=\"background-color:rgba(135,206,250,0.11460018);\">of</span>"
      ],
      "text/plain": [
       "<IPython.core.display.HTML object>"
      ]
     },
     "metadata": {},
     "output_type": "display_data"
    },
    {
     "name": "stdout",
     "output_type": "stream",
     "text": [
      "the:   \t46.25%\n",
      "minerality:   \t27.37%\n",
      "a:   \t2.9%\n",
      "mineral:   \t2.56%\n",
      "honeyed:   \t2.15%\n",
      "--------\n",
      "\n"
     ]
    },
    {
     "data": {
      "text/html": [
       "<span style=\"background-color:rgba(135,206,250,0.08053526);\">wine</span> <span style=\"background-color:rgba(135,206,250,0.29595414);\">review</span> <span style=\"background-color:rgba(135,206,250,0.15568954);\">:</span> <span style=\"background-color:rgba(135,206,250,0.39059627);\">germany</span> <span style=\"background-color:rgba(135,206,250,0.13333407);\">:</span> <span style=\"background-color:rgba(135,206,250,0.12303829);\">mosel</span> <span style=\"background-color:rgba(135,206,250,0.062424745);\">:</span> <span style=\"background-color:rgba(135,206,250,0.09962805);\">riesling</span> <span style=\"background-color:rgba(135,206,250,0.061769057);\">:</span> <span style=\"background-color:rgba(135,206,250,0.04210598);\">[UNK]</span> <span style=\"background-color:rgba(135,206,250,0.017677821);\">'</span> <span style=\"background-color:rgba(135,206,250,0.0661513);\">s</span> <span style=\"background-color:rgba(135,206,250,0.043541677);\">[UNK]</span> <span style=\"background-color:rgba(135,206,250,0.017056217);\">'</span> <span style=\"background-color:rgba(135,206,250,0.060796566);\">s</span> <span style=\"background-color:rgba(135,206,250,0.044803847);\">[UNK]</span> <span style=\"background-color:rgba(135,206,250,0.071965046);\">estate</span> <span style=\"background-color:rgba(135,206,250,0.016984718);\">'</span> <span style=\"background-color:rgba(135,206,250,0.072474495);\">s</span> <span style=\"background-color:rgba(135,206,250,0.04729641);\">[UNK]</span> <span style=\"background-color:rgba(135,206,250,0.05354095);\">[UNK]</span> <span style=\"background-color:rgba(135,206,250,0.02213223);\">'</span> <span style=\"background-color:rgba(135,206,250,0.103271194);\">s</span> <span style=\"background-color:rgba(135,206,250,0.16740558);\">lineup</span> <span style=\"background-color:rgba(135,206,250,0.11152531);\">of</span> <span style=\"background-color:rgba(135,206,250,0.11707389);\">german</span> <span style=\"background-color:rgba(135,206,250,0.12892081);\">riesling</span> <span style=\"background-color:rgba(135,206,250,0.57498735);\">.</span> <span style=\"background-color:rgba(135,206,250,0.29019004);\">this</span> <span style=\"background-color:rgba(135,206,250,0.27636233);\">one</span> <span style=\"background-color:rgba(135,206,250,0.58661205);\">is</span> <span style=\"background-color:rgba(135,206,250,0.59738076);\">a</span> <span style=\"background-color:rgba(135,206,250,1.0);\">showcase</span> <span style=\"background-color:rgba(135,206,250,0.8154418);\">of</span> <span style=\"background-color:rgba(135,206,250,0.47951427);\">honey</span>"
      ],
      "text/plain": [
       "<IPython.core.display.HTML object>"
      ]
     },
     "metadata": {},
     "output_type": "display_data"
    },
    {
     "name": "stdout",
     "output_type": "stream",
     "text": [
      "and:   \t72.93%\n",
      ",:   \t22.83%\n",
      "-:   \t4.08%\n",
      "':   \t0.07%\n",
      "that:   \t0.02%\n",
      "--------\n",
      "\n"
     ]
    },
    {
     "data": {
      "text/html": [
       "<span style=\"background-color:rgba(135,206,250,0.043017384);\">wine</span> <span style=\"background-color:rgba(135,206,250,0.10137965);\">review</span> <span style=\"background-color:rgba(135,206,250,0.034056462);\">:</span> <span style=\"background-color:rgba(135,206,250,0.16561736);\">germany</span> <span style=\"background-color:rgba(135,206,250,0.027917145);\">:</span> <span style=\"background-color:rgba(135,206,250,0.13324536);\">mosel</span> <span style=\"background-color:rgba(135,206,250,0.022362785);\">:</span> <span style=\"background-color:rgba(135,206,250,0.15243524);\">riesling</span> <span style=\"background-color:rgba(135,206,250,0.034034807);\">:</span> <span style=\"background-color:rgba(135,206,250,0.03156092);\">[UNK]</span> <span style=\"background-color:rgba(135,206,250,0.012349648);\">'</span> <span style=\"background-color:rgba(135,206,250,0.027884904);\">s</span> <span style=\"background-color:rgba(135,206,250,0.024240898);\">[UNK]</span> <span style=\"background-color:rgba(135,206,250,0.010695708);\">'</span> <span style=\"background-color:rgba(135,206,250,0.024764646);\">s</span> <span style=\"background-color:rgba(135,206,250,0.024192085);\">[UNK]</span> <span style=\"background-color:rgba(135,206,250,0.027583634);\">estate</span> <span style=\"background-color:rgba(135,206,250,0.010700977);\">'</span> <span style=\"background-color:rgba(135,206,250,0.02868587);\">s</span> <span style=\"background-color:rgba(135,206,250,0.026838917);\">[UNK]</span> <span style=\"background-color:rgba(135,206,250,0.02757682);\">[UNK]</span> <span style=\"background-color:rgba(135,206,250,0.0128586255);\">'</span> <span style=\"background-color:rgba(135,206,250,0.0324809);\">s</span> <span style=\"background-color:rgba(135,206,250,0.06362981);\">lineup</span> <span style=\"background-color:rgba(135,206,250,0.022829987);\">of</span> <span style=\"background-color:rgba(135,206,250,0.090950854);\">german</span> <span style=\"background-color:rgba(135,206,250,0.08404939);\">riesling</span> <span style=\"background-color:rgba(135,206,250,0.13577262);\">.</span> <span style=\"background-color:rgba(135,206,250,0.06836971);\">this</span> <span style=\"background-color:rgba(135,206,250,0.065988936);\">one</span> <span style=\"background-color:rgba(135,206,250,0.10569096);\">is</span> <span style=\"background-color:rgba(135,206,250,0.09586485);\">a</span> <span style=\"background-color:rgba(135,206,250,0.34077817);\">showcase</span> <span style=\"background-color:rgba(135,206,250,0.26089588);\">of</span> <span style=\"background-color:rgba(135,206,250,1.0);\">honey</span> <span style=\"background-color:rgba(135,206,250,0.18116021);\">and</span>"
      ],
      "text/plain": [
       "<IPython.core.display.HTML object>"
      ]
     },
     "metadata": {},
     "output_type": "display_data"
    },
    {
     "name": "stdout",
     "output_type": "stream",
     "text": [
      "marmalade:   \t18.04%\n",
      "spice:   \t17.25%\n",
      "peach:   \t12.29%\n",
      "saffron:   \t10.69%\n",
      "nectar:   \t9.72%\n",
      "--------\n",
      "\n"
     ]
    },
    {
     "data": {
      "text/html": [
       "<span style=\"background-color:rgba(135,206,250,0.08264465);\">wine</span> <span style=\"background-color:rgba(135,206,250,0.30113623);\">review</span> <span style=\"background-color:rgba(135,206,250,0.17494059);\">:</span> <span style=\"background-color:rgba(135,206,250,0.3774889);\">germany</span> <span style=\"background-color:rgba(135,206,250,0.18708262);\">:</span> <span style=\"background-color:rgba(135,206,250,0.12344487);\">mosel</span> <span style=\"background-color:rgba(135,206,250,0.08052304);\">:</span> <span style=\"background-color:rgba(135,206,250,0.09206825);\">riesling</span> <span style=\"background-color:rgba(135,206,250,0.076219775);\">:</span> <span style=\"background-color:rgba(135,206,250,0.04971022);\">[UNK]</span> <span style=\"background-color:rgba(135,206,250,0.024341336);\">'</span> <span style=\"background-color:rgba(135,206,250,0.09255639);\">s</span> <span style=\"background-color:rgba(135,206,250,0.05648741);\">[UNK]</span> <span style=\"background-color:rgba(135,206,250,0.02453724);\">'</span> <span style=\"background-color:rgba(135,206,250,0.0852847);\">s</span> <span style=\"background-color:rgba(135,206,250,0.05747585);\">[UNK]</span> <span style=\"background-color:rgba(135,206,250,0.09279931);\">estate</span> <span style=\"background-color:rgba(135,206,250,0.024534056);\">'</span> <span style=\"background-color:rgba(135,206,250,0.09812428);\">s</span> <span style=\"background-color:rgba(135,206,250,0.05982287);\">[UNK]</span> <span style=\"background-color:rgba(135,206,250,0.06579006);\">[UNK]</span> <span style=\"background-color:rgba(135,206,250,0.03187759);\">'</span> <span style=\"background-color:rgba(135,206,250,0.13771236);\">s</span> <span style=\"background-color:rgba(135,206,250,0.17489602);\">lineup</span> <span style=\"background-color:rgba(135,206,250,0.14641844);\">of</span> <span style=\"background-color:rgba(135,206,250,0.1272184);\">german</span> <span style=\"background-color:rgba(135,206,250,0.13464445);\">riesling</span> <span style=\"background-color:rgba(135,206,250,0.6769611);\">.</span> <span style=\"background-color:rgba(135,206,250,0.33787844);\">this</span> <span style=\"background-color:rgba(135,206,250,0.25066686);\">one</span> <span style=\"background-color:rgba(135,206,250,0.5743738);\">is</span> <span style=\"background-color:rgba(135,206,250,0.5014599);\">a</span> <span style=\"background-color:rgba(135,206,250,1.0);\">showcase</span> <span style=\"background-color:rgba(135,206,250,0.7033961);\">of</span> <span style=\"background-color:rgba(135,206,250,0.39610535);\">honey</span> <span style=\"background-color:rgba(135,206,250,0.8350698);\">and</span> <span style=\"background-color:rgba(135,206,250,0.40346968);\">spice</span>"
      ],
      "text/plain": [
       "<IPython.core.display.HTML object>"
      ]
     },
     "metadata": {},
     "output_type": "display_data"
    },
    {
     "name": "stdout",
     "output_type": "stream",
     "text": [
      ",:   \t78.96%\n",
      "-:   \t11.84%\n",
      "that:   \t2.77%\n",
      "flavors:   \t2.2%\n",
      "as:   \t0.96%\n",
      "--------\n",
      "\n"
     ]
    },
    {
     "data": {
      "text/html": [
       "<span style=\"background-color:rgba(135,206,250,0.053420514);\">wine</span> <span style=\"background-color:rgba(135,206,250,0.13818552);\">review</span> <span style=\"background-color:rgba(135,206,250,0.06598188);\">:</span> <span style=\"background-color:rgba(135,206,250,0.20837669);\">germany</span> <span style=\"background-color:rgba(135,206,250,0.05033695);\">:</span> <span style=\"background-color:rgba(135,206,250,0.13548794);\">mosel</span> <span style=\"background-color:rgba(135,206,250,0.035643533);\">:</span> <span style=\"background-color:rgba(135,206,250,0.20205554);\">riesling</span> <span style=\"background-color:rgba(135,206,250,0.04991132);\">:</span> <span style=\"background-color:rgba(135,206,250,0.03572813);\">[UNK]</span> <span style=\"background-color:rgba(135,206,250,0.016946964);\">'</span> <span style=\"background-color:rgba(135,206,250,0.07541095);\">s</span> <span style=\"background-color:rgba(135,206,250,0.029593099);\">[UNK]</span> <span style=\"background-color:rgba(135,206,250,0.014763418);\">'</span> <span style=\"background-color:rgba(135,206,250,0.06450902);\">s</span> <span style=\"background-color:rgba(135,206,250,0.028676633);\">[UNK]</span> <span style=\"background-color:rgba(135,206,250,0.041846417);\">estate</span> <span style=\"background-color:rgba(135,206,250,0.014406824);\">'</span> <span style=\"background-color:rgba(135,206,250,0.07329682);\">s</span> <span style=\"background-color:rgba(135,206,250,0.032124598);\">[UNK]</span> <span style=\"background-color:rgba(135,206,250,0.032678157);\">[UNK]</span> <span style=\"background-color:rgba(135,206,250,0.017051945);\">'</span> <span style=\"background-color:rgba(135,206,250,0.08512);\">s</span> <span style=\"background-color:rgba(135,206,250,0.07424759);\">lineup</span> <span style=\"background-color:rgba(135,206,250,0.046232034);\">of</span> <span style=\"background-color:rgba(135,206,250,0.10977418);\">german</span> <span style=\"background-color:rgba(135,206,250,0.117206745);\">riesling</span> <span style=\"background-color:rgba(135,206,250,0.27220976);\">.</span> <span style=\"background-color:rgba(135,206,250,0.19052896);\">this</span> <span style=\"background-color:rgba(135,206,250,0.099782184);\">one</span> <span style=\"background-color:rgba(135,206,250,0.27360657);\">is</span> <span style=\"background-color:rgba(135,206,250,0.13212569);\">a</span> <span style=\"background-color:rgba(135,206,250,0.33489707);\">showcase</span> <span style=\"background-color:rgba(135,206,250,0.23906633);\">of</span> <span style=\"background-color:rgba(135,206,250,0.6230467);\">honey</span> <span style=\"background-color:rgba(135,206,250,0.6880312);\">and</span> <span style=\"background-color:rgba(135,206,250,1.0);\">spice</span> <span style=\"background-color:rgba(135,206,250,0.3617992);\">,</span>"
      ],
      "text/plain": [
       "<IPython.core.display.HTML object>"
      ]
     },
     "metadata": {},
     "output_type": "display_data"
    },
    {
     "name": "stdout",
     "output_type": "stream",
     "text": [
      "but:   \t81.95%\n",
      "with:   \t11.22%\n",
      "yet:   \t4.91%\n",
      "and:   \t1.21%\n",
      "followed:   \t0.21%\n",
      "--------\n",
      "\n"
     ]
    },
    {
     "data": {
      "text/html": [
       "<span style=\"background-color:rgba(135,206,250,0.07225054);\">wine</span> <span style=\"background-color:rgba(135,206,250,0.15769646);\">review</span> <span style=\"background-color:rgba(135,206,250,0.23865609);\">:</span> <span style=\"background-color:rgba(135,206,250,0.31777596);\">germany</span> <span style=\"background-color:rgba(135,206,250,0.11167455);\">:</span> <span style=\"background-color:rgba(135,206,250,0.24126148);\">mosel</span> <span style=\"background-color:rgba(135,206,250,0.045515392);\">:</span> <span style=\"background-color:rgba(135,206,250,0.28464803);\">riesling</span> <span style=\"background-color:rgba(135,206,250,0.058331966);\">:</span> <span style=\"background-color:rgba(135,206,250,0.049049057);\">[UNK]</span> <span style=\"background-color:rgba(135,206,250,0.021099446);\">'</span> <span style=\"background-color:rgba(135,206,250,0.04818685);\">s</span> <span style=\"background-color:rgba(135,206,250,0.039195724);\">[UNK]</span> <span style=\"background-color:rgba(135,206,250,0.019632228);\">'</span> <span style=\"background-color:rgba(135,206,250,0.044116627);\">s</span> <span style=\"background-color:rgba(135,206,250,0.038814228);\">[UNK]</span> <span style=\"background-color:rgba(135,206,250,0.053223528);\">estate</span> <span style=\"background-color:rgba(135,206,250,0.018518323);\">'</span> <span style=\"background-color:rgba(135,206,250,0.048320703);\">s</span> <span style=\"background-color:rgba(135,206,250,0.0427647);\">[UNK]</span> <span style=\"background-color:rgba(135,206,250,0.043703597);\">[UNK]</span> <span style=\"background-color:rgba(135,206,250,0.020690393);\">'</span> <span style=\"background-color:rgba(135,206,250,0.05460946);\">s</span> <span style=\"background-color:rgba(135,206,250,0.10959476);\">lineup</span> <span style=\"background-color:rgba(135,206,250,0.03855961);\">of</span> <span style=\"background-color:rgba(135,206,250,0.19441067);\">german</span> <span style=\"background-color:rgba(135,206,250,0.13954823);\">riesling</span> <span style=\"background-color:rgba(135,206,250,0.25696832);\">.</span> <span style=\"background-color:rgba(135,206,250,0.10946732);\">this</span> <span style=\"background-color:rgba(135,206,250,0.069185935);\">one</span> <span style=\"background-color:rgba(135,206,250,0.11059117);\">is</span> <span style=\"background-color:rgba(135,206,250,0.1352172);\">a</span> <span style=\"background-color:rgba(135,206,250,0.28365487);\">showcase</span> <span style=\"background-color:rgba(135,206,250,0.12984489);\">of</span> <span style=\"background-color:rgba(135,206,250,0.4035453);\">honey</span> <span style=\"background-color:rgba(135,206,250,0.36156386);\">and</span> <span style=\"background-color:rgba(135,206,250,0.55494606);\">spice</span> <span style=\"background-color:rgba(135,206,250,1.0);\">,</span> <span style=\"background-color:rgba(135,206,250,0.61977804);\">with</span>"
      ],
      "text/plain": [
       "<IPython.core.display.HTML object>"
      ]
     },
     "metadata": {},
     "output_type": "display_data"
    },
    {
     "name": "stdout",
     "output_type": "stream",
     "text": [
      "a:   \t93.74%\n",
      "an:   \t1.46%\n",
      "hints:   \t1.33%\n",
      "loads:   \t0.58%\n",
      "some:   \t0.54%\n",
      "--------\n",
      "\n"
     ]
    },
    {
     "data": {
      "text/html": [
       "<span style=\"background-color:rgba(135,206,250,0.058064234);\">wine</span> <span style=\"background-color:rgba(135,206,250,0.11607289);\">review</span> <span style=\"background-color:rgba(135,206,250,0.05791602);\">:</span> <span style=\"background-color:rgba(135,206,250,0.29954255);\">germany</span> <span style=\"background-color:rgba(135,206,250,0.039481252);\">:</span> <span style=\"background-color:rgba(135,206,250,0.19486268);\">mosel</span> <span style=\"background-color:rgba(135,206,250,0.02858975);\">:</span> <span style=\"background-color:rgba(135,206,250,0.17176929);\">riesling</span> <span style=\"background-color:rgba(135,206,250,0.040140152);\">:</span> <span style=\"background-color:rgba(135,206,250,0.039507862);\">[UNK]</span> <span style=\"background-color:rgba(135,206,250,0.014378099);\">'</span> <span style=\"background-color:rgba(135,206,250,0.035852976);\">s</span> <span style=\"background-color:rgba(135,206,250,0.032044817);\">[UNK]</span> <span style=\"background-color:rgba(135,206,250,0.0127796);\">'</span> <span style=\"background-color:rgba(135,206,250,0.031727627);\">s</span> <span style=\"background-color:rgba(135,206,250,0.03082319);\">[UNK]</span> <span style=\"background-color:rgba(135,206,250,0.049535576);\">estate</span> <span style=\"background-color:rgba(135,206,250,0.011969536);\">'</span> <span style=\"background-color:rgba(135,206,250,0.03261576);\">s</span> <span style=\"background-color:rgba(135,206,250,0.03145432);\">[UNK]</span> <span style=\"background-color:rgba(135,206,250,0.033122122);\">[UNK]</span> <span style=\"background-color:rgba(135,206,250,0.013282013);\">'</span> <span style=\"background-color:rgba(135,206,250,0.035356652);\">s</span> <span style=\"background-color:rgba(135,206,250,0.090811856);\">lineup</span> <span style=\"background-color:rgba(135,206,250,0.028712582);\">of</span> <span style=\"background-color:rgba(135,206,250,0.09347584);\">german</span> <span style=\"background-color:rgba(135,206,250,0.084548905);\">riesling</span> <span style=\"background-color:rgba(135,206,250,0.14014071);\">.</span> <span style=\"background-color:rgba(135,206,250,0.06638293);\">this</span> <span style=\"background-color:rgba(135,206,250,0.061296705);\">one</span> <span style=\"background-color:rgba(135,206,250,0.074245505);\">is</span> <span style=\"background-color:rgba(135,206,250,0.035047155);\">a</span> <span style=\"background-color:rgba(135,206,250,0.30173883);\">showcase</span> <span style=\"background-color:rgba(135,206,250,0.11101759);\">of</span> <span style=\"background-color:rgba(135,206,250,0.28458986);\">honey</span> <span style=\"background-color:rgba(135,206,250,0.17751014);\">and</span> <span style=\"background-color:rgba(135,206,250,0.29612446);\">spice</span> <span style=\"background-color:rgba(135,206,250,0.4540866);\">,</span> <span style=\"background-color:rgba(135,206,250,1.0);\">with</span> <span style=\"background-color:rgba(135,206,250,0.17101918);\">a</span>"
      ],
      "text/plain": [
       "<IPython.core.display.HTML object>"
      ]
     },
     "metadata": {},
     "output_type": "display_data"
    },
    {
     "name": "stdout",
     "output_type": "stream",
     "text": [
      "hint:   \t34.12%\n",
      "long:   \t11.93%\n",
      "touch:   \t9.6%\n",
      "honeyed:   \t5.55%\n",
      "delicate:   \t3.32%\n",
      "--------\n",
      "\n"
     ]
    },
    {
     "data": {
      "text/html": [
       "<span style=\"background-color:rgba(135,206,250,0.0551018);\">wine</span> <span style=\"background-color:rgba(135,206,250,0.18587607);\">review</span> <span style=\"background-color:rgba(135,206,250,0.0733119);\">:</span> <span style=\"background-color:rgba(135,206,250,0.20597751);\">germany</span> <span style=\"background-color:rgba(135,206,250,0.053450342);\">:</span> <span style=\"background-color:rgba(135,206,250,0.12905927);\">mosel</span> <span style=\"background-color:rgba(135,206,250,0.03132141);\">:</span> <span style=\"background-color:rgba(135,206,250,0.11490203);\">riesling</span> <span style=\"background-color:rgba(135,206,250,0.05040921);\">:</span> <span style=\"background-color:rgba(135,206,250,0.025297195);\">[UNK]</span> <span style=\"background-color:rgba(135,206,250,0.013798031);\">'</span> <span style=\"background-color:rgba(135,206,250,0.029892888);\">s</span> <span style=\"background-color:rgba(135,206,250,0.017552292);\">[UNK]</span> <span style=\"background-color:rgba(135,206,250,0.011357552);\">'</span> <span style=\"background-color:rgba(135,206,250,0.024703328);\">s</span> <span style=\"background-color:rgba(135,206,250,0.01774392);\">[UNK]</span> <span style=\"background-color:rgba(135,206,250,0.024525294);\">estate</span> <span style=\"background-color:rgba(135,206,250,0.010637171);\">'</span> <span style=\"background-color:rgba(135,206,250,0.027839005);\">s</span> <span style=\"background-color:rgba(135,206,250,0.017439635);\">[UNK]</span> <span style=\"background-color:rgba(135,206,250,0.019031318);\">[UNK]</span> <span style=\"background-color:rgba(135,206,250,0.012849027);\">'</span> <span style=\"background-color:rgba(135,206,250,0.03285147);\">s</span> <span style=\"background-color:rgba(135,206,250,0.05412377);\">lineup</span> <span style=\"background-color:rgba(135,206,250,0.035360783);\">of</span> <span style=\"background-color:rgba(135,206,250,0.053778883);\">german</span> <span style=\"background-color:rgba(135,206,250,0.071270145);\">riesling</span> <span style=\"background-color:rgba(135,206,250,0.14422114);\">.</span> <span style=\"background-color:rgba(135,206,250,0.05267405);\">this</span> <span style=\"background-color:rgba(135,206,250,0.041224077);\">one</span> <span style=\"background-color:rgba(135,206,250,0.08407884);\">is</span> <span style=\"background-color:rgba(135,206,250,0.03881794);\">a</span> <span style=\"background-color:rgba(135,206,250,0.16744201);\">showcase</span> <span style=\"background-color:rgba(135,206,250,0.09098876);\">of</span> <span style=\"background-color:rgba(135,206,250,0.19141488);\">honey</span> <span style=\"background-color:rgba(135,206,250,0.16076314);\">and</span> <span style=\"background-color:rgba(135,206,250,0.24514833);\">spice</span> <span style=\"background-color:rgba(135,206,250,0.32372627);\">,</span> <span style=\"background-color:rgba(135,206,250,1.0);\">with</span> <span style=\"background-color:rgba(135,206,250,0.3366707);\">a</span> <span style=\"background-color:rgba(135,206,250,0.30555043);\">touch</span>"
      ],
      "text/plain": [
       "<IPython.core.display.HTML object>"
      ]
     },
     "metadata": {},
     "output_type": "display_data"
    },
    {
     "name": "stdout",
     "output_type": "stream",
     "text": [
      "of:   \t100.0%\n",
      "more:   \t0.0%\n",
      "that:   \t0.0%\n",
      "to:   \t0.0%\n",
      "on:   \t0.0%\n",
      "--------\n",
      "\n"
     ]
    },
    {
     "data": {
      "text/html": [
       "<span style=\"background-color:rgba(135,206,250,0.07224534);\">wine</span> <span style=\"background-color:rgba(135,206,250,0.14341699);\">review</span> <span style=\"background-color:rgba(135,206,250,0.10046053);\">:</span> <span style=\"background-color:rgba(135,206,250,0.307128);\">germany</span> <span style=\"background-color:rgba(135,206,250,0.04818552);\">:</span> <span style=\"background-color:rgba(135,206,250,0.28124228);\">mosel</span> <span style=\"background-color:rgba(135,206,250,0.036975265);\">:</span> <span style=\"background-color:rgba(135,206,250,0.3694345);\">riesling</span> <span style=\"background-color:rgba(135,206,250,0.0538777);\">:</span> <span style=\"background-color:rgba(135,206,250,0.044836864);\">[UNK]</span> <span style=\"background-color:rgba(135,206,250,0.020885456);\">'</span> <span style=\"background-color:rgba(135,206,250,0.03966781);\">s</span> <span style=\"background-color:rgba(135,206,250,0.026539277);\">[UNK]</span> <span style=\"background-color:rgba(135,206,250,0.015955586);\">'</span> <span style=\"background-color:rgba(135,206,250,0.0336617);\">s</span> <span style=\"background-color:rgba(135,206,250,0.02554314);\">[UNK]</span> <span style=\"background-color:rgba(135,206,250,0.032731228);\">estate</span> <span style=\"background-color:rgba(135,206,250,0.014946273);\">'</span> <span style=\"background-color:rgba(135,206,250,0.036917027);\">s</span> <span style=\"background-color:rgba(135,206,250,0.028667342);\">[UNK]</span> <span style=\"background-color:rgba(135,206,250,0.029061481);\">[UNK]</span> <span style=\"background-color:rgba(135,206,250,0.016862368);\">'</span> <span style=\"background-color:rgba(135,206,250,0.039909832);\">s</span> <span style=\"background-color:rgba(135,206,250,0.0655148);\">lineup</span> <span style=\"background-color:rgba(135,206,250,0.024644002);\">of</span> <span style=\"background-color:rgba(135,206,250,0.1203198);\">german</span> <span style=\"background-color:rgba(135,206,250,0.11499747);\">riesling</span> <span style=\"background-color:rgba(135,206,250,0.13438979);\">.</span> <span style=\"background-color:rgba(135,206,250,0.07031603);\">this</span> <span style=\"background-color:rgba(135,206,250,0.03878141);\">one</span> <span style=\"background-color:rgba(135,206,250,0.05960246);\">is</span> <span style=\"background-color:rgba(135,206,250,0.064544);\">a</span> <span style=\"background-color:rgba(135,206,250,0.18725058);\">showcase</span> <span style=\"background-color:rgba(135,206,250,0.04312067);\">of</span> <span style=\"background-color:rgba(135,206,250,0.25023702);\">honey</span> <span style=\"background-color:rgba(135,206,250,0.14027806);\">and</span> <span style=\"background-color:rgba(135,206,250,0.330371);\">spice</span> <span style=\"background-color:rgba(135,206,250,0.34801716);\">,</span> <span style=\"background-color:rgba(135,206,250,0.5284485);\">with</span> <span style=\"background-color:rgba(135,206,250,0.4665389);\">a</span> <span style=\"background-color:rgba(135,206,250,1.0);\">touch</span> <span style=\"background-color:rgba(135,206,250,0.26457596);\">of</span>"
      ],
      "text/plain": [
       "<IPython.core.display.HTML object>"
      ]
     },
     "metadata": {},
     "output_type": "display_data"
    },
    {
     "name": "stdout",
     "output_type": "stream",
     "text": [
      "honey:   \t42.28%\n",
      "sweetness:   \t17.51%\n",
      "sweet:   \t11.49%\n",
      "minerality:   \t10.26%\n",
      "smoke:   \t4.38%\n",
      "--------\n",
      "\n"
     ]
    },
    {
     "data": {
      "text/html": [
       "<span style=\"background-color:rgba(135,206,250,0.057510424);\">wine</span> <span style=\"background-color:rgba(135,206,250,0.22568613);\">review</span> <span style=\"background-color:rgba(135,206,250,0.14483573);\">:</span> <span style=\"background-color:rgba(135,206,250,0.41311345);\">germany</span> <span style=\"background-color:rgba(135,206,250,0.114150785);\">:</span> <span style=\"background-color:rgba(135,206,250,0.12104329);\">mosel</span> <span style=\"background-color:rgba(135,206,250,0.049604263);\">:</span> <span style=\"background-color:rgba(135,206,250,0.09526901);\">riesling</span> <span style=\"background-color:rgba(135,206,250,0.049511183);\">:</span> <span style=\"background-color:rgba(135,206,250,0.032902528);\">[UNK]</span> <span style=\"background-color:rgba(135,206,250,0.014351849);\">'</span> <span style=\"background-color:rgba(135,206,250,0.058649734);\">s</span> <span style=\"background-color:rgba(135,206,250,0.032271277);\">[UNK]</span> <span style=\"background-color:rgba(135,206,250,0.013556384);\">'</span> <span style=\"background-color:rgba(135,206,250,0.051116753);\">s</span> <span style=\"background-color:rgba(135,206,250,0.031851977);\">[UNK]</span> <span style=\"background-color:rgba(135,206,250,0.055761337);\">estate</span> <span style=\"background-color:rgba(135,206,250,0.012515245);\">'</span> <span style=\"background-color:rgba(135,206,250,0.05605587);\">s</span> <span style=\"background-color:rgba(135,206,250,0.030454844);\">[UNK]</span> <span style=\"background-color:rgba(135,206,250,0.033189036);\">[UNK]</span> <span style=\"background-color:rgba(135,206,250,0.015092718);\">'</span> <span style=\"background-color:rgba(135,206,250,0.0700545);\">s</span> <span style=\"background-color:rgba(135,206,250,0.115751386);\">lineup</span> <span style=\"background-color:rgba(135,206,250,0.05876298);\">of</span> <span style=\"background-color:rgba(135,206,250,0.08408311);\">german</span> <span style=\"background-color:rgba(135,206,250,0.08022235);\">riesling</span> <span style=\"background-color:rgba(135,206,250,0.25799775);\">.</span> <span style=\"background-color:rgba(135,206,250,0.100012496);\">this</span> <span style=\"background-color:rgba(135,206,250,0.07626216);\">one</span> <span style=\"background-color:rgba(135,206,250,0.16551983);\">is</span> <span style=\"background-color:rgba(135,206,250,0.106158294);\">a</span> <span style=\"background-color:rgba(135,206,250,0.2617422);\">showcase</span> <span style=\"background-color:rgba(135,206,250,0.16336183);\">of</span> <span style=\"background-color:rgba(135,206,250,0.18395302);\">honey</span> <span style=\"background-color:rgba(135,206,250,0.1448801);\">and</span> <span style=\"background-color:rgba(135,206,250,0.16330004);\">spice</span> <span style=\"background-color:rgba(135,206,250,0.33379394);\">,</span> <span style=\"background-color:rgba(135,206,250,0.85045177);\">with</span> <span style=\"background-color:rgba(135,206,250,0.7929107);\">a</span> <span style=\"background-color:rgba(135,206,250,0.88825345);\">touch</span> <span style=\"background-color:rgba(135,206,250,1.0);\">of</span> <span style=\"background-color:rgba(135,206,250,0.6147896);\">honey</span>"
      ],
      "text/plain": [
       "<IPython.core.display.HTML object>"
      ]
     },
     "metadata": {},
     "output_type": "display_data"
    },
    {
     "name": "stdout",
     "output_type": "stream",
     "text": [
      "and:   \t78.86%\n",
      ",:   \t12.52%\n",
      "on:   \t4.05%\n",
      "sweetness:   \t1.74%\n",
      "that:   \t1.11%\n",
      "--------\n",
      "\n"
     ]
    },
    {
     "data": {
      "text/html": [
       "<span style=\"background-color:rgba(135,206,250,0.033815376);\">wine</span> <span style=\"background-color:rgba(135,206,250,0.078267045);\">review</span> <span style=\"background-color:rgba(135,206,250,0.03139698);\">:</span> <span style=\"background-color:rgba(135,206,250,0.18315387);\">germany</span> <span style=\"background-color:rgba(135,206,250,0.026731482);\">:</span> <span style=\"background-color:rgba(135,206,250,0.13986884);\">mosel</span> <span style=\"background-color:rgba(135,206,250,0.020700037);\">:</span> <span style=\"background-color:rgba(135,206,250,0.16289134);\">riesling</span> <span style=\"background-color:rgba(135,206,250,0.030534318);\">:</span> <span style=\"background-color:rgba(135,206,250,0.027189983);\">[UNK]</span> <span style=\"background-color:rgba(135,206,250,0.011118413);\">'</span> <span style=\"background-color:rgba(135,206,250,0.026390921);\">s</span> <span style=\"background-color:rgba(135,206,250,0.019277634);\">[UNK]</span> <span style=\"background-color:rgba(135,206,250,0.009379968);\">'</span> <span style=\"background-color:rgba(135,206,250,0.02256075);\">s</span> <span style=\"background-color:rgba(135,206,250,0.018666757);\">[UNK]</span> <span style=\"background-color:rgba(135,206,250,0.022631349);\">estate</span> <span style=\"background-color:rgba(135,206,250,0.008791235);\">'</span> <span style=\"background-color:rgba(135,206,250,0.024413627);\">s</span> <span style=\"background-color:rgba(135,206,250,0.01962399);\">[UNK]</span> <span style=\"background-color:rgba(135,206,250,0.019899687);\">[UNK]</span> <span style=\"background-color:rgba(135,206,250,0.010065863);\">'</span> <span style=\"background-color:rgba(135,206,250,0.026382133);\">s</span> <span style=\"background-color:rgba(135,206,250,0.04921035);\">lineup</span> <span style=\"background-color:rgba(135,206,250,0.015027788);\">of</span> <span style=\"background-color:rgba(135,206,250,0.07405107);\">german</span> <span style=\"background-color:rgba(135,206,250,0.061997633);\">riesling</span> <span style=\"background-color:rgba(135,206,250,0.07529104);\">.</span> <span style=\"background-color:rgba(135,206,250,0.033861607);\">this</span> <span style=\"background-color:rgba(135,206,250,0.023033177);\">one</span> <span style=\"background-color:rgba(135,206,250,0.035169616);\">is</span> <span style=\"background-color:rgba(135,206,250,0.024901055);\">a</span> <span style=\"background-color:rgba(135,206,250,0.061795775);\">showcase</span> <span style=\"background-color:rgba(135,206,250,0.02540614);\">of</span> <span style=\"background-color:rgba(135,206,250,0.09865915);\">honey</span> <span style=\"background-color:rgba(135,206,250,0.03704119);\">and</span> <span style=\"background-color:rgba(135,206,250,0.103339024);\">spice</span> <span style=\"background-color:rgba(135,206,250,0.1259239);\">,</span> <span style=\"background-color:rgba(135,206,250,0.14913946);\">with</span> <span style=\"background-color:rgba(135,206,250,0.1117271);\">a</span> <span style=\"background-color:rgba(135,206,250,0.28596973);\">touch</span> <span style=\"background-color:rgba(135,206,250,0.28399011);\">of</span> <span style=\"background-color:rgba(135,206,250,1.0);\">honey</span> <span style=\"background-color:rgba(135,206,250,0.22753128);\">and</span>"
      ],
      "text/plain": [
       "<IPython.core.display.HTML object>"
      ]
     },
     "metadata": {},
     "output_type": "display_data"
    },
    {
     "name": "stdout",
     "output_type": "stream",
     "text": [
      "spice:   \t28.89%\n",
      "marmalade:   \t22.84%\n",
      "peach:   \t9.86%\n",
      "saffron:   \t8.32%\n",
      "nectar:   \t4.44%\n",
      "--------\n",
      "\n"
     ]
    },
    {
     "data": {
      "text/html": [
       "<span style=\"background-color:rgba(135,206,250,0.046819795);\">wine</span> <span style=\"background-color:rgba(135,206,250,0.19602239);\">review</span> <span style=\"background-color:rgba(135,206,250,0.28775468);\">:</span> <span style=\"background-color:rgba(135,206,250,0.24263948);\">germany</span> <span style=\"background-color:rgba(135,206,250,0.20175126);\">:</span> <span style=\"background-color:rgba(135,206,250,0.08608843);\">mosel</span> <span style=\"background-color:rgba(135,206,250,0.0636266);\">:</span> <span style=\"background-color:rgba(135,206,250,0.057163294);\">riesling</span> <span style=\"background-color:rgba(135,206,250,0.052157294);\">:</span> <span style=\"background-color:rgba(135,206,250,0.025199741);\">[UNK]</span> <span style=\"background-color:rgba(135,206,250,0.019388981);\">'</span> <span style=\"background-color:rgba(135,206,250,0.07098949);\">s</span> <span style=\"background-color:rgba(135,206,250,0.02708926);\">[UNK]</span> <span style=\"background-color:rgba(135,206,250,0.021833118);\">'</span> <span style=\"background-color:rgba(135,206,250,0.06790784);\">s</span> <span style=\"background-color:rgba(135,206,250,0.02848276);\">[UNK]</span> <span style=\"background-color:rgba(135,206,250,0.04908087);\">estate</span> <span style=\"background-color:rgba(135,206,250,0.01994383);\">'</span> <span style=\"background-color:rgba(135,206,250,0.07381607);\">s</span> <span style=\"background-color:rgba(135,206,250,0.027884606);\">[UNK]</span> <span style=\"background-color:rgba(135,206,250,0.028817423);\">[UNK]</span> <span style=\"background-color:rgba(135,206,250,0.02359357);\">'</span> <span style=\"background-color:rgba(135,206,250,0.08651454);\">s</span> <span style=\"background-color:rgba(135,206,250,0.09240888);\">lineup</span> <span style=\"background-color:rgba(135,206,250,0.083414644);\">of</span> <span style=\"background-color:rgba(135,206,250,0.069903955);\">german</span> <span style=\"background-color:rgba(135,206,250,0.05562243);\">riesling</span> <span style=\"background-color:rgba(135,206,250,0.31423828);\">.</span> <span style=\"background-color:rgba(135,206,250,0.11224668);\">this</span> <span style=\"background-color:rgba(135,206,250,0.06723906);\">one</span> <span style=\"background-color:rgba(135,206,250,0.17951411);\">is</span> <span style=\"background-color:rgba(135,206,250,0.10803121);\">a</span> <span style=\"background-color:rgba(135,206,250,0.21689631);\">showcase</span> <span style=\"background-color:rgba(135,206,250,0.18564907);\">of</span> <span style=\"background-color:rgba(135,206,250,0.12237802);\">honey</span> <span style=\"background-color:rgba(135,206,250,0.14504552);\">and</span> <span style=\"background-color:rgba(135,206,250,0.1214366);\">spice</span> <span style=\"background-color:rgba(135,206,250,0.20449582);\">,</span> <span style=\"background-color:rgba(135,206,250,0.5385839);\">with</span> <span style=\"background-color:rgba(135,206,250,0.5374202);\">a</span> <span style=\"background-color:rgba(135,206,250,0.55513537);\">touch</span> <span style=\"background-color:rgba(135,206,250,0.6474524);\">of</span> <span style=\"background-color:rgba(135,206,250,0.3720291);\">honey</span> <span style=\"background-color:rgba(135,206,250,1.0);\">and</span> <span style=\"background-color:rgba(135,206,250,0.311402);\">saffron</span>"
      ],
      "text/plain": [
       "<IPython.core.display.HTML object>"
      ]
     },
     "metadata": {},
     "output_type": "display_data"
    },
    {
     "name": "stdout",
     "output_type": "stream",
     "text": [
      ".:   \t57.12%\n",
      ",:   \t19.66%\n",
      "on:   \t14.07%\n",
      "that:   \t3.01%\n",
      "flavors:   \t1.82%\n",
      "--------\n",
      "\n"
     ]
    },
    {
     "data": {
      "text/html": [
       "<span style=\"background-color:rgba(135,206,250,0.0963039);\">wine</span> <span style=\"background-color:rgba(135,206,250,0.1800879);\">review</span> <span style=\"background-color:rgba(135,206,250,0.90267366);\">:</span> <span style=\"background-color:rgba(135,206,250,0.65546113);\">germany</span> <span style=\"background-color:rgba(135,206,250,0.5413999);\">:</span> <span style=\"background-color:rgba(135,206,250,1.0);\">mosel</span> <span style=\"background-color:rgba(135,206,250,0.2188459);\">:</span> <span style=\"background-color:rgba(135,206,250,0.47138768);\">riesling</span> <span style=\"background-color:rgba(135,206,250,0.16552012);\">:</span> <span style=\"background-color:rgba(135,206,250,0.10330341);\">[UNK]</span> <span style=\"background-color:rgba(135,206,250,0.026323516);\">'</span> <span style=\"background-color:rgba(135,206,250,0.08616863);\">s</span> <span style=\"background-color:rgba(135,206,250,0.07324947);\">[UNK]</span> <span style=\"background-color:rgba(135,206,250,0.020682082);\">'</span> <span style=\"background-color:rgba(135,206,250,0.06743009);\">s</span> <span style=\"background-color:rgba(135,206,250,0.06002811);\">[UNK]</span> <span style=\"background-color:rgba(135,206,250,0.090686366);\">estate</span> <span style=\"background-color:rgba(135,206,250,0.01775229);\">'</span> <span style=\"background-color:rgba(135,206,250,0.06268737);\">s</span> <span style=\"background-color:rgba(135,206,250,0.05350669);\">[UNK]</span> <span style=\"background-color:rgba(135,206,250,0.05524148);\">[UNK]</span> <span style=\"background-color:rgba(135,206,250,0.018209156);\">'</span> <span style=\"background-color:rgba(135,206,250,0.0671272);\">s</span> <span style=\"background-color:rgba(135,206,250,0.16006596);\">lineup</span> <span style=\"background-color:rgba(135,206,250,0.045162264);\">of</span> <span style=\"background-color:rgba(135,206,250,0.14784177);\">german</span> <span style=\"background-color:rgba(135,206,250,0.14790735);\">riesling</span> <span style=\"background-color:rgba(135,206,250,0.20280147);\">.</span> <span style=\"background-color:rgba(135,206,250,0.16947296);\">this</span> <span style=\"background-color:rgba(135,206,250,0.07665563);\">one</span> <span style=\"background-color:rgba(135,206,250,0.1338827);\">is</span> <span style=\"background-color:rgba(135,206,250,0.066315025);\">a</span> <span style=\"background-color:rgba(135,206,250,0.15286237);\">showcase</span> <span style=\"background-color:rgba(135,206,250,0.07575983);\">of</span> <span style=\"background-color:rgba(135,206,250,0.19604358);\">honey</span> <span style=\"background-color:rgba(135,206,250,0.10032082);\">and</span> <span style=\"background-color:rgba(135,206,250,0.17959724);\">spice</span> <span style=\"background-color:rgba(135,206,250,0.1560237);\">,</span> <span style=\"background-color:rgba(135,206,250,0.22656515);\">with</span> <span style=\"background-color:rgba(135,206,250,0.14670804);\">a</span> <span style=\"background-color:rgba(135,206,250,0.15118311);\">touch</span> <span style=\"background-color:rgba(135,206,250,0.19004281);\">of</span> <span style=\"background-color:rgba(135,206,250,0.3369825);\">honey</span> <span style=\"background-color:rgba(135,206,250,0.28170523);\">and</span> <span style=\"background-color:rgba(135,206,250,0.5597728);\">saffron</span> <span style=\"background-color:rgba(135,206,250,0.8119507);\">.</span>"
      ],
      "text/plain": [
       "<IPython.core.display.HTML object>"
      ]
     },
     "metadata": {},
     "output_type": "display_data"
    },
    {
     "name": "stdout",
     "output_type": "stream",
     "text": [
      "it:   \t87.38%\n",
      "the:   \t8.58%\n",
      "a:   \t0.42%\n",
      "yet:   \t0.34%\n",
      "finishes:   \t0.33%\n",
      "--------\n",
      "\n"
     ]
    },
    {
     "data": {
      "text/html": [
       "<span style=\"background-color:rgba(135,206,250,0.029219426);\">wine</span> <span style=\"background-color:rgba(135,206,250,0.049954552);\">review</span> <span style=\"background-color:rgba(135,206,250,0.040283985);\">:</span> <span style=\"background-color:rgba(135,206,250,0.2672268);\">germany</span> <span style=\"background-color:rgba(135,206,250,0.029508486);\">:</span> <span style=\"background-color:rgba(135,206,250,0.11986887);\">mosel</span> <span style=\"background-color:rgba(135,206,250,0.024839021);\">:</span> <span style=\"background-color:rgba(135,206,250,0.07151254);\">riesling</span> <span style=\"background-color:rgba(135,206,250,0.026352387);\">:</span> <span style=\"background-color:rgba(135,206,250,0.02068709);\">[UNK]</span> <span style=\"background-color:rgba(135,206,250,0.009160912);\">'</span> <span style=\"background-color:rgba(135,206,250,0.029189777);\">s</span> <span style=\"background-color:rgba(135,206,250,0.0169639);\">[UNK]</span> <span style=\"background-color:rgba(135,206,250,0.0077856504);\">'</span> <span style=\"background-color:rgba(135,206,250,0.023368405);\">s</span> <span style=\"background-color:rgba(135,206,250,0.015105071);\">[UNK]</span> <span style=\"background-color:rgba(135,206,250,0.024959616);\">estate</span> <span style=\"background-color:rgba(135,206,250,0.0064749075);\">'</span> <span style=\"background-color:rgba(135,206,250,0.022450304);\">s</span> <span style=\"background-color:rgba(135,206,250,0.014275597);\">[UNK]</span> <span style=\"background-color:rgba(135,206,250,0.015047906);\">[UNK]</span> <span style=\"background-color:rgba(135,206,250,0.006894758);\">'</span> <span style=\"background-color:rgba(135,206,250,0.023705563);\">s</span> <span style=\"background-color:rgba(135,206,250,0.046985507);\">lineup</span> <span style=\"background-color:rgba(135,206,250,0.013810632);\">of</span> <span style=\"background-color:rgba(135,206,250,0.039823472);\">german</span> <span style=\"background-color:rgba(135,206,250,0.034420554);\">riesling</span> <span style=\"background-color:rgba(135,206,250,0.048496164);\">.</span> <span style=\"background-color:rgba(135,206,250,0.017858459);\">this</span> <span style=\"background-color:rgba(135,206,250,0.017115617);\">one</span> <span style=\"background-color:rgba(135,206,250,0.029191317);\">is</span> <span style=\"background-color:rgba(135,206,250,0.02013003);\">a</span> <span style=\"background-color:rgba(135,206,250,0.04542465);\">showcase</span> <span style=\"background-color:rgba(135,206,250,0.021673702);\">of</span> <span style=\"background-color:rgba(135,206,250,0.04804576);\">honey</span> <span style=\"background-color:rgba(135,206,250,0.029511532);\">and</span> <span style=\"background-color:rgba(135,206,250,0.04358528);\">spice</span> <span style=\"background-color:rgba(135,206,250,0.051597007);\">,</span> <span style=\"background-color:rgba(135,206,250,0.08252807);\">with</span> <span style=\"background-color:rgba(135,206,250,0.04838364);\">a</span> <span style=\"background-color:rgba(135,206,250,0.07316008);\">touch</span> <span style=\"background-color:rgba(135,206,250,0.09877205);\">of</span> <span style=\"background-color:rgba(135,206,250,0.13521758);\">honey</span> <span style=\"background-color:rgba(135,206,250,0.14228937);\">and</span> <span style=\"background-color:rgba(135,206,250,0.18901937);\">saffron</span> <span style=\"background-color:rgba(135,206,250,1.0);\">.</span> <span style=\"background-color:rgba(135,206,250,0.25907296);\">it</span>"
      ],
      "text/plain": [
       "<IPython.core.display.HTML object>"
      ]
     },
     "metadata": {},
     "output_type": "display_data"
    },
    {
     "name": "stdout",
     "output_type": "stream",
     "text": [
      "':   \t99.99%\n",
      "finishes:   \t0.0%\n",
      "is:   \t0.0%\n",
      "should:   \t0.0%\n",
      "has:   \t0.0%\n",
      "--------\n",
      "\n"
     ]
    },
    {
     "data": {
      "text/html": [
       "<span style=\"background-color:rgba(135,206,250,0.06157625);\">wine</span> <span style=\"background-color:rgba(135,206,250,0.10667293);\">review</span> <span style=\"background-color:rgba(135,206,250,0.05223299);\">:</span> <span style=\"background-color:rgba(135,206,250,0.13740921);\">germany</span> <span style=\"background-color:rgba(135,206,250,0.04843256);\">:</span> <span style=\"background-color:rgba(135,206,250,0.13044746);\">mosel</span> <span style=\"background-color:rgba(135,206,250,0.04043729);\">:</span> <span style=\"background-color:rgba(135,206,250,0.13327287);\">riesling</span> <span style=\"background-color:rgba(135,206,250,0.051993005);\">:</span> <span style=\"background-color:rgba(135,206,250,0.04122175);\">[UNK]</span> <span style=\"background-color:rgba(135,206,250,0.020861221);\">'</span> <span style=\"background-color:rgba(135,206,250,0.02947366);\">s</span> <span style=\"background-color:rgba(135,206,250,0.022960251);\">[UNK]</span> <span style=\"background-color:rgba(135,206,250,0.015178325);\">'</span> <span style=\"background-color:rgba(135,206,250,0.025073916);\">s</span> <span style=\"background-color:rgba(135,206,250,0.022701206);\">[UNK]</span> <span style=\"background-color:rgba(135,206,250,0.025370669);\">estate</span> <span style=\"background-color:rgba(135,206,250,0.015088565);\">'</span> <span style=\"background-color:rgba(135,206,250,0.026458716);\">s</span> <span style=\"background-color:rgba(135,206,250,0.023524128);\">[UNK]</span> <span style=\"background-color:rgba(135,206,250,0.024380188);\">[UNK]</span> <span style=\"background-color:rgba(135,206,250,0.016529033);\">'</span> <span style=\"background-color:rgba(135,206,250,0.029007303);\">s</span> <span style=\"background-color:rgba(135,206,250,0.054330386);\">lineup</span> <span style=\"background-color:rgba(135,206,250,0.022934271);\">of</span> <span style=\"background-color:rgba(135,206,250,0.038103916);\">german</span> <span style=\"background-color:rgba(135,206,250,0.053960823);\">riesling</span> <span style=\"background-color:rgba(135,206,250,0.07966739);\">.</span> <span style=\"background-color:rgba(135,206,250,0.036145594);\">this</span> <span style=\"background-color:rgba(135,206,250,0.03155954);\">one</span> <span style=\"background-color:rgba(135,206,250,0.047118858);\">is</span> <span style=\"background-color:rgba(135,206,250,0.030641666);\">a</span> <span style=\"background-color:rgba(135,206,250,0.06856269);\">showcase</span> <span style=\"background-color:rgba(135,206,250,0.03331975);\">of</span> <span style=\"background-color:rgba(135,206,250,0.062379304);\">honey</span> <span style=\"background-color:rgba(135,206,250,0.057087444);\">and</span> <span style=\"background-color:rgba(135,206,250,0.05663101);\">spice</span> <span style=\"background-color:rgba(135,206,250,0.07102038);\">,</span> <span style=\"background-color:rgba(135,206,250,0.08674874);\">with</span> <span style=\"background-color:rgba(135,206,250,0.05398586);\">a</span> <span style=\"background-color:rgba(135,206,250,0.07825339);\">touch</span> <span style=\"background-color:rgba(135,206,250,0.07222391);\">of</span> <span style=\"background-color:rgba(135,206,250,0.2408038);\">honey</span> <span style=\"background-color:rgba(135,206,250,0.22043146);\">and</span> <span style=\"background-color:rgba(135,206,250,0.38754883);\">saffron</span> <span style=\"background-color:rgba(135,206,250,0.7745113);\">.</span> <span style=\"background-color:rgba(135,206,250,1.0);\">it</span> <span style=\"background-color:rgba(135,206,250,0.08389593);\">'</span>"
      ],
      "text/plain": [
       "<IPython.core.display.HTML object>"
      ]
     },
     "metadata": {},
     "output_type": "display_data"
    },
    {
     "name": "stdout",
     "output_type": "stream",
     "text": [
      "s:   \t100.0%\n",
      "ll:   \t0.0%\n",
      "[UNK]:   \t0.0%\n",
      "d:   \t0.0%\n",
      "09:   \t0.0%\n",
      "--------\n",
      "\n"
     ]
    },
    {
     "data": {
      "text/html": [
       "<span style=\"background-color:rgba(135,206,250,0.04530565);\">wine</span> <span style=\"background-color:rgba(135,206,250,0.080213964);\">review</span> <span style=\"background-color:rgba(135,206,250,0.08066043);\">:</span> <span style=\"background-color:rgba(135,206,250,0.24338838);\">germany</span> <span style=\"background-color:rgba(135,206,250,0.035608906);\">:</span> <span style=\"background-color:rgba(135,206,250,0.21913406);\">mosel</span> <span style=\"background-color:rgba(135,206,250,0.031313878);\">:</span> <span style=\"background-color:rgba(135,206,250,0.1848181);\">riesling</span> <span style=\"background-color:rgba(135,206,250,0.04786777);\">:</span> <span style=\"background-color:rgba(135,206,250,0.040400498);\">[UNK]</span> <span style=\"background-color:rgba(135,206,250,0.01750753);\">'</span> <span style=\"background-color:rgba(135,206,250,0.027362715);\">s</span> <span style=\"background-color:rgba(135,206,250,0.026020508);\">[UNK]</span> <span style=\"background-color:rgba(135,206,250,0.013962596);\">'</span> <span style=\"background-color:rgba(135,206,250,0.022519669);\">s</span> <span style=\"background-color:rgba(135,206,250,0.02461847);\">[UNK]</span> <span style=\"background-color:rgba(135,206,250,0.03350772);\">estate</span> <span style=\"background-color:rgba(135,206,250,0.012472506);\">'</span> <span style=\"background-color:rgba(135,206,250,0.02277065);\">s</span> <span style=\"background-color:rgba(135,206,250,0.024652632);\">[UNK]</span> <span style=\"background-color:rgba(135,206,250,0.025694832);\">[UNK]</span> <span style=\"background-color:rgba(135,206,250,0.013248046);\">'</span> <span style=\"background-color:rgba(135,206,250,0.023973316);\">s</span> <span style=\"background-color:rgba(135,206,250,0.06977146);\">lineup</span> <span style=\"background-color:rgba(135,206,250,0.020001864);\">of</span> <span style=\"background-color:rgba(135,206,250,0.08197104);\">german</span> <span style=\"background-color:rgba(135,206,250,0.06759565);\">riesling</span> <span style=\"background-color:rgba(135,206,250,0.072885);\">.</span> <span style=\"background-color:rgba(135,206,250,0.03403367);\">this</span> <span style=\"background-color:rgba(135,206,250,0.03394369);\">one</span> <span style=\"background-color:rgba(135,206,250,0.035987705);\">is</span> <span style=\"background-color:rgba(135,206,250,0.026071306);\">a</span> <span style=\"background-color:rgba(135,206,250,0.07377635);\">showcase</span> <span style=\"background-color:rgba(135,206,250,0.031123498);\">of</span> <span style=\"background-color:rgba(135,206,250,0.08054148);\">honey</span> <span style=\"background-color:rgba(135,206,250,0.05388237);\">and</span> <span style=\"background-color:rgba(135,206,250,0.078309916);\">spice</span> <span style=\"background-color:rgba(135,206,250,0.073803455);\">,</span> <span style=\"background-color:rgba(135,206,250,0.1036171);\">with</span> <span style=\"background-color:rgba(135,206,250,0.0483561);\">a</span> <span style=\"background-color:rgba(135,206,250,0.07520768);\">touch</span> <span style=\"background-color:rgba(135,206,250,0.0933813);\">of</span> <span style=\"background-color:rgba(135,206,250,0.1766966);\">honey</span> <span style=\"background-color:rgba(135,206,250,0.17028122);\">and</span> <span style=\"background-color:rgba(135,206,250,0.19946232);\">saffron</span> <span style=\"background-color:rgba(135,206,250,1.0);\">.</span> <span style=\"background-color:rgba(135,206,250,0.75191164);\">it</span> <span style=\"background-color:rgba(135,206,250,0.10370358);\">'</span> <span style=\"background-color:rgba(135,206,250,0.25090617);\">s</span>"
      ],
      "text/plain": [
       "<IPython.core.display.HTML object>"
      ]
     },
     "metadata": {},
     "output_type": "display_data"
    },
    {
     "name": "stdout",
     "output_type": "stream",
     "text": [
      "a:   \t42.44%\n",
      "lusciously:   \t14.33%\n",
      "rich:   \t4.27%\n",
      "full:   \t4.21%\n",
      "intensely:   \t3.84%\n",
      "--------\n",
      "\n"
     ]
    },
    {
     "data": {
      "text/html": [
       "<span style=\"background-color:rgba(135,206,250,0.07638741);\">wine</span> <span style=\"background-color:rgba(135,206,250,0.15107082);\">review</span> <span style=\"background-color:rgba(135,206,250,0.17324676);\">:</span> <span style=\"background-color:rgba(135,206,250,0.1888326);\">germany</span> <span style=\"background-color:rgba(135,206,250,0.09689443);\">:</span> <span style=\"background-color:rgba(135,206,250,0.16278201);\">mosel</span> <span style=\"background-color:rgba(135,206,250,0.05857068);\">:</span> <span style=\"background-color:rgba(135,206,250,0.24703895);\">riesling</span> <span style=\"background-color:rgba(135,206,250,0.07362239);\">:</span> <span style=\"background-color:rgba(135,206,250,0.06253268);\">[UNK]</span> <span style=\"background-color:rgba(135,206,250,0.0342033);\">'</span> <span style=\"background-color:rgba(135,206,250,0.049290374);\">s</span> <span style=\"background-color:rgba(135,206,250,0.041394893);\">[UNK]</span> <span style=\"background-color:rgba(135,206,250,0.027892305);\">'</span> <span style=\"background-color:rgba(135,206,250,0.04451913);\">s</span> <span style=\"background-color:rgba(135,206,250,0.039502718);\">[UNK]</span> <span style=\"background-color:rgba(135,206,250,0.049434543);\">estate</span> <span style=\"background-color:rgba(135,206,250,0.026368532);\">'</span> <span style=\"background-color:rgba(135,206,250,0.043441333);\">s</span> <span style=\"background-color:rgba(135,206,250,0.036168035);\">[UNK]</span> <span style=\"background-color:rgba(135,206,250,0.038672674);\">[UNK]</span> <span style=\"background-color:rgba(135,206,250,0.026239874);\">'</span> <span style=\"background-color:rgba(135,206,250,0.044739794);\">s</span> <span style=\"background-color:rgba(135,206,250,0.07797396);\">lineup</span> <span style=\"background-color:rgba(135,206,250,0.04173708);\">of</span> <span style=\"background-color:rgba(135,206,250,0.06484874);\">german</span> <span style=\"background-color:rgba(135,206,250,0.12316467);\">riesling</span> <span style=\"background-color:rgba(135,206,250,0.0958918);\">.</span> <span style=\"background-color:rgba(135,206,250,0.057615597);\">this</span> <span style=\"background-color:rgba(135,206,250,0.044990245);\">one</span> <span style=\"background-color:rgba(135,206,250,0.046098284);\">is</span> <span style=\"background-color:rgba(135,206,250,0.03923098);\">a</span> <span style=\"background-color:rgba(135,206,250,0.06959112);\">showcase</span> <span style=\"background-color:rgba(135,206,250,0.06520109);\">of</span> <span style=\"background-color:rgba(135,206,250,0.13526933);\">honey</span> <span style=\"background-color:rgba(135,206,250,0.061581116);\">and</span> <span style=\"background-color:rgba(135,206,250,0.08974278);\">spice</span> <span style=\"background-color:rgba(135,206,250,0.11938242);\">,</span> <span style=\"background-color:rgba(135,206,250,0.14519128);\">with</span> <span style=\"background-color:rgba(135,206,250,0.074807994);\">a</span> <span style=\"background-color:rgba(135,206,250,0.094766736);\">touch</span> <span style=\"background-color:rgba(135,206,250,0.14039399);\">of</span> <span style=\"background-color:rgba(135,206,250,0.30078992);\">honey</span> <span style=\"background-color:rgba(135,206,250,0.17195576);\">and</span> <span style=\"background-color:rgba(135,206,250,0.34431466);\">saffron</span> <span style=\"background-color:rgba(135,206,250,1.0);\">.</span> <span style=\"background-color:rgba(135,206,250,0.8394543);\">it</span> <span style=\"background-color:rgba(135,206,250,0.3109292);\">'</span> <span style=\"background-color:rgba(135,206,250,0.8854286);\">s</span> <span style=\"background-color:rgba(135,206,250,0.8773587);\">lusciously</span>"
      ],
      "text/plain": [
       "<IPython.core.display.HTML object>"
      ]
     },
     "metadata": {},
     "output_type": "display_data"
    },
    {
     "name": "stdout",
     "output_type": "stream",
     "text": [
      "sweet:   \t48.63%\n",
      "ripe:   \t25.16%\n",
      "textured:   \t5.86%\n",
      "rich:   \t5.7%\n",
      "concentrated:   \t5.05%\n",
      "--------\n",
      "\n"
     ]
    },
    {
     "data": {
      "text/html": [
       "<span style=\"background-color:rgba(135,206,250,0.07251065);\">wine</span> <span style=\"background-color:rgba(135,206,250,0.14749752);\">review</span> <span style=\"background-color:rgba(135,206,250,0.09870144);\">:</span> <span style=\"background-color:rgba(135,206,250,0.34015298);\">germany</span> <span style=\"background-color:rgba(135,206,250,0.07558838);\">:</span> <span style=\"background-color:rgba(135,206,250,0.26021188);\">mosel</span> <span style=\"background-color:rgba(135,206,250,0.060344987);\">:</span> <span style=\"background-color:rgba(135,206,250,0.3763281);\">riesling</span> <span style=\"background-color:rgba(135,206,250,0.065084554);\">:</span> <span style=\"background-color:rgba(135,206,250,0.058301426);\">[UNK]</span> <span style=\"background-color:rgba(135,206,250,0.023127697);\">'</span> <span style=\"background-color:rgba(135,206,250,0.049233694);\">s</span> <span style=\"background-color:rgba(135,206,250,0.032354385);\">[UNK]</span> <span style=\"background-color:rgba(135,206,250,0.016903546);\">'</span> <span style=\"background-color:rgba(135,206,250,0.040955283);\">s</span> <span style=\"background-color:rgba(135,206,250,0.028916843);\">[UNK]</span> <span style=\"background-color:rgba(135,206,250,0.045528688);\">estate</span> <span style=\"background-color:rgba(135,206,250,0.015105253);\">'</span> <span style=\"background-color:rgba(135,206,250,0.040533677);\">s</span> <span style=\"background-color:rgba(135,206,250,0.02927361);\">[UNK]</span> <span style=\"background-color:rgba(135,206,250,0.031103099);\">[UNK]</span> <span style=\"background-color:rgba(135,206,250,0.01619319);\">'</span> <span style=\"background-color:rgba(135,206,250,0.042620216);\">s</span> <span style=\"background-color:rgba(135,206,250,0.082706496);\">lineup</span> <span style=\"background-color:rgba(135,206,250,0.031926986);\">of</span> <span style=\"background-color:rgba(135,206,250,0.089802);\">german</span> <span style=\"background-color:rgba(135,206,250,0.11249339);\">riesling</span> <span style=\"background-color:rgba(135,206,250,0.10689491);\">.</span> <span style=\"background-color:rgba(135,206,250,0.04141774);\">this</span> <span style=\"background-color:rgba(135,206,250,0.029269256);\">one</span> <span style=\"background-color:rgba(135,206,250,0.058623478);\">is</span> <span style=\"background-color:rgba(135,206,250,0.045630563);\">a</span> <span style=\"background-color:rgba(135,206,250,0.07661232);\">showcase</span> <span style=\"background-color:rgba(135,206,250,0.054252174);\">of</span> <span style=\"background-color:rgba(135,206,250,0.110323444);\">honey</span> <span style=\"background-color:rgba(135,206,250,0.071237944);\">and</span> <span style=\"background-color:rgba(135,206,250,0.10192636);\">spice</span> <span style=\"background-color:rgba(135,206,250,0.08773876);\">,</span> <span style=\"background-color:rgba(135,206,250,0.119208515);\">with</span> <span style=\"background-color:rgba(135,206,250,0.10691478);\">a</span> <span style=\"background-color:rgba(135,206,250,0.15790384);\">touch</span> <span style=\"background-color:rgba(135,206,250,0.1511444);\">of</span> <span style=\"background-color:rgba(135,206,250,0.24449113);\">honey</span> <span style=\"background-color:rgba(135,206,250,0.16631763);\">and</span> <span style=\"background-color:rgba(135,206,250,0.30923966);\">saffron</span> <span style=\"background-color:rgba(135,206,250,0.98973244);\">.</span> <span style=\"background-color:rgba(135,206,250,0.7452064);\">it</span> <span style=\"background-color:rgba(135,206,250,0.17086476);\">'</span> <span style=\"background-color:rgba(135,206,250,1.0);\">s</span> <span style=\"background-color:rgba(135,206,250,0.6164887);\">lusciously</span> <span style=\"background-color:rgba(135,206,250,0.34759977);\">sweet</span>"
      ],
      "text/plain": [
       "<IPython.core.display.HTML object>"
      ]
     },
     "metadata": {},
     "output_type": "display_data"
    },
    {
     "name": "stdout",
     "output_type": "stream",
     "text": [
      ",:   \t61.25%\n",
      "yet:   \t17.08%\n",
      "on:   \t9.39%\n",
      "and:   \t4.54%\n",
      "in:   \t3.78%\n",
      "--------\n",
      "\n"
     ]
    },
    {
     "data": {
      "text/html": [
       "<span style=\"background-color:rgba(135,206,250,0.063859314);\">wine</span> <span style=\"background-color:rgba(135,206,250,0.1486859);\">review</span> <span style=\"background-color:rgba(135,206,250,0.11286629);\">:</span> <span style=\"background-color:rgba(135,206,250,0.17935118);\">germany</span> <span style=\"background-color:rgba(135,206,250,0.060418647);\">:</span> <span style=\"background-color:rgba(135,206,250,0.15574482);\">mosel</span> <span style=\"background-color:rgba(135,206,250,0.038244385);\">:</span> <span style=\"background-color:rgba(135,206,250,0.17132866);\">riesling</span> <span style=\"background-color:rgba(135,206,250,0.05243017);\">:</span> <span style=\"background-color:rgba(135,206,250,0.033944312);\">[UNK]</span> <span style=\"background-color:rgba(135,206,250,0.019273048);\">'</span> <span style=\"background-color:rgba(135,206,250,0.035344873);\">s</span> <span style=\"background-color:rgba(135,206,250,0.024777187);\">[UNK]</span> <span style=\"background-color:rgba(135,206,250,0.016721902);\">'</span> <span style=\"background-color:rgba(135,206,250,0.032809075);\">s</span> <span style=\"background-color:rgba(135,206,250,0.023375003);\">[UNK]</span> <span style=\"background-color:rgba(135,206,250,0.031059215);\">estate</span> <span style=\"background-color:rgba(135,206,250,0.014976036);\">'</span> <span style=\"background-color:rgba(135,206,250,0.028547937);\">s</span> <span style=\"background-color:rgba(135,206,250,0.02226197);\">[UNK]</span> <span style=\"background-color:rgba(135,206,250,0.022594748);\">[UNK]</span> <span style=\"background-color:rgba(135,206,250,0.0142238345);\">'</span> <span style=\"background-color:rgba(135,206,250,0.02914823);\">s</span> <span style=\"background-color:rgba(135,206,250,0.071291);\">lineup</span> <span style=\"background-color:rgba(135,206,250,0.02721839);\">of</span> <span style=\"background-color:rgba(135,206,250,0.058435377);\">german</span> <span style=\"background-color:rgba(135,206,250,0.05098217);\">riesling</span> <span style=\"background-color:rgba(135,206,250,0.08588474);\">.</span> <span style=\"background-color:rgba(135,206,250,0.056850605);\">this</span> <span style=\"background-color:rgba(135,206,250,0.025263702);\">one</span> <span style=\"background-color:rgba(135,206,250,0.041515835);\">is</span> <span style=\"background-color:rgba(135,206,250,0.03711534);\">a</span> <span style=\"background-color:rgba(135,206,250,0.0690406);\">showcase</span> <span style=\"background-color:rgba(135,206,250,0.04329606);\">of</span> <span style=\"background-color:rgba(135,206,250,0.076700605);\">honey</span> <span style=\"background-color:rgba(135,206,250,0.052269854);\">and</span> <span style=\"background-color:rgba(135,206,250,0.06618609);\">spice</span> <span style=\"background-color:rgba(135,206,250,0.071497865);\">,</span> <span style=\"background-color:rgba(135,206,250,0.0722499);\">with</span> <span style=\"background-color:rgba(135,206,250,0.07073215);\">a</span> <span style=\"background-color:rgba(135,206,250,0.076048724);\">touch</span> <span style=\"background-color:rgba(135,206,250,0.07365027);\">of</span> <span style=\"background-color:rgba(135,206,250,0.14350642);\">honey</span> <span style=\"background-color:rgba(135,206,250,0.1158504);\">and</span> <span style=\"background-color:rgba(135,206,250,0.1526915);\">saffron</span> <span style=\"background-color:rgba(135,206,250,0.4980606);\">.</span> <span style=\"background-color:rgba(135,206,250,0.28455737);\">it</span> <span style=\"background-color:rgba(135,206,250,0.122085646);\">'</span> <span style=\"background-color:rgba(135,206,250,0.37707797);\">s</span> <span style=\"background-color:rgba(135,206,250,1.0);\">lusciously</span> <span style=\"background-color:rgba(135,206,250,0.5788187);\">sweet</span> <span style=\"background-color:rgba(135,206,250,0.29045528);\">on</span>"
      ],
      "text/plain": [
       "<IPython.core.display.HTML object>"
      ]
     },
     "metadata": {},
     "output_type": "display_data"
    },
    {
     "name": "stdout",
     "output_type": "stream",
     "text": [
      "the:   \t99.95%\n",
      "its:   \t0.03%\n",
      "a:   \t0.01%\n",
      "but:   \t0.0%\n",
      "entry:   \t0.0%\n",
      "--------\n",
      "\n"
     ]
    },
    {
     "data": {
      "text/html": [
       "<span style=\"background-color:rgba(135,206,250,0.036368653);\">wine</span> <span style=\"background-color:rgba(135,206,250,0.058381967);\">review</span> <span style=\"background-color:rgba(135,206,250,0.048385806);\">:</span> <span style=\"background-color:rgba(135,206,250,0.24528144);\">germany</span> <span style=\"background-color:rgba(135,206,250,0.039711766);\">:</span> <span style=\"background-color:rgba(135,206,250,0.22133514);\">mosel</span> <span style=\"background-color:rgba(135,206,250,0.03314394);\">:</span> <span style=\"background-color:rgba(135,206,250,0.19143589);\">riesling</span> <span style=\"background-color:rgba(135,206,250,0.03861475);\">:</span> <span style=\"background-color:rgba(135,206,250,0.035150237);\">[UNK]</span> <span style=\"background-color:rgba(135,206,250,0.010595534);\">'</span> <span style=\"background-color:rgba(135,206,250,0.029892733);\">s</span> <span style=\"background-color:rgba(135,206,250,0.025614977);\">[UNK]</span> <span style=\"background-color:rgba(135,206,250,0.009007777);\">'</span> <span style=\"background-color:rgba(135,206,250,0.025358042);\">s</span> <span style=\"background-color:rgba(135,206,250,0.023547223);\">[UNK]</span> <span style=\"background-color:rgba(135,206,250,0.02940869);\">estate</span> <span style=\"background-color:rgba(135,206,250,0.007828932);\">'</span> <span style=\"background-color:rgba(135,206,250,0.024031315);\">s</span> <span style=\"background-color:rgba(135,206,250,0.023314219);\">[UNK]</span> <span style=\"background-color:rgba(135,206,250,0.023472706);\">[UNK]</span> <span style=\"background-color:rgba(135,206,250,0.008197763);\">'</span> <span style=\"background-color:rgba(135,206,250,0.024757333);\">s</span> <span style=\"background-color:rgba(135,206,250,0.063429385);\">lineup</span> <span style=\"background-color:rgba(135,206,250,0.012350911);\">of</span> <span style=\"background-color:rgba(135,206,250,0.06214059);\">german</span> <span style=\"background-color:rgba(135,206,250,0.06123641);\">riesling</span> <span style=\"background-color:rgba(135,206,250,0.056359887);\">.</span> <span style=\"background-color:rgba(135,206,250,0.025684975);\">this</span> <span style=\"background-color:rgba(135,206,250,0.02043153);\">one</span> <span style=\"background-color:rgba(135,206,250,0.028401311);\">is</span> <span style=\"background-color:rgba(135,206,250,0.025396759);\">a</span> <span style=\"background-color:rgba(135,206,250,0.048316296);\">showcase</span> <span style=\"background-color:rgba(135,206,250,0.017744273);\">of</span> <span style=\"background-color:rgba(135,206,250,0.084529884);\">honey</span> <span style=\"background-color:rgba(135,206,250,0.028445287);\">and</span> <span style=\"background-color:rgba(135,206,250,0.06947874);\">spice</span> <span style=\"background-color:rgba(135,206,250,0.047378685);\">,</span> <span style=\"background-color:rgba(135,206,250,0.038444243);\">with</span> <span style=\"background-color:rgba(135,206,250,0.038388435);\">a</span> <span style=\"background-color:rgba(135,206,250,0.05879756);\">touch</span> <span style=\"background-color:rgba(135,206,250,0.037877783);\">of</span> <span style=\"background-color:rgba(135,206,250,0.1280006);\">honey</span> <span style=\"background-color:rgba(135,206,250,0.0648833);\">and</span> <span style=\"background-color:rgba(135,206,250,0.14732058);\">saffron</span> <span style=\"background-color:rgba(135,206,250,0.37146243);\">.</span> <span style=\"background-color:rgba(135,206,250,0.21302406);\">it</span> <span style=\"background-color:rgba(135,206,250,0.0362474);\">'</span> <span style=\"background-color:rgba(135,206,250,0.374071);\">s</span> <span style=\"background-color:rgba(135,206,250,0.48793682);\">lusciously</span> <span style=\"background-color:rgba(135,206,250,0.5206404);\">sweet</span> <span style=\"background-color:rgba(135,206,250,1.0);\">on</span> <span style=\"background-color:rgba(135,206,250,0.3115989);\">the</span>"
      ],
      "text/plain": [
       "<IPython.core.display.HTML object>"
      ]
     },
     "metadata": {},
     "output_type": "display_data"
    },
    {
     "name": "stdout",
     "output_type": "stream",
     "text": [
      "palate:   \t98.86%\n",
      "finish:   \t0.52%\n",
      "midpalate:   \t0.26%\n",
      "attack:   \t0.2%\n",
      "nose:   \t0.14%\n",
      "--------\n",
      "\n"
     ]
    },
    {
     "data": {
      "text/html": [
       "<span style=\"background-color:rgba(135,206,250,0.025173362);\">wine</span> <span style=\"background-color:rgba(135,206,250,0.08751469);\">review</span> <span style=\"background-color:rgba(135,206,250,0.1050191);\">:</span> <span style=\"background-color:rgba(135,206,250,0.23061536);\">germany</span> <span style=\"background-color:rgba(135,206,250,0.062741145);\">:</span> <span style=\"background-color:rgba(135,206,250,0.08299061);\">mosel</span> <span style=\"background-color:rgba(135,206,250,0.028600717);\">:</span> <span style=\"background-color:rgba(135,206,250,0.06702279);\">riesling</span> <span style=\"background-color:rgba(135,206,250,0.034191232);\">:</span> <span style=\"background-color:rgba(135,206,250,0.020948233);\">[UNK]</span> <span style=\"background-color:rgba(135,206,250,0.012004669);\">'</span> <span style=\"background-color:rgba(135,206,250,0.04513359);\">s</span> <span style=\"background-color:rgba(135,206,250,0.017542029);\">[UNK]</span> <span style=\"background-color:rgba(135,206,250,0.011068323);\">'</span> <span style=\"background-color:rgba(135,206,250,0.03720348);\">s</span> <span style=\"background-color:rgba(135,206,250,0.017166732);\">[UNK]</span> <span style=\"background-color:rgba(135,206,250,0.022439856);\">estate</span> <span style=\"background-color:rgba(135,206,250,0.009475473);\">'</span> <span style=\"background-color:rgba(135,206,250,0.0360982);\">s</span> <span style=\"background-color:rgba(135,206,250,0.016083837);\">[UNK]</span> <span style=\"background-color:rgba(135,206,250,0.01581268);\">[UNK]</span> <span style=\"background-color:rgba(135,206,250,0.009966882);\">'</span> <span style=\"background-color:rgba(135,206,250,0.041335993);\">s</span> <span style=\"background-color:rgba(135,206,250,0.04242847);\">lineup</span> <span style=\"background-color:rgba(135,206,250,0.02051521);\">of</span> <span style=\"background-color:rgba(135,206,250,0.048143905);\">german</span> <span style=\"background-color:rgba(135,206,250,0.039784387);\">riesling</span> <span style=\"background-color:rgba(135,206,250,0.11984192);\">.</span> <span style=\"background-color:rgba(135,206,250,0.04344751);\">this</span> <span style=\"background-color:rgba(135,206,250,0.031915266);\">one</span> <span style=\"background-color:rgba(135,206,250,0.06793104);\">is</span> <span style=\"background-color:rgba(135,206,250,0.045464624);\">a</span> <span style=\"background-color:rgba(135,206,250,0.07585842);\">showcase</span> <span style=\"background-color:rgba(135,206,250,0.043643177);\">of</span> <span style=\"background-color:rgba(135,206,250,0.0647364);\">honey</span> <span style=\"background-color:rgba(135,206,250,0.053094365);\">and</span> <span style=\"background-color:rgba(135,206,250,0.05729499);\">spice</span> <span style=\"background-color:rgba(135,206,250,0.077008456);\">,</span> <span style=\"background-color:rgba(135,206,250,0.15949778);\">with</span> <span style=\"background-color:rgba(135,206,250,0.096124075);\">a</span> <span style=\"background-color:rgba(135,206,250,0.08229706);\">touch</span> <span style=\"background-color:rgba(135,206,250,0.08346492);\">of</span> <span style=\"background-color:rgba(135,206,250,0.11838817);\">honey</span> <span style=\"background-color:rgba(135,206,250,0.11710728);\">and</span> <span style=\"background-color:rgba(135,206,250,0.10553217);\">saffron</span> <span style=\"background-color:rgba(135,206,250,0.6880435);\">.</span> <span style=\"background-color:rgba(135,206,250,0.22677197);\">it</span> <span style=\"background-color:rgba(135,206,250,0.09551638);\">'</span> <span style=\"background-color:rgba(135,206,250,0.41262898);\">s</span> <span style=\"background-color:rgba(135,206,250,0.3547527);\">lusciously</span> <span style=\"background-color:rgba(135,206,250,0.24073778);\">sweet</span> <span style=\"background-color:rgba(135,206,250,1.0);\">on</span> <span style=\"background-color:rgba(135,206,250,0.5544634);\">the</span> <span style=\"background-color:rgba(135,206,250,0.43224558);\">palate</span>"
      ],
      "text/plain": [
       "<IPython.core.display.HTML object>"
      ]
     },
     "metadata": {},
     "output_type": "display_data"
    },
    {
     "name": "stdout",
     "output_type": "stream",
     "text": [
      ",:   \t83.83%\n",
      "but:   \t9.26%\n",
      "yet:   \t4.58%\n",
      "with:   \t1.51%\n",
      "and:   \t0.41%\n",
      "--------\n",
      "\n"
     ]
    },
    {
     "data": {
      "text/html": [
       "<span style=\"background-color:rgba(135,206,250,0.025837835);\">wine</span> <span style=\"background-color:rgba(135,206,250,0.058675222);\">review</span> <span style=\"background-color:rgba(135,206,250,0.034910686);\">:</span> <span style=\"background-color:rgba(135,206,250,0.17659973);\">germany</span> <span style=\"background-color:rgba(135,206,250,0.028429387);\">:</span> <span style=\"background-color:rgba(135,206,250,0.1124453);\">mosel</span> <span style=\"background-color:rgba(135,206,250,0.022587996);\">:</span> <span style=\"background-color:rgba(135,206,250,0.15655008);\">riesling</span> <span style=\"background-color:rgba(135,206,250,0.030552568);\">:</span> <span style=\"background-color:rgba(135,206,250,0.02205228);\">[UNK]</span> <span style=\"background-color:rgba(135,206,250,0.0111583695);\">'</span> <span style=\"background-color:rgba(135,206,250,0.0470475);\">s</span> <span style=\"background-color:rgba(135,206,250,0.016370708);\">[UNK]</span> <span style=\"background-color:rgba(135,206,250,0.009310826);\">'</span> <span style=\"background-color:rgba(135,206,250,0.037440065);\">s</span> <span style=\"background-color:rgba(135,206,250,0.014555664);\">[UNK]</span> <span style=\"background-color:rgba(135,206,250,0.024059726);\">estate</span> <span style=\"background-color:rgba(135,206,250,0.007987822);\">'</span> <span style=\"background-color:rgba(135,206,250,0.03681151);\">s</span> <span style=\"background-color:rgba(135,206,250,0.014576959);\">[UNK]</span> <span style=\"background-color:rgba(135,206,250,0.014270494);\">[UNK]</span> <span style=\"background-color:rgba(135,206,250,0.008377558);\">'</span> <span style=\"background-color:rgba(135,206,250,0.037585426);\">s</span> <span style=\"background-color:rgba(135,206,250,0.03375133);\">lineup</span> <span style=\"background-color:rgba(135,206,250,0.017170247);\">of</span> <span style=\"background-color:rgba(135,206,250,0.057143997);\">german</span> <span style=\"background-color:rgba(135,206,250,0.05265756);\">riesling</span> <span style=\"background-color:rgba(135,206,250,0.07590239);\">.</span> <span style=\"background-color:rgba(135,206,250,0.04722452);\">this</span> <span style=\"background-color:rgba(135,206,250,0.025096286);\">one</span> <span style=\"background-color:rgba(135,206,250,0.06092173);\">is</span> <span style=\"background-color:rgba(135,206,250,0.018909091);\">a</span> <span style=\"background-color:rgba(135,206,250,0.061533984);\">showcase</span> <span style=\"background-color:rgba(135,206,250,0.025647452);\">of</span> <span style=\"background-color:rgba(135,206,250,0.06395943);\">honey</span> <span style=\"background-color:rgba(135,206,250,0.04172178);\">and</span> <span style=\"background-color:rgba(135,206,250,0.061327305);\">spice</span> <span style=\"background-color:rgba(135,206,250,0.033263233);\">,</span> <span style=\"background-color:rgba(135,206,250,0.08294686);\">with</span> <span style=\"background-color:rgba(135,206,250,0.031818874);\">a</span> <span style=\"background-color:rgba(135,206,250,0.058683958);\">touch</span> <span style=\"background-color:rgba(135,206,250,0.044035196);\">of</span> <span style=\"background-color:rgba(135,206,250,0.10106562);\">honey</span> <span style=\"background-color:rgba(135,206,250,0.08765831);\">and</span> <span style=\"background-color:rgba(135,206,250,0.08180971);\">saffron</span> <span style=\"background-color:rgba(135,206,250,0.28530756);\">.</span> <span style=\"background-color:rgba(135,206,250,0.18579507);\">it</span> <span style=\"background-color:rgba(135,206,250,0.04169035);\">'</span> <span style=\"background-color:rgba(135,206,250,0.2639662);\">s</span> <span style=\"background-color:rgba(135,206,250,0.29735494);\">lusciously</span> <span style=\"background-color:rgba(135,206,250,0.34876123);\">sweet</span> <span style=\"background-color:rgba(135,206,250,0.34978566);\">on</span> <span style=\"background-color:rgba(135,206,250,0.4402197);\">the</span> <span style=\"background-color:rgba(135,206,250,1.0);\">palate</span> <span style=\"background-color:rgba(135,206,250,0.4613891);\">,</span>"
      ],
      "text/plain": [
       "<IPython.core.display.HTML object>"
      ]
     },
     "metadata": {},
     "output_type": "display_data"
    },
    {
     "name": "stdout",
     "output_type": "stream",
     "text": [
      "but:   \t94.15%\n",
      "with:   \t4.17%\n",
      "yet:   \t1.5%\n",
      "and:   \t0.04%\n",
      "however:   \t0.03%\n",
      "--------\n",
      "\n"
     ]
    },
    {
     "data": {
      "text/html": [
       "<span style=\"background-color:rgba(135,206,250,0.060080297);\">wine</span> <span style=\"background-color:rgba(135,206,250,0.11865245);\">review</span> <span style=\"background-color:rgba(135,206,250,0.14828488);\">:</span> <span style=\"background-color:rgba(135,206,250,0.5487731);\">germany</span> <span style=\"background-color:rgba(135,206,250,0.08191131);\">:</span> <span style=\"background-color:rgba(135,206,250,0.1841318);\">mosel</span> <span style=\"background-color:rgba(135,206,250,0.052549224);\">:</span> <span style=\"background-color:rgba(135,206,250,0.22209442);\">riesling</span> <span style=\"background-color:rgba(135,206,250,0.052115027);\">:</span> <span style=\"background-color:rgba(135,206,250,0.042979136);\">[UNK]</span> <span style=\"background-color:rgba(135,206,250,0.017459627);\">'</span> <span style=\"background-color:rgba(135,206,250,0.05815114);\">s</span> <span style=\"background-color:rgba(135,206,250,0.035001192);\">[UNK]</span> <span style=\"background-color:rgba(135,206,250,0.013537893);\">'</span> <span style=\"background-color:rgba(135,206,250,0.044365548);\">s</span> <span style=\"background-color:rgba(135,206,250,0.027954204);\">[UNK]</span> <span style=\"background-color:rgba(135,206,250,0.04482725);\">estate</span> <span style=\"background-color:rgba(135,206,250,0.010872789);\">'</span> <span style=\"background-color:rgba(135,206,250,0.037617356);\">s</span> <span style=\"background-color:rgba(135,206,250,0.024942642);\">[UNK]</span> <span style=\"background-color:rgba(135,206,250,0.025773296);\">[UNK]</span> <span style=\"background-color:rgba(135,206,250,0.0100402385);\">'</span> <span style=\"background-color:rgba(135,206,250,0.03787448);\">s</span> <span style=\"background-color:rgba(135,206,250,0.07819952);\">lineup</span> <span style=\"background-color:rgba(135,206,250,0.030173501);\">of</span> <span style=\"background-color:rgba(135,206,250,0.07309967);\">german</span> <span style=\"background-color:rgba(135,206,250,0.06967007);\">riesling</span> <span style=\"background-color:rgba(135,206,250,0.08468156);\">.</span> <span style=\"background-color:rgba(135,206,250,0.06065437);\">this</span> <span style=\"background-color:rgba(135,206,250,0.034908265);\">one</span> <span style=\"background-color:rgba(135,206,250,0.059374895);\">is</span> <span style=\"background-color:rgba(135,206,250,0.048652813);\">a</span> <span style=\"background-color:rgba(135,206,250,0.07363539);\">showcase</span> <span style=\"background-color:rgba(135,206,250,0.041760013);\">of</span> <span style=\"background-color:rgba(135,206,250,0.1013221);\">honey</span> <span style=\"background-color:rgba(135,206,250,0.044441808);\">and</span> <span style=\"background-color:rgba(135,206,250,0.0927405);\">spice</span> <span style=\"background-color:rgba(135,206,250,0.058614966);\">,</span> <span style=\"background-color:rgba(135,206,250,0.10489016);\">with</span> <span style=\"background-color:rgba(135,206,250,0.07485117);\">a</span> <span style=\"background-color:rgba(135,206,250,0.08819627);\">touch</span> <span style=\"background-color:rgba(135,206,250,0.06898256);\">of</span> <span style=\"background-color:rgba(135,206,250,0.14921378);\">honey</span> <span style=\"background-color:rgba(135,206,250,0.0816809);\">and</span> <span style=\"background-color:rgba(135,206,250,0.13131003);\">saffron</span> <span style=\"background-color:rgba(135,206,250,0.33424735);\">.</span> <span style=\"background-color:rgba(135,206,250,0.16475728);\">it</span> <span style=\"background-color:rgba(135,206,250,0.07222202);\">'</span> <span style=\"background-color:rgba(135,206,250,0.21871778);\">s</span> <span style=\"background-color:rgba(135,206,250,0.34838668);\">lusciously</span> <span style=\"background-color:rgba(135,206,250,0.27856642);\">sweet</span> <span style=\"background-color:rgba(135,206,250,0.3011005);\">on</span> <span style=\"background-color:rgba(135,206,250,0.50734013);\">the</span> <span style=\"background-color:rgba(135,206,250,0.88658124);\">palate</span> <span style=\"background-color:rgba(135,206,250,1.0);\">,</span> <span style=\"background-color:rgba(135,206,250,0.5613148);\">but</span>"
      ],
      "text/plain": [
       "<IPython.core.display.HTML object>"
      ]
     },
     "metadata": {},
     "output_type": "display_data"
    },
    {
     "name": "stdout",
     "output_type": "stream",
     "text": [
      "it:   \t67.99%\n",
      "the:   \t15.36%\n",
      "there:   \t3.47%\n",
      "with:   \t3.25%\n",
      "is:   \t3.1%\n",
      "--------\n",
      "\n"
     ]
    },
    {
     "data": {
      "text/html": [
       "<span style=\"background-color:rgba(135,206,250,0.030246427);\">wine</span> <span style=\"background-color:rgba(135,206,250,0.04659118);\">review</span> <span style=\"background-color:rgba(135,206,250,0.038941048);\">:</span> <span style=\"background-color:rgba(135,206,250,0.31257877);\">germany</span> <span style=\"background-color:rgba(135,206,250,0.032448728);\">:</span> <span style=\"background-color:rgba(135,206,250,0.14036612);\">mosel</span> <span style=\"background-color:rgba(135,206,250,0.0286194);\">:</span> <span style=\"background-color:rgba(135,206,250,0.08339789);\">riesling</span> <span style=\"background-color:rgba(135,206,250,0.029217977);\">:</span> <span style=\"background-color:rgba(135,206,250,0.023052089);\">[UNK]</span> <span style=\"background-color:rgba(135,206,250,0.010633585);\">'</span> <span style=\"background-color:rgba(135,206,250,0.03228377);\">s</span> <span style=\"background-color:rgba(135,206,250,0.018632459);\">[UNK]</span> <span style=\"background-color:rgba(135,206,250,0.008988424);\">'</span> <span style=\"background-color:rgba(135,206,250,0.025281603);\">s</span> <span style=\"background-color:rgba(135,206,250,0.0158992);\">[UNK]</span> <span style=\"background-color:rgba(135,206,250,0.02641344);\">estate</span> <span style=\"background-color:rgba(135,206,250,0.0070583303);\">'</span> <span style=\"background-color:rgba(135,206,250,0.022697177);\">s</span> <span style=\"background-color:rgba(135,206,250,0.014312647);\">[UNK]</span> <span style=\"background-color:rgba(135,206,250,0.01486226);\">[UNK]</span> <span style=\"background-color:rgba(135,206,250,0.0070043835);\">'</span> <span style=\"background-color:rgba(135,206,250,0.02231508);\">s</span> <span style=\"background-color:rgba(135,206,250,0.044927474);\">lineup</span> <span style=\"background-color:rgba(135,206,250,0.0136274295);\">of</span> <span style=\"background-color:rgba(135,206,250,0.03875932);\">german</span> <span style=\"background-color:rgba(135,206,250,0.03296516);\">riesling</span> <span style=\"background-color:rgba(135,206,250,0.03914824);\">.</span> <span style=\"background-color:rgba(135,206,250,0.013661956);\">this</span> <span style=\"background-color:rgba(135,206,250,0.014726235);\">one</span> <span style=\"background-color:rgba(135,206,250,0.024263892);\">is</span> <span style=\"background-color:rgba(135,206,250,0.017203955);\">a</span> <span style=\"background-color:rgba(135,206,250,0.03469056);\">showcase</span> <span style=\"background-color:rgba(135,206,250,0.017804053);\">of</span> <span style=\"background-color:rgba(135,206,250,0.04021448);\">honey</span> <span style=\"background-color:rgba(135,206,250,0.023092687);\">and</span> <span style=\"background-color:rgba(135,206,250,0.0353446);\">spice</span> <span style=\"background-color:rgba(135,206,250,0.025050348);\">,</span> <span style=\"background-color:rgba(135,206,250,0.040233783);\">with</span> <span style=\"background-color:rgba(135,206,250,0.022460978);\">a</span> <span style=\"background-color:rgba(135,206,250,0.034564696);\">touch</span> <span style=\"background-color:rgba(135,206,250,0.023497103);\">of</span> <span style=\"background-color:rgba(135,206,250,0.052707914);\">honey</span> <span style=\"background-color:rgba(135,206,250,0.031099377);\">and</span> <span style=\"background-color:rgba(135,206,250,0.04586107);\">saffron</span> <span style=\"background-color:rgba(135,206,250,0.08548084);\">.</span> <span style=\"background-color:rgba(135,206,250,0.021648314);\">it</span> <span style=\"background-color:rgba(135,206,250,0.019051535);\">'</span> <span style=\"background-color:rgba(135,206,250,0.07299483);\">s</span> <span style=\"background-color:rgba(135,206,250,0.22796342);\">lusciously</span> <span style=\"background-color:rgba(135,206,250,0.09569333);\">sweet</span> <span style=\"background-color:rgba(135,206,250,0.10209086);\">on</span> <span style=\"background-color:rgba(135,206,250,0.11131673);\">the</span> <span style=\"background-color:rgba(135,206,250,0.3223379);\">palate</span> <span style=\"background-color:rgba(135,206,250,0.7183723);\">,</span> <span style=\"background-color:rgba(135,206,250,1.0);\">but</span> <span style=\"background-color:rgba(135,206,250,0.3075087);\">it</span>"
      ],
      "text/plain": [
       "<IPython.core.display.HTML object>"
      ]
     },
     "metadata": {},
     "output_type": "display_data"
    },
    {
     "name": "stdout",
     "output_type": "stream",
     "text": [
      "':   \t99.72%\n",
      "finishes:   \t0.18%\n",
      "should:   \t0.03%\n",
      "also:   \t0.02%\n",
      "is:   \t0.02%\n",
      "--------\n",
      "\n"
     ]
    },
    {
     "data": {
      "text/html": [
       "<span style=\"background-color:rgba(135,206,250,0.048080534);\">wine</span> <span style=\"background-color:rgba(135,206,250,0.07848544);\">review</span> <span style=\"background-color:rgba(135,206,250,0.049737766);\">:</span> <span style=\"background-color:rgba(135,206,250,0.14160055);\">germany</span> <span style=\"background-color:rgba(135,206,250,0.04371564);\">:</span> <span style=\"background-color:rgba(135,206,250,0.12370331);\">mosel</span> <span style=\"background-color:rgba(135,206,250,0.036860857);\">:</span> <span style=\"background-color:rgba(135,206,250,0.12866211);\">riesling</span> <span style=\"background-color:rgba(135,206,250,0.045977373);\">:</span> <span style=\"background-color:rgba(135,206,250,0.03658566);\">[UNK]</span> <span style=\"background-color:rgba(135,206,250,0.018260516);\">'</span> <span style=\"background-color:rgba(135,206,250,0.025683753);\">s</span> <span style=\"background-color:rgba(135,206,250,0.020702165);\">[UNK]</span> <span style=\"background-color:rgba(135,206,250,0.013567384);\">'</span> <span style=\"background-color:rgba(135,206,250,0.021641558);\">s</span> <span style=\"background-color:rgba(135,206,250,0.019621981);\">[UNK]</span> <span style=\"background-color:rgba(135,206,250,0.023111446);\">estate</span> <span style=\"background-color:rgba(135,206,250,0.01269993);\">'</span> <span style=\"background-color:rgba(135,206,250,0.021358911);\">s</span> <span style=\"background-color:rgba(135,206,250,0.019303227);\">[UNK]</span> <span style=\"background-color:rgba(135,206,250,0.01970277);\">[UNK]</span> <span style=\"background-color:rgba(135,206,250,0.01292651);\">'</span> <span style=\"background-color:rgba(135,206,250,0.021698507);\">s</span> <span style=\"background-color:rgba(135,206,250,0.04556425);\">lineup</span> <span style=\"background-color:rgba(135,206,250,0.018294392);\">of</span> <span style=\"background-color:rgba(135,206,250,0.0331515);\">german</span> <span style=\"background-color:rgba(135,206,250,0.042774532);\">riesling</span> <span style=\"background-color:rgba(135,206,250,0.054988652);\">.</span> <span style=\"background-color:rgba(135,206,250,0.024285972);\">this</span> <span style=\"background-color:rgba(135,206,250,0.020796975);\">one</span> <span style=\"background-color:rgba(135,206,250,0.03102532);\">is</span> <span style=\"background-color:rgba(135,206,250,0.021325955);\">a</span> <span style=\"background-color:rgba(135,206,250,0.04297432);\">showcase</span> <span style=\"background-color:rgba(135,206,250,0.024261579);\">of</span> <span style=\"background-color:rgba(135,206,250,0.04089054);\">honey</span> <span style=\"background-color:rgba(135,206,250,0.03591834);\">and</span> <span style=\"background-color:rgba(135,206,250,0.034909043);\">spice</span> <span style=\"background-color:rgba(135,206,250,0.039479118);\">,</span> <span style=\"background-color:rgba(135,206,250,0.04057904);\">with</span> <span style=\"background-color:rgba(135,206,250,0.02622992);\">a</span> <span style=\"background-color:rgba(135,206,250,0.02816934);\">touch</span> <span style=\"background-color:rgba(135,206,250,0.028491303);\">of</span> <span style=\"background-color:rgba(135,206,250,0.051927466);\">honey</span> <span style=\"background-color:rgba(135,206,250,0.047099218);\">and</span> <span style=\"background-color:rgba(135,206,250,0.07414343);\">saffron</span> <span style=\"background-color:rgba(135,206,250,0.1044132);\">.</span> <span style=\"background-color:rgba(135,206,250,0.07010996);\">it</span> <span style=\"background-color:rgba(135,206,250,0.026224943);\">'</span> <span style=\"background-color:rgba(135,206,250,0.08026024);\">s</span> <span style=\"background-color:rgba(135,206,250,0.1276591);\">lusciously</span> <span style=\"background-color:rgba(135,206,250,0.08978503);\">sweet</span> <span style=\"background-color:rgba(135,206,250,0.09015709);\">on</span> <span style=\"background-color:rgba(135,206,250,0.15352221);\">the</span> <span style=\"background-color:rgba(135,206,250,0.5063551);\">palate</span> <span style=\"background-color:rgba(135,206,250,0.32231495);\">,</span> <span style=\"background-color:rgba(135,206,250,0.5452698);\">but</span> <span style=\"background-color:rgba(135,206,250,1.0);\">it</span> <span style=\"background-color:rgba(135,206,250,0.08748227);\">'</span>"
      ],
      "text/plain": [
       "<IPython.core.display.HTML object>"
      ]
     },
     "metadata": {},
     "output_type": "display_data"
    },
    {
     "name": "stdout",
     "output_type": "stream",
     "text": [
      "s:   \t100.0%\n",
      "ll:   \t0.0%\n",
      "[UNK]:   \t0.0%\n",
      "d:   \t0.0%\n",
      "re:   \t0.0%\n",
      "--------\n",
      "\n"
     ]
    },
    {
     "data": {
      "text/html": [
       "<span style=\"background-color:rgba(135,206,250,0.032954946);\">wine</span> <span style=\"background-color:rgba(135,206,250,0.05317792);\">review</span> <span style=\"background-color:rgba(135,206,250,0.04316129);\">:</span> <span style=\"background-color:rgba(135,206,250,0.22140333);\">germany</span> <span style=\"background-color:rgba(135,206,250,0.024392823);\">:</span> <span style=\"background-color:rgba(135,206,250,0.19432378);\">mosel</span> <span style=\"background-color:rgba(135,206,250,0.025782038);\">:</span> <span style=\"background-color:rgba(135,206,250,0.15824135);\">riesling</span> <span style=\"background-color:rgba(135,206,250,0.037920825);\">:</span> <span style=\"background-color:rgba(135,206,250,0.03333154);\">[UNK]</span> <span style=\"background-color:rgba(135,206,250,0.014938005);\">'</span> <span style=\"background-color:rgba(135,206,250,0.02087705);\">s</span> <span style=\"background-color:rgba(135,206,250,0.020058434);\">[UNK]</span> <span style=\"background-color:rgba(135,206,250,0.0116073);\">'</span> <span style=\"background-color:rgba(135,206,250,0.01669688);\">s</span> <span style=\"background-color:rgba(135,206,250,0.018017873);\">[UNK]</span> <span style=\"background-color:rgba(135,206,250,0.026078828);\">estate</span> <span style=\"background-color:rgba(135,206,250,0.009760417);\">'</span> <span style=\"background-color:rgba(135,206,250,0.015614328);\">s</span> <span style=\"background-color:rgba(135,206,250,0.017264705);\">[UNK]</span> <span style=\"background-color:rgba(135,206,250,0.01762871);\">[UNK]</span> <span style=\"background-color:rgba(135,206,250,0.009558366);\">'</span> <span style=\"background-color:rgba(135,206,250,0.015435827);\">s</span> <span style=\"background-color:rgba(135,206,250,0.052183807);\">lineup</span> <span style=\"background-color:rgba(135,206,250,0.012598416);\">of</span> <span style=\"background-color:rgba(135,206,250,0.059886627);\">german</span> <span style=\"background-color:rgba(135,206,250,0.04680363);\">riesling</span> <span style=\"background-color:rgba(135,206,250,0.04213353);\">.</span> <span style=\"background-color:rgba(135,206,250,0.017454395);\">this</span> <span style=\"background-color:rgba(135,206,250,0.01685639);\">one</span> <span style=\"background-color:rgba(135,206,250,0.019863931);\">is</span> <span style=\"background-color:rgba(135,206,250,0.016115053);\">a</span> <span style=\"background-color:rgba(135,206,250,0.034261238);\">showcase</span> <span style=\"background-color:rgba(135,206,250,0.016055204);\">of</span> <span style=\"background-color:rgba(135,206,250,0.04459856);\">honey</span> <span style=\"background-color:rgba(135,206,250,0.028227475);\">and</span> <span style=\"background-color:rgba(135,206,250,0.044790324);\">spice</span> <span style=\"background-color:rgba(135,206,250,0.02644844);\">,</span> <span style=\"background-color:rgba(135,206,250,0.02980661);\">with</span> <span style=\"background-color:rgba(135,206,250,0.020362243);\">a</span> <span style=\"background-color:rgba(135,206,250,0.02762463);\">touch</span> <span style=\"background-color:rgba(135,206,250,0.020665308);\">of</span> <span style=\"background-color:rgba(135,206,250,0.056518696);\">honey</span> <span style=\"background-color:rgba(135,206,250,0.037368536);\">and</span> <span style=\"background-color:rgba(135,206,250,0.06476025);\">saffron</span> <span style=\"background-color:rgba(135,206,250,0.08793349);\">.</span> <span style=\"background-color:rgba(135,206,250,0.033650387);\">it</span> <span style=\"background-color:rgba(135,206,250,0.019030342);\">'</span> <span style=\"background-color:rgba(135,206,250,0.032507017);\">s</span> <span style=\"background-color:rgba(135,206,250,0.21229476);\">lusciously</span> <span style=\"background-color:rgba(135,206,250,0.1071316);\">sweet</span> <span style=\"background-color:rgba(135,206,250,0.112673774);\">on</span> <span style=\"background-color:rgba(135,206,250,0.068584815);\">the</span> <span style=\"background-color:rgba(135,206,250,0.22376513);\">palate</span> <span style=\"background-color:rgba(135,206,250,0.35912758);\">,</span> <span style=\"background-color:rgba(135,206,250,1.0);\">but</span> <span style=\"background-color:rgba(135,206,250,0.59209675);\">it</span> <span style=\"background-color:rgba(135,206,250,0.0916216);\">'</span> <span style=\"background-color:rgba(135,206,250,0.17738041);\">s</span>"
      ],
      "text/plain": [
       "<IPython.core.display.HTML object>"
      ]
     },
     "metadata": {},
     "output_type": "display_data"
    },
    {
     "name": "stdout",
     "output_type": "stream",
     "text": [
      "balanced:   \t32.29%\n",
      "a:   \t17.13%\n",
      "also:   \t12.12%\n",
      "chock:   \t5.46%\n",
      "not:   \t4.65%\n",
      "--------\n",
      "\n"
     ]
    },
    {
     "data": {
      "text/html": [
       "<span style=\"background-color:rgba(135,206,250,0.052901022);\">wine</span> <span style=\"background-color:rgba(135,206,250,0.1007219);\">review</span> <span style=\"background-color:rgba(135,206,250,0.07842343);\">:</span> <span style=\"background-color:rgba(135,206,250,0.2963925);\">germany</span> <span style=\"background-color:rgba(135,206,250,0.05811061);\">:</span> <span style=\"background-color:rgba(135,206,250,0.17288147);\">mosel</span> <span style=\"background-color:rgba(135,206,250,0.041764315);\">:</span> <span style=\"background-color:rgba(135,206,250,0.11196429);\">riesling</span> <span style=\"background-color:rgba(135,206,250,0.04669048);\">:</span> <span style=\"background-color:rgba(135,206,250,0.034069847);\">[UNK]</span> <span style=\"background-color:rgba(135,206,250,0.026836593);\">'</span> <span style=\"background-color:rgba(135,206,250,0.035827257);\">s</span> <span style=\"background-color:rgba(135,206,250,0.02301227);\">[UNK]</span> <span style=\"background-color:rgba(135,206,250,0.021361459);\">'</span> <span style=\"background-color:rgba(135,206,250,0.0287889);\">s</span> <span style=\"background-color:rgba(135,206,250,0.020214453);\">[UNK]</span> <span style=\"background-color:rgba(135,206,250,0.029578235);\">estate</span> <span style=\"background-color:rgba(135,206,250,0.01686947);\">'</span> <span style=\"background-color:rgba(135,206,250,0.02357252);\">s</span> <span style=\"background-color:rgba(135,206,250,0.017128024);\">[UNK]</span> <span style=\"background-color:rgba(135,206,250,0.017552242);\">[UNK]</span> <span style=\"background-color:rgba(135,206,250,0.015515695);\">'</span> <span style=\"background-color:rgba(135,206,250,0.022232825);\">s</span> <span style=\"background-color:rgba(135,206,250,0.04766416);\">lineup</span> <span style=\"background-color:rgba(135,206,250,0.021372644);\">of</span> <span style=\"background-color:rgba(135,206,250,0.041601293);\">german</span> <span style=\"background-color:rgba(135,206,250,0.03265994);\">riesling</span> <span style=\"background-color:rgba(135,206,250,0.04757618);\">.</span> <span style=\"background-color:rgba(135,206,250,0.01969363);\">this</span> <span style=\"background-color:rgba(135,206,250,0.019943856);\">one</span> <span style=\"background-color:rgba(135,206,250,0.025181575);\">is</span> <span style=\"background-color:rgba(135,206,250,0.027742432);\">a</span> <span style=\"background-color:rgba(135,206,250,0.03799012);\">showcase</span> <span style=\"background-color:rgba(135,206,250,0.028567942);\">of</span> <span style=\"background-color:rgba(135,206,250,0.040410407);\">honey</span> <span style=\"background-color:rgba(135,206,250,0.03269522);\">and</span> <span style=\"background-color:rgba(135,206,250,0.039720047);\">spice</span> <span style=\"background-color:rgba(135,206,250,0.041914508);\">,</span> <span style=\"background-color:rgba(135,206,250,0.043408096);\">with</span> <span style=\"background-color:rgba(135,206,250,0.03547127);\">a</span> <span style=\"background-color:rgba(135,206,250,0.03360304);\">touch</span> <span style=\"background-color:rgba(135,206,250,0.035970703);\">of</span> <span style=\"background-color:rgba(135,206,250,0.054058835);\">honey</span> <span style=\"background-color:rgba(135,206,250,0.044313826);\">and</span> <span style=\"background-color:rgba(135,206,250,0.055095173);\">saffron</span> <span style=\"background-color:rgba(135,206,250,0.102022596);\">.</span> <span style=\"background-color:rgba(135,206,250,0.047224432);\">it</span> <span style=\"background-color:rgba(135,206,250,0.031897612);\">'</span> <span style=\"background-color:rgba(135,206,250,0.07879662);\">s</span> <span style=\"background-color:rgba(135,206,250,0.14977369);\">lusciously</span> <span style=\"background-color:rgba(135,206,250,0.06660931);\">sweet</span> <span style=\"background-color:rgba(135,206,250,0.10395026);\">on</span> <span style=\"background-color:rgba(135,206,250,0.115058295);\">the</span> <span style=\"background-color:rgba(135,206,250,0.2867316);\">palate</span> <span style=\"background-color:rgba(135,206,250,0.29982784);\">,</span> <span style=\"background-color:rgba(135,206,250,0.39664856);\">but</span> <span style=\"background-color:rgba(135,206,250,0.6401546);\">it</span> <span style=\"background-color:rgba(135,206,250,0.10538581);\">'</span> <span style=\"background-color:rgba(135,206,250,1.0);\">s</span> <span style=\"background-color:rgba(135,206,250,0.2629595);\">also</span>"
      ],
      "text/plain": [
       "<IPython.core.display.HTML object>"
      ]
     },
     "metadata": {},
     "output_type": "display_data"
    },
    {
     "name": "stdout",
     "output_type": "stream",
     "text": [
      "a:   \t42.88%\n",
      "elegantly:   \t7.15%\n",
      "quite:   \t6.63%\n",
      "surprisingly:   \t6.27%\n",
      "rich:   \t5.59%\n",
      "--------\n",
      "\n"
     ]
    },
    {
     "data": {
      "text/html": [
       "<span style=\"background-color:rgba(135,206,250,0.05865666);\">wine</span> <span style=\"background-color:rgba(135,206,250,0.118619055);\">review</span> <span style=\"background-color:rgba(135,206,250,0.08890746);\">:</span> <span style=\"background-color:rgba(135,206,250,0.21691307);\">germany</span> <span style=\"background-color:rgba(135,206,250,0.05520931);\">:</span> <span style=\"background-color:rgba(135,206,250,0.22720747);\">mosel</span> <span style=\"background-color:rgba(135,206,250,0.041573454);\">:</span> <span style=\"background-color:rgba(135,206,250,0.21605645);\">riesling</span> <span style=\"background-color:rgba(135,206,250,0.052183736);\">:</span> <span style=\"background-color:rgba(135,206,250,0.036406424);\">[UNK]</span> <span style=\"background-color:rgba(135,206,250,0.026575305);\">'</span> <span style=\"background-color:rgba(135,206,250,0.02753637);\">s</span> <span style=\"background-color:rgba(135,206,250,0.024189329);\">[UNK]</span> <span style=\"background-color:rgba(135,206,250,0.021899281);\">'</span> <span style=\"background-color:rgba(135,206,250,0.02376625);\">s</span> <span style=\"background-color:rgba(135,206,250,0.020934135);\">[UNK]</span> <span style=\"background-color:rgba(135,206,250,0.03457531);\">estate</span> <span style=\"background-color:rgba(135,206,250,0.017327214);\">'</span> <span style=\"background-color:rgba(135,206,250,0.019766359);\">s</span> <span style=\"background-color:rgba(135,206,250,0.018530697);\">[UNK]</span> <span style=\"background-color:rgba(135,206,250,0.019257361);\">[UNK]</span> <span style=\"background-color:rgba(135,206,250,0.015885735);\">'</span> <span style=\"background-color:rgba(135,206,250,0.018064879);\">s</span> <span style=\"background-color:rgba(135,206,250,0.051387645);\">lineup</span> <span style=\"background-color:rgba(135,206,250,0.027377376);\">of</span> <span style=\"background-color:rgba(135,206,250,0.045012444);\">german</span> <span style=\"background-color:rgba(135,206,250,0.05026018);\">riesling</span> <span style=\"background-color:rgba(135,206,250,0.04889255);\">.</span> <span style=\"background-color:rgba(135,206,250,0.02094838);\">this</span> <span style=\"background-color:rgba(135,206,250,0.013568389);\">one</span> <span style=\"background-color:rgba(135,206,250,0.018600315);\">is</span> <span style=\"background-color:rgba(135,206,250,0.020284146);\">a</span> <span style=\"background-color:rgba(135,206,250,0.029094547);\">showcase</span> <span style=\"background-color:rgba(135,206,250,0.034956407);\">of</span> <span style=\"background-color:rgba(135,206,250,0.0489153);\">honey</span> <span style=\"background-color:rgba(135,206,250,0.036146853);\">and</span> <span style=\"background-color:rgba(135,206,250,0.04208037);\">spice</span> <span style=\"background-color:rgba(135,206,250,0.04568294);\">,</span> <span style=\"background-color:rgba(135,206,250,0.033270083);\">with</span> <span style=\"background-color:rgba(135,206,250,0.026969183);\">a</span> <span style=\"background-color:rgba(135,206,250,0.024482882);\">touch</span> <span style=\"background-color:rgba(135,206,250,0.04352272);\">of</span> <span style=\"background-color:rgba(135,206,250,0.06680568);\">honey</span> <span style=\"background-color:rgba(135,206,250,0.048772596);\">and</span> <span style=\"background-color:rgba(135,206,250,0.05976109);\">saffron</span> <span style=\"background-color:rgba(135,206,250,0.101243936);\">.</span> <span style=\"background-color:rgba(135,206,250,0.040699974);\">it</span> <span style=\"background-color:rgba(135,206,250,0.033974916);\">'</span> <span style=\"background-color:rgba(135,206,250,0.050703607);\">s</span> <span style=\"background-color:rgba(135,206,250,0.10994812);\">lusciously</span> <span style=\"background-color:rgba(135,206,250,0.073903866);\">sweet</span> <span style=\"background-color:rgba(135,206,250,0.110040955);\">on</span> <span style=\"background-color:rgba(135,206,250,0.11384233);\">the</span> <span style=\"background-color:rgba(135,206,250,0.29069248);\">palate</span> <span style=\"background-color:rgba(135,206,250,0.2526292);\">,</span> <span style=\"background-color:rgba(135,206,250,0.36855945);\">but</span> <span style=\"background-color:rgba(135,206,250,0.5425319);\">it</span> <span style=\"background-color:rgba(135,206,250,0.18450214);\">'</span> <span style=\"background-color:rgba(135,206,250,0.48422548);\">s</span> <span style=\"background-color:rgba(135,206,250,1.0);\">also</span> <span style=\"background-color:rgba(135,206,250,0.2536429);\">elegantly</span>"
      ],
      "text/plain": [
       "<IPython.core.display.HTML object>"
      ]
     },
     "metadata": {},
     "output_type": "display_data"
    },
    {
     "name": "stdout",
     "output_type": "stream",
     "text": [
      "structured:   \t93.27%\n",
      "balanced:   \t5.44%\n",
      "honeyed:   \t0.28%\n",
      "complex:   \t0.15%\n",
      "fruity:   \t0.11%\n",
      "--------\n",
      "\n"
     ]
    },
    {
     "data": {
      "text/html": [
       "<span style=\"background-color:rgba(135,206,250,0.040702943);\">wine</span> <span style=\"background-color:rgba(135,206,250,0.06665718);\">review</span> <span style=\"background-color:rgba(135,206,250,0.03954217);\">:</span> <span style=\"background-color:rgba(135,206,250,0.17804456);\">germany</span> <span style=\"background-color:rgba(135,206,250,0.025371598);\">:</span> <span style=\"background-color:rgba(135,206,250,0.20734605);\">mosel</span> <span style=\"background-color:rgba(135,206,250,0.03227749);\">:</span> <span style=\"background-color:rgba(135,206,250,0.3742518);\">riesling</span> <span style=\"background-color:rgba(135,206,250,0.046978287);\">:</span> <span style=\"background-color:rgba(135,206,250,0.03622576);\">[UNK]</span> <span style=\"background-color:rgba(135,206,250,0.014275735);\">'</span> <span style=\"background-color:rgba(135,206,250,0.031107247);\">s</span> <span style=\"background-color:rgba(135,206,250,0.015474006);\">[UNK]</span> <span style=\"background-color:rgba(135,206,250,0.009360115);\">'</span> <span style=\"background-color:rgba(135,206,250,0.022813467);\">s</span> <span style=\"background-color:rgba(135,206,250,0.013167261);\">[UNK]</span> <span style=\"background-color:rgba(135,206,250,0.017325386);\">estate</span> <span style=\"background-color:rgba(135,206,250,0.00808199);\">'</span> <span style=\"background-color:rgba(135,206,250,0.022320485);\">s</span> <span style=\"background-color:rgba(135,206,250,0.013843881);\">[UNK]</span> <span style=\"background-color:rgba(135,206,250,0.0136618605);\">[UNK]</span> <span style=\"background-color:rgba(135,206,250,0.008070074);\">'</span> <span style=\"background-color:rgba(135,206,250,0.02083356);\">s</span> <span style=\"background-color:rgba(135,206,250,0.03556008);\">lineup</span> <span style=\"background-color:rgba(135,206,250,0.0157315);\">of</span> <span style=\"background-color:rgba(135,206,250,0.046784665);\">german</span> <span style=\"background-color:rgba(135,206,250,0.08255032);\">riesling</span> <span style=\"background-color:rgba(135,206,250,0.06266139);\">.</span> <span style=\"background-color:rgba(135,206,250,0.018001499);\">this</span> <span style=\"background-color:rgba(135,206,250,0.021018662);\">one</span> <span style=\"background-color:rgba(135,206,250,0.037787233);\">is</span> <span style=\"background-color:rgba(135,206,250,0.011709558);\">a</span> <span style=\"background-color:rgba(135,206,250,0.03375342);\">showcase</span> <span style=\"background-color:rgba(135,206,250,0.021626104);\">of</span> <span style=\"background-color:rgba(135,206,250,0.04340899);\">honey</span> <span style=\"background-color:rgba(135,206,250,0.030203816);\">and</span> <span style=\"background-color:rgba(135,206,250,0.049058847);\">spice</span> <span style=\"background-color:rgba(135,206,250,0.037037734);\">,</span> <span style=\"background-color:rgba(135,206,250,0.03189189);\">with</span> <span style=\"background-color:rgba(135,206,250,0.017941246);\">a</span> <span style=\"background-color:rgba(135,206,250,0.03026977);\">touch</span> <span style=\"background-color:rgba(135,206,250,0.03039545);\">of</span> <span style=\"background-color:rgba(135,206,250,0.056339003);\">honey</span> <span style=\"background-color:rgba(135,206,250,0.04345617);\">and</span> <span style=\"background-color:rgba(135,206,250,0.054344893);\">saffron</span> <span style=\"background-color:rgba(135,206,250,0.13336101);\">.</span> <span style=\"background-color:rgba(135,206,250,0.064190164);\">it</span> <span style=\"background-color:rgba(135,206,250,0.023026207);\">'</span> <span style=\"background-color:rgba(135,206,250,0.071800575);\">s</span> <span style=\"background-color:rgba(135,206,250,0.07790182);\">lusciously</span> <span style=\"background-color:rgba(135,206,250,0.08414779);\">sweet</span> <span style=\"background-color:rgba(135,206,250,0.08111557);\">on</span> <span style=\"background-color:rgba(135,206,250,0.11553509);\">the</span> <span style=\"background-color:rgba(135,206,250,0.34476858);\">palate</span> <span style=\"background-color:rgba(135,206,250,0.16255812);\">,</span> <span style=\"background-color:rgba(135,206,250,0.23015243);\">but</span> <span style=\"background-color:rgba(135,206,250,0.484123);\">it</span> <span style=\"background-color:rgba(135,206,250,0.14093716);\">'</span> <span style=\"background-color:rgba(135,206,250,0.52131003);\">s</span> <span style=\"background-color:rgba(135,206,250,1.0);\">also</span> <span style=\"background-color:rgba(135,206,250,0.35924482);\">elegantly</span> <span style=\"background-color:rgba(135,206,250,0.34901667);\">structured</span>"
      ],
      "text/plain": [
       "<IPython.core.display.HTML object>"
      ]
     },
     "metadata": {},
     "output_type": "display_data"
    },
    {
     "name": "stdout",
     "output_type": "stream",
     "text": [
      ",:   \t47.59%\n",
      "with:   \t20.17%\n",
      "and:   \t19.28%\n",
      ".:   \t11.03%\n",
      "by:   \t0.55%\n",
      "--------\n",
      "\n"
     ]
    },
    {
     "data": {
      "text/html": [
       "<span style=\"background-color:rgba(135,206,250,0.022800522);\">wine</span> <span style=\"background-color:rgba(135,206,250,0.045164686);\">review</span> <span style=\"background-color:rgba(135,206,250,0.031952836);\">:</span> <span style=\"background-color:rgba(135,206,250,0.17801347);\">germany</span> <span style=\"background-color:rgba(135,206,250,0.02589233);\">:</span> <span style=\"background-color:rgba(135,206,250,0.1110214);\">mosel</span> <span style=\"background-color:rgba(135,206,250,0.022433287);\">:</span> <span style=\"background-color:rgba(135,206,250,0.1518011);\">riesling</span> <span style=\"background-color:rgba(135,206,250,0.028926447);\">:</span> <span style=\"background-color:rgba(135,206,250,0.021860609);\">[UNK]</span> <span style=\"background-color:rgba(135,206,250,0.011059218);\">'</span> <span style=\"background-color:rgba(135,206,250,0.04599586);\">s</span> <span style=\"background-color:rgba(135,206,250,0.016359506);\">[UNK]</span> <span style=\"background-color:rgba(135,206,250,0.009266422);\">'</span> <span style=\"background-color:rgba(135,206,250,0.036362343);\">s</span> <span style=\"background-color:rgba(135,206,250,0.014116391);\">[UNK]</span> <span style=\"background-color:rgba(135,206,250,0.023042612);\">estate</span> <span style=\"background-color:rgba(135,206,250,0.0076909387);\">'</span> <span style=\"background-color:rgba(135,206,250,0.034307886);\">s</span> <span style=\"background-color:rgba(135,206,250,0.013819857);\">[UNK]</span> <span style=\"background-color:rgba(135,206,250,0.013310287);\">[UNK]</span> <span style=\"background-color:rgba(135,206,250,0.0076908846);\">'</span> <span style=\"background-color:rgba(135,206,250,0.03297396);\">s</span> <span style=\"background-color:rgba(135,206,250,0.030468728);\">lineup</span> <span style=\"background-color:rgba(135,206,250,0.014832551);\">of</span> <span style=\"background-color:rgba(135,206,250,0.052331045);\">german</span> <span style=\"background-color:rgba(135,206,250,0.04492579);\">riesling</span> <span style=\"background-color:rgba(135,206,250,0.05754526);\">.</span> <span style=\"background-color:rgba(135,206,250,0.036973204);\">this</span> <span style=\"background-color:rgba(135,206,250,0.019796686);\">one</span> <span style=\"background-color:rgba(135,206,250,0.047247626);\">is</span> <span style=\"background-color:rgba(135,206,250,0.0151622575);\">a</span> <span style=\"background-color:rgba(135,206,250,0.04578871);\">showcase</span> <span style=\"background-color:rgba(135,206,250,0.020030573);\">of</span> <span style=\"background-color:rgba(135,206,250,0.04741321);\">honey</span> <span style=\"background-color:rgba(135,206,250,0.031634394);\">and</span> <span style=\"background-color:rgba(135,206,250,0.04739876);\">spice</span> <span style=\"background-color:rgba(135,206,250,0.02449001);\">,</span> <span style=\"background-color:rgba(135,206,250,0.057512503);\">with</span> <span style=\"background-color:rgba(135,206,250,0.021592516);\">a</span> <span style=\"background-color:rgba(135,206,250,0.038238145);\">touch</span> <span style=\"background-color:rgba(135,206,250,0.028105972);\">of</span> <span style=\"background-color:rgba(135,206,250,0.061805077);\">honey</span> <span style=\"background-color:rgba(135,206,250,0.045432);\">and</span> <span style=\"background-color:rgba(135,206,250,0.044780638);\">saffron</span> <span style=\"background-color:rgba(135,206,250,0.11513327);\">.</span> <span style=\"background-color:rgba(135,206,250,0.09205874);\">it</span> <span style=\"background-color:rgba(135,206,250,0.019848026);\">'</span> <span style=\"background-color:rgba(135,206,250,0.093434446);\">s</span> <span style=\"background-color:rgba(135,206,250,0.10893404);\">lusciously</span> <span style=\"background-color:rgba(135,206,250,0.08296306);\">sweet</span> <span style=\"background-color:rgba(135,206,250,0.066129416);\">on</span> <span style=\"background-color:rgba(135,206,250,0.06238434);\">the</span> <span style=\"background-color:rgba(135,206,250,0.16571112);\">palate</span> <span style=\"background-color:rgba(135,206,250,0.067348324);\">,</span> <span style=\"background-color:rgba(135,206,250,0.31704968);\">but</span> <span style=\"background-color:rgba(135,206,250,0.27350175);\">it</span> <span style=\"background-color:rgba(135,206,250,0.06545465);\">'</span> <span style=\"background-color:rgba(135,206,250,0.46177122);\">s</span> <span style=\"background-color:rgba(135,206,250,0.6003652);\">also</span> <span style=\"background-color:rgba(135,206,250,0.33535513);\">elegantly</span> <span style=\"background-color:rgba(135,206,250,1.0);\">structured</span> <span style=\"background-color:rgba(135,206,250,0.4862462);\">,</span>"
      ],
      "text/plain": [
       "<IPython.core.display.HTML object>"
      ]
     },
     "metadata": {},
     "output_type": "display_data"
    },
    {
     "name": "stdout",
     "output_type": "stream",
     "text": [
      "with:   \t94.1%\n",
      "but:   \t3.52%\n",
      "and:   \t1.8%\n",
      "yet:   \t0.2%\n",
      "showing:   \t0.11%\n",
      "--------\n",
      "\n"
     ]
    },
    {
     "data": {
      "text/html": [
       "<span style=\"background-color:rgba(135,206,250,0.035725392);\">wine</span> <span style=\"background-color:rgba(135,206,250,0.058289573);\">review</span> <span style=\"background-color:rgba(135,206,250,0.07106155);\">:</span> <span style=\"background-color:rgba(135,206,250,0.27869353);\">germany</span> <span style=\"background-color:rgba(135,206,250,0.043281075);\">:</span> <span style=\"background-color:rgba(135,206,250,0.20257509);\">mosel</span> <span style=\"background-color:rgba(135,206,250,0.030885404);\">:</span> <span style=\"background-color:rgba(135,206,250,0.23678958);\">riesling</span> <span style=\"background-color:rgba(135,206,250,0.039961796);\">:</span> <span style=\"background-color:rgba(135,206,250,0.035914082);\">[UNK]</span> <span style=\"background-color:rgba(135,206,250,0.016811188);\">'</span> <span style=\"background-color:rgba(135,206,250,0.03378813);\">s</span> <span style=\"background-color:rgba(135,206,250,0.025255019);\">[UNK]</span> <span style=\"background-color:rgba(135,206,250,0.014891388);\">'</span> <span style=\"background-color:rgba(135,206,250,0.028301032);\">s</span> <span style=\"background-color:rgba(135,206,250,0.02203081);\">[UNK]</span> <span style=\"background-color:rgba(135,206,250,0.032537017);\">estate</span> <span style=\"background-color:rgba(135,206,250,0.011967372);\">'</span> <span style=\"background-color:rgba(135,206,250,0.025715806);\">s</span> <span style=\"background-color:rgba(135,206,250,0.02134046);\">[UNK]</span> <span style=\"background-color:rgba(135,206,250,0.020439196);\">[UNK]</span> <span style=\"background-color:rgba(135,206,250,0.011189665);\">'</span> <span style=\"background-color:rgba(135,206,250,0.023737233);\">s</span> <span style=\"background-color:rgba(135,206,250,0.05003088);\">lineup</span> <span style=\"background-color:rgba(135,206,250,0.014889918);\">of</span> <span style=\"background-color:rgba(135,206,250,0.100795805);\">german</span> <span style=\"background-color:rgba(135,206,250,0.06518683);\">riesling</span> <span style=\"background-color:rgba(135,206,250,0.053652834);\">.</span> <span style=\"background-color:rgba(135,206,250,0.020656738);\">this</span> <span style=\"background-color:rgba(135,206,250,0.0153537085);\">one</span> <span style=\"background-color:rgba(135,206,250,0.022291813);\">is</span> <span style=\"background-color:rgba(135,206,250,0.022073464);\">a</span> <span style=\"background-color:rgba(135,206,250,0.029286107);\">showcase</span> <span style=\"background-color:rgba(135,206,250,0.01829162);\">of</span> <span style=\"background-color:rgba(135,206,250,0.07147765);\">honey</span> <span style=\"background-color:rgba(135,206,250,0.030641314);\">and</span> <span style=\"background-color:rgba(135,206,250,0.0799831);\">spice</span> <span style=\"background-color:rgba(135,206,250,0.030604327);\">,</span> <span style=\"background-color:rgba(135,206,250,0.020752706);\">with</span> <span style=\"background-color:rgba(135,206,250,0.02845692);\">a</span> <span style=\"background-color:rgba(135,206,250,0.03479671);\">touch</span> <span style=\"background-color:rgba(135,206,250,0.021973483);\">of</span> <span style=\"background-color:rgba(135,206,250,0.08785378);\">honey</span> <span style=\"background-color:rgba(135,206,250,0.039235726);\">and</span> <span style=\"background-color:rgba(135,206,250,0.08654302);\">saffron</span> <span style=\"background-color:rgba(135,206,250,0.091792926);\">.</span> <span style=\"background-color:rgba(135,206,250,0.031793345);\">it</span> <span style=\"background-color:rgba(135,206,250,0.020000426);\">'</span> <span style=\"background-color:rgba(135,206,250,0.04602096);\">s</span> <span style=\"background-color:rgba(135,206,250,0.19953588);\">lusciously</span> <span style=\"background-color:rgba(135,206,250,0.10847704);\">sweet</span> <span style=\"background-color:rgba(135,206,250,0.044363454);\">on</span> <span style=\"background-color:rgba(135,206,250,0.04973275);\">the</span> <span style=\"background-color:rgba(135,206,250,0.17083098);\">palate</span> <span style=\"background-color:rgba(135,206,250,0.13193777);\">,</span> <span style=\"background-color:rgba(135,206,250,0.2785175);\">but</span> <span style=\"background-color:rgba(135,206,250,0.13465394);\">it</span> <span style=\"background-color:rgba(135,206,250,0.050419856);\">'</span> <span style=\"background-color:rgba(135,206,250,0.16379845);\">s</span> <span style=\"background-color:rgba(135,206,250,0.26274347);\">also</span> <span style=\"background-color:rgba(135,206,250,0.2793267);\">elegantly</span> <span style=\"background-color:rgba(135,206,250,0.9922502);\">structured</span> <span style=\"background-color:rgba(135,206,250,1.0);\">,</span> <span style=\"background-color:rgba(135,206,250,0.59101915);\">with</span>"
      ],
      "text/plain": [
       "<IPython.core.display.HTML object>"
      ]
     },
     "metadata": {},
     "output_type": "display_data"
    },
    {
     "name": "stdout",
     "output_type": "stream",
     "text": [
      "a:   \t93.26%\n",
      "hints:   \t2.02%\n",
      "an:   \t0.68%\n",
      "just:   \t0.46%\n",
      "lingering:   \t0.36%\n",
      "--------\n",
      "\n"
     ]
    },
    {
     "data": {
      "text/html": [
       "<span style=\"background-color:rgba(135,206,250,0.02223333);\">wine</span> <span style=\"background-color:rgba(135,206,250,0.03559653);\">review</span> <span style=\"background-color:rgba(135,206,250,0.023347674);\">:</span> <span style=\"background-color:rgba(135,206,250,0.14658114);\">germany</span> <span style=\"background-color:rgba(135,206,250,0.016763937);\">:</span> <span style=\"background-color:rgba(135,206,250,0.13090394);\">mosel</span> <span style=\"background-color:rgba(135,206,250,0.019399147);\">:</span> <span style=\"background-color:rgba(135,206,250,0.17094488);\">riesling</span> <span style=\"background-color:rgba(135,206,250,0.02152976);\">:</span> <span style=\"background-color:rgba(135,206,250,0.018901968);\">[UNK]</span> <span style=\"background-color:rgba(135,206,250,0.0089550605);\">'</span> <span style=\"background-color:rgba(135,206,250,0.017318761);\">s</span> <span style=\"background-color:rgba(135,206,250,0.0110154385);\">[UNK]</span> <span style=\"background-color:rgba(135,206,250,0.0070090704);\">'</span> <span style=\"background-color:rgba(135,206,250,0.013638124);\">s</span> <span style=\"background-color:rgba(135,206,250,0.009328458);\">[UNK]</span> <span style=\"background-color:rgba(135,206,250,0.014061753);\">estate</span> <span style=\"background-color:rgba(135,206,250,0.005596019);\">'</span> <span style=\"background-color:rgba(135,206,250,0.0123029705);\">s</span> <span style=\"background-color:rgba(135,206,250,0.009197461);\">[UNK]</span> <span style=\"background-color:rgba(135,206,250,0.008813553);\">[UNK]</span> <span style=\"background-color:rgba(135,206,250,0.0052813073);\">'</span> <span style=\"background-color:rgba(135,206,250,0.010783662);\">s</span> <span style=\"background-color:rgba(135,206,250,0.02572463);\">lineup</span> <span style=\"background-color:rgba(135,206,250,0.0071555795);\">of</span> <span style=\"background-color:rgba(135,206,250,0.03230877);\">german</span> <span style=\"background-color:rgba(135,206,250,0.031502243);\">riesling</span> <span style=\"background-color:rgba(135,206,250,0.034561027);\">.</span> <span style=\"background-color:rgba(135,206,250,0.010623918);\">this</span> <span style=\"background-color:rgba(135,206,250,0.008295327);\">one</span> <span style=\"background-color:rgba(135,206,250,0.01453558);\">is</span> <span style=\"background-color:rgba(135,206,250,0.0069057443);\">a</span> <span style=\"background-color:rgba(135,206,250,0.017199287);\">showcase</span> <span style=\"background-color:rgba(135,206,250,0.0083953645);\">of</span> <span style=\"background-color:rgba(135,206,250,0.02638771);\">honey</span> <span style=\"background-color:rgba(135,206,250,0.014039045);\">and</span> <span style=\"background-color:rgba(135,206,250,0.033644024);\">spice</span> <span style=\"background-color:rgba(135,206,250,0.014829533);\">,</span> <span style=\"background-color:rgba(135,206,250,0.012739659);\">with</span> <span style=\"background-color:rgba(135,206,250,0.009182632);\">a</span> <span style=\"background-color:rgba(135,206,250,0.015583748);\">touch</span> <span style=\"background-color:rgba(135,206,250,0.010323892);\">of</span> <span style=\"background-color:rgba(135,206,250,0.031420745);\">honey</span> <span style=\"background-color:rgba(135,206,250,0.018277347);\">and</span> <span style=\"background-color:rgba(135,206,250,0.026179058);\">saffron</span> <span style=\"background-color:rgba(135,206,250,0.054090828);\">.</span> <span style=\"background-color:rgba(135,206,250,0.018193621);\">it</span> <span style=\"background-color:rgba(135,206,250,0.009462084);\">'</span> <span style=\"background-color:rgba(135,206,250,0.0215207);\">s</span> <span style=\"background-color:rgba(135,206,250,0.057339385);\">lusciously</span> <span style=\"background-color:rgba(135,206,250,0.03541309);\">sweet</span> <span style=\"background-color:rgba(135,206,250,0.021512857);\">on</span> <span style=\"background-color:rgba(135,206,250,0.02686997);\">the</span> <span style=\"background-color:rgba(135,206,250,0.14449616);\">palate</span> <span style=\"background-color:rgba(135,206,250,0.040977053);\">,</span> <span style=\"background-color:rgba(135,206,250,0.063217804);\">but</span> <span style=\"background-color:rgba(135,206,250,0.068268314);\">it</span> <span style=\"background-color:rgba(135,206,250,0.023450041);\">'</span> <span style=\"background-color:rgba(135,206,250,0.09128325);\">s</span> <span style=\"background-color:rgba(135,206,250,0.15985197);\">also</span> <span style=\"background-color:rgba(135,206,250,0.06261693);\">elegantly</span> <span style=\"background-color:rgba(135,206,250,0.18730265);\">structured</span> <span style=\"background-color:rgba(135,206,250,0.36622813);\">,</span> <span style=\"background-color:rgba(135,206,250,1.0);\">with</span> <span style=\"background-color:rgba(135,206,250,0.14040525);\">gorgeous</span>"
      ],
      "text/plain": [
       "<IPython.core.display.HTML object>"
      ]
     },
     "metadata": {},
     "output_type": "display_data"
    },
    {
     "name": "stdout",
     "output_type": "stream",
     "text": [
      "layers:   \t63.25%\n",
      "minerality:   \t3.95%\n",
      "floral:   \t3.88%\n",
      "fruit:   \t3.8%\n",
      "acidity:   \t3.37%\n",
      "--------\n",
      "\n"
     ]
    },
    {
     "data": {
      "text/html": [
       "<span style=\"background-color:rgba(135,206,250,0.030534418);\">wine</span> <span style=\"background-color:rgba(135,206,250,0.062463555);\">review</span> <span style=\"background-color:rgba(135,206,250,0.038805343);\">:</span> <span style=\"background-color:rgba(135,206,250,0.24824747);\">germany</span> <span style=\"background-color:rgba(135,206,250,0.034089684);\">:</span> <span style=\"background-color:rgba(135,206,250,0.14692335);\">mosel</span> <span style=\"background-color:rgba(135,206,250,0.02901356);\">:</span> <span style=\"background-color:rgba(135,206,250,0.1664161);\">riesling</span> <span style=\"background-color:rgba(135,206,250,0.03343269);\">:</span> <span style=\"background-color:rgba(135,206,250,0.029822074);\">[UNK]</span> <span style=\"background-color:rgba(135,206,250,0.016284257);\">'</span> <span style=\"background-color:rgba(135,206,250,0.031990267);\">s</span> <span style=\"background-color:rgba(135,206,250,0.01877345);\">[UNK]</span> <span style=\"background-color:rgba(135,206,250,0.013280777);\">'</span> <span style=\"background-color:rgba(135,206,250,0.025782678);\">s</span> <span style=\"background-color:rgba(135,206,250,0.0155789945);\">[UNK]</span> <span style=\"background-color:rgba(135,206,250,0.023075754);\">estate</span> <span style=\"background-color:rgba(135,206,250,0.010521295);\">'</span> <span style=\"background-color:rgba(135,206,250,0.022359356);\">s</span> <span style=\"background-color:rgba(135,206,250,0.014482991);\">[UNK]</span> <span style=\"background-color:rgba(135,206,250,0.01392636);\">[UNK]</span> <span style=\"background-color:rgba(135,206,250,0.0095270155);\">'</span> <span style=\"background-color:rgba(135,206,250,0.019213995);\">s</span> <span style=\"background-color:rgba(135,206,250,0.041424807);\">lineup</span> <span style=\"background-color:rgba(135,206,250,0.017338356);\">of</span> <span style=\"background-color:rgba(135,206,250,0.049214534);\">german</span> <span style=\"background-color:rgba(135,206,250,0.04056417);\">riesling</span> <span style=\"background-color:rgba(135,206,250,0.041986804);\">.</span> <span style=\"background-color:rgba(135,206,250,0.0123376);\">this</span> <span style=\"background-color:rgba(135,206,250,0.01593323);\">one</span> <span style=\"background-color:rgba(135,206,250,0.023481201);\">is</span> <span style=\"background-color:rgba(135,206,250,0.013177415);\">a</span> <span style=\"background-color:rgba(135,206,250,0.031282604);\">showcase</span> <span style=\"background-color:rgba(135,206,250,0.022876447);\">of</span> <span style=\"background-color:rgba(135,206,250,0.034685984);\">honey</span> <span style=\"background-color:rgba(135,206,250,0.022381244);\">and</span> <span style=\"background-color:rgba(135,206,250,0.03623601);\">spice</span> <span style=\"background-color:rgba(135,206,250,0.026095673);\">,</span> <span style=\"background-color:rgba(135,206,250,0.02375228);\">with</span> <span style=\"background-color:rgba(135,206,250,0.017927552);\">a</span> <span style=\"background-color:rgba(135,206,250,0.028836025);\">touch</span> <span style=\"background-color:rgba(135,206,250,0.028527956);\">of</span> <span style=\"background-color:rgba(135,206,250,0.044150937);\">honey</span> <span style=\"background-color:rgba(135,206,250,0.029886156);\">and</span> <span style=\"background-color:rgba(135,206,250,0.04164482);\">saffron</span> <span style=\"background-color:rgba(135,206,250,0.07402978);\">.</span> <span style=\"background-color:rgba(135,206,250,0.031163748);\">it</span> <span style=\"background-color:rgba(135,206,250,0.019155419);\">'</span> <span style=\"background-color:rgba(135,206,250,0.04749086);\">s</span> <span style=\"background-color:rgba(135,206,250,0.10351356);\">lusciously</span> <span style=\"background-color:rgba(135,206,250,0.04192693);\">sweet</span> <span style=\"background-color:rgba(135,206,250,0.04077437);\">on</span> <span style=\"background-color:rgba(135,206,250,0.055398673);\">the</span> <span style=\"background-color:rgba(135,206,250,0.16116807);\">palate</span> <span style=\"background-color:rgba(135,206,250,0.070055746);\">,</span> <span style=\"background-color:rgba(135,206,250,0.11454577);\">but</span> <span style=\"background-color:rgba(135,206,250,0.12761673);\">it</span> <span style=\"background-color:rgba(135,206,250,0.061690107);\">'</span> <span style=\"background-color:rgba(135,206,250,0.21497574);\">s</span> <span style=\"background-color:rgba(135,206,250,0.2998633);\">also</span> <span style=\"background-color:rgba(135,206,250,0.14950183);\">elegantly</span> <span style=\"background-color:rgba(135,206,250,0.2477161);\">structured</span> <span style=\"background-color:rgba(135,206,250,0.314738);\">,</span> <span style=\"background-color:rgba(135,206,250,1.0);\">with</span> <span style=\"background-color:rgba(135,206,250,0.37223354);\">gorgeous</span> <span style=\"background-color:rgba(135,206,250,0.33503184);\">floral</span>"
      ],
      "text/plain": [
       "<IPython.core.display.HTML object>"
      ]
     },
     "metadata": {},
     "output_type": "display_data"
    },
    {
     "name": "stdout",
     "output_type": "stream",
     "text": [
      "notes:   \t66.72%\n",
      ",:   \t8.7%\n",
      "tones:   \t6.45%\n",
      "and:   \t4.71%\n",
      "complexities:   \t3.83%\n",
      "--------\n",
      "\n"
     ]
    },
    {
     "data": {
      "text/html": [
       "<span style=\"background-color:rgba(135,206,250,0.01404519);\">wine</span> <span style=\"background-color:rgba(135,206,250,0.041334193);\">review</span> <span style=\"background-color:rgba(135,206,250,0.035933327);\">:</span> <span style=\"background-color:rgba(135,206,250,0.14071064);\">germany</span> <span style=\"background-color:rgba(135,206,250,0.035185788);\">:</span> <span style=\"background-color:rgba(135,206,250,0.042697646);\">mosel</span> <span style=\"background-color:rgba(135,206,250,0.020289661);\">:</span> <span style=\"background-color:rgba(135,206,250,0.031044345);\">riesling</span> <span style=\"background-color:rgba(135,206,250,0.019497288);\">:</span> <span style=\"background-color:rgba(135,206,250,0.010618059);\">[UNK]</span> <span style=\"background-color:rgba(135,206,250,0.007037001);\">'</span> <span style=\"background-color:rgba(135,206,250,0.023572452);\">s</span> <span style=\"background-color:rgba(135,206,250,0.0105460435);\">[UNK]</span> <span style=\"background-color:rgba(135,206,250,0.0068513094);\">'</span> <span style=\"background-color:rgba(135,206,250,0.019731304);\">s</span> <span style=\"background-color:rgba(135,206,250,0.009745236);\">[UNK]</span> <span style=\"background-color:rgba(135,206,250,0.016887154);\">estate</span> <span style=\"background-color:rgba(135,206,250,0.005704177);\">'</span> <span style=\"background-color:rgba(135,206,250,0.018435054);\">s</span> <span style=\"background-color:rgba(135,206,250,0.008377782);\">[UNK]</span> <span style=\"background-color:rgba(135,206,250,0.008430707);\">[UNK]</span> <span style=\"background-color:rgba(135,206,250,0.0056655924);\">'</span> <span style=\"background-color:rgba(135,206,250,0.019108819);\">s</span> <span style=\"background-color:rgba(135,206,250,0.029671421);\">lineup</span> <span style=\"background-color:rgba(135,206,250,0.014515987);\">of</span> <span style=\"background-color:rgba(135,206,250,0.019691583);\">german</span> <span style=\"background-color:rgba(135,206,250,0.01774465);\">riesling</span> <span style=\"background-color:rgba(135,206,250,0.04708314);\">.</span> <span style=\"background-color:rgba(135,206,250,0.019733362);\">this</span> <span style=\"background-color:rgba(135,206,250,0.012592704);\">one</span> <span style=\"background-color:rgba(135,206,250,0.026953952);\">is</span> <span style=\"background-color:rgba(135,206,250,0.012281765);\">a</span> <span style=\"background-color:rgba(135,206,250,0.036625072);\">showcase</span> <span style=\"background-color:rgba(135,206,250,0.02289023);\">of</span> <span style=\"background-color:rgba(135,206,250,0.03354643);\">honey</span> <span style=\"background-color:rgba(135,206,250,0.013909814);\">and</span> <span style=\"background-color:rgba(135,206,250,0.023477485);\">spice</span> <span style=\"background-color:rgba(135,206,250,0.022253618);\">,</span> <span style=\"background-color:rgba(135,206,250,0.064238265);\">with</span> <span style=\"background-color:rgba(135,206,250,0.01731759);\">a</span> <span style=\"background-color:rgba(135,206,250,0.027480485);\">touch</span> <span style=\"background-color:rgba(135,206,250,0.03126116);\">of</span> <span style=\"background-color:rgba(135,206,250,0.048891254);\">honey</span> <span style=\"background-color:rgba(135,206,250,0.02028268);\">and</span> <span style=\"background-color:rgba(135,206,250,0.030611336);\">saffron</span> <span style=\"background-color:rgba(135,206,250,0.11084238);\">.</span> <span style=\"background-color:rgba(135,206,250,0.05130647);\">it</span> <span style=\"background-color:rgba(135,206,250,0.018878464);\">'</span> <span style=\"background-color:rgba(135,206,250,0.06008703);\">s</span> <span style=\"background-color:rgba(135,206,250,0.09564409);\">lusciously</span> <span style=\"background-color:rgba(135,206,250,0.029024687);\">sweet</span> <span style=\"background-color:rgba(135,206,250,0.04269528);\">on</span> <span style=\"background-color:rgba(135,206,250,0.04683722);\">the</span> <span style=\"background-color:rgba(135,206,250,0.11846538);\">palate</span> <span style=\"background-color:rgba(135,206,250,0.066092715);\">,</span> <span style=\"background-color:rgba(135,206,250,0.11910188);\">but</span> <span style=\"background-color:rgba(135,206,250,0.106286466);\">it</span> <span style=\"background-color:rgba(135,206,250,0.0406814);\">'</span> <span style=\"background-color:rgba(135,206,250,0.119689666);\">s</span> <span style=\"background-color:rgba(135,206,250,0.20812593);\">also</span> <span style=\"background-color:rgba(135,206,250,0.11376281);\">elegantly</span> <span style=\"background-color:rgba(135,206,250,0.1665085);\">structured</span> <span style=\"background-color:rgba(135,206,250,0.36931154);\">,</span> <span style=\"background-color:rgba(135,206,250,1.0);\">with</span> <span style=\"background-color:rgba(135,206,250,0.3066091);\">gorgeous</span> <span style=\"background-color:rgba(135,206,250,0.7252855);\">floral</span> <span style=\"background-color:rgba(135,206,250,0.283737);\">notes</span>"
      ],
      "text/plain": [
       "<IPython.core.display.HTML object>"
      ]
     },
     "metadata": {},
     "output_type": "display_data"
    },
    {
     "name": "stdout",
     "output_type": "stream",
     "text": [
      "of:   \t85.54%\n",
      "and:   \t12.26%\n",
      "that:   \t1.44%\n",
      ".:   \t0.34%\n",
      ",:   \t0.24%\n",
      "--------\n",
      "\n"
     ]
    },
    {
     "data": {
      "text/html": [
       "<span style=\"background-color:rgba(135,206,250,0.026960105);\">wine</span> <span style=\"background-color:rgba(135,206,250,0.034903437);\">review</span> <span style=\"background-color:rgba(135,206,250,0.030818835);\">:</span> <span style=\"background-color:rgba(135,206,250,0.18400142);\">germany</span> <span style=\"background-color:rgba(135,206,250,0.017267099);\">:</span> <span style=\"background-color:rgba(135,206,250,0.16207787);\">mosel</span> <span style=\"background-color:rgba(135,206,250,0.01914246);\">:</span> <span style=\"background-color:rgba(135,206,250,0.20870523);\">riesling</span> <span style=\"background-color:rgba(135,206,250,0.026056232);\">:</span> <span style=\"background-color:rgba(135,206,250,0.023341492);\">[UNK]</span> <span style=\"background-color:rgba(135,206,250,0.011696445);\">'</span> <span style=\"background-color:rgba(135,206,250,0.019096091);\">s</span> <span style=\"background-color:rgba(135,206,250,0.013058983);\">[UNK]</span> <span style=\"background-color:rgba(135,206,250,0.008697413);\">'</span> <span style=\"background-color:rgba(135,206,250,0.0150275035);\">s</span> <span style=\"background-color:rgba(135,206,250,0.011065299);\">[UNK]</span> <span style=\"background-color:rgba(135,206,250,0.014562458);\">estate</span> <span style=\"background-color:rgba(135,206,250,0.0069236457);\">'</span> <span style=\"background-color:rgba(135,206,250,0.013340748);\">s</span> <span style=\"background-color:rgba(135,206,250,0.010726494);\">[UNK]</span> <span style=\"background-color:rgba(135,206,250,0.010272863);\">[UNK]</span> <span style=\"background-color:rgba(135,206,250,0.0063297194);\">'</span> <span style=\"background-color:rgba(135,206,250,0.011454352);\">s</span> <span style=\"background-color:rgba(135,206,250,0.020742565);\">lineup</span> <span style=\"background-color:rgba(135,206,250,0.0072482196);\">of</span> <span style=\"background-color:rgba(135,206,250,0.040442195);\">german</span> <span style=\"background-color:rgba(135,206,250,0.035306975);\">riesling</span> <span style=\"background-color:rgba(135,206,250,0.022985015);\">.</span> <span style=\"background-color:rgba(135,206,250,0.010882112);\">this</span> <span style=\"background-color:rgba(135,206,250,0.005547005);\">one</span> <span style=\"background-color:rgba(135,206,250,0.008921623);\">is</span> <span style=\"background-color:rgba(135,206,250,0.0101096835);\">a</span> <span style=\"background-color:rgba(135,206,250,0.013255335);\">showcase</span> <span style=\"background-color:rgba(135,206,250,0.007832011);\">of</span> <span style=\"background-color:rgba(135,206,250,0.032179486);\">honey</span> <span style=\"background-color:rgba(135,206,250,0.01700437);\">and</span> <span style=\"background-color:rgba(135,206,250,0.036994126);\">spice</span> <span style=\"background-color:rgba(135,206,250,0.015486348);\">,</span> <span style=\"background-color:rgba(135,206,250,0.012715112);\">with</span> <span style=\"background-color:rgba(135,206,250,0.012709106);\">a</span> <span style=\"background-color:rgba(135,206,250,0.012309239);\">touch</span> <span style=\"background-color:rgba(135,206,250,0.009403838);\">of</span> <span style=\"background-color:rgba(135,206,250,0.038302336);\">honey</span> <span style=\"background-color:rgba(135,206,250,0.020802127);\">and</span> <span style=\"background-color:rgba(135,206,250,0.04186297);\">saffron</span> <span style=\"background-color:rgba(135,206,250,0.033731937);\">.</span> <span style=\"background-color:rgba(135,206,250,0.01207844);\">it</span> <span style=\"background-color:rgba(135,206,250,0.009290474);\">'</span> <span style=\"background-color:rgba(135,206,250,0.018680125);\">s</span> <span style=\"background-color:rgba(135,206,250,0.06247281);\">lusciously</span> <span style=\"background-color:rgba(135,206,250,0.044569373);\">sweet</span> <span style=\"background-color:rgba(135,206,250,0.022022674);\">on</span> <span style=\"background-color:rgba(135,206,250,0.018020462);\">the</span> <span style=\"background-color:rgba(135,206,250,0.061819807);\">palate</span> <span style=\"background-color:rgba(135,206,250,0.02940531);\">,</span> <span style=\"background-color:rgba(135,206,250,0.043607477);\">but</span> <span style=\"background-color:rgba(135,206,250,0.02597998);\">it</span> <span style=\"background-color:rgba(135,206,250,0.013948655);\">'</span> <span style=\"background-color:rgba(135,206,250,0.039214175);\">s</span> <span style=\"background-color:rgba(135,206,250,0.046907887);\">also</span> <span style=\"background-color:rgba(135,206,250,0.051090878);\">elegantly</span> <span style=\"background-color:rgba(135,206,250,0.15370542);\">structured</span> <span style=\"background-color:rgba(135,206,250,0.115009904);\">,</span> <span style=\"background-color:rgba(135,206,250,0.17550331);\">with</span> <span style=\"background-color:rgba(135,206,250,0.2445909);\">gorgeous</span> <span style=\"background-color:rgba(135,206,250,1.0);\">floral</span> <span style=\"background-color:rgba(135,206,250,0.54966515);\">notes</span> <span style=\"background-color:rgba(135,206,250,0.101575784);\">of</span>"
      ],
      "text/plain": [
       "<IPython.core.display.HTML object>"
      ]
     },
     "metadata": {},
     "output_type": "display_data"
    },
    {
     "name": "stdout",
     "output_type": "stream",
     "text": [
      "honeysuckle:   \t80.37%\n",
      "jasmine:   \t9.24%\n",
      "honey:   \t4.4%\n",
      "saffron:   \t2.7%\n",
      "potpourri:   \t1.07%\n",
      "--------\n",
      "\n"
     ]
    },
    {
     "data": {
      "text/html": [
       "<span style=\"background-color:rgba(135,206,250,0.021787457);\">wine</span> <span style=\"background-color:rgba(135,206,250,0.054799072);\">review</span> <span style=\"background-color:rgba(135,206,250,0.044859722);\">:</span> <span style=\"background-color:rgba(135,206,250,0.33208856);\">germany</span> <span style=\"background-color:rgba(135,206,250,0.043903004);\">:</span> <span style=\"background-color:rgba(135,206,250,0.07187789);\">mosel</span> <span style=\"background-color:rgba(135,206,250,0.028384589);\">:</span> <span style=\"background-color:rgba(135,206,250,0.060434617);\">riesling</span> <span style=\"background-color:rgba(135,206,250,0.029119972);\">:</span> <span style=\"background-color:rgba(135,206,250,0.021227747);\">[UNK]</span> <span style=\"background-color:rgba(135,206,250,0.013111202);\">'</span> <span style=\"background-color:rgba(135,206,250,0.04114349);\">s</span> <span style=\"background-color:rgba(135,206,250,0.02034307);\">[UNK]</span> <span style=\"background-color:rgba(135,206,250,0.012030706);\">'</span> <span style=\"background-color:rgba(135,206,250,0.032198124);\">s</span> <span style=\"background-color:rgba(135,206,250,0.016885625);\">[UNK]</span> <span style=\"background-color:rgba(135,206,250,0.029449016);\">estate</span> <span style=\"background-color:rgba(135,206,250,0.009203744);\">'</span> <span style=\"background-color:rgba(135,206,250,0.026992906);\">s</span> <span style=\"background-color:rgba(135,206,250,0.014176647);\">[UNK]</span> <span style=\"background-color:rgba(135,206,250,0.0133984275);\">[UNK]</span> <span style=\"background-color:rgba(135,206,250,0.008312893);\">'</span> <span style=\"background-color:rgba(135,206,250,0.025372032);\">s</span> <span style=\"background-color:rgba(135,206,250,0.03894176);\">lineup</span> <span style=\"background-color:rgba(135,206,250,0.021736816);\">of</span> <span style=\"background-color:rgba(135,206,250,0.035707984);\">german</span> <span style=\"background-color:rgba(135,206,250,0.024919754);\">riesling</span> <span style=\"background-color:rgba(135,206,250,0.058588218);\">.</span> <span style=\"background-color:rgba(135,206,250,0.022354806);\">this</span> <span style=\"background-color:rgba(135,206,250,0.017698182);\">one</span> <span style=\"background-color:rgba(135,206,250,0.036405772);\">is</span> <span style=\"background-color:rgba(135,206,250,0.02282257);\">a</span> <span style=\"background-color:rgba(135,206,250,0.047362465);\">showcase</span> <span style=\"background-color:rgba(135,206,250,0.031169202);\">of</span> <span style=\"background-color:rgba(135,206,250,0.041783847);\">honey</span> <span style=\"background-color:rgba(135,206,250,0.018037628);\">and</span> <span style=\"background-color:rgba(135,206,250,0.0373872);\">spice</span> <span style=\"background-color:rgba(135,206,250,0.027354226);\">,</span> <span style=\"background-color:rgba(135,206,250,0.064774334);\">with</span> <span style=\"background-color:rgba(135,206,250,0.030580953);\">a</span> <span style=\"background-color:rgba(135,206,250,0.030669833);\">touch</span> <span style=\"background-color:rgba(135,206,250,0.040490802);\">of</span> <span style=\"background-color:rgba(135,206,250,0.057390556);\">honey</span> <span style=\"background-color:rgba(135,206,250,0.024901887);\">and</span> <span style=\"background-color:rgba(135,206,250,0.047839873);\">saffron</span> <span style=\"background-color:rgba(135,206,250,0.12351868);\">.</span> <span style=\"background-color:rgba(135,206,250,0.0599229);\">it</span> <span style=\"background-color:rgba(135,206,250,0.022415105);\">'</span> <span style=\"background-color:rgba(135,206,250,0.06951498);\">s</span> <span style=\"background-color:rgba(135,206,250,0.11055159);\">lusciously</span> <span style=\"background-color:rgba(135,206,250,0.038306125);\">sweet</span> <span style=\"background-color:rgba(135,206,250,0.048425406);\">on</span> <span style=\"background-color:rgba(135,206,250,0.0635064);\">the</span> <span style=\"background-color:rgba(135,206,250,0.17415361);\">palate</span> <span style=\"background-color:rgba(135,206,250,0.08074497);\">,</span> <span style=\"background-color:rgba(135,206,250,0.11941771);\">but</span> <span style=\"background-color:rgba(135,206,250,0.1405533);\">it</span> <span style=\"background-color:rgba(135,206,250,0.058406763);\">'</span> <span style=\"background-color:rgba(135,206,250,0.17358513);\">s</span> <span style=\"background-color:rgba(135,206,250,0.22205248);\">also</span> <span style=\"background-color:rgba(135,206,250,0.14864708);\">elegantly</span> <span style=\"background-color:rgba(135,206,250,0.23133792);\">structured</span> <span style=\"background-color:rgba(135,206,250,0.30276152);\">,</span> <span style=\"background-color:rgba(135,206,250,0.6841254);\">with</span> <span style=\"background-color:rgba(135,206,250,0.3271943);\">gorgeous</span> <span style=\"background-color:rgba(135,206,250,0.31279674);\">floral</span> <span style=\"background-color:rgba(135,206,250,0.9121559);\">notes</span> <span style=\"background-color:rgba(135,206,250,1.0);\">of</span> <span style=\"background-color:rgba(135,206,250,0.31190893);\">honeysuckle</span>"
      ],
      "text/plain": [
       "<IPython.core.display.HTML object>"
      ]
     },
     "metadata": {},
     "output_type": "display_data"
    },
    {
     "name": "stdout",
     "output_type": "stream",
     "text": [
      "and:   \t88.06%\n",
      ",:   \t11.88%\n",
      "nectar:   \t0.05%\n",
      ".:   \t0.01%\n",
      "that:   \t0.0%\n",
      "--------\n",
      "\n"
     ]
    },
    {
     "data": {
      "text/html": [
       "<span style=\"background-color:rgba(135,206,250,0.022444317);\">wine</span> <span style=\"background-color:rgba(135,206,250,0.035266954);\">review</span> <span style=\"background-color:rgba(135,206,250,0.02584631);\">:</span> <span style=\"background-color:rgba(135,206,250,0.16931963);\">germany</span> <span style=\"background-color:rgba(135,206,250,0.023568949);\">:</span> <span style=\"background-color:rgba(135,206,250,0.12914926);\">mosel</span> <span style=\"background-color:rgba(135,206,250,0.019736357);\">:</span> <span style=\"background-color:rgba(135,206,250,0.14612922);\">riesling</span> <span style=\"background-color:rgba(135,206,250,0.02646335);\">:</span> <span style=\"background-color:rgba(135,206,250,0.024016919);\">[UNK]</span> <span style=\"background-color:rgba(135,206,250,0.011588203);\">'</span> <span style=\"background-color:rgba(135,206,250,0.02084345);\">s</span> <span style=\"background-color:rgba(135,206,250,0.016127849);\">[UNK]</span> <span style=\"background-color:rgba(135,206,250,0.009663133);\">'</span> <span style=\"background-color:rgba(135,206,250,0.016740762);\">s</span> <span style=\"background-color:rgba(135,206,250,0.013836188);\">[UNK]</span> <span style=\"background-color:rgba(135,206,250,0.01599314);\">estate</span> <span style=\"background-color:rgba(135,206,250,0.0077090217);\">'</span> <span style=\"background-color:rgba(135,206,250,0.014881386);\">s</span> <span style=\"background-color:rgba(135,206,250,0.012819637);\">[UNK]</span> <span style=\"background-color:rgba(135,206,250,0.0121811945);\">[UNK]</span> <span style=\"background-color:rgba(135,206,250,0.0071791844);\">'</span> <span style=\"background-color:rgba(135,206,250,0.012766507);\">s</span> <span style=\"background-color:rgba(135,206,250,0.026855867);\">lineup</span> <span style=\"background-color:rgba(135,206,250,0.008731037);\">of</span> <span style=\"background-color:rgba(135,206,250,0.040630277);\">german</span> <span style=\"background-color:rgba(135,206,250,0.031290174);\">riesling</span> <span style=\"background-color:rgba(135,206,250,0.025064215);\">.</span> <span style=\"background-color:rgba(135,206,250,0.010095269);\">this</span> <span style=\"background-color:rgba(135,206,250,0.009779378);\">one</span> <span style=\"background-color:rgba(135,206,250,0.012926004);\">is</span> <span style=\"background-color:rgba(135,206,250,0.010669105);\">a</span> <span style=\"background-color:rgba(135,206,250,0.020180319);\">showcase</span> <span style=\"background-color:rgba(135,206,250,0.010053722);\">of</span> <span style=\"background-color:rgba(135,206,250,0.030253468);\">honey</span> <span style=\"background-color:rgba(135,206,250,0.013996069);\">and</span> <span style=\"background-color:rgba(135,206,250,0.026468037);\">spice</span> <span style=\"background-color:rgba(135,206,250,0.014509612);\">,</span> <span style=\"background-color:rgba(135,206,250,0.014912663);\">with</span> <span style=\"background-color:rgba(135,206,250,0.013580471);\">a</span> <span style=\"background-color:rgba(135,206,250,0.017197423);\">touch</span> <span style=\"background-color:rgba(135,206,250,0.0121866);\">of</span> <span style=\"background-color:rgba(135,206,250,0.036701795);\">honey</span> <span style=\"background-color:rgba(135,206,250,0.01765157);\">and</span> <span style=\"background-color:rgba(135,206,250,0.029902954);\">saffron</span> <span style=\"background-color:rgba(135,206,250,0.037736025);\">.</span> <span style=\"background-color:rgba(135,206,250,0.016419992);\">it</span> <span style=\"background-color:rgba(135,206,250,0.0113330195);\">'</span> <span style=\"background-color:rgba(135,206,250,0.022304863);\">s</span> <span style=\"background-color:rgba(135,206,250,0.081130944);\">lusciously</span> <span style=\"background-color:rgba(135,206,250,0.03808666);\">sweet</span> <span style=\"background-color:rgba(135,206,250,0.01933292);\">on</span> <span style=\"background-color:rgba(135,206,250,0.017990954);\">the</span> <span style=\"background-color:rgba(135,206,250,0.0631518);\">palate</span> <span style=\"background-color:rgba(135,206,250,0.026582506);\">,</span> <span style=\"background-color:rgba(135,206,250,0.042943202);\">but</span> <span style=\"background-color:rgba(135,206,250,0.024421498);\">it</span> <span style=\"background-color:rgba(135,206,250,0.015358027);\">'</span> <span style=\"background-color:rgba(135,206,250,0.034970216);\">s</span> <span style=\"background-color:rgba(135,206,250,0.032234147);\">also</span> <span style=\"background-color:rgba(135,206,250,0.04969626);\">elegantly</span> <span style=\"background-color:rgba(135,206,250,0.121395186);\">structured</span> <span style=\"background-color:rgba(135,206,250,0.098335944);\">,</span> <span style=\"background-color:rgba(135,206,250,0.111313);\">with</span> <span style=\"background-color:rgba(135,206,250,0.19578584);\">gorgeous</span> <span style=\"background-color:rgba(135,206,250,0.35259414);\">floral</span> <span style=\"background-color:rgba(135,206,250,0.35606712);\">notes</span> <span style=\"background-color:rgba(135,206,250,0.24956618);\">of</span> <span style=\"background-color:rgba(135,206,250,1.0);\">honeysuckle</span> <span style=\"background-color:rgba(135,206,250,0.1535595);\">and</span>"
      ],
      "text/plain": [
       "<IPython.core.display.HTML object>"
      ]
     },
     "metadata": {},
     "output_type": "display_data"
    },
    {
     "name": "stdout",
     "output_type": "stream",
     "text": [
      "orange:   \t37.74%\n",
      "peach:   \t15.79%\n",
      "jasmine:   \t9.31%\n",
      "spice:   \t5.84%\n",
      "lemon:   \t4.64%\n",
      "--------\n",
      "\n"
     ]
    },
    {
     "data": {
      "text/html": [
       "<span style=\"background-color:rgba(135,206,250,0.021410339);\">wine</span> <span style=\"background-color:rgba(135,206,250,0.056739587);\">review</span> <span style=\"background-color:rgba(135,206,250,0.051984616);\">:</span> <span style=\"background-color:rgba(135,206,250,0.24886079);\">germany</span> <span style=\"background-color:rgba(135,206,250,0.048110332);\">:</span> <span style=\"background-color:rgba(135,206,250,0.07222847);\">mosel</span> <span style=\"background-color:rgba(135,206,250,0.026839187);\">:</span> <span style=\"background-color:rgba(135,206,250,0.057589993);\">riesling</span> <span style=\"background-color:rgba(135,206,250,0.025897294);\">:</span> <span style=\"background-color:rgba(135,206,250,0.016466843);\">[UNK]</span> <span style=\"background-color:rgba(135,206,250,0.008252179);\">'</span> <span style=\"background-color:rgba(135,206,250,0.027396187);\">s</span> <span style=\"background-color:rgba(135,206,250,0.014799713);\">[UNK]</span> <span style=\"background-color:rgba(135,206,250,0.007569788);\">'</span> <span style=\"background-color:rgba(135,206,250,0.022145687);\">s</span> <span style=\"background-color:rgba(135,206,250,0.01275418);\">[UNK]</span> <span style=\"background-color:rgba(135,206,250,0.02316552);\">estate</span> <span style=\"background-color:rgba(135,206,250,0.0058373436);\">'</span> <span style=\"background-color:rgba(135,206,250,0.01941111);\">s</span> <span style=\"background-color:rgba(135,206,250,0.010556184);\">[UNK]</span> <span style=\"background-color:rgba(135,206,250,0.010751982);\">[UNK]</span> <span style=\"background-color:rgba(135,206,250,0.0055603473);\">'</span> <span style=\"background-color:rgba(135,206,250,0.018700002);\">s</span> <span style=\"background-color:rgba(135,206,250,0.03580509);\">lineup</span> <span style=\"background-color:rgba(135,206,250,0.017523935);\">of</span> <span style=\"background-color:rgba(135,206,250,0.027307024);\">german</span> <span style=\"background-color:rgba(135,206,250,0.023816861);\">riesling</span> <span style=\"background-color:rgba(135,206,250,0.04374831);\">.</span> <span style=\"background-color:rgba(135,206,250,0.015301559);\">this</span> <span style=\"background-color:rgba(135,206,250,0.013480187);\">one</span> <span style=\"background-color:rgba(135,206,250,0.026395435);\">is</span> <span style=\"background-color:rgba(135,206,250,0.013605063);\">a</span> <span style=\"background-color:rgba(135,206,250,0.03598308);\">showcase</span> <span style=\"background-color:rgba(135,206,250,0.02662718);\">of</span> <span style=\"background-color:rgba(135,206,250,0.033758353);\">honey</span> <span style=\"background-color:rgba(135,206,250,0.014410309);\">and</span> <span style=\"background-color:rgba(135,206,250,0.028640939);\">spice</span> <span style=\"background-color:rgba(135,206,250,0.023844784);\">,</span> <span style=\"background-color:rgba(135,206,250,0.055904627);\">with</span> <span style=\"background-color:rgba(135,206,250,0.019151704);\">a</span> <span style=\"background-color:rgba(135,206,250,0.02855969);\">touch</span> <span style=\"background-color:rgba(135,206,250,0.035280503);\">of</span> <span style=\"background-color:rgba(135,206,250,0.0484276);\">honey</span> <span style=\"background-color:rgba(135,206,250,0.020628106);\">and</span> <span style=\"background-color:rgba(135,206,250,0.044307336);\">saffron</span> <span style=\"background-color:rgba(135,206,250,0.095480286);\">.</span> <span style=\"background-color:rgba(135,206,250,0.036174167);\">it</span> <span style=\"background-color:rgba(135,206,250,0.016919881);\">'</span> <span style=\"background-color:rgba(135,206,250,0.055987906);\">s</span> <span style=\"background-color:rgba(135,206,250,0.10477715);\">lusciously</span> <span style=\"background-color:rgba(135,206,250,0.03331724);\">sweet</span> <span style=\"background-color:rgba(135,206,250,0.04814172);\">on</span> <span style=\"background-color:rgba(135,206,250,0.042446364);\">the</span> <span style=\"background-color:rgba(135,206,250,0.14711356);\">palate</span> <span style=\"background-color:rgba(135,206,250,0.06168876);\">,</span> <span style=\"background-color:rgba(135,206,250,0.11595744);\">but</span> <span style=\"background-color:rgba(135,206,250,0.07273098);\">it</span> <span style=\"background-color:rgba(135,206,250,0.03198294);\">'</span> <span style=\"background-color:rgba(135,206,250,0.12292887);\">s</span> <span style=\"background-color:rgba(135,206,250,0.1428554);\">also</span> <span style=\"background-color:rgba(135,206,250,0.11371048);\">elegantly</span> <span style=\"background-color:rgba(135,206,250,0.16990288);\">structured</span> <span style=\"background-color:rgba(135,206,250,0.18260384);\">,</span> <span style=\"background-color:rgba(135,206,250,0.43790504);\">with</span> <span style=\"background-color:rgba(135,206,250,0.29651767);\">gorgeous</span> <span style=\"background-color:rgba(135,206,250,0.22695406);\">floral</span> <span style=\"background-color:rgba(135,206,250,0.63346875);\">notes</span> <span style=\"background-color:rgba(135,206,250,0.6510943);\">of</span> <span style=\"background-color:rgba(135,206,250,0.33416665);\">honeysuckle</span> <span style=\"background-color:rgba(135,206,250,1.0);\">and</span> <span style=\"background-color:rgba(135,206,250,0.5386452);\">honey</span>"
      ],
      "text/plain": [
       "<IPython.core.display.HTML object>"
      ]
     },
     "metadata": {},
     "output_type": "display_data"
    },
    {
     "name": "stdout",
     "output_type": "stream",
     "text": [
      ".:   \t87.52%\n",
      ",:   \t9.47%\n",
      "that:   \t2.27%\n",
      "nectar:   \t0.28%\n",
      "on:   \t0.25%\n",
      "--------\n",
      "\n"
     ]
    },
    {
     "data": {
      "text/html": [
       "<span style=\"background-color:rgba(135,206,250,0.021535585);\">wine</span> <span style=\"background-color:rgba(135,206,250,0.036316626);\">review</span> <span style=\"background-color:rgba(135,206,250,0.030758332);\">:</span> <span style=\"background-color:rgba(135,206,250,0.15947868);\">germany</span> <span style=\"background-color:rgba(135,206,250,0.027420921);\">:</span> <span style=\"background-color:rgba(135,206,250,0.10907244);\">mosel</span> <span style=\"background-color:rgba(135,206,250,0.023542013);\">:</span> <span style=\"background-color:rgba(135,206,250,0.13570374);\">riesling</span> <span style=\"background-color:rgba(135,206,250,0.029229444);\">:</span> <span style=\"background-color:rgba(135,206,250,0.021706074);\">[UNK]</span> <span style=\"background-color:rgba(135,206,250,0.012983436);\">'</span> <span style=\"background-color:rgba(135,206,250,0.044166677);\">s</span> <span style=\"background-color:rgba(135,206,250,0.015913382);\">[UNK]</span> <span style=\"background-color:rgba(135,206,250,0.010976351);\">'</span> <span style=\"background-color:rgba(135,206,250,0.034813855);\">s</span> <span style=\"background-color:rgba(135,206,250,0.013363512);\">[UNK]</span> <span style=\"background-color:rgba(135,206,250,0.020141564);\">estate</span> <span style=\"background-color:rgba(135,206,250,0.008660836);\">'</span> <span style=\"background-color:rgba(135,206,250,0.030890038);\">s</span> <span style=\"background-color:rgba(135,206,250,0.012593007);\">[UNK]</span> <span style=\"background-color:rgba(135,206,250,0.011773986);\">[UNK]</span> <span style=\"background-color:rgba(135,206,250,0.00810796);\">'</span> <span style=\"background-color:rgba(135,206,250,0.027132703);\">s</span> <span style=\"background-color:rgba(135,206,250,0.023921642);\">lineup</span> <span style=\"background-color:rgba(135,206,250,0.013529943);\">of</span> <span style=\"background-color:rgba(135,206,250,0.040349253);\">german</span> <span style=\"background-color:rgba(135,206,250,0.034200653);\">riesling</span> <span style=\"background-color:rgba(135,206,250,0.039572407);\">.</span> <span style=\"background-color:rgba(135,206,250,0.022615544);\">this</span> <span style=\"background-color:rgba(135,206,250,0.01584919);\">one</span> <span style=\"background-color:rgba(135,206,250,0.034004945);\">is</span> <span style=\"background-color:rgba(135,206,250,0.01184797);\">a</span> <span style=\"background-color:rgba(135,206,250,0.03212151);\">showcase</span> <span style=\"background-color:rgba(135,206,250,0.016545134);\">of</span> <span style=\"background-color:rgba(135,206,250,0.029883148);\">honey</span> <span style=\"background-color:rgba(135,206,250,0.024029562);\">and</span> <span style=\"background-color:rgba(135,206,250,0.03209433);\">spice</span> <span style=\"background-color:rgba(135,206,250,0.0176069);\">,</span> <span style=\"background-color:rgba(135,206,250,0.03990649);\">with</span> <span style=\"background-color:rgba(135,206,250,0.016061625);\">a</span> <span style=\"background-color:rgba(135,206,250,0.026124502);\">touch</span> <span style=\"background-color:rgba(135,206,250,0.022041766);\">of</span> <span style=\"background-color:rgba(135,206,250,0.037168887);\">honey</span> <span style=\"background-color:rgba(135,206,250,0.032651655);\">and</span> <span style=\"background-color:rgba(135,206,250,0.026213825);\">saffron</span> <span style=\"background-color:rgba(135,206,250,0.06808205);\">.</span> <span style=\"background-color:rgba(135,206,250,0.058389954);\">it</span> <span style=\"background-color:rgba(135,206,250,0.016481917);\">'</span> <span style=\"background-color:rgba(135,206,250,0.06028441);\">s</span> <span style=\"background-color:rgba(135,206,250,0.067460574);\">lusciously</span> <span style=\"background-color:rgba(135,206,250,0.043565024);\">sweet</span> <span style=\"background-color:rgba(135,206,250,0.034761015);\">on</span> <span style=\"background-color:rgba(135,206,250,0.029129576);\">the</span> <span style=\"background-color:rgba(135,206,250,0.07633247);\">palate</span> <span style=\"background-color:rgba(135,206,250,0.031187005);\">,</span> <span style=\"background-color:rgba(135,206,250,0.09195537);\">but</span> <span style=\"background-color:rgba(135,206,250,0.08807647);\">it</span> <span style=\"background-color:rgba(135,206,250,0.022921368);\">'</span> <span style=\"background-color:rgba(135,206,250,0.08950939);\">s</span> <span style=\"background-color:rgba(135,206,250,0.06870965);\">also</span> <span style=\"background-color:rgba(135,206,250,0.055958297);\">elegantly</span> <span style=\"background-color:rgba(135,206,250,0.11801672);\">structured</span> <span style=\"background-color:rgba(135,206,250,0.048474047);\">,</span> <span style=\"background-color:rgba(135,206,250,0.18387274);\">with</span> <span style=\"background-color:rgba(135,206,250,0.18263398);\">gorgeous</span> <span style=\"background-color:rgba(135,206,250,0.22012976);\">floral</span> <span style=\"background-color:rgba(135,206,250,0.25140417);\">notes</span> <span style=\"background-color:rgba(135,206,250,0.21133207);\">of</span> <span style=\"background-color:rgba(135,206,250,0.45456284);\">honeysuckle</span> <span style=\"background-color:rgba(135,206,250,0.6935544);\">and</span> <span style=\"background-color:rgba(135,206,250,1.0);\">honey</span> <span style=\"background-color:rgba(135,206,250,0.34483543);\">,</span>"
      ],
      "text/plain": [
       "<IPython.core.display.HTML object>"
      ]
     },
     "metadata": {},
     "output_type": "display_data"
    },
    {
     "name": "stdout",
     "output_type": "stream",
     "text": [
      "but:   \t74.25%\n",
      "with:   \t12.41%\n",
      "yet:   \t8.35%\n",
      "and:   \t2.09%\n",
      "finishing:   \t0.71%\n",
      "--------\n",
      "\n"
     ]
    },
    {
     "data": {
      "text/html": [
       "<span style=\"background-color:rgba(135,206,250,0.044119887);\">wine</span> <span style=\"background-color:rgba(135,206,250,0.06682132);\">review</span> <span style=\"background-color:rgba(135,206,250,0.052132156);\">:</span> <span style=\"background-color:rgba(135,206,250,0.41878858);\">germany</span> <span style=\"background-color:rgba(135,206,250,0.033754002);\">:</span> <span style=\"background-color:rgba(135,206,250,0.13346532);\">mosel</span> <span style=\"background-color:rgba(135,206,250,0.03872092);\">:</span> <span style=\"background-color:rgba(135,206,250,0.16353284);\">riesling</span> <span style=\"background-color:rgba(135,206,250,0.039736483);\">:</span> <span style=\"background-color:rgba(135,206,250,0.033329666);\">[UNK]</span> <span style=\"background-color:rgba(135,206,250,0.014249893);\">'</span> <span style=\"background-color:rgba(135,206,250,0.039023604);\">s</span> <span style=\"background-color:rgba(135,206,250,0.02626099);\">[UNK]</span> <span style=\"background-color:rgba(135,206,250,0.010819276);\">'</span> <span style=\"background-color:rgba(135,206,250,0.028961444);\">s</span> <span style=\"background-color:rgba(135,206,250,0.019420682);\">[UNK]</span> <span style=\"background-color:rgba(135,206,250,0.03177929);\">estate</span> <span style=\"background-color:rgba(135,206,250,0.008099592);\">'</span> <span style=\"background-color:rgba(135,206,250,0.022115422);\">s</span> <span style=\"background-color:rgba(135,206,250,0.016354967);\">[UNK]</span> <span style=\"background-color:rgba(135,206,250,0.01657924);\">[UNK]</span> <span style=\"background-color:rgba(135,206,250,0.006591509);\">'</span> <span style=\"background-color:rgba(135,206,250,0.019413821);\">s</span> <span style=\"background-color:rgba(135,206,250,0.048088882);\">lineup</span> <span style=\"background-color:rgba(135,206,250,0.019443922);\">of</span> <span style=\"background-color:rgba(135,206,250,0.0422549);\">german</span> <span style=\"background-color:rgba(135,206,250,0.037671644);\">riesling</span> <span style=\"background-color:rgba(135,206,250,0.034984797);\">.</span> <span style=\"background-color:rgba(135,206,250,0.025317252);\">this</span> <span style=\"background-color:rgba(135,206,250,0.017281223);\">one</span> <span style=\"background-color:rgba(135,206,250,0.025083644);\">is</span> <span style=\"background-color:rgba(135,206,250,0.02233683);\">a</span> <span style=\"background-color:rgba(135,206,250,0.031496402);\">showcase</span> <span style=\"background-color:rgba(135,206,250,0.020990353);\">of</span> <span style=\"background-color:rgba(135,206,250,0.04008257);\">honey</span> <span style=\"background-color:rgba(135,206,250,0.018425696);\">and</span> <span style=\"background-color:rgba(135,206,250,0.040434267);\">spice</span> <span style=\"background-color:rgba(135,206,250,0.020216785);\">,</span> <span style=\"background-color:rgba(135,206,250,0.037565093);\">with</span> <span style=\"background-color:rgba(135,206,250,0.025543986);\">a</span> <span style=\"background-color:rgba(135,206,250,0.029450333);\">touch</span> <span style=\"background-color:rgba(135,206,250,0.025937704);\">of</span> <span style=\"background-color:rgba(135,206,250,0.04945286);\">honey</span> <span style=\"background-color:rgba(135,206,250,0.022637583);\">and</span> <span style=\"background-color:rgba(135,206,250,0.042150818);\">saffron</span> <span style=\"background-color:rgba(135,206,250,0.05310139);\">.</span> <span style=\"background-color:rgba(135,206,250,0.019799259);\">it</span> <span style=\"background-color:rgba(135,206,250,0.010314108);\">'</span> <span style=\"background-color:rgba(135,206,250,0.0300422);\">s</span> <span style=\"background-color:rgba(135,206,250,0.0745001);\">lusciously</span> <span style=\"background-color:rgba(135,206,250,0.026928127);\">sweet</span> <span style=\"background-color:rgba(135,206,250,0.043184083);\">on</span> <span style=\"background-color:rgba(135,206,250,0.028371789);\">the</span> <span style=\"background-color:rgba(135,206,250,0.089079484);\">palate</span> <span style=\"background-color:rgba(135,206,250,0.0381271);\">,</span> <span style=\"background-color:rgba(135,206,250,0.061838727);\">but</span> <span style=\"background-color:rgba(135,206,250,0.037612885);\">it</span> <span style=\"background-color:rgba(135,206,250,0.019641364);\">'</span> <span style=\"background-color:rgba(135,206,250,0.052296236);\">s</span> <span style=\"background-color:rgba(135,206,250,0.073383);\">also</span> <span style=\"background-color:rgba(135,206,250,0.056046735);\">elegantly</span> <span style=\"background-color:rgba(135,206,250,0.124384366);\">structured</span> <span style=\"background-color:rgba(135,206,250,0.09966417);\">,</span> <span style=\"background-color:rgba(135,206,250,0.19329524);\">with</span> <span style=\"background-color:rgba(135,206,250,0.14698);\">gorgeous</span> <span style=\"background-color:rgba(135,206,250,0.18220834);\">floral</span> <span style=\"background-color:rgba(135,206,250,0.25660354);\">notes</span> <span style=\"background-color:rgba(135,206,250,0.21895358);\">of</span> <span style=\"background-color:rgba(135,206,250,0.26161867);\">honeysuckle</span> <span style=\"background-color:rgba(135,206,250,0.44283515);\">and</span> <span style=\"background-color:rgba(135,206,250,0.5411421);\">honey</span> <span style=\"background-color:rgba(135,206,250,1.0);\">,</span> <span style=\"background-color:rgba(135,206,250,0.44121227);\">but</span>"
      ],
      "text/plain": [
       "<IPython.core.display.HTML object>"
      ]
     },
     "metadata": {},
     "output_type": "display_data"
    },
    {
     "name": "stdout",
     "output_type": "stream",
     "text": [
      "it:   \t56.72%\n",
      "the:   \t33.61%\n",
      "is:   \t3.1%\n",
      "should:   \t1.53%\n",
      "there:   \t1.02%\n",
      "--------\n",
      "\n"
     ]
    },
    {
     "data": {
      "text/html": [
       "<span style=\"background-color:rgba(135,206,250,0.021754157);\">wine</span> <span style=\"background-color:rgba(135,206,250,0.027372299);\">review</span> <span style=\"background-color:rgba(135,206,250,0.03235215);\">:</span> <span style=\"background-color:rgba(135,206,250,0.28288278);\">germany</span> <span style=\"background-color:rgba(135,206,250,0.02780423);\">:</span> <span style=\"background-color:rgba(135,206,250,0.12171832);\">mosel</span> <span style=\"background-color:rgba(135,206,250,0.026134968);\">:</span> <span style=\"background-color:rgba(135,206,250,0.068912536);\">riesling</span> <span style=\"background-color:rgba(135,206,250,0.025572965);\">:</span> <span style=\"background-color:rgba(135,206,250,0.019128239);\">[UNK]</span> <span style=\"background-color:rgba(135,206,250,0.010062671);\">'</span> <span style=\"background-color:rgba(135,206,250,0.02818739);\">s</span> <span style=\"background-color:rgba(135,206,250,0.015342733);\">[UNK]</span> <span style=\"background-color:rgba(135,206,250,0.00853622);\">'</span> <span style=\"background-color:rgba(135,206,250,0.021394541);\">s</span> <span style=\"background-color:rgba(135,206,250,0.0122564435);\">[UNK]</span> <span style=\"background-color:rgba(135,206,250,0.020543054);\">estate</span> <span style=\"background-color:rgba(135,206,250,0.006141431);\">'</span> <span style=\"background-color:rgba(135,206,250,0.017234638);\">s</span> <span style=\"background-color:rgba(135,206,250,0.010378874);\">[UNK]</span> <span style=\"background-color:rgba(135,206,250,0.010274161);\">[UNK]</span> <span style=\"background-color:rgba(135,206,250,0.00541666);\">'</span> <span style=\"background-color:rgba(135,206,250,0.014748658);\">s</span> <span style=\"background-color:rgba(135,206,250,0.029830558);\">lineup</span> <span style=\"background-color:rgba(135,206,250,0.009602593);\">of</span> <span style=\"background-color:rgba(135,206,250,0.025317332);\">german</span> <span style=\"background-color:rgba(135,206,250,0.019822216);\">riesling</span> <span style=\"background-color:rgba(135,206,250,0.021475961);\">.</span> <span style=\"background-color:rgba(135,206,250,0.0072567267);\">this</span> <span style=\"background-color:rgba(135,206,250,0.0088972775);\">one</span> <span style=\"background-color:rgba(135,206,250,0.01422759);\">is</span> <span style=\"background-color:rgba(135,206,250,0.00985063);\">a</span> <span style=\"background-color:rgba(135,206,250,0.018555643);\">showcase</span> <span style=\"background-color:rgba(135,206,250,0.010629628);\">of</span> <span style=\"background-color:rgba(135,206,250,0.018848453);\">honey</span> <span style=\"background-color:rgba(135,206,250,0.012948201);\">and</span> <span style=\"background-color:rgba(135,206,250,0.018947756);\">spice</span> <span style=\"background-color:rgba(135,206,250,0.012809654);\">,</span> <span style=\"background-color:rgba(135,206,250,0.021742754);\">with</span> <span style=\"background-color:rgba(135,206,250,0.011840949);\">a</span> <span style=\"background-color:rgba(135,206,250,0.017615441);\">touch</span> <span style=\"background-color:rgba(135,206,250,0.012581787);\">of</span> <span style=\"background-color:rgba(135,206,250,0.023204518);\">honey</span> <span style=\"background-color:rgba(135,206,250,0.015820589);\">and</span> <span style=\"background-color:rgba(135,206,250,0.01951921);\">saffron</span> <span style=\"background-color:rgba(135,206,250,0.031932753);\">.</span> <span style=\"background-color:rgba(135,206,250,0.008275644);\">it</span> <span style=\"background-color:rgba(135,206,250,0.008633171);\">'</span> <span style=\"background-color:rgba(135,206,250,0.024452766);\">s</span> <span style=\"background-color:rgba(135,206,250,0.10626876);\">lusciously</span> <span style=\"background-color:rgba(135,206,250,0.023897802);\">sweet</span> <span style=\"background-color:rgba(135,206,250,0.022319116);\">on</span> <span style=\"background-color:rgba(135,206,250,0.014970854);\">the</span> <span style=\"background-color:rgba(135,206,250,0.0794703);\">palate</span> <span style=\"background-color:rgba(135,206,250,0.024167387);\">,</span> <span style=\"background-color:rgba(135,206,250,0.046667416);\">but</span> <span style=\"background-color:rgba(135,206,250,0.01259217);\">it</span> <span style=\"background-color:rgba(135,206,250,0.012281913);\">'</span> <span style=\"background-color:rgba(135,206,250,0.034742657);\">s</span> <span style=\"background-color:rgba(135,206,250,0.03799957);\">also</span> <span style=\"background-color:rgba(135,206,250,0.044221118);\">elegantly</span> <span style=\"background-color:rgba(135,206,250,0.09986324);\">structured</span> <span style=\"background-color:rgba(135,206,250,0.046937607);\">,</span> <span style=\"background-color:rgba(135,206,250,0.07898507);\">with</span> <span style=\"background-color:rgba(135,206,250,0.1028971);\">gorgeous</span> <span style=\"background-color:rgba(135,206,250,0.08368239);\">floral</span> <span style=\"background-color:rgba(135,206,250,0.10393632);\">notes</span> <span style=\"background-color:rgba(135,206,250,0.095206834);\">of</span> <span style=\"background-color:rgba(135,206,250,0.09386087);\">honeysuckle</span> <span style=\"background-color:rgba(135,206,250,0.15661868);\">and</span> <span style=\"background-color:rgba(135,206,250,0.23733763);\">honey</span> <span style=\"background-color:rgba(135,206,250,0.64003134);\">,</span> <span style=\"background-color:rgba(135,206,250,1.0);\">but</span> <span style=\"background-color:rgba(135,206,250,0.2829416);\">it</span>"
      ],
      "text/plain": [
       "<IPython.core.display.HTML object>"
      ]
     },
     "metadata": {},
     "output_type": "display_data"
    },
    {
     "name": "stdout",
     "output_type": "stream",
     "text": [
      "':   \t99.62%\n",
      "should:   \t0.23%\n",
      "finishes:   \t0.06%\n",
      "also:   \t0.03%\n",
      "is:   \t0.01%\n",
      "--------\n",
      "\n"
     ]
    },
    {
     "data": {
      "text/html": [
       "<span style=\"background-color:rgba(135,206,250,0.051206674);\">wine</span> <span style=\"background-color:rgba(135,206,250,0.057309736);\">review</span> <span style=\"background-color:rgba(135,206,250,0.055888396);\">:</span> <span style=\"background-color:rgba(135,206,250,0.1578918);\">germany</span> <span style=\"background-color:rgba(135,206,250,0.052333195);\">:</span> <span style=\"background-color:rgba(135,206,250,0.13900474);\">mosel</span> <span style=\"background-color:rgba(135,206,250,0.049724918);\">:</span> <span style=\"background-color:rgba(135,206,250,0.13717668);\">riesling</span> <span style=\"background-color:rgba(135,206,250,0.0569954);\">:</span> <span style=\"background-color:rgba(135,206,250,0.047905724);\">[UNK]</span> <span style=\"background-color:rgba(135,206,250,0.028003853);\">'</span> <span style=\"background-color:rgba(135,206,250,0.028528947);\">s</span> <span style=\"background-color:rgba(135,206,250,0.025478372);\">[UNK]</span> <span style=\"background-color:rgba(135,206,250,0.020249562);\">'</span> <span style=\"background-color:rgba(135,206,250,0.023160383);\">s</span> <span style=\"background-color:rgba(135,206,250,0.022381445);\">[UNK]</span> <span style=\"background-color:rgba(135,206,250,0.023509298);\">estate</span> <span style=\"background-color:rgba(135,206,250,0.017429018);\">'</span> <span style=\"background-color:rgba(135,206,250,0.02025659);\">s</span> <span style=\"background-color:rgba(135,206,250,0.020632496);\">[UNK]</span> <span style=\"background-color:rgba(135,206,250,0.020080315);\">[UNK]</span> <span style=\"background-color:rgba(135,206,250,0.015426703);\">'</span> <span style=\"background-color:rgba(135,206,250,0.017685708);\">s</span> <span style=\"background-color:rgba(135,206,250,0.04064862);\">lineup</span> <span style=\"background-color:rgba(135,206,250,0.018105796);\">of</span> <span style=\"background-color:rgba(135,206,250,0.027630163);\">german</span> <span style=\"background-color:rgba(135,206,250,0.035198856);\">riesling</span> <span style=\"background-color:rgba(135,206,250,0.03332398);\">.</span> <span style=\"background-color:rgba(135,206,250,0.013537039);\">this</span> <span style=\"background-color:rgba(135,206,250,0.017960832);\">one</span> <span style=\"background-color:rgba(135,206,250,0.021592299);\">is</span> <span style=\"background-color:rgba(135,206,250,0.018228808);\">a</span> <span style=\"background-color:rgba(135,206,250,0.027413275);\">showcase</span> <span style=\"background-color:rgba(135,206,250,0.019470101);\">of</span> <span style=\"background-color:rgba(135,206,250,0.022626108);\">honey</span> <span style=\"background-color:rgba(135,206,250,0.024992071);\">and</span> <span style=\"background-color:rgba(135,206,250,0.023208894);\">spice</span> <span style=\"background-color:rgba(135,206,250,0.026081227);\">,</span> <span style=\"background-color:rgba(135,206,250,0.024086084);\">with</span> <span style=\"background-color:rgba(135,206,250,0.019817214);\">a</span> <span style=\"background-color:rgba(135,206,250,0.017921474);\">touch</span> <span style=\"background-color:rgba(135,206,250,0.020583885);\">of</span> <span style=\"background-color:rgba(135,206,250,0.024972731);\">honey</span> <span style=\"background-color:rgba(135,206,250,0.02830508);\">and</span> <span style=\"background-color:rgba(135,206,250,0.038364075);\">saffron</span> <span style=\"background-color:rgba(135,206,250,0.043442152);\">.</span> <span style=\"background-color:rgba(135,206,250,0.022712514);\">it</span> <span style=\"background-color:rgba(135,206,250,0.019744992);\">'</span> <span style=\"background-color:rgba(135,206,250,0.025074605);\">s</span> <span style=\"background-color:rgba(135,206,250,0.058290422);\">lusciously</span> <span style=\"background-color:rgba(135,206,250,0.026624877);\">sweet</span> <span style=\"background-color:rgba(135,206,250,0.022401555);\">on</span> <span style=\"background-color:rgba(135,206,250,0.024813786);\">the</span> <span style=\"background-color:rgba(135,206,250,0.0661571);\">palate</span> <span style=\"background-color:rgba(135,206,250,0.03950781);\">,</span> <span style=\"background-color:rgba(135,206,250,0.04213645);\">but</span> <span style=\"background-color:rgba(135,206,250,0.033619042);\">it</span> <span style=\"background-color:rgba(135,206,250,0.02501524);\">'</span> <span style=\"background-color:rgba(135,206,250,0.035955153);\">s</span> <span style=\"background-color:rgba(135,206,250,0.03767374);\">also</span> <span style=\"background-color:rgba(135,206,250,0.044065658);\">elegantly</span> <span style=\"background-color:rgba(135,206,250,0.09149038);\">structured</span> <span style=\"background-color:rgba(135,206,250,0.061161414);\">,</span> <span style=\"background-color:rgba(135,206,250,0.0835329);\">with</span> <span style=\"background-color:rgba(135,206,250,0.064209916);\">gorgeous</span> <span style=\"background-color:rgba(135,206,250,0.13187163);\">floral</span> <span style=\"background-color:rgba(135,206,250,0.118034326);\">notes</span> <span style=\"background-color:rgba(135,206,250,0.0785128);\">of</span> <span style=\"background-color:rgba(135,206,250,0.20106491);\">honeysuckle</span> <span style=\"background-color:rgba(135,206,250,0.2114047);\">and</span> <span style=\"background-color:rgba(135,206,250,0.41154572);\">honey</span> <span style=\"background-color:rgba(135,206,250,0.37014896);\">,</span> <span style=\"background-color:rgba(135,206,250,0.63182783);\">but</span> <span style=\"background-color:rgba(135,206,250,1.0);\">it</span> <span style=\"background-color:rgba(135,206,250,0.12709183);\">'</span>"
      ],
      "text/plain": [
       "<IPython.core.display.HTML object>"
      ]
     },
     "metadata": {},
     "output_type": "display_data"
    },
    {
     "name": "stdout",
     "output_type": "stream",
     "text": [
      "s:   \t100.0%\n",
      "ll:   \t0.0%\n",
      "d:   \t0.0%\n",
      "[UNK]:   \t0.0%\n",
      "re:   \t0.0%\n",
      "--------\n",
      "\n"
     ]
    },
    {
     "data": {
      "text/html": [
       "<span style=\"background-color:rgba(135,206,250,0.029367046);\">wine</span> <span style=\"background-color:rgba(135,206,250,0.03222282);\">review</span> <span style=\"background-color:rgba(135,206,250,0.037666876);\">:</span> <span style=\"background-color:rgba(135,206,250,0.19778693);\">germany</span> <span style=\"background-color:rgba(135,206,250,0.02353165);\">:</span> <span style=\"background-color:rgba(135,206,250,0.20331599);\">mosel</span> <span style=\"background-color:rgba(135,206,250,0.02816771);\">:</span> <span style=\"background-color:rgba(135,206,250,0.15584388);\">riesling</span> <span style=\"background-color:rgba(135,206,250,0.03873954);\">:</span> <span style=\"background-color:rgba(135,206,250,0.03572163);\">[UNK]</span> <span style=\"background-color:rgba(135,206,250,0.01880485);\">'</span> <span style=\"background-color:rgba(135,206,250,0.020435011);\">s</span> <span style=\"background-color:rgba(135,206,250,0.020393996);\">[UNK]</span> <span style=\"background-color:rgba(135,206,250,0.014541054);\">'</span> <span style=\"background-color:rgba(135,206,250,0.015912203);\">s</span> <span style=\"background-color:rgba(135,206,250,0.017232422);\">[UNK]</span> <span style=\"background-color:rgba(135,206,250,0.02228448);\">estate</span> <span style=\"background-color:rgba(135,206,250,0.011337189);\">'</span> <span style=\"background-color:rgba(135,206,250,0.013466928);\">s</span> <span style=\"background-color:rgba(135,206,250,0.015691219);\">[UNK]</span> <span style=\"background-color:rgba(135,206,250,0.015257696);\">[UNK]</span> <span style=\"background-color:rgba(135,206,250,0.009766136);\">'</span> <span style=\"background-color:rgba(135,206,250,0.011141442);\">s</span> <span style=\"background-color:rgba(135,206,250,0.03536038);\">lineup</span> <span style=\"background-color:rgba(135,206,250,0.009910673);\">of</span> <span style=\"background-color:rgba(135,206,250,0.04444287);\">german</span> <span style=\"background-color:rgba(135,206,250,0.03272737);\">riesling</span> <span style=\"background-color:rgba(135,206,250,0.021169694);\">.</span> <span style=\"background-color:rgba(135,206,250,0.008307861);\">this</span> <span style=\"background-color:rgba(135,206,250,0.010459697);\">one</span> <span style=\"background-color:rgba(135,206,250,0.011057598);\">is</span> <span style=\"background-color:rgba(135,206,250,0.0095472);\">a</span> <span style=\"background-color:rgba(135,206,250,0.017020686);\">showcase</span> <span style=\"background-color:rgba(135,206,250,0.010019689);\">of</span> <span style=\"background-color:rgba(135,206,250,0.021366194);\">honey</span> <span style=\"background-color:rgba(135,206,250,0.017536752);\">and</span> <span style=\"background-color:rgba(135,206,250,0.024440428);\">spice</span> <span style=\"background-color:rgba(135,206,250,0.013938492);\">,</span> <span style=\"background-color:rgba(135,206,250,0.01416441);\">with</span> <span style=\"background-color:rgba(135,206,250,0.010773732);\">a</span> <span style=\"background-color:rgba(135,206,250,0.01533741);\">touch</span> <span style=\"background-color:rgba(135,206,250,0.011061657);\">of</span> <span style=\"background-color:rgba(135,206,250,0.02424224);\">honey</span> <span style=\"background-color:rgba(135,206,250,0.02024963);\">and</span> <span style=\"background-color:rgba(135,206,250,0.028084558);\">saffron</span> <span style=\"background-color:rgba(135,206,250,0.025121354);\">.</span> <span style=\"background-color:rgba(135,206,250,0.006878403);\">it</span> <span style=\"background-color:rgba(135,206,250,0.011412162);\">'</span> <span style=\"background-color:rgba(135,206,250,0.01439354);\">s</span> <span style=\"background-color:rgba(135,206,250,0.10408745);\">lusciously</span> <span style=\"background-color:rgba(135,206,250,0.041341115);\">sweet</span> <span style=\"background-color:rgba(135,206,250,0.017112501);\">on</span> <span style=\"background-color:rgba(135,206,250,0.012450412);\">the</span> <span style=\"background-color:rgba(135,206,250,0.039111078);\">palate</span> <span style=\"background-color:rgba(135,206,250,0.022342319);\">,</span> <span style=\"background-color:rgba(135,206,250,0.045313425);\">but</span> <span style=\"background-color:rgba(135,206,250,0.010809135);\">it</span> <span style=\"background-color:rgba(135,206,250,0.015280929);\">'</span> <span style=\"background-color:rgba(135,206,250,0.017894488);\">s</span> <span style=\"background-color:rgba(135,206,250,0.023390144);\">also</span> <span style=\"background-color:rgba(135,206,250,0.037331317);\">elegantly</span> <span style=\"background-color:rgba(135,206,250,0.10636276);\">structured</span> <span style=\"background-color:rgba(135,206,250,0.03686929);\">,</span> <span style=\"background-color:rgba(135,206,250,0.049282778);\">with</span> <span style=\"background-color:rgba(135,206,250,0.07863063);\">gorgeous</span> <span style=\"background-color:rgba(135,206,250,0.067441784);\">floral</span> <span style=\"background-color:rgba(135,206,250,0.07184138);\">notes</span> <span style=\"background-color:rgba(135,206,250,0.052945036);\">of</span> <span style=\"background-color:rgba(135,206,250,0.07614884);\">honeysuckle</span> <span style=\"background-color:rgba(135,206,250,0.12182623);\">and</span> <span style=\"background-color:rgba(135,206,250,0.15124372);\">honey</span> <span style=\"background-color:rgba(135,206,250,0.30654147);\">,</span> <span style=\"background-color:rgba(135,206,250,1.0);\">but</span> <span style=\"background-color:rgba(135,206,250,0.6296344);\">it</span> <span style=\"background-color:rgba(135,206,250,0.14197376);\">'</span> <span style=\"background-color:rgba(135,206,250,0.19374688);\">s</span>"
      ],
      "text/plain": [
       "<IPython.core.display.HTML object>"
      ]
     },
     "metadata": {},
     "output_type": "display_data"
    },
    {
     "name": "stdout",
     "output_type": "stream",
     "text": [
      "balanced:   \t25.68%\n",
      "a:   \t21.06%\n",
      "also:   \t18.0%\n",
      "not:   \t6.51%\n",
      "elegantly:   \t4.65%\n",
      "--------\n",
      "\n"
     ]
    },
    {
     "data": {
      "text/html": [
       "<span style=\"background-color:rgba(135,206,250,0.04457093);\">wine</span> <span style=\"background-color:rgba(135,206,250,0.05343786);\">review</span> <span style=\"background-color:rgba(135,206,250,0.0527014);\">:</span> <span style=\"background-color:rgba(135,206,250,0.19847897);\">germany</span> <span style=\"background-color:rgba(135,206,250,0.035087164);\">:</span> <span style=\"background-color:rgba(135,206,250,0.16916773);\">mosel</span> <span style=\"background-color:rgba(135,206,250,0.047496747);\">:</span> <span style=\"background-color:rgba(135,206,250,0.23490463);\">riesling</span> <span style=\"background-color:rgba(135,206,250,0.05394921);\">:</span> <span style=\"background-color:rgba(135,206,250,0.033203628);\">[UNK]</span> <span style=\"background-color:rgba(135,206,250,0.021133881);\">'</span> <span style=\"background-color:rgba(135,206,250,0.036997892);\">s</span> <span style=\"background-color:rgba(135,206,250,0.018220114);\">[UNK]</span> <span style=\"background-color:rgba(135,206,250,0.016346376);\">'</span> <span style=\"background-color:rgba(135,206,250,0.0291952);\">s</span> <span style=\"background-color:rgba(135,206,250,0.015196758);\">[UNK]</span> <span style=\"background-color:rgba(135,206,250,0.020713115);\">estate</span> <span style=\"background-color:rgba(135,206,250,0.012785197);\">'</span> <span style=\"background-color:rgba(135,206,250,0.024860617);\">s</span> <span style=\"background-color:rgba(135,206,250,0.0145564275);\">[UNK]</span> <span style=\"background-color:rgba(135,206,250,0.0140510285);\">[UNK]</span> <span style=\"background-color:rgba(135,206,250,0.010984266);\">'</span> <span style=\"background-color:rgba(135,206,250,0.020719133);\">s</span> <span style=\"background-color:rgba(135,206,250,0.040389333);\">lineup</span> <span style=\"background-color:rgba(135,206,250,0.02246633);\">of</span> <span style=\"background-color:rgba(135,206,250,0.04183757);\">german</span> <span style=\"background-color:rgba(135,206,250,0.053516693);\">riesling</span> <span style=\"background-color:rgba(135,206,250,0.04351888);\">.</span> <span style=\"background-color:rgba(135,206,250,0.010850677);\">this</span> <span style=\"background-color:rgba(135,206,250,0.013999966);\">one</span> <span style=\"background-color:rgba(135,206,250,0.02805084);\">is</span> <span style=\"background-color:rgba(135,206,250,0.013191433);\">a</span> <span style=\"background-color:rgba(135,206,250,0.020123566);\">showcase</span> <span style=\"background-color:rgba(135,206,250,0.024431035);\">of</span> <span style=\"background-color:rgba(135,206,250,0.024308322);\">honey</span> <span style=\"background-color:rgba(135,206,250,0.021042867);\">and</span> <span style=\"background-color:rgba(135,206,250,0.039373558);\">spice</span> <span style=\"background-color:rgba(135,206,250,0.02439128);\">,</span> <span style=\"background-color:rgba(135,206,250,0.018620523);\">with</span> <span style=\"background-color:rgba(135,206,250,0.016200414);\">a</span> <span style=\"background-color:rgba(135,206,250,0.018592447);\">touch</span> <span style=\"background-color:rgba(135,206,250,0.027508143);\">of</span> <span style=\"background-color:rgba(135,206,250,0.028467001);\">honey</span> <span style=\"background-color:rgba(135,206,250,0.025551653);\">and</span> <span style=\"background-color:rgba(135,206,250,0.026828235);\">saffron</span> <span style=\"background-color:rgba(135,206,250,0.05826025);\">.</span> <span style=\"background-color:rgba(135,206,250,0.018432036);\">it</span> <span style=\"background-color:rgba(135,206,250,0.015271461);\">'</span> <span style=\"background-color:rgba(135,206,250,0.031378135);\">s</span> <span style=\"background-color:rgba(135,206,250,0.054453563);\">lusciously</span> <span style=\"background-color:rgba(135,206,250,0.04808681);\">sweet</span> <span style=\"background-color:rgba(135,206,250,0.025510585);\">on</span> <span style=\"background-color:rgba(135,206,250,0.023771707);\">the</span> <span style=\"background-color:rgba(135,206,250,0.10343635);\">palate</span> <span style=\"background-color:rgba(135,206,250,0.041604735);\">,</span> <span style=\"background-color:rgba(135,206,250,0.051556908);\">but</span> <span style=\"background-color:rgba(135,206,250,0.029268518);\">it</span> <span style=\"background-color:rgba(135,206,250,0.022175381);\">'</span> <span style=\"background-color:rgba(135,206,250,0.044850085);\">s</span> <span style=\"background-color:rgba(135,206,250,0.03141766);\">also</span> <span style=\"background-color:rgba(135,206,250,0.04275905);\">elegantly</span> <span style=\"background-color:rgba(135,206,250,0.104048714);\">structured</span> <span style=\"background-color:rgba(135,206,250,0.061767656);\">,</span> <span style=\"background-color:rgba(135,206,250,0.07974445);\">with</span> <span style=\"background-color:rgba(135,206,250,0.04263366);\">gorgeous</span> <span style=\"background-color:rgba(135,206,250,0.073644124);\">floral</span> <span style=\"background-color:rgba(135,206,250,0.19291846);\">notes</span> <span style=\"background-color:rgba(135,206,250,0.122895546);\">of</span> <span style=\"background-color:rgba(135,206,250,0.14496227);\">honeysuckle</span> <span style=\"background-color:rgba(135,206,250,0.16398661);\">and</span> <span style=\"background-color:rgba(135,206,250,0.22899815);\">honey</span> <span style=\"background-color:rgba(135,206,250,0.2578185);\">,</span> <span style=\"background-color:rgba(135,206,250,0.3973282);\">but</span> <span style=\"background-color:rgba(135,206,250,0.8993036);\">it</span> <span style=\"background-color:rgba(135,206,250,0.20440616);\">'</span> <span style=\"background-color:rgba(135,206,250,1.0);\">s</span> <span style=\"background-color:rgba(135,206,250,0.28276014);\">balanced</span>"
      ],
      "text/plain": [
       "<IPython.core.display.HTML object>"
      ]
     },
     "metadata": {},
     "output_type": "display_data"
    },
    {
     "name": "stdout",
     "output_type": "stream",
     "text": [
      "by:   \t54.26%\n",
      "squarely:   \t28.61%\n",
      "with:   \t7.69%\n",
      "neatly:   \t2.43%\n",
      ",:   \t2.34%\n",
      "--------\n",
      "\n"
     ]
    },
    {
     "data": {
      "text/html": [
       "<span style=\"background-color:rgba(135,206,250,0.035042405);\">wine</span> <span style=\"background-color:rgba(135,206,250,0.044149406);\">review</span> <span style=\"background-color:rgba(135,206,250,0.049066894);\">:</span> <span style=\"background-color:rgba(135,206,250,0.30672735);\">germany</span> <span style=\"background-color:rgba(135,206,250,0.0343223);\">:</span> <span style=\"background-color:rgba(135,206,250,0.19165462);\">mosel</span> <span style=\"background-color:rgba(135,206,250,0.02969851);\">:</span> <span style=\"background-color:rgba(135,206,250,0.18434303);\">riesling</span> <span style=\"background-color:rgba(135,206,250,0.029926833);\">:</span> <span style=\"background-color:rgba(135,206,250,0.03189533);\">[UNK]</span> <span style=\"background-color:rgba(135,206,250,0.018961025);\">'</span> <span style=\"background-color:rgba(135,206,250,0.028850006);\">s</span> <span style=\"background-color:rgba(135,206,250,0.02293302);\">[UNK]</span> <span style=\"background-color:rgba(135,206,250,0.015736364);\">'</span> <span style=\"background-color:rgba(135,206,250,0.023236604);\">s</span> <span style=\"background-color:rgba(135,206,250,0.01826977);\">[UNK]</span> <span style=\"background-color:rgba(135,206,250,0.026658257);\">estate</span> <span style=\"background-color:rgba(135,206,250,0.011612692);\">'</span> <span style=\"background-color:rgba(135,206,250,0.01861735);\">s</span> <span style=\"background-color:rgba(135,206,250,0.01640289);\">[UNK]</span> <span style=\"background-color:rgba(135,206,250,0.01544156);\">[UNK]</span> <span style=\"background-color:rgba(135,206,250,0.009570809);\">'</span> <span style=\"background-color:rgba(135,206,250,0.0150409);\">s</span> <span style=\"background-color:rgba(135,206,250,0.03402915);\">lineup</span> <span style=\"background-color:rgba(135,206,250,0.011789121);\">of</span> <span style=\"background-color:rgba(135,206,250,0.05872715);\">german</span> <span style=\"background-color:rgba(135,206,250,0.035893105);\">riesling</span> <span style=\"background-color:rgba(135,206,250,0.027080653);\">.</span> <span style=\"background-color:rgba(135,206,250,0.009198938);\">this</span> <span style=\"background-color:rgba(135,206,250,0.007298182);\">one</span> <span style=\"background-color:rgba(135,206,250,0.009700747);\">is</span> <span style=\"background-color:rgba(135,206,250,0.014932094);\">a</span> <span style=\"background-color:rgba(135,206,250,0.01254711);\">showcase</span> <span style=\"background-color:rgba(135,206,250,0.011446006);\">of</span> <span style=\"background-color:rgba(135,206,250,0.03364984);\">honey</span> <span style=\"background-color:rgba(135,206,250,0.016972464);\">and</span> <span style=\"background-color:rgba(135,206,250,0.037199434);\">spice</span> <span style=\"background-color:rgba(135,206,250,0.015312138);\">,</span> <span style=\"background-color:rgba(135,206,250,0.009958155);\">with</span> <span style=\"background-color:rgba(135,206,250,0.016941946);\">a</span> <span style=\"background-color:rgba(135,206,250,0.015953304);\">touch</span> <span style=\"background-color:rgba(135,206,250,0.012404417);\">of</span> <span style=\"background-color:rgba(135,206,250,0.038479563);\">honey</span> <span style=\"background-color:rgba(135,206,250,0.019238329);\">and</span> <span style=\"background-color:rgba(135,206,250,0.035776846);\">saffron</span> <span style=\"background-color:rgba(135,206,250,0.03271406);\">.</span> <span style=\"background-color:rgba(135,206,250,0.008288871);\">it</span> <span style=\"background-color:rgba(135,206,250,0.010340301);\">'</span> <span style=\"background-color:rgba(135,206,250,0.017789615);\">s</span> <span style=\"background-color:rgba(135,206,250,0.080253534);\">lusciously</span> <span style=\"background-color:rgba(135,206,250,0.027297566);\">sweet</span> <span style=\"background-color:rgba(135,206,250,0.016567795);\">on</span> <span style=\"background-color:rgba(135,206,250,0.015902465);\">the</span> <span style=\"background-color:rgba(135,206,250,0.06803734);\">palate</span> <span style=\"background-color:rgba(135,206,250,0.024562765);\">,</span> <span style=\"background-color:rgba(135,206,250,0.043087076);\">but</span> <span style=\"background-color:rgba(135,206,250,0.013424252);\">it</span> <span style=\"background-color:rgba(135,206,250,0.013556741);\">'</span> <span style=\"background-color:rgba(135,206,250,0.025289627);\">s</span> <span style=\"background-color:rgba(135,206,250,0.021848356);\">also</span> <span style=\"background-color:rgba(135,206,250,0.050031967);\">elegantly</span> <span style=\"background-color:rgba(135,206,250,0.08356237);\">structured</span> <span style=\"background-color:rgba(135,206,250,0.03501043);\">,</span> <span style=\"background-color:rgba(135,206,250,0.02949895);\">with</span> <span style=\"background-color:rgba(135,206,250,0.07838008);\">gorgeous</span> <span style=\"background-color:rgba(135,206,250,0.08020337);\">floral</span> <span style=\"background-color:rgba(135,206,250,0.08584652);\">notes</span> <span style=\"background-color:rgba(135,206,250,0.040080696);\">of</span> <span style=\"background-color:rgba(135,206,250,0.076742664);\">honeysuckle</span> <span style=\"background-color:rgba(135,206,250,0.08894595);\">and</span> <span style=\"background-color:rgba(135,206,250,0.14503859);\">honey</span> <span style=\"background-color:rgba(135,206,250,0.1678878);\">,</span> <span style=\"background-color:rgba(135,206,250,0.2511755);\">but</span> <span style=\"background-color:rgba(135,206,250,0.27342516);\">it</span> <span style=\"background-color:rgba(135,206,250,0.08836768);\">'</span> <span style=\"background-color:rgba(135,206,250,0.3773599);\">s</span> <span style=\"background-color:rgba(135,206,250,1.0);\">balanced</span> <span style=\"background-color:rgba(135,206,250,0.5566586);\">by</span>"
      ],
      "text/plain": [
       "<IPython.core.display.HTML object>"
      ]
     },
     "metadata": {},
     "output_type": "display_data"
    },
    {
     "name": "stdout",
     "output_type": "stream",
     "text": [
      "a:   \t94.29%\n",
      "crisp:   \t1.3%\n",
      "bright:   \t0.61%\n",
      "fresh:   \t0.48%\n",
      "delicate:   \t0.41%\n",
      "--------\n",
      "\n"
     ]
    },
    {
     "data": {
      "text/html": [
       "<span style=\"background-color:rgba(135,206,250,0.028229928);\">wine</span> <span style=\"background-color:rgba(135,206,250,0.03029508);\">review</span> <span style=\"background-color:rgba(135,206,250,0.03053387);\">:</span> <span style=\"background-color:rgba(135,206,250,0.24738336);\">germany</span> <span style=\"background-color:rgba(135,206,250,0.024615377);\">:</span> <span style=\"background-color:rgba(135,206,250,0.16124214);\">mosel</span> <span style=\"background-color:rgba(135,206,250,0.023348968);\">:</span> <span style=\"background-color:rgba(135,206,250,0.13951844);\">riesling</span> <span style=\"background-color:rgba(135,206,250,0.028341826);\">:</span> <span style=\"background-color:rgba(135,206,250,0.029672436);\">[UNK]</span> <span style=\"background-color:rgba(135,206,250,0.01451401);\">'</span> <span style=\"background-color:rgba(135,206,250,0.024238216);\">s</span> <span style=\"background-color:rgba(135,206,250,0.022739068);\">[UNK]</span> <span style=\"background-color:rgba(135,206,250,0.012807781);\">'</span> <span style=\"background-color:rgba(135,206,250,0.01972856);\">s</span> <span style=\"background-color:rgba(135,206,250,0.018175367);\">[UNK]</span> <span style=\"background-color:rgba(135,206,250,0.028460208);\">estate</span> <span style=\"background-color:rgba(135,206,250,0.0094558485);\">'</span> <span style=\"background-color:rgba(135,206,250,0.015141318);\">s</span> <span style=\"background-color:rgba(135,206,250,0.015314132);\">[UNK]</span> <span style=\"background-color:rgba(135,206,250,0.014737866);\">[UNK]</span> <span style=\"background-color:rgba(135,206,250,0.007700968);\">'</span> <span style=\"background-color:rgba(135,206,250,0.011485595);\">s</span> <span style=\"background-color:rgba(135,206,250,0.03261029);\">lineup</span> <span style=\"background-color:rgba(135,206,250,0.011113871);\">of</span> <span style=\"background-color:rgba(135,206,250,0.038715657);\">german</span> <span style=\"background-color:rgba(135,206,250,0.029873792);\">riesling</span> <span style=\"background-color:rgba(135,206,250,0.018878682);\">.</span> <span style=\"background-color:rgba(135,206,250,0.0077106818);\">this</span> <span style=\"background-color:rgba(135,206,250,0.009510038);\">one</span> <span style=\"background-color:rgba(135,206,250,0.008981222);\">is</span> <span style=\"background-color:rgba(135,206,250,0.0075835995);\">a</span> <span style=\"background-color:rgba(135,206,250,0.015421457);\">showcase</span> <span style=\"background-color:rgba(135,206,250,0.010370366);\">of</span> <span style=\"background-color:rgba(135,206,250,0.02570306);\">honey</span> <span style=\"background-color:rgba(135,206,250,0.009199662);\">and</span> <span style=\"background-color:rgba(135,206,250,0.024534864);\">spice</span> <span style=\"background-color:rgba(135,206,250,0.011496158);\">,</span> <span style=\"background-color:rgba(135,206,250,0.010641467);\">with</span> <span style=\"background-color:rgba(135,206,250,0.008546147);\">a</span> <span style=\"background-color:rgba(135,206,250,0.014980014);\">touch</span> <span style=\"background-color:rgba(135,206,250,0.0115861185);\">of</span> <span style=\"background-color:rgba(135,206,250,0.02943786);\">honey</span> <span style=\"background-color:rgba(135,206,250,0.010642697);\">and</span> <span style=\"background-color:rgba(135,206,250,0.024310963);\">saffron</span> <span style=\"background-color:rgba(135,206,250,0.021642806);\">.</span> <span style=\"background-color:rgba(135,206,250,0.007890809);\">it</span> <span style=\"background-color:rgba(135,206,250,0.00772022);\">'</span> <span style=\"background-color:rgba(135,206,250,0.013282573);\">s</span> <span style=\"background-color:rgba(135,206,250,0.065953545);\">lusciously</span> <span style=\"background-color:rgba(135,206,250,0.028617393);\">sweet</span> <span style=\"background-color:rgba(135,206,250,0.01417665);\">on</span> <span style=\"background-color:rgba(135,206,250,0.011109743);\">the</span> <span style=\"background-color:rgba(135,206,250,0.06133824);\">palate</span> <span style=\"background-color:rgba(135,206,250,0.018342862);\">,</span> <span style=\"background-color:rgba(135,206,250,0.035961267);\">but</span> <span style=\"background-color:rgba(135,206,250,0.01131371);\">it</span> <span style=\"background-color:rgba(135,206,250,0.010140806);\">'</span> <span style=\"background-color:rgba(135,206,250,0.017642602);\">s</span> <span style=\"background-color:rgba(135,206,250,0.019630475);\">also</span> <span style=\"background-color:rgba(135,206,250,0.034475155);\">elegantly</span> <span style=\"background-color:rgba(135,206,250,0.08026095);\">structured</span> <span style=\"background-color:rgba(135,206,250,0.024188988);\">,</span> <span style=\"background-color:rgba(135,206,250,0.029614171);\">with</span> <span style=\"background-color:rgba(135,206,250,0.064243205);\">gorgeous</span> <span style=\"background-color:rgba(135,206,250,0.04603416);\">floral</span> <span style=\"background-color:rgba(135,206,250,0.0545298);\">notes</span> <span style=\"background-color:rgba(135,206,250,0.034948345);\">of</span> <span style=\"background-color:rgba(135,206,250,0.04752834);\">honeysuckle</span> <span style=\"background-color:rgba(135,206,250,0.056548823);\">and</span> <span style=\"background-color:rgba(135,206,250,0.10862267);\">honey</span> <span style=\"background-color:rgba(135,206,250,0.10207526);\">,</span> <span style=\"background-color:rgba(135,206,250,0.16716927);\">but</span> <span style=\"background-color:rgba(135,206,250,0.20803599);\">it</span> <span style=\"background-color:rgba(135,206,250,0.051108915);\">'</span> <span style=\"background-color:rgba(135,206,250,0.21744919);\">s</span> <span style=\"background-color:rgba(135,206,250,0.475228);\">balanced</span> <span style=\"background-color:rgba(135,206,250,1.0);\">by</span> <span style=\"background-color:rgba(135,206,250,0.22742368);\">a</span>"
      ],
      "text/plain": [
       "<IPython.core.display.HTML object>"
      ]
     },
     "metadata": {},
     "output_type": "display_data"
    },
    {
     "name": "stdout",
     "output_type": "stream",
     "text": [
      "long:   \t30.43%\n",
      "reverberating:   \t22.36%\n",
      "crush:   \t9.73%\n",
      "lingering:   \t6.27%\n",
      "strike:   \t4.27%\n",
      "--------\n",
      "\n"
     ]
    }
   ],
   "source": [
    "#посомтрим сколько внимания уделяется словам (чем темнее цвет выделения тем больше внимания)\n",
    "info = text_generator.generate(\n",
    "    \"wine review : germany\", max_tokens=80, temperature=0.5\n",
    ")\n",
    "print_probs(info, vocab)"
   ]
  },
  {
   "cell_type": "code",
   "execution_count": null,
   "id": "fcc7a7c0-6c64-47d3-acee-96e48f025e01",
   "metadata": {},
   "outputs": [],
   "source": []
  },
  {
   "cell_type": "code",
   "execution_count": null,
   "id": "4122154c-9e41-44ba-8c5f-fe88a55fe977",
   "metadata": {},
   "outputs": [],
   "source": []
  }
 ],
 "metadata": {
  "kernelspec": {
   "display_name": "Python 3 (ipykernel)",
   "language": "python",
   "name": "python3"
  },
  "language_info": {
   "codemirror_mode": {
    "name": "ipython",
    "version": 3
   },
   "file_extension": ".py",
   "mimetype": "text/x-python",
   "name": "python",
   "nbconvert_exporter": "python",
   "pygments_lexer": "ipython3",
   "version": "3.11.5"
  },
  "vscode": {
   "interpreter": {
    "hash": "31f2aee4e71d21fbe5cf8b01ff0e069b9275f58929596ceb00d14d90e3e16cd6"
   }
  }
 },
 "nbformat": 4,
 "nbformat_minor": 5
}
