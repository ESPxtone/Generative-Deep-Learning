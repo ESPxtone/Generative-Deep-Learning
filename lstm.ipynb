{
 "cells": [
  {
   "cell_type": "markdown",
   "id": "b076bd1a-b236-4fbc-953d-8295b25122ae",
   "metadata": {},
   "source": [
    "# 🥙 LSTM on Recipe Data"
   ]
  },
  {
   "cell_type": "markdown",
   "id": "658a95da-9645-4bcf-bd9d-4b95a4b6f582",
   "metadata": {},
   "source": [
    "In this notebook, we'll walk through the steps required to train your own LSTM on the recipes dataset"
   ]
  },
  {
   "cell_type": "code",
   "execution_count": 2,
   "id": "4e0d56cc-4773-4029-97d8-26f882ba79c9",
   "metadata": {},
   "outputs": [
    {
     "name": "stdout",
     "output_type": "stream",
     "text": [
      "The autoreload extension is already loaded. To reload it, use:\n",
      "  %reload_ext autoreload\n"
     ]
    }
   ],
   "source": [
    "%load_ext autoreload\n",
    "%autoreload 2\n",
    "\n",
    "import numpy as np\n",
    "import json\n",
    "import re\n",
    "import string\n",
    "\n",
    "import tensorflow as tf\n",
    "from tensorflow.keras import layers, models, callbacks, losses"
   ]
  },
  {
   "cell_type": "code",
   "execution_count": 3,
   "id": "b65ddabe",
   "metadata": {},
   "outputs": [
    {
     "name": "stdout",
     "output_type": "stream",
     "text": [
      "2.15.0\n"
     ]
    }
   ],
   "source": [
    "print(tf.__version__)"
   ]
  },
  {
   "cell_type": "markdown",
   "id": "339e6268-ebd7-4feb-86db-1fe7abccdbe5",
   "metadata": {},
   "source": [
    "## 0. Parameters <a name=\"parameters\"></a>"
   ]
  },
  {
   "cell_type": "code",
   "execution_count": 4,
   "id": "2d8352af-343e-4c2e-8c91-95f8bac1c8a1",
   "metadata": {},
   "outputs": [],
   "source": [
    "VOCAB_SIZE = 10000\n",
    "MAX_LEN = 200\n",
    "EMBEDDING_DIM = 100\n",
    "N_UNITS = 128\n",
    "VALIDATION_SPLIT = 0.2\n",
    "SEED = 42\n",
    "LOAD_MODEL = False\n",
    "BATCH_SIZE = 32\n",
    "EPOCHS = 25"
   ]
  },
  {
   "cell_type": "markdown",
   "id": "b7716fac-0010-49b0-b98e-53be2259edde",
   "metadata": {},
   "source": [
    "## 1. Load the data <a name=\"load\"></a>"
   ]
  },
  {
   "cell_type": "code",
   "execution_count": 5,
   "id": "93cf6b0f-9667-4146-8911-763a8a2925d3",
   "metadata": {
    "tags": []
   },
   "outputs": [],
   "source": [
    "# Load the full dataset\n",
    "with open(\"data/epirecipes/full_format_recipes.json\") as json_data:\n",
    "    recipe_data = json.load(json_data)"
   ]
  },
  {
   "cell_type": "code",
   "execution_count": 6,
   "id": "23a74eca-f1b7-4a46-9a1f-b5806a4ed361",
   "metadata": {
    "tags": []
   },
   "outputs": [],
   "source": [
    "# Filter the dataset, оставляем тексты только с загаловками и описанием\n",
    "filtered_data = [\n",
    "    \"Recipe for \" + x[\"title\"] + \" | \" + \" \".join(x[\"directions\"])\n",
    "    for x in recipe_data\n",
    "    if \"title\" in x\n",
    "    and x[\"title\"] is not None\n",
    "    and \"directions\" in x\n",
    "    and x[\"directions\"] is not None\n",
    "]"
   ]
  },
  {
   "cell_type": "code",
   "execution_count": 7,
   "id": "389c20de-0422-4c48-a7b4-6ee12a7bf0e2",
   "metadata": {
    "tags": []
   },
   "outputs": [
    {
     "name": "stdout",
     "output_type": "stream",
     "text": [
      "20111 recipes loaded\n"
     ]
    }
   ],
   "source": [
    "# Count the recipes\n",
    "n_recipes = len(filtered_data)\n",
    "print(f\"{n_recipes} recipes loaded\")"
   ]
  },
  {
   "cell_type": "code",
   "execution_count": 8,
   "id": "1b2e3cf7-e416-460e-874a-0dd9637bca36",
   "metadata": {},
   "outputs": [
    {
     "name": "stdout",
     "output_type": "stream",
     "text": [
      "Recipe for Ham Persillade with Mustard Potato Salad and Mashed Peas  | Chop enough parsley leaves to measure 1 tablespoon; reserve. Chop remaining leaves and stems and simmer with broth and garlic in a small saucepan, covered, 5 minutes. Meanwhile, sprinkle gelatin over water in a medium bowl and let soften 1 minute. Strain broth through a fine-mesh sieve into bowl with gelatin and stir to dissolve. Season with salt and pepper. Set bowl in an ice bath and cool to room temperature, stirring. Toss ham with reserved parsley and divide among jars. Pour gelatin on top and chill until set, at least 1 hour. Whisk together mayonnaise, mustard, vinegar, 1/4 teaspoon salt, and 1/4 teaspoon pepper in a large bowl. Stir in celery, cornichons, and potatoes. Pulse peas with marjoram, oil, 1/2 teaspoon pepper, and 1/4 teaspoon salt in a food processor to a coarse mash. Layer peas, then potato salad, over ham.\n"
     ]
    }
   ],
   "source": [
    "example = filtered_data[9]\n",
    "print(example)"
   ]
  },
  {
   "cell_type": "markdown",
   "id": "3f871aaf-d873-41c7-8946-e4eef7ac17c1",
   "metadata": {},
   "source": [
    "## 2. Tokenise the data"
   ]
  },
  {
   "cell_type": "code",
   "execution_count": 9,
   "id": "5b2064fb-5dcc-4657-b470-0928d10e2ddc",
   "metadata": {
    "tags": []
   },
   "outputs": [],
   "source": [
    "# Pad the punctuation, to treat them as separate 'words'\n",
    "def pad_punctuation(s):\n",
    "    s = re.sub(f\"([{string.punctuation}])\", r\" \\1 \", s)\n",
    "    s = re.sub(\" +\", \" \", s)\n",
    "    return s\n",
    "\n",
    "\n",
    "text_data = [pad_punctuation(x) for x in filtered_data] #добавление пробелов вокруг знаков препинания, чтоюы они воспринимались как слова"
   ]
  },
  {
   "cell_type": "code",
   "execution_count": 10,
   "id": "b87d7c65-9a46-492a-a5c0-a043b0d252f3",
   "metadata": {},
   "outputs": [
    {
     "data": {
      "text/plain": [
       "'Recipe for Ham Persillade with Mustard Potato Salad and Mashed Peas | Chop enough parsley leaves to measure 1 tablespoon ; reserve . Chop remaining leaves and stems and simmer with broth and garlic in a small saucepan , covered , 5 minutes . Meanwhile , sprinkle gelatin over water in a medium bowl and let soften 1 minute . Strain broth through a fine - mesh sieve into bowl with gelatin and stir to dissolve . Season with salt and pepper . Set bowl in an ice bath and cool to room temperature , stirring . Toss ham with reserved parsley and divide among jars . Pour gelatin on top and chill until set , at least 1 hour . Whisk together mayonnaise , mustard , vinegar , 1 / 4 teaspoon salt , and 1 / 4 teaspoon pepper in a large bowl . Stir in celery , cornichons , and potatoes . Pulse peas with marjoram , oil , 1 / 2 teaspoon pepper , and 1 / 4 teaspoon salt in a food processor to a coarse mash . Layer peas , then potato salad , over ham . '"
      ]
     },
     "execution_count": 10,
     "metadata": {},
     "output_type": "execute_result"
    }
   ],
   "source": [
    "# Display an example of a recipe\n",
    "example_data = text_data[9]\n",
    "example_data"
   ]
  },
  {
   "cell_type": "code",
   "execution_count": 11,
   "id": "9834f916-b21a-4104-acc9-f28d3bd7a8c1",
   "metadata": {
    "tags": []
   },
   "outputs": [],
   "source": [
    "# Convert to a Tensorflow Dataset\n",
    "text_ds = (\n",
    "    tf.data.Dataset.from_tensor_slices(text_data)\n",
    "    .batch(BATCH_SIZE)\n",
    "    .shuffle(1000)\n",
    ")"
   ]
  },
  {
   "cell_type": "code",
   "execution_count": 13,
   "id": "884c0bcb-0807-45a1-8f7e-a32f2c6fa4de",
   "metadata": {},
   "outputs": [],
   "source": [
    "# Create a vectorisation layer\n",
    "vectorize_layer = layers.TextVectorization(\n",
    "    standardize=\"lower\", #нижний регистр\n",
    "    max_tokens=VOCAB_SIZE, #присваиваем 10000 наиболее популярным словам целочисленные индексы\n",
    "    output_mode=\"int\",\n",
    "    output_sequence_length=MAX_LEN + 1, #усечение длины последовательности до 201 лексемы\n",
    ")"
   ]
  },
  {
   "cell_type": "code",
   "execution_count": 14,
   "id": "4d6dd34a-d905-497b-926a-405380ebcf98",
   "metadata": {},
   "outputs": [
    {
     "name": "stdout",
     "output_type": "stream",
     "text": [
      "WARNING:tensorflow:From C:\\Users\\d.sergeev\\AppData\\Roaming\\Python\\Python311\\site-packages\\keras\\src\\utils\\tf_utils.py:492: The name tf.ragged.RaggedTensorValue is deprecated. Please use tf.compat.v1.ragged.RaggedTensorValue instead.\n",
      "\n"
     ]
    }
   ],
   "source": [
    "# Применяем слой TextVectorization к обучающим данным\n",
    "vectorize_layer.adapt(text_ds)\n",
    "vocab = vectorize_layer.get_vocabulary() #тут храним список лексем слов"
   ]
  },
  {
   "cell_type": "code",
   "execution_count": 15,
   "id": "f6c1c7ce-3cf0-40d4-a3dc-ab7090f69f2f",
   "metadata": {},
   "outputs": [
    {
     "name": "stdout",
     "output_type": "stream",
     "text": [
      "0: \n",
      "1: [UNK]\n",
      "2: .\n",
      "3: ,\n",
      "4: and\n",
      "5: to\n",
      "6: in\n",
      "7: the\n",
      "8: with\n",
      "9: a\n"
     ]
    }
   ],
   "source": [
    "# Display some token:word mappings\n",
    "#индекс 0 - стоп-лексема, использвуется для обозначения конца текстовой строки\n",
    "#индекс 1 - для неизвестных слов\n",
    "for i, word in enumerate(vocab[:10]):\n",
    "    print(f\"{i}: {word}\")"
   ]
  },
  {
   "cell_type": "code",
   "execution_count": 16,
   "id": "1cc30186-7ec6-4eb6-b29a-65df6714d321",
   "metadata": {},
   "outputs": [
    {
     "name": "stdout",
     "output_type": "stream",
     "text": [
      "[  26   16  557    1    8  298  335  189    4 1054  494   27  332  228\n",
      "  235  262    5  594   11  133   22  311    2  332   45  262    4  671\n",
      "    4   70    8  171    4   81    6    9   65   80    3  121    3   59\n",
      "   12    2  299    3   88  650   20   39    6    9   29   21    4   67\n",
      "  529   11  164    2  320  171  102    9  374   13  643  306   25   21\n",
      "    8  650    4   42    5  931    2   63    8   24    4   33    2  114\n",
      "   21    6  178  181 1245    4   60    5  140  112    3   48    2  117\n",
      "  557    8  285  235    4  200  292  980    2  107  650   28   72    4\n",
      "  108   10  114    3   57  204   11  172    2   73  110  482    3  298\n",
      "    3  190    3   11   23   32  142   24    3    4   11   23   32  142\n",
      "   33    6    9   30   21    2   42    6  353    3 3224    3    4  150\n",
      "    2  437  494    8 1281    3   37    3   11   23   15  142   33    3\n",
      "    4   11   23   32  142   24    6    9  291  188    5    9  412  572\n",
      "    2  230  494    3   46  335  189    3   20  557    2    0    0    0\n",
      "    0    0    0    0    0]\n"
     ]
    }
   ],
   "source": [
    "# Display the same example converted to ints\n",
    "example_tokenised = vectorize_layer(example_data)\n",
    "print(example_tokenised.numpy())"
   ]
  },
  {
   "cell_type": "markdown",
   "id": "8c195efb-84c6-4be0-a989-a7542188ad35",
   "metadata": {},
   "source": [
    "## 3. Create the Training Set"
   ]
  },
  {
   "cell_type": "code",
   "execution_count": 17,
   "id": "740294a1-1a6b-4c89-92f2-036d7d1b788b",
   "metadata": {},
   "outputs": [],
   "source": [
    "#создаем обучающий набор данных, состоящий из вектора индексов лексем рецептов \n",
    "#и того же самого вектора, смещенного на одну лексему (таргет)\n",
    "def prepare_inputs(text):\n",
    "    text = tf.expand_dims(text, -1)\n",
    "    tokenized_sentences = vectorize_layer(text)\n",
    "    x = tokenized_sentences[:, :-1]\n",
    "    y = tokenized_sentences[:, 1:]\n",
    "    return x, y\n",
    "\n",
    "\n",
    "train_ds = text_ds.map(prepare_inputs)"
   ]
  },
  {
   "cell_type": "markdown",
   "id": "aff50401-3abe-4c10-bba8-b35bc13ad7d5",
   "metadata": {
    "tags": []
   },
   "source": [
    "## 4. Build the LSTM <a name=\"build\"></a>"
   ]
  },
  {
   "cell_type": "code",
   "execution_count": 18,
   "id": "9230b5bf-b4a8-48d5-b73b-6899a598f296",
   "metadata": {},
   "outputs": [
    {
     "name": "stdout",
     "output_type": "stream",
     "text": [
      "Model: \"model\"\n",
      "_________________________________________________________________\n",
      " Layer (type)                Output Shape              Param #   \n",
      "=================================================================\n",
      " input_1 (InputLayer)        [(None, None)]            0         \n",
      "                                                                 \n",
      " embedding (Embedding)       (None, None, 100)         1000000   \n",
      "                                                                 \n",
      " lstm (LSTM)                 (None, None, 128)         117248    \n",
      "                                                                 \n",
      " dense (Dense)               (None, None, 10000)       1290000   \n",
      "                                                                 \n",
      "=================================================================\n",
      "Total params: 2407248 (9.18 MB)\n",
      "Trainable params: 2407248 (9.18 MB)\n",
      "Non-trainable params: 0 (0.00 Byte)\n",
      "_________________________________________________________________\n"
     ]
    }
   ],
   "source": [
    "#входной слой не требует заранее указывать длину последовательности \n",
    "inputs = layers.Input(shape=(None,), dtype=\"int32\")\n",
    "\n",
    "#преобразует лексемы в вектора, значения вектора подбираются как веса, указываем размер словаря т размерность скрытого пространства\n",
    "x = layers.Embedding(VOCAB_SIZE, EMBEDDING_DIM)(inputs)\n",
    "\n",
    "#возращает новое скрытое состояние, опираясь на предыдущее состояние и векторное представление текущего слова\n",
    "#указываем размерность скрытого вектора, и возращаем полную последовательность, а не только скрытое состояние из последнего шага\n",
    "x = layers.LSTM(N_UNITS, return_sequences=True)(x)\n",
    "\n",
    "#преобразует скрытые состояния на каждом временном шаге в вектор вероятностей следующей лексемы\n",
    "outputs = layers.Dense(VOCAB_SIZE, activation=\"softmax\")(x)\n",
    "lstm = models.Model(inputs, outputs)\n",
    "lstm.summary()"
   ]
  },
  {
   "cell_type": "code",
   "execution_count": null,
   "id": "800a3c6e-fb11-4792-b6bc-9a43a7c977ad",
   "metadata": {
    "tags": []
   },
   "outputs": [],
   "source": [
    "if LOAD_MODEL:\n",
    "    # model.load_weights('./models/model')\n",
    "    lstm = models.load_model(\"./models/lstm\", compile=False)"
   ]
  },
  {
   "cell_type": "markdown",
   "id": "35b14665-4359-447b-be58-3fd58ba69084",
   "metadata": {},
   "source": [
    "## 5. Train the LSTM <a name=\"train\"></a>"
   ]
  },
  {
   "cell_type": "code",
   "execution_count": 20,
   "id": "ffb1bd3b-6fd9-4536-973e-6375bbcbf16d",
   "metadata": {},
   "outputs": [],
   "source": [
    "loss_fn = losses.SparseCategoricalCrossentropy() #как перекрестнаяя энтропия, но для целочисленных меток, а не векторов прямого кодирования\n",
    "lstm.compile(\"adam\", loss_fn)"
   ]
  },
  {
   "cell_type": "code",
   "execution_count": 21,
   "id": "3ddcff5f-829d-4449-99d2-9a3cb68f7d72",
   "metadata": {},
   "outputs": [],
   "source": [
    "# Create a TextGenerator checkpoint\n",
    "#temperature - температурный параметр, указывает на сколько детерминированным будет выбор текста, \n",
    "#0 - более детерминированный (чаще выбирается слово с большей вероятностью)\n",
    "class TextGenerator(callbacks.Callback):\n",
    "    def __init__(self, index_to_word, top_k=10):\n",
    "        self.index_to_word = index_to_word\n",
    "        self.word_to_index = {\n",
    "            word: index for index, word in enumerate(index_to_word)\n",
    "        }  # словарь обратного отображения (слова в индекс лексемы)\n",
    "\n",
    "    def sample_from(self, probs, temperature):  # обновляет вероятности с коэффициентом temperature\n",
    "        probs = probs ** (1 / temperature)\n",
    "        probs = probs / np.sum(probs)\n",
    "        return np.random.choice(len(probs), p=probs), probs\n",
    "\n",
    "    def generate(self, start_prompt, max_tokens, temperature):\n",
    "        start_tokens = [\n",
    "            self.word_to_index.get(x, 1) for x in start_prompt.split()\n",
    "        ]  # начальный текст - последовательность слов, которую необходимо передать модели для генерации\n",
    "        sample_token = None\n",
    "        info = []\n",
    "        while len(start_tokens) < max_tokens and sample_token != 0:  #последовательность генерируется до тех пор пока длина не будет max_tokens или не будет создана стоп-лексема\n",
    "            x = np.array([start_tokens])\n",
    "            y = self.model.predict(x, verbose=0)  #модель возращает для каждого слова в словаре вероятность стать следующим в последовательности\n",
    "            sample_token, probs = self.sample_from(y[0][-1], temperature)  #вероятность передаётся в функцию sample_from, которая делает выбор с учетом temperature\n",
    "            info.append({\"prompt\": start_prompt, \"word_probs\": probs})\n",
    "            start_tokens.append(sample_token)  #новое слово добавляется в исходный текст для следующей итерации\n",
    "            start_prompt = start_prompt + \" \" + self.index_to_word[sample_token]\n",
    "        print(f\"\\ngenerated text:\\n{start_prompt}\\n\")\n",
    "        return info\n",
    "\n",
    "    def on_epoch_end(self, epoch, logs=None):\n",
    "        self.generate(\"recipe for\", max_tokens=100, temperature=1.0)"
   ]
  },
  {
   "cell_type": "code",
   "execution_count": 22,
   "id": "349865fe-ffbe-450e-97be-043ae1740e78",
   "metadata": {},
   "outputs": [],
   "source": [
    "# Create a model save checkpoint\n",
    "model_checkpoint_callback = callbacks.ModelCheckpoint(\n",
    "    filepath=\"./checkpoint/checkpoint.ckpt\",\n",
    "    save_weights_only=True,\n",
    "    save_freq=\"epoch\",\n",
    "    verbose=0,\n",
    ")\n",
    "\n",
    "tensorboard_callback = callbacks.TensorBoard(log_dir=\"./logs\")\n",
    "\n",
    "# Tokenize starting prompt\n",
    "text_generator = TextGenerator(vocab)"
   ]
  },
  {
   "cell_type": "code",
   "execution_count": 23,
   "id": "461c2b3e-b5ae-4def-8bd9-e7bab8c63d8e",
   "metadata": {
    "tags": []
   },
   "outputs": [
    {
     "name": "stdout",
     "output_type": "stream",
     "text": [
      "Epoch 1/25\n",
      "629/629 [==============================] - ETA: 0s - loss: 4.4590\n",
      "generated text:\n",
      "recipe for cobb metal cook , latkes of whisk with inch cubes stand and beginning oven and stir \n",
      "\n",
      "629/629 [==============================] - 294s 464ms/step - loss: 4.4590\n",
      "Epoch 2/25\n",
      "629/629 [==============================] - ETA: 0s - loss: 3.1312\n",
      "generated text:\n",
      "recipe for almond cheese and etc sliced lentil chicken | zucchini stock on a large bowl ( up - inch bowl to preheat oven . scoop mangoes into a 3 cups over boiling water with . bake until melted whipped until firm to light dressing , at turkey slightly mixture are slightly , up , 10 minutes . increase oven to rinse the vegetables . add oil in flower eggs and broiler over 50 - the addition . punch shrimp and reserve pot . turn cream chilled . drizzle onto spicy pan and reduce heat ; sauté until almost tender\n",
      "\n",
      "629/629 [==============================] - 298s 474ms/step - loss: 3.1312\n",
      "Epoch 3/25\n",
      "629/629 [==============================] - ETA: 0s - loss: 2.5348\n",
      "generated text:\n",
      "recipe for date tart | tomato in skillet with salt until smooth . ( can be veal burner , about 1 hour more , transferring in a bowl - cool , baking sheet . 3 - ovenproof bath to 14 - allow glass . spray pie pan with parchment fat . slice dark oil in 11 - inch oval baking dish . mix next 8 juice , simple juice , cornmeal , 1 / 4 cups , and 1 / 2 cup butter in small saucepan ; stir in bowl . ( can be prepared 1 day ahead . it\n",
      "\n",
      "629/629 [==============================] - 286s 454ms/step - loss: 2.5348\n",
      "Epoch 4/25\n",
      "629/629 [==============================] - ETA: 0s - loss: 2.2773\n",
      "generated text:\n",
      "recipe for carrots upside | cook except onion , dates in a curry powder , and sugar in a large large saucepan and bring to a simmer , covered , until very tender and cooked through , but beans , about 1 minute if elastic and the chopped and blot with any liquid behind . meanwhile , dress the fish with salt and chiles ; lightly grind the garlic to taste with a the brown yogurt , together , the cheese , chives and chili powder . working on a bowl , melt the oil on a surface 2 burners\n",
      "\n",
      "629/629 [==============================] - 284s 451ms/step - loss: 2.2773\n",
      "Epoch 5/25\n",
      "629/629 [==============================] - ETA: 0s - loss: 2.1270\n",
      "generated text:\n",
      "recipe for homemade parmesan cheese pilaf | preheat oven to 400°f . butter heavy saucepan , heat 1 / 2 cup oil in heatproof bowl . heat skillet in a skillet over medium - high heat until hot at tender , stirring occasionally , about 3 minutes . remove from heat and emptying shred from plate and let cool . set aside before using . ( can be surface ahead can be made 1 week ahead . cover and chill warm potatoes at room temperature . discard diced top halves and spread cherries around crust , spreading evenly dry .\n",
      "\n",
      "629/629 [==============================] - 284s 451ms/step - loss: 2.1270\n",
      "Epoch 6/25\n",
      "629/629 [==============================] - ETA: 0s - loss: 2.0243\n",
      "generated text:\n",
      "recipe for clams with coconut , nectarine , and peppers | heat gin easier to off flame . to in small heavy saucepan salted water bring oil to a boil . using slotted spoon , stirring constantly , about 20 minutes . drain warm and finely stir , mix until smooth . whisk bonito strips in a food processor . seal ; process until you are well with prospect . meanwhile , whisk vanilla syrup , dill , half , salt , pepper , and sage in a bowl until just combined . add drained squash to form 1 minute\n",
      "\n",
      "629/629 [==============================] - 283s 450ms/step - loss: 2.0243\n",
      "Epoch 7/25\n",
      "629/629 [==============================] - ETA: 0s - loss: 1.9498\n",
      "generated text:\n",
      "recipe for tangy chocolate pizza muffins | prick a 2 generous double knife or feed small 4x1 - salt . coarsely chop artichoke through your stem of the pear wedges and slice the beetroot and peel frozen halves . cut two horizontally in 1 / 4 . drizzle arrange 1 / 2 - inch ovenproof baking dish over bread . place on rack . place , with poultry rounded bread slices and carrot slices . carefully grill broiler . grill bok choy in same manner . remove tofu . cover and sprinkle with chicken and cook rice cooking , stirring\n",
      "\n",
      "629/629 [==============================] - 285s 453ms/step - loss: 1.9498\n",
      "Epoch 8/25\n",
      "629/629 [==============================] - ETA: 0s - loss: 1.8916\n",
      "generated text:\n",
      "recipe for mango and orange blintz | melt butter in a hand - medium - safe deep sauté pan . add the skillet and sauté on 2 1 / 2 inch - high heat , stirring , until the matter of the skin is \n",
      "\n",
      "629/629 [==============================] - 280s 445ms/step - loss: 1.8916\n",
      "Epoch 9/25\n",
      "629/629 [==============================] - ETA: 0s - loss: 1.8441\n",
      "generated text:\n",
      "recipe for horseradish chicken with butternut squash | pour herb butter inside 80 to each large nonreactive baking sheet . fill both sides of fillets with some of 1 tablespoon chopped cilantro . spread dressing over roasted peppers and reserve miso in single layer while prepared up to 9 - inch flat - fat - skillet ( garlic ) , then cut cut sides from mushrooms . prepare 5 squash . brown peppers in rendered fat , turning onions , occasionally , and cook sweet wedges , turning once , 4 minutes , or until tender and stems are dissolved\n",
      "\n",
      "629/629 [==============================] - 283s 450ms/step - loss: 1.8441\n",
      "Epoch 10/25\n",
      "629/629 [==============================] - ETA: 0s - loss: 1.8039\n",
      "generated text:\n",
      "recipe for garlicky potatoes with balsamic - soy sauce | whisk potatoes , 1 tablespoon butter , oil , salt and pepper in large bowl . sauté lobsters over medium - high heat until brown , about 2 minutes . add carrots , sesame seeds , garlic , onions , chile powder , wine and pepper to boiling water . bring to boil . boil until flesh reaches volume , stirring often , about 15 minutes . add corn and 1 cup oil to gradually stir to drippings . whisk in worcestershire sauce ; add 1 / 4 cup cheese\n",
      "\n",
      "629/629 [==============================] - 283s 450ms/step - loss: 1.8039\n",
      "Epoch 11/25\n",
      "629/629 [==============================] - ETA: 0s - loss: 1.7696\n",
      "generated text:\n",
      "recipe for brandied dried lemons | place 1 unpeeled 3 / 4 - inch cubes in very low or - processor and blend until finely ground . transfer to a small bowl and add very scallion paste and enough hot , cumin seeds , and next 4 ingredients well . whisk in another large baking ; season with salt and pepper . \n",
      "\n",
      "629/629 [==============================] - 289s 460ms/step - loss: 1.7696\n",
      "Epoch 12/25\n",
      "629/629 [==============================] - ETA: 0s - loss: 1.7392\n",
      "generated text:\n",
      "recipe for passover sugar hock braised in boiling salted milk , covered , apricots , and corn butter with confectioners ' rack of two 1 / 2 - quart saucepan over medium heat . in a small saucepan heat butter at a saucepan over moderate heat , heat 3 tablespoons water until very reduced to about 10 cups and pour over potatoes . return to a slow cooker . and whisked whisking to dissolve ginger on high in batches . cool , stirring occasionally , until well chilled , at least 2 hours . ( 1 week in advance ,\n",
      "\n",
      "629/629 [==============================] - 291s 462ms/step - loss: 1.7392\n",
      "Epoch 13/25\n",
      "629/629 [==============================] - ETA: 0s - loss: 1.7130\n",
      "generated text:\n",
      "recipe for brown beef noodle salad with mint purée and mint | using moistened hands , stir ice ; sesame oil . sprinkle each purees to 6 cups stuffing base with foil ( corn filling will be enclosed / 2 vertical / 2 ) . wrap in plastic bag and let stand 10 minutes . let stand 10 minutes . ( can be made 1 month ahead ; let cool . let jar soften slightly . ) rub coarsely with beans and cold running water in a 10 - inch heavy pot . remove pan from heat and remove water\n",
      "\n",
      "629/629 [==============================] - 284s 451ms/step - loss: 1.7130\n",
      "Epoch 14/25\n",
      "629/629 [==============================] - ETA: 0s - loss: 1.6897\n",
      "generated text:\n",
      "recipe for cheddar - anchovy cheese cake | preheat oven to 400°f and rub the dry paste on the bottom of the baking tray , then bake for 24 3 minutes . spread the chicken with oil and 1 layer in a shallow baking pan along the top of each toast with the butter and a 12 - inch ovenproof skillet over medium heat until it browns . whisk in the eggs , add the cream , the chopped mirin , the broth , the parsley , and the butter , pour the mixture over baking time , giving it\n",
      "\n",
      "629/629 [==============================] - 287s 457ms/step - loss: 1.6897\n",
      "Epoch 15/25\n",
      "629/629 [==============================] - ETA: 0s - loss: 1.6688\n",
      "generated text:\n",
      "recipe for bright quince baked | whisk together flour , sugar , baking powder , and salt in a small bowl . slowly until it holds soft peaks on a long - use . in a large bowl of an electric cup beat butter until light and fluffy , about 5 minutes . add flour and mix one side with a wooden spoon . fold in whites and season with salt . cook until top golden , about 25 minutes . transfer to a large bowl , adding more water by teaspoonfuls if mixture is melted . transfer filling to\n",
      "\n",
      "629/629 [==============================] - 284s 452ms/step - loss: 1.6688\n",
      "Epoch 16/25\n",
      "629/629 [==============================] - ETA: 0s - loss: 1.6499\n",
      "generated text:\n",
      "recipe for sauteed poblanos - roasted pork loin with shallot cream cheese - sauce | using electric mixer , beat in egg and vanilla and beat just until whites just hold stiff peaks . fold in patties , eggs , remaining 3 tablespoons salsa until combined . moisten crust with egg . roll out about 1 / 4 inch thick side a x in thin end of brine in a very metal bowl . in a bowl whisk together sour cream , cream to stiff peaks . spoon linguine onto filter - lined baking sheet . divide into cream mixture\n",
      "\n",
      "629/629 [==============================] - 284s 452ms/step - loss: 1.6499\n",
      "Epoch 17/25\n",
      "629/629 [==============================] - ETA: 0s - loss: 1.6326\n",
      "generated text:\n",
      "recipe for sweet - brined potato baked quinoa | preheat oven to 350°f . butter a large baking sheet . line with a rolling pin , leaving a short end of graham circles on a 1 / 8 - inch - wide round casserole in a single layer , placing on 2 rack and rub one third of turkey corn separately . rub in each parchment with 1 tablespoon olive oil . reserve excess marinade . in vinegar zest , instant ears of potatoes , and asparagus sugar . fill with 1 1 / 2 teaspoons salt , then brown\n",
      "\n",
      "629/629 [==============================] - 284s 452ms/step - loss: 1.6326\n",
      "Epoch 18/25\n",
      "629/629 [==============================] - ETA: 0s - loss: 1.6172\n",
      "generated text:\n",
      "recipe for rib - eye steaks with pomegranate , olives and tomato salsa | prepare barbecue ( low heat ) . sprinkle pig ' s part of grill ; stir in onions . grill lamb chops , skin side up , on both sides and grill to cover bottom if browned cheese is slightly fish and turning lamb occasionally , about 12 minutes per side . arrange chicken on platter . surround with slices . serve with beer chips \n",
      "\n",
      "629/629 [==============================] - 283s 450ms/step - loss: 1.6172\n",
      "Epoch 19/25\n",
      "629/629 [==============================] - ETA: 0s - loss: 1.6027\n",
      "generated text:\n",
      "recipe for cider - fondue strawberry curd | using electric mixer , beat cream , molasses , sugar and coarse salt . microwave on high speed until sugar is dissolved , then return bean mixture to sherry and whisk gently to gently into custard liquid and cream . add 1 half of preserves and refrigerate 1 to 3 hours . blend flour and kirsch in large bowl to blend . stir honey and white or spread up mixture into peanut melted , then in a large bowl stir together with cornmeal mixture , then divide in 3 portion of equal\n",
      "\n",
      "629/629 [==============================] - 292s 465ms/step - loss: 1.6027\n",
      "Epoch 20/25\n",
      "629/629 [==============================] - ETA: 0s - loss: 1.5895\n",
      "generated text:\n",
      "recipe for spice ice cream | bring all ingredients is absorbed , similar to 20 minutes . combine tea cider and syrup over hot cream mixture . garnish with cinnamon . stir just before serving . \n",
      "\n",
      "629/629 [==============================] - 284s 452ms/step - loss: 1.5895\n",
      "Epoch 21/25\n",
      "629/629 [==============================] - ETA: 0s - loss: 1.5772\n",
      "generated text:\n",
      "recipe for lime caramel | bring 3 gallons sugar , butter , and heavy medium saucepan over medium heat until almost all liquid is dissolved . gradually whisk in bean . return mixture to saucepan . cook until simmer , stirring occasionally until thickened slightly , about 5 minutes . remove from heat ; add butter and stir vigorously until mixture just forms . increase heat to medium - high . let spinach soften slightly . remove from heat . add tequila , separate along with half of ice water , then mix lightly divide among 2 glasses and stir\n",
      "\n",
      "629/629 [==============================] - 303s 482ms/step - loss: 1.5772\n",
      "Epoch 22/25\n",
      "629/629 [==============================] - ETA: 0s - loss: 1.5654\n",
      "generated text:\n",
      "recipe for pavlova bottoms | preheat oven to 375°f . cut potatoes lengthwise in half . halve plums and cut into 1 - inch pieces . mix oats and raspberries in a small bowl , then add buttermilk and mixture until combined well . divide dough portions of dough into 4 portions into disks . wrap each and refrigerate until freeze in pan . add 1 tablespoon ice water and pour 1 / 3 cup ice cream over , shake vigorously until melted and smooth . sprinkle ice cream over top . \n",
      "\n",
      "629/629 [==============================] - 297s 472ms/step - loss: 1.5654\n",
      "Epoch 23/25\n",
      "629/629 [==============================] - ETA: 0s - loss: 1.5546\n",
      "generated text:\n",
      "recipe for sazerac | place the dry ingredients in a medium bowl . add the yogurt and gently mix the reserved marinade ingredients until smooth . let the mixture cool for about 3 hours . \n",
      "\n",
      "629/629 [==============================] - 294s 468ms/step - loss: 1.5546\n",
      "Epoch 24/25\n",
      "629/629 [==============================] - ETA: 0s - loss: 1.5446\n",
      "generated text:\n",
      "recipe for lemon mustard clarified butter | bring first 6 ingredients to boil in heavy medium saucepan over medium - high heat . dissolve 2 tablespoons butter . cook until cut base is flat dark green , at least 3 inches , stirring occasionally ; cut off stem from shell . using kitchen shears , finely chop onion pieces and halve lengthwise . using large spoon , without hand per side only slightly ; discard drippings . add prosciutto to same skillet ( do not remove skillet from heat ) . brush sage with lemon juice , then char chiles\n",
      "\n",
      "629/629 [==============================] - 298s 474ms/step - loss: 1.5446\n",
      "Epoch 25/25\n",
      "629/629 [==============================] - ETA: 0s - loss: 1.5351\n",
      "generated text:\n",
      "recipe for grapefruit - scented ziti with grape chili - wasabi - flower cream | preheat oven to 400°f . heat oil in heavy large pot over medium heat . add pumpkin seeds and short ribs and sauté until tender , about 5 minutes . transfer to large bowl . add chicken and stir to coat . spread half of garlic in broiler pan ; sprinkle with 1 teaspoon salt . set packets aside , covered . allow to slump down around burner . season hens with salt and pepper . heat 1 tablespoon oil in a large skillet over\n",
      "\n",
      "629/629 [==============================] - 297s 472ms/step - loss: 1.5351\n"
     ]
    },
    {
     "data": {
      "text/plain": [
       "<keras.src.callbacks.History at 0x202a1a471d0>"
      ]
     },
     "execution_count": 23,
     "metadata": {},
     "output_type": "execute_result"
    }
   ],
   "source": [
    "lstm.fit(\n",
    "    train_ds,\n",
    "    epochs=EPOCHS,\n",
    "    callbacks=[model_checkpoint_callback, tensorboard_callback, text_generator],\n",
    ")"
   ]
  },
  {
   "cell_type": "code",
   "execution_count": 24,
   "id": "369bde44-2e39-4bc6-8549-a3a27ecce55c",
   "metadata": {
    "tags": []
   },
   "outputs": [
    {
     "name": "stdout",
     "output_type": "stream",
     "text": [
      "INFO:tensorflow:Assets written to: ./models/lstm\\assets\n"
     ]
    },
    {
     "name": "stderr",
     "output_type": "stream",
     "text": [
      "INFO:tensorflow:Assets written to: ./models/lstm\\assets\n"
     ]
    }
   ],
   "source": [
    "# Save the final model\n",
    "lstm.save(\"./models/lstm\")"
   ]
  },
  {
   "cell_type": "markdown",
   "id": "d64e02d2-84dc-40c8-8446-40c09adf1e20",
   "metadata": {},
   "source": [
    "## 6. Generate text using the LSTM"
   ]
  },
  {
   "cell_type": "code",
   "execution_count": 25,
   "id": "4ad23adb-3ec9-4e9a-9a59-b9f9bafca649",
   "metadata": {},
   "outputs": [],
   "source": [
    "def print_probs(info, vocab, top_k=5):\n",
    "    for i in info:\n",
    "        print(f\"\\nPROMPT: {i['prompt']}\")\n",
    "        word_probs = i[\"word_probs\"]\n",
    "        p_sorted = np.sort(word_probs)[::-1][:top_k]\n",
    "        i_sorted = np.argsort(word_probs)[::-1][:top_k]\n",
    "        for p, i in zip(p_sorted, i_sorted):\n",
    "            print(f\"{vocab[i]}:   \\t{np.round(100*p,2)}%\")\n",
    "        print(\"--------\\n\")"
   ]
  },
  {
   "cell_type": "code",
   "execution_count": 26,
   "id": "3cf25578-d47c-4b26-8252-fcdf2316a4ac",
   "metadata": {},
   "outputs": [
    {
     "name": "stdout",
     "output_type": "stream",
     "text": [
      "\n",
      "generated text:\n",
      "recipe for roasted vegetables | chop 1 / 4 cup\n",
      "\n"
     ]
    }
   ],
   "source": [
    "#пример генерации продолжения фразы\n",
    "info = text_generator.generate(\n",
    "    \"recipe for roasted vegetables | chop 1 /\", max_tokens=10, temperature=1.0\n",
    ")"
   ]
  },
  {
   "cell_type": "code",
   "execution_count": 27,
   "id": "9df72866-b483-4489-8e26-d5e1466410fa",
   "metadata": {
    "tags": []
   },
   "outputs": [
    {
     "name": "stdout",
     "output_type": "stream",
     "text": [
      "\n",
      "PROMPT: recipe for roasted vegetables | chop 1 /\n",
      "2:   \t44.95%\n",
      "4:   \t42.03%\n",
      "3:   \t9.08%\n",
      "8:   \t2.1%\n",
      "1:   \t0.43%\n",
      "--------\n",
      "\n",
      "\n",
      "PROMPT: recipe for roasted vegetables | chop 1 / 4\n",
      "cup:   \t80.9%\n",
      "tsp:   \t5.24%\n",
      "of:   \t4.72%\n",
      "teaspoon:   \t3.39%\n",
      "cups:   \t0.8%\n",
      "--------\n",
      "\n"
     ]
    }
   ],
   "source": [
    "#вероятности следующих слов\n",
    "print_probs(info, vocab)"
   ]
  },
  {
   "cell_type": "code",
   "execution_count": 28,
   "id": "562e1fe8-cbcb-438f-9637-2f2a6279c924",
   "metadata": {},
   "outputs": [
    {
     "name": "stdout",
     "output_type": "stream",
     "text": [
      "\n",
      "generated text:\n",
      "recipe for roasted vegetables | chop 1 / 2 cup\n",
      "\n"
     ]
    }
   ],
   "source": [
    "#другой температурный коэфф\n",
    "info = text_generator.generate(\n",
    "    \"recipe for roasted vegetables | chop 1 /\", max_tokens=10, temperature=0.2\n",
    ")"
   ]
  },
  {
   "cell_type": "code",
   "execution_count": 29,
   "id": "56356f21-04ac-40e5-94ff-291eca6a7054",
   "metadata": {},
   "outputs": [
    {
     "name": "stdout",
     "output_type": "stream",
     "text": [
      "\n",
      "PROMPT: recipe for roasted vegetables | chop 1 /\n",
      "2:   \t58.32%\n",
      "4:   \t41.66%\n",
      "3:   \t0.02%\n",
      "8:   \t0.0%\n",
      "1:   \t0.0%\n",
      "--------\n",
      "\n",
      "\n",
      "PROMPT: recipe for roasted vegetables | chop 1 / 2\n",
      "cup:   \t99.98%\n",
      "tsp:   \t0.02%\n",
      "teaspoon:   \t0.0%\n",
      "-:   \t0.0%\n",
      "of:   \t0.0%\n",
      "--------\n",
      "\n"
     ]
    }
   ],
   "source": [
    "print_probs(info, vocab)"
   ]
  },
  {
   "cell_type": "code",
   "execution_count": 30,
   "id": "2e434497-07f3-4989-a68d-3e31cf8fa4fe",
   "metadata": {},
   "outputs": [
    {
     "name": "stdout",
     "output_type": "stream",
     "text": [
      "\n",
      "generated text:\n",
      "recipe for chocolate ice cream | 1\n",
      "\n",
      "\n",
      "PROMPT: recipe for chocolate ice cream |\n",
      "in:   \t12.33%\n",
      "bring:   \t11.19%\n",
      "1:   \t10.77%\n",
      "combine:   \t10.58%\n",
      "whisk:   \t6.92%\n",
      "--------\n",
      "\n"
     ]
    }
   ],
   "source": [
    "info = text_generator.generate(\n",
    "    \"recipe for chocolate ice cream |\", max_tokens=7, temperature=1.0\n",
    ")\n",
    "print_probs(info, vocab)"
   ]
  },
  {
   "cell_type": "code",
   "execution_count": 31,
   "id": "011cd0e0-956c-4a63-8ec3-f7dfed31764e",
   "metadata": {},
   "outputs": [
    {
     "name": "stdout",
     "output_type": "stream",
     "text": [
      "\n",
      "generated text:\n",
      "recipe for chocolate ice cream | bring\n",
      "\n",
      "\n",
      "PROMPT: recipe for chocolate ice cream |\n",
      "in:   \t37.54%\n",
      "bring:   \t23.08%\n",
      "1:   \t19.08%\n",
      "combine:   \t17.48%\n",
      "whisk:   \t2.09%\n",
      "--------\n",
      "\n"
     ]
    }
   ],
   "source": [
    "info = text_generator.generate(\n",
    "    \"recipe for chocolate ice cream |\", max_tokens=7, temperature=0.2\n",
    ")\n",
    "print_probs(info, vocab)"
   ]
  }
 ],
 "metadata": {
  "kernelspec": {
   "display_name": "Python 3 (ipykernel)",
   "language": "python",
   "name": "python3"
  },
  "language_info": {
   "codemirror_mode": {
    "name": "ipython",
    "version": 3
   },
   "file_extension": ".py",
   "mimetype": "text/x-python",
   "name": "python",
   "nbconvert_exporter": "python",
   "pygments_lexer": "ipython3",
   "version": "3.11.5"
  }
 },
 "nbformat": 4,
 "nbformat_minor": 5
}
